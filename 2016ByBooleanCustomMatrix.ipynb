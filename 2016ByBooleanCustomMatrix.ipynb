{
 "cells": [
  {
   "cell_type": "code",
   "execution_count": 1,
   "metadata": {},
   "outputs": [],
   "source": [
    "import pandas as pd\n",
    "import numpy as np\n",
    "from scipy import sparse\n",
    "from os import path\n",
    "from PIL import Image\n",
    "from wordcloud import WordCloud, STOPWORDS, ImageColorGenerator\n",
    "from collections import Counter, defaultdict\n",
    "import matplotlib.pyplot as plt\n",
    "%matplotlib inline\n",
    "from sklearn import decomposition, datasets, model_selection, preprocessing, metrics\n",
    "import src.rainbow\n",
    "import os\n",
    "import glob\n",
    "import pickle\n",
    "import time\n"
   ]
  },
  {
   "cell_type": "code",
   "execution_count": 2,
   "metadata": {},
   "outputs": [
    {
     "data": {
      "application/javascript": [
       "IPython.OutputArea.prototype._should_scroll = function(lines) {\n",
       "    return false;\n",
       "}\n"
      ],
      "text/plain": [
       "<IPython.core.display.Javascript object>"
      ]
     },
     "metadata": {},
     "output_type": "display_data"
    }
   ],
   "source": [
    "%%javascript\n",
    "IPython.OutputArea.prototype._should_scroll = function(lines) {\n",
    "    return false;\n",
    "}"
   ]
  },
  {
   "cell_type": "markdown",
   "metadata": {},
   "source": [
    "## Import the jsonified transactions into a dataframe"
   ]
  },
  {
   "cell_type": "code",
   "execution_count": 3,
   "metadata": {},
   "outputs": [],
   "source": [
    "path = '/Users/Sarah/galvanize/dsi-capstone/data/jsons/2016'\n",
    "all_files = glob.glob(os.path.join(path, \"*.json\"))"
   ]
  },
  {
   "cell_type": "code",
   "execution_count": null,
   "metadata": {},
   "outputs": [],
   "source": [
    "path = '/Users/Sarah/galvanize/dsi-capstone/data/jsons/2018noaccount/'\n",
    "all_files.append(glob.glob(os.path.join(path, \"*.json\")))"
   ]
  },
  {
   "cell_type": "code",
   "execution_count": null,
   "metadata": {},
   "outputs": [],
   "source": [
    "all_files"
   ]
  },
  {
   "cell_type": "code",
   "execution_count": 4,
   "metadata": {},
   "outputs": [],
   "source": [
    "df = pd.concat((pd.read_json(f,keep_default_dates=False,lines=True) for f in all_files)) "
   ]
  },
  {
   "cell_type": "code",
   "execution_count": 4,
   "metadata": {
    "scrolled": true
   },
   "outputs": [
    {
     "name": "stdout",
     "output_type": "stream",
     "text": [
      "Checkout\n"
     ]
    }
   ],
   "source": [
    "for types in df.type.unique():\n",
    "    print(types)    "
   ]
  },
  {
   "cell_type": "code",
   "execution_count": 5,
   "metadata": {},
   "outputs": [],
   "source": [
    "df=df[df['type']=='Checkout']"
   ]
  },
  {
   "cell_type": "code",
   "execution_count": 6,
   "metadata": {},
   "outputs": [],
   "source": [
    "df.drop(columns='type',inplace=True)"
   ]
  },
  {
   "cell_type": "code",
   "execution_count": 7,
   "metadata": {},
   "outputs": [
    {
     "name": "stdout",
     "output_type": "stream",
     "text": [
      "terminals (registers): [ 8  7  3  9 12 10  5 11  6  4  2 13  1]\n"
     ]
    }
   ],
   "source": [
    "print(\"terminals (registers):\",df.term.unique())"
   ]
  },
  {
   "cell_type": "markdown",
   "metadata": {},
   "source": [
    "Drop transactions from register other than 1-9. Register 10 is the customer service desk returns register. Register 11 is the worker self checkout register."
   ]
  },
  {
   "cell_type": "code",
   "execution_count": 8,
   "metadata": {},
   "outputs": [],
   "source": [
    "df=df[df['term']<10]"
   ]
  },
  {
   "cell_type": "code",
   "execution_count": 9,
   "metadata": {},
   "outputs": [
    {
     "name": "stdout",
     "output_type": "stream",
     "text": [
      "<class 'pandas.core.frame.DataFrame'>\n",
      "Int64Index: 862927 entries, 0 to 2427\n",
      "Data columns (total 10 columns):\n",
      "account    862927 non-null object\n",
      "date       862927 non-null object\n",
      "gross+     862927 non-null float64\n",
      "gross-     862927 non-null float64\n",
      "items      862927 non-null object\n",
      "net        862927 non-null float64\n",
      "oper       862927 non-null int64\n",
      "term       862927 non-null int64\n",
      "time       862927 non-null object\n",
      "trans      862927 non-null int64\n",
      "dtypes: float64(3), int64(3), object(4)\n",
      "memory usage: 72.4+ MB\n"
     ]
    }
   ],
   "source": [
    "df.info()"
   ]
  },
  {
   "cell_type": "code",
   "execution_count": 10,
   "metadata": {},
   "outputs": [
    {
     "data": {
      "text/plain": [
       "account    0\n",
       "date       0\n",
       "gross+     0\n",
       "gross-     0\n",
       "items      0\n",
       "net        0\n",
       "oper       0\n",
       "term       0\n",
       "time       0\n",
       "trans      0\n",
       "dtype: int64"
      ]
     },
     "execution_count": 10,
     "metadata": {},
     "output_type": "execute_result"
    }
   ],
   "source": [
    "df.isna().sum()"
   ]
  },
  {
   "cell_type": "code",
   "execution_count": null,
   "metadata": {
    "scrolled": true
   },
   "outputs": [],
   "source": [
    "df['account'].fillna([],inplace=True)"
   ]
  },
  {
   "cell_type": "code",
   "execution_count": null,
   "metadata": {},
   "outputs": [],
   "source": [
    "df.info()"
   ]
  },
  {
   "cell_type": "code",
   "execution_count": null,
   "metadata": {
    "scrolled": false
   },
   "outputs": [],
   "source": [
    "df = pd.concat([df,df2], axis=0, ignore_index=True)"
   ]
  },
  {
   "cell_type": "code",
   "execution_count": 11,
   "metadata": {},
   "outputs": [],
   "source": [
    "df['date']=pd.to_datetime(df['date'],yearfirst=True)"
   ]
  },
  {
   "cell_type": "code",
   "execution_count": 12,
   "metadata": {},
   "outputs": [],
   "source": [
    "df['day_of_week']=df['date'].dt.day_name()\n",
    "df['month']=df['date'].dt.month"
   ]
  },
  {
   "cell_type": "code",
   "execution_count": 59,
   "metadata": {},
   "outputs": [],
   "source": [
    "df['hour']=pd.to_datetime(df['time']).dt.hour"
   ]
  },
  {
   "cell_type": "code",
   "execution_count": 13,
   "metadata": {},
   "outputs": [],
   "source": [
    "pickle.dump(df,open('./data/pickles/df2016.p','wb'))"
   ]
  },
  {
   "cell_type": "code",
   "execution_count": null,
   "metadata": {},
   "outputs": [],
   "source": [
    "import pandas as pd\n",
    "import numpy as np\n",
    "from scipy import sparse\n",
    "from os import path\n",
    "from PIL import Image\n",
    "from wordcloud import WordCloud, STOPWORDS, ImageColorGenerator\n",
    "from collections import Counter, defaultdict\n",
    "import matplotlib.pyplot as plt\n",
    "%matplotlib inline\n",
    "from sklearn import decomposition, datasets, model_selection, preprocessing, metrics\n",
    "import src.rainbow\n",
    "import os\n",
    "import glob\n",
    "import pickle\n",
    "import time\n"
   ]
  },
  {
   "cell_type": "code",
   "execution_count": null,
   "metadata": {},
   "outputs": [],
   "source": [
    "df = pickle.load(open('./data/pickles/df2017.p','rb'))"
   ]
  },
  {
   "cell_type": "code",
   "execution_count": 57,
   "metadata": {},
   "outputs": [
    {
     "name": "stdout",
     "output_type": "stream",
     "text": [
      "<class 'pandas.core.frame.DataFrame'>\n",
      "Int64Index: 862927 entries, 0 to 2427\n",
      "Data columns (total 15 columns):\n",
      "account           862927 non-null object\n",
      "date              862927 non-null datetime64[ns]\n",
      "gross+            862927 non-null float64\n",
      "gross-            862927 non-null float64\n",
      "items             862927 non-null object\n",
      "net               862927 non-null float64\n",
      "oper              862927 non-null int64\n",
      "term              862927 non-null int64\n",
      "time              862927 non-null object\n",
      "trans             862927 non-null int64\n",
      "day_of_week       862927 non-null object\n",
      "month             862927 non-null int64\n",
      "total_of_items    862927 non-null int64\n",
      "item_count        862927 non-null int64\n",
      "hour              862927 non-null int64\n",
      "dtypes: datetime64[ns](1), float64(3), int64(7), object(4)\n",
      "memory usage: 105.3+ MB\n"
     ]
    }
   ],
   "source": [
    "df.info()"
   ]
  },
  {
   "cell_type": "code",
   "execution_count": null,
   "metadata": {},
   "outputs": [],
   "source": [
    "df.drop(columns='type',inplace=True)"
   ]
  },
  {
   "cell_type": "code",
   "execution_count": 15,
   "metadata": {
    "scrolled": true
   },
   "outputs": [
    {
     "name": "stdout",
     "output_type": "stream",
     "text": [
      "<class 'list'>\n"
     ]
    }
   ],
   "source": [
    "def get_items(df,most_common=10,least_common=5):\n",
    "    df['total_of_items'] = 0\n",
    "    stoppers = ['BAG CREDIT','SF Bag Charge','Gift Card Reload','8 OZ BIO TUB t3', '16OZ BIO TUB t4',\n",
    "                 '32OZ BIO TUB t5','8 OZ PLSTC TUB t3','16 OZ PLSTC TUB t4','BOTTLE DEPOSIT','6PACK BEER SMALL C','PAID IN','Gift Card Sale',\n",
    "                'PACKAGED FOOD', ]  \n",
    "    '''build a dictionary where the keys are the words\n",
    "    in the dataframe items column'''\n",
    "    stopwords =[]\n",
    "    items=[]\n",
    "    item_dict = defaultdict(int)\n",
    "    basket_counts=[]\n",
    "    topics_list=[]\n",
    "    \n",
    "    for basket in df['items']:\n",
    "        basket_counts.append(len(basket))\n",
    "        for item in basket:\n",
    "            \n",
    "            items.append(item[1])\n",
    "            item_dict[item[1]] += 1\n",
    "    \n",
    "    items_set=set(items)\n",
    "\n",
    "    '''add the most common words to the stopwords list'''\n",
    "    stopwords=list([i[0] for i in Counter(item_dict).most_common(most_common)])\n",
    "    \n",
    "    '''if topics_list exist, add these to stopwords to reveal next layer down'''\n",
    "    if topics_list:\n",
    "        for topics in topics_list:\n",
    "            for i in topics:\n",
    "                stopwords.append(i)\n",
    "            \n",
    "    '''add predetermined stoppers to stopwords list'''\n",
    "    for s in stoppers:\n",
    "        stopwords.append(s)\n",
    "        \n",
    "    '''add items containing \"CRV\" to the stopwords list'''\n",
    "    for item in items_set:\n",
    "        if \"crv\" in item.lower():\n",
    "            stopwords.append(item)\n",
    "    \n",
    "    '''add the least common words to the stopwords list'''\n",
    "    for key,value in item_dict.items():\n",
    "        if value < least_common:\n",
    "            stopwords.append(key)\n",
    "    print(type(stopwords))\n",
    "    #print(stopwords)\n",
    "    stopwords_set = set(stopwords)\n",
    "    \n",
    "    '''iterate through the baskets and add items to items_set\n",
    "    if not in stopwords (too common or too uncommon)'''\n",
    "    for stops in stopwords_set:\n",
    "        if stops in items_set:\n",
    "            items_set.remove(stops)\n",
    "  \n",
    "\n",
    "    return items_set,stopwords_set, item_dict, basket_counts\n",
    "\n",
    "items_set,stopwords,item_dict, basket_counts = get_items(df,most_common=5,least_common=15)"
   ]
  },
  {
   "cell_type": "code",
   "execution_count": 92,
   "metadata": {},
   "outputs": [
    {
     "data": {
      "text/plain": [
       "[('BAG CREDIT', 677709),\n",
       " ('SF Bag Charge', 197195),\n",
       " ('SMALL COOLER CRV', 154150),\n",
       " ('BANANAS', 133486),\n",
       " ('CRV SMALL NO TAX', 65535),\n",
       " ('CRV LRG SING NOTAX', 63394),\n",
       " ('8 OZ BIO TUB t3', 60556),\n",
       " ('CRV SMALL SING T', 52518),\n",
       " ('BOTTLE DEPOSIT', 48287),\n",
       " ('1lb STRAWBERRY', 46569),\n",
       " ('LEMONS', 43668),\n",
       " ('REFRIGERATED', 40703),\n",
       " ('16OZ BIO TUB t4', 39271),\n",
       " ('CRV LRG SING T', 38421),\n",
       " ('LARGE COOLER CRV', 37149),\n",
       " ('BAGEL', 35388),\n",
       " ('CELERY', 35160),\n",
       " ('GINGER', 31010),\n",
       " ('Worker 20% PkgFood', 29804),\n",
       " ('CILANTRO', 28682),\n",
       " ('CUCUMBERS', 28024),\n",
       " ('BEER SMALL CRV', 26445),\n",
       " ('PEACH', 25679),\n",
       " ('LIMES', 25583),\n",
       " ('CRV SML TAX NOEBT', 24300),\n",
       " ('Worker 20% Refrig', 21132),\n",
       " ('Worker 20% Produce', 19289),\n",
       " ('5290 WALNUTS', 19248),\n",
       " ('6PACK BEER SMALL C', 18685),\n",
       " ('PACKAGED FOOD', 18576),\n",
       " ('SATSUMA MANDARIN', 17594),\n",
       " ('4110 ORG ROLLED OA', 17261),\n",
       " ('BAKERY', 17034),\n",
       " ('SHALLOTS', 16820),\n",
       " ('TOMATO', 16601),\n",
       " ('GRAPEFRUIT', 16453),\n",
       " ('NECTARINE', 16210),\n",
       " ('CORN', 14914),\n",
       " ('5120 ORG ALMONDS', 13025),\n",
       " ('BLUEBERRIES', 12365),\n",
       " ('LEEKS', 12355),\n",
       " ('Worker 20% Bulk', 11436),\n",
       " ('EGGS DZ ROCK LG', 11152),\n",
       " ('Worker 20% Bakery', 11086),\n",
       " ('BRUSSEL SPROUTS', 10437),\n",
       " ('32OZ BIO TUB t5', 10387),\n",
       " ('CRV 4PACK SMALL T', 10294),\n",
       " ('2448 CASTEL OLIVE', 10260),\n",
       " ('CLOVER ORGANIC 6OZ', 10228),\n",
       " ('811099999999', 10177)]"
      ]
     },
     "execution_count": 92,
     "metadata": {},
     "output_type": "execute_result"
    }
   ],
   "source": [
    "Counter(item_dict).most_common(50)"
   ]
  },
  {
   "cell_type": "code",
   "execution_count": 17,
   "metadata": {},
   "outputs": [
    {
     "data": {
      "text/plain": [
       "24916"
      ]
     },
     "execution_count": 17,
     "metadata": {},
     "output_type": "execute_result"
    }
   ],
   "source": [
    "len(items_set)"
   ]
  },
  {
   "cell_type": "code",
   "execution_count": 22,
   "metadata": {},
   "outputs": [
    {
     "data": {
      "text/html": [
       "<div>\n",
       "<style scoped>\n",
       "    .dataframe tbody tr th:only-of-type {\n",
       "        vertical-align: middle;\n",
       "    }\n",
       "\n",
       "    .dataframe tbody tr th {\n",
       "        vertical-align: top;\n",
       "    }\n",
       "\n",
       "    .dataframe thead th {\n",
       "        text-align: right;\n",
       "    }\n",
       "</style>\n",
       "<table border=\"1\" class=\"dataframe\">\n",
       "  <thead>\n",
       "    <tr style=\"text-align: right;\">\n",
       "      <th></th>\n",
       "      <th>account</th>\n",
       "      <th>date</th>\n",
       "      <th>gross+</th>\n",
       "      <th>gross-</th>\n",
       "      <th>items</th>\n",
       "      <th>net</th>\n",
       "      <th>oper</th>\n",
       "      <th>term</th>\n",
       "      <th>time</th>\n",
       "      <th>trans</th>\n",
       "      <th>day_of_week</th>\n",
       "      <th>month</th>\n",
       "      <th>total_of_items</th>\n",
       "      <th>item_count</th>\n",
       "    </tr>\n",
       "  </thead>\n",
       "  <tbody>\n",
       "    <tr>\n",
       "      <th>2069</th>\n",
       "      <td>[[]]</td>\n",
       "      <td>2016-09-21</td>\n",
       "      <td>1.79</td>\n",
       "      <td>0.00</td>\n",
       "      <td>[[, CRV LRG SING NOTAX, 0.1, 15]]</td>\n",
       "      <td>1.79</td>\n",
       "      <td>49</td>\n",
       "      <td>7</td>\n",
       "      <td>18:38</td>\n",
       "      <td>280</td>\n",
       "      <td>Wednesday</td>\n",
       "      <td>9</td>\n",
       "      <td>0</td>\n",
       "      <td>1</td>\n",
       "    </tr>\n",
       "    <tr>\n",
       "      <th>102</th>\n",
       "      <td>[[8304]]</td>\n",
       "      <td>2016-12-08</td>\n",
       "      <td>60.71</td>\n",
       "      <td>0.19</td>\n",
       "      <td>[[, BIO WHOLE PLD TOM, 3.39, 15], [, BAG GRANN...</td>\n",
       "      <td>60.52</td>\n",
       "      <td>15</td>\n",
       "      <td>7</td>\n",
       "      <td>09:53</td>\n",
       "      <td>30</td>\n",
       "      <td>Thursday</td>\n",
       "      <td>12</td>\n",
       "      <td>0</td>\n",
       "      <td>15</td>\n",
       "    </tr>\n",
       "    <tr>\n",
       "      <th>71</th>\n",
       "      <td>[[3305]]</td>\n",
       "      <td>2016-07-07</td>\n",
       "      <td>56.36</td>\n",
       "      <td>0.00</td>\n",
       "      <td>[[, EGGS GLAUM XL, 5.99, 13], [, ORGANIC 2% MI...</td>\n",
       "      <td>56.36</td>\n",
       "      <td>98</td>\n",
       "      <td>7</td>\n",
       "      <td>09:45</td>\n",
       "      <td>18</td>\n",
       "      <td>Thursday</td>\n",
       "      <td>7</td>\n",
       "      <td>0</td>\n",
       "      <td>10</td>\n",
       "    </tr>\n",
       "    <tr>\n",
       "      <th>318</th>\n",
       "      <td>[[3367]]</td>\n",
       "      <td>2016-09-24</td>\n",
       "      <td>80.44</td>\n",
       "      <td>0.00</td>\n",
       "      <td>[[, BTN PNUT BUTR SAND, 4.39, 15], [, JR Q-Sor...</td>\n",
       "      <td>80.44</td>\n",
       "      <td>57</td>\n",
       "      <td>3</td>\n",
       "      <td>10:39</td>\n",
       "      <td>34</td>\n",
       "      <td>Saturday</td>\n",
       "      <td>9</td>\n",
       "      <td>0</td>\n",
       "      <td>15</td>\n",
       "    </tr>\n",
       "    <tr>\n",
       "      <th>2893</th>\n",
       "      <td>[[]]</td>\n",
       "      <td>2016-04-10</td>\n",
       "      <td>119.68</td>\n",
       "      <td>0.00</td>\n",
       "      <td>[[, BUILDER CHOC HAZ, 30.43, 15], [, REFRIGERA...</td>\n",
       "      <td>119.68</td>\n",
       "      <td>98</td>\n",
       "      <td>6</td>\n",
       "      <td>20:11</td>\n",
       "      <td>292</td>\n",
       "      <td>Sunday</td>\n",
       "      <td>4</td>\n",
       "      <td>0</td>\n",
       "      <td>19</td>\n",
       "    </tr>\n",
       "    <tr>\n",
       "      <th>1153</th>\n",
       "      <td>[[ 472]]</td>\n",
       "      <td>2016-09-14</td>\n",
       "      <td>88.51</td>\n",
       "      <td>0.00</td>\n",
       "      <td>[[, ORGANIC RAW MILK, 5.99, 13], [, FIUGGI STI...</td>\n",
       "      <td>88.51</td>\n",
       "      <td>62</td>\n",
       "      <td>6</td>\n",
       "      <td>14:48</td>\n",
       "      <td>204</td>\n",
       "      <td>Wednesday</td>\n",
       "      <td>9</td>\n",
       "      <td>0</td>\n",
       "      <td>19</td>\n",
       "    </tr>\n",
       "    <tr>\n",
       "      <th>3034</th>\n",
       "      <td>[[2883]]</td>\n",
       "      <td>2016-02-28</td>\n",
       "      <td>64.87</td>\n",
       "      <td>0.00</td>\n",
       "      <td>[[, 4105 QUICK OATS, 1.4, 16], [, T-Relief Gel...</td>\n",
       "      <td>64.87</td>\n",
       "      <td>58</td>\n",
       "      <td>7</td>\n",
       "      <td>21:08</td>\n",
       "      <td>281</td>\n",
       "      <td>Sunday</td>\n",
       "      <td>2</td>\n",
       "      <td>0</td>\n",
       "      <td>13</td>\n",
       "    </tr>\n",
       "    <tr>\n",
       "      <th>2169</th>\n",
       "      <td>[[7134]]</td>\n",
       "      <td>2016-09-25</td>\n",
       "      <td>6.64</td>\n",
       "      <td>0.00</td>\n",
       "      <td>[[, DEEB CHOCOLATE POP, 4.89, 19], [, LIVING H...</td>\n",
       "      <td>6.64</td>\n",
       "      <td>73</td>\n",
       "      <td>7</td>\n",
       "      <td>17:13</td>\n",
       "      <td>262</td>\n",
       "      <td>Sunday</td>\n",
       "      <td>9</td>\n",
       "      <td>0</td>\n",
       "      <td>2</td>\n",
       "    </tr>\n",
       "    <tr>\n",
       "      <th>2294</th>\n",
       "      <td>[[3204]]</td>\n",
       "      <td>2016-10-19</td>\n",
       "      <td>27.64</td>\n",
       "      <td>0.00</td>\n",
       "      <td>[[, BTN-HRVST WHT CRKR, 3.79, 15], [, BARE - A...</td>\n",
       "      <td>27.64</td>\n",
       "      <td>38</td>\n",
       "      <td>1</td>\n",
       "      <td>20:03</td>\n",
       "      <td>576</td>\n",
       "      <td>Wednesday</td>\n",
       "      <td>10</td>\n",
       "      <td>0</td>\n",
       "      <td>6</td>\n",
       "    </tr>\n",
       "    <tr>\n",
       "      <th>1357</th>\n",
       "      <td>[[3446]]</td>\n",
       "      <td>2015-12-31</td>\n",
       "      <td>142.32</td>\n",
       "      <td>5.45</td>\n",
       "      <td>[[, STRAWBERRIES, 11.99, 12], [, BLACKBERRIES,...</td>\n",
       "      <td>136.87</td>\n",
       "      <td>27</td>\n",
       "      <td>5</td>\n",
       "      <td>14:15</td>\n",
       "      <td>113</td>\n",
       "      <td>Thursday</td>\n",
       "      <td>12</td>\n",
       "      <td>0</td>\n",
       "      <td>28</td>\n",
       "    </tr>\n",
       "  </tbody>\n",
       "</table>\n",
       "</div>"
      ],
      "text/plain": [
       "       account       date  gross+  gross-  \\\n",
       "2069      [[]] 2016-09-21    1.79    0.00   \n",
       "102   [[8304]] 2016-12-08   60.71    0.19   \n",
       "71    [[3305]] 2016-07-07   56.36    0.00   \n",
       "318   [[3367]] 2016-09-24   80.44    0.00   \n",
       "2893      [[]] 2016-04-10  119.68    0.00   \n",
       "1153  [[ 472]] 2016-09-14   88.51    0.00   \n",
       "3034  [[2883]] 2016-02-28   64.87    0.00   \n",
       "2169  [[7134]] 2016-09-25    6.64    0.00   \n",
       "2294  [[3204]] 2016-10-19   27.64    0.00   \n",
       "1357  [[3446]] 2015-12-31  142.32    5.45   \n",
       "\n",
       "                                                  items     net  oper  term  \\\n",
       "2069                  [[, CRV LRG SING NOTAX, 0.1, 15]]    1.79    49     7   \n",
       "102   [[, BIO WHOLE PLD TOM, 3.39, 15], [, BAG GRANN...   60.52    15     7   \n",
       "71    [[, EGGS GLAUM XL, 5.99, 13], [, ORGANIC 2% MI...   56.36    98     7   \n",
       "318   [[, BTN PNUT BUTR SAND, 4.39, 15], [, JR Q-Sor...   80.44    57     3   \n",
       "2893  [[, BUILDER CHOC HAZ, 30.43, 15], [, REFRIGERA...  119.68    98     6   \n",
       "1153  [[, ORGANIC RAW MILK, 5.99, 13], [, FIUGGI STI...   88.51    62     6   \n",
       "3034  [[, 4105 QUICK OATS, 1.4, 16], [, T-Relief Gel...   64.87    58     7   \n",
       "2169  [[, DEEB CHOCOLATE POP, 4.89, 19], [, LIVING H...    6.64    73     7   \n",
       "2294  [[, BTN-HRVST WHT CRKR, 3.79, 15], [, BARE - A...   27.64    38     1   \n",
       "1357  [[, STRAWBERRIES, 11.99, 12], [, BLACKBERRIES,...  136.87    27     5   \n",
       "\n",
       "       time  trans day_of_week  month  total_of_items  item_count  \n",
       "2069  18:38    280   Wednesday      9               0           1  \n",
       "102   09:53     30    Thursday     12               0          15  \n",
       "71    09:45     18    Thursday      7               0          10  \n",
       "318   10:39     34    Saturday      9               0          15  \n",
       "2893  20:11    292      Sunday      4               0          19  \n",
       "1153  14:48    204   Wednesday      9               0          19  \n",
       "3034  21:08    281      Sunday      2               0          13  \n",
       "2169  17:13    262      Sunday      9               0           2  \n",
       "2294  20:03    576   Wednesday     10               0           6  \n",
       "1357  14:15    113    Thursday     12               0          28  "
      ]
     },
     "execution_count": 22,
     "metadata": {},
     "output_type": "execute_result"
    }
   ],
   "source": [
    "df.sample(10)"
   ]
  },
  {
   "cell_type": "code",
   "execution_count": 19,
   "metadata": {},
   "outputs": [],
   "source": [
    "df['item_count']=basket_counts"
   ]
  },
  {
   "cell_type": "code",
   "execution_count": 20,
   "metadata": {},
   "outputs": [],
   "source": [
    "percentile = np.percentile(basket_counts, [25, 50, 75])\n",
    "q1=percentile[0]\n",
    "q2=percentile[1]\n",
    "q3=percentile[2]"
   ]
  },
  {
   "cell_type": "code",
   "execution_count": 21,
   "metadata": {},
   "outputs": [
    {
     "data": {
      "text/plain": [
       "(3.0, 7.0, 14.0)"
      ]
     },
     "execution_count": 21,
     "metadata": {},
     "output_type": "execute_result"
    }
   ],
   "source": [
    "q1,q2,q3"
   ]
  },
  {
   "cell_type": "code",
   "execution_count": null,
   "metadata": {},
   "outputs": [],
   "source": [
    "dfq1=df[(df['item_count']<=q1)]\n",
    "dfq2=df[(df['item_count']>q1 )& (df['item_count']<=q2)]\n",
    "dfq3=df[(df['item_count']>q2 )& (df['item_count']<=q3)]\n",
    "dfq4=df[df['item_count']>q3]\n",
    "df_avg=df[(df['item_count']>=10 )& (df['item_count']<=12)]"
   ]
  },
  {
   "cell_type": "code",
   "execution_count": null,
   "metadata": {},
   "outputs": [],
   "source": [
    "df = df[df['item_count']>q2]"
   ]
  },
  {
   "cell_type": "code",
   "execution_count": null,
   "metadata": {},
   "outputs": [],
   "source": [
    "df['item_count'].max()"
   ]
  },
  {
   "cell_type": "code",
   "execution_count": 60,
   "metadata": {},
   "outputs": [
    {
     "data": {
      "text/plain": [
       "count    862927.000000\n",
       "mean         14.681150\n",
       "std           3.229799\n",
       "min           0.000000\n",
       "25%          12.000000\n",
       "50%          15.000000\n",
       "75%          17.000000\n",
       "max          23.000000\n",
       "Name: hour, dtype: float64"
      ]
     },
     "execution_count": 60,
     "metadata": {},
     "output_type": "execute_result"
    }
   ],
   "source": [
    "df['hour'].describe()"
   ]
  },
  {
   "cell_type": "code",
   "execution_count": 61,
   "metadata": {},
   "outputs": [],
   "source": [
    "df_day = df[(df['date']=='2016-01-02') & (df['item_count']>14)]\n",
    "x= df_day['hour']\n",
    "y= df_day['item_count']"
   ]
  },
  {
   "cell_type": "code",
   "execution_count": 62,
   "metadata": {},
   "outputs": [
    {
     "data": {
      "text/plain": [
       "<matplotlib.collections.PathCollection at 0x1ab2c26e80>"
      ]
     },
     "execution_count": 62,
     "metadata": {},
     "output_type": "execute_result"
    },
    {
     "data": {
      "image/png": "[encoded data removed]",
      "text/plain": [
       "<Figure size 2880x1440 with 1 Axes>"
      ]
     },
     "metadata": {
      "needs_background": "light"
     },
     "output_type": "display_data"
    }
   ],
   "source": [
    "plt.figure(figsize=(40,20))\n",
    "plt.scatter(x,y)"
   ]
  },
  {
   "cell_type": "code",
   "execution_count": 63,
   "metadata": {},
   "outputs": [],
   "source": [
    "item_matrix = np.zeros((df.shape[0],len(items_set)))"
   ]
  },
  {
   "cell_type": "code",
   "execution_count": 64,
   "metadata": {},
   "outputs": [],
   "source": [
    "df_items= pd.DataFrame(item_matrix,columns=items_set)"
   ]
  },
  {
   "cell_type": "code",
   "execution_count": 65,
   "metadata": {},
   "outputs": [
    {
     "data": {
      "text/plain": [
       "Int64Index([   0,    1,    2,    3,    4,    5,    6,    7,    8,    9,\n",
       "            ...\n",
       "            2418, 2419, 2420, 2421, 2422, 2423, 2424, 2425, 2426, 2427],\n",
       "           dtype='int64', length=862927)"
      ]
     },
     "execution_count": 65,
     "metadata": {},
     "output_type": "execute_result"
    }
   ],
   "source": [
    "df.index"
   ]
  },
  {
   "cell_type": "code",
   "execution_count": 66,
   "metadata": {},
   "outputs": [],
   "source": [
    "df=df.reset_index()"
   ]
  },
  {
   "cell_type": "code",
   "execution_count": 67,
   "metadata": {},
   "outputs": [
    {
     "data": {
      "text/plain": [
       "RangeIndex(start=0, stop=862927, step=1)"
      ]
     },
     "execution_count": 67,
     "metadata": {},
     "output_type": "execute_result"
    }
   ],
   "source": [
    "df.index"
   ]
  },
  {
   "cell_type": "code",
   "execution_count": 68,
   "metadata": {},
   "outputs": [
    {
     "data": {
      "text/html": [
       "<div>\n",
       "<style scoped>\n",
       "    .dataframe tbody tr th:only-of-type {\n",
       "        vertical-align: middle;\n",
       "    }\n",
       "\n",
       "    .dataframe tbody tr th {\n",
       "        vertical-align: top;\n",
       "    }\n",
       "\n",
       "    .dataframe thead th {\n",
       "        text-align: right;\n",
       "    }\n",
       "</style>\n",
       "<table border=\"1\" class=\"dataframe\">\n",
       "  <thead>\n",
       "    <tr style=\"text-align: right;\">\n",
       "      <th></th>\n",
       "      <th>index</th>\n",
       "      <th>gross+</th>\n",
       "      <th>gross-</th>\n",
       "      <th>net</th>\n",
       "      <th>oper</th>\n",
       "      <th>term</th>\n",
       "      <th>trans</th>\n",
       "      <th>month</th>\n",
       "      <th>total_of_items</th>\n",
       "      <th>item_count</th>\n",
       "      <th>hour</th>\n",
       "    </tr>\n",
       "  </thead>\n",
       "  <tbody>\n",
       "    <tr>\n",
       "      <th>count</th>\n",
       "      <td>862927.000000</td>\n",
       "      <td>862927.000000</td>\n",
       "      <td>862927.00000</td>\n",
       "      <td>862927.000000</td>\n",
       "      <td>862927.000000</td>\n",
       "      <td>862927.000000</td>\n",
       "      <td>862927.000000</td>\n",
       "      <td>862927.000000</td>\n",
       "      <td>862927.0</td>\n",
       "      <td>862927.000000</td>\n",
       "      <td>862927.000000</td>\n",
       "    </tr>\n",
       "    <tr>\n",
       "      <th>mean</th>\n",
       "      <td>1364.919710</td>\n",
       "      <td>60.702413</td>\n",
       "      <td>2.46987</td>\n",
       "      <td>58.273076</td>\n",
       "      <td>57.991766</td>\n",
       "      <td>4.803372</td>\n",
       "      <td>175.990354</td>\n",
       "      <td>6.622982</td>\n",
       "      <td>0.0</td>\n",
       "      <td>10.201341</td>\n",
       "      <td>14.681150</td>\n",
       "    </tr>\n",
       "    <tr>\n",
       "      <th>std</th>\n",
       "      <td>794.906105</td>\n",
       "      <td>212.303797</td>\n",
       "      <td>200.53094</td>\n",
       "      <td>68.144409</td>\n",
       "      <td>108.036963</td>\n",
       "      <td>2.458006</td>\n",
       "      <td>119.109663</td>\n",
       "      <td>3.413984</td>\n",
       "      <td>0.0</td>\n",
       "      <td>10.012444</td>\n",
       "      <td>3.229799</td>\n",
       "    </tr>\n",
       "    <tr>\n",
       "      <th>min</th>\n",
       "      <td>0.000000</td>\n",
       "      <td>0.000000</td>\n",
       "      <td>0.00000</td>\n",
       "      <td>-748.520000</td>\n",
       "      <td>1.000000</td>\n",
       "      <td>1.000000</td>\n",
       "      <td>1.000000</td>\n",
       "      <td>1.000000</td>\n",
       "      <td>0.0</td>\n",
       "      <td>0.000000</td>\n",
       "      <td>0.000000</td>\n",
       "    </tr>\n",
       "    <tr>\n",
       "      <th>25%</th>\n",
       "      <td>679.000000</td>\n",
       "      <td>15.310000</td>\n",
       "      <td>0.00000</td>\n",
       "      <td>15.030000</td>\n",
       "      <td>26.000000</td>\n",
       "      <td>3.000000</td>\n",
       "      <td>79.000000</td>\n",
       "      <td>4.000000</td>\n",
       "      <td>0.0</td>\n",
       "      <td>3.000000</td>\n",
       "      <td>12.000000</td>\n",
       "    </tr>\n",
       "    <tr>\n",
       "      <th>50%</th>\n",
       "      <td>1360.000000</td>\n",
       "      <td>37.630000</td>\n",
       "      <td>0.00000</td>\n",
       "      <td>37.040000</td>\n",
       "      <td>52.000000</td>\n",
       "      <td>5.000000</td>\n",
       "      <td>162.000000</td>\n",
       "      <td>7.000000</td>\n",
       "      <td>0.0</td>\n",
       "      <td>7.000000</td>\n",
       "      <td>15.000000</td>\n",
       "    </tr>\n",
       "    <tr>\n",
       "      <th>75%</th>\n",
       "      <td>2035.000000</td>\n",
       "      <td>78.200000</td>\n",
       "      <td>0.00000</td>\n",
       "      <td>76.820000</td>\n",
       "      <td>72.000000</td>\n",
       "      <td>7.000000</td>\n",
       "      <td>253.000000</td>\n",
       "      <td>10.000000</td>\n",
       "      <td>0.0</td>\n",
       "      <td>14.000000</td>\n",
       "      <td>17.000000</td>\n",
       "    </tr>\n",
       "    <tr>\n",
       "      <th>max</th>\n",
       "      <td>3452.000000</td>\n",
       "      <td>98771.150000</td>\n",
       "      <td>98710.30000</td>\n",
       "      <td>3414.640000</td>\n",
       "      <td>1745.000000</td>\n",
       "      <td>9.000000</td>\n",
       "      <td>699.000000</td>\n",
       "      <td>12.000000</td>\n",
       "      <td>0.0</td>\n",
       "      <td>205.000000</td>\n",
       "      <td>23.000000</td>\n",
       "    </tr>\n",
       "  </tbody>\n",
       "</table>\n",
       "</div>"
      ],
      "text/plain": [
       "               index         gross+        gross-            net  \\\n",
       "count  862927.000000  862927.000000  862927.00000  862927.000000   \n",
       "mean     1364.919710      60.702413       2.46987      58.273076   \n",
       "std       794.906105     212.303797     200.53094      68.144409   \n",
       "min         0.000000       0.000000       0.00000    -748.520000   \n",
       "25%       679.000000      15.310000       0.00000      15.030000   \n",
       "50%      1360.000000      37.630000       0.00000      37.040000   \n",
       "75%      2035.000000      78.200000       0.00000      76.820000   \n",
       "max      3452.000000   98771.150000   98710.30000    3414.640000   \n",
       "\n",
       "                oper           term          trans          month  \\\n",
       "count  862927.000000  862927.000000  862927.000000  862927.000000   \n",
       "mean       57.991766       4.803372     175.990354       6.622982   \n",
       "std       108.036963       2.458006     119.109663       3.413984   \n",
       "min         1.000000       1.000000       1.000000       1.000000   \n",
       "25%        26.000000       3.000000      79.000000       4.000000   \n",
       "50%        52.000000       5.000000     162.000000       7.000000   \n",
       "75%        72.000000       7.000000     253.000000      10.000000   \n",
       "max      1745.000000       9.000000     699.000000      12.000000   \n",
       "\n",
       "       total_of_items     item_count           hour  \n",
       "count        862927.0  862927.000000  862927.000000  \n",
       "mean              0.0      10.201341      14.681150  \n",
       "std               0.0      10.012444       3.229799  \n",
       "min               0.0       0.000000       0.000000  \n",
       "25%               0.0       3.000000      12.000000  \n",
       "50%               0.0       7.000000      15.000000  \n",
       "75%               0.0      14.000000      17.000000  \n",
       "max               0.0     205.000000      23.000000  "
      ]
     },
     "execution_count": 68,
     "metadata": {},
     "output_type": "execute_result"
    }
   ],
   "source": [
    "df.describe()"
   ]
  },
  {
   "cell_type": "code",
   "execution_count": 69,
   "metadata": {},
   "outputs": [
    {
     "name": "stdout",
     "output_type": "stream",
     "text": [
      "\n"
     ]
    }
   ],
   "source": [
    "df.pop('index')\n",
    "print ()"
   ]
  },
  {
   "cell_type": "code",
   "execution_count": 70,
   "metadata": {},
   "outputs": [
    {
     "name": "stdout",
     "output_type": "stream",
     "text": [
      "<class 'pandas.core.frame.DataFrame'>\n",
      "RangeIndex: 862927 entries, 0 to 862926\n",
      "Data columns (total 15 columns):\n",
      "account           862927 non-null object\n",
      "date              862927 non-null datetime64[ns]\n",
      "gross+            862927 non-null float64\n",
      "gross-            862927 non-null float64\n",
      "items             862927 non-null object\n",
      "net               862927 non-null float64\n",
      "oper              862927 non-null int64\n",
      "term              862927 non-null int64\n",
      "time              862927 non-null object\n",
      "trans             862927 non-null int64\n",
      "day_of_week       862927 non-null object\n",
      "month             862927 non-null int64\n",
      "total_of_items    862927 non-null int64\n",
      "item_count        862927 non-null int64\n",
      "hour              862927 non-null int64\n",
      "dtypes: datetime64[ns](1), float64(3), int64(7), object(4)\n",
      "memory usage: 98.8+ MB\n"
     ]
    }
   ],
   "source": [
    "df.info()"
   ]
  },
  {
   "cell_type": "code",
   "execution_count": 71,
   "metadata": {},
   "outputs": [
    {
     "data": {
      "text/plain": [
       "RangeIndex(start=0, stop=862927, step=1)"
      ]
     },
     "execution_count": 71,
     "metadata": {},
     "output_type": "execute_result"
    }
   ],
   "source": [
    "df.iloc[:,0].index\n"
   ]
  },
  {
   "cell_type": "code",
   "execution_count": 72,
   "metadata": {},
   "outputs": [
    {
     "data": {
      "text/plain": [
       "RangeIndex(start=0, stop=862927, step=1)"
      ]
     },
     "execution_count": 72,
     "metadata": {},
     "output_type": "execute_result"
    }
   ],
   "source": [
    "df_items.iloc[:,0].index"
   ]
  },
  {
   "cell_type": "code",
   "execution_count": 73,
   "metadata": {},
   "outputs": [],
   "source": [
    "col_index_dict = dict(zip(items_set, range(len(items_set))))"
   ]
  },
  {
   "cell_type": "code",
   "execution_count": 74,
   "metadata": {},
   "outputs": [
    {
     "ename": "KeyError",
     "evalue": "'BANANAS'",
     "output_type": "error",
     "traceback": [
      "\u001b[0;31m---------------------------------------------------------------------------\u001b[0m",
      "\u001b[0;31mKeyError\u001b[0m                                  Traceback (most recent call last)",
      "\u001b[0;32m<ipython-input-74-64064f608cc7>\u001b[0m in \u001b[0;36m<module>\u001b[0;34m\u001b[0m\n\u001b[0;32m----> 1\u001b[0;31m \u001b[0mcol_index_dict\u001b[0m\u001b[0;34m[\u001b[0m\u001b[0;34m'BANANAS'\u001b[0m\u001b[0;34m]\u001b[0m\u001b[0;34m\u001b[0m\u001b[0;34m\u001b[0m\u001b[0m\n\u001b[0m",
      "\u001b[0;31mKeyError\u001b[0m: 'BANANAS'"
     ]
    }
   ],
   "source": [
    "col_index_dict['BANANAS']"
   ]
  },
  {
   "cell_type": "code",
   "execution_count": null,
   "metadata": {},
   "outputs": [],
   "source": [
    "df.shape[0]"
   ]
  },
  {
   "cell_type": "code",
   "execution_count": 75,
   "metadata": {},
   "outputs": [],
   "source": [
    "matrix_dict = defaultdict(int)\n",
    "for i in range(df.shape[0]):\n",
    "    for item in df['items'][i]:\n",
    "        #set matrix to boolean for item precence in basket:\n",
    "        #if item[1] not in stopwords and item[3] != 12:\n",
    "        #if item[1] not in stopwords and item[3] not in (12,16):\n",
    "        if item[1] not in stopwords:\n",
    "            if item[2] > 0:\n",
    "                value = 1\n",
    "            elif item[2] == 0:\n",
    "                value = 0\n",
    "            else:\n",
    "                value = -1\n",
    "            matrix_dict[i,col_index_dict[item[1]]] += value"
   ]
  },
  {
   "cell_type": "code",
   "execution_count": 76,
   "metadata": {},
   "outputs": [
    {
     "name": "stdout",
     "output_type": "stream",
     "text": [
      "ONION GRUY CHZ RAV\n",
      "ONION POWDER\n"
     ]
    }
   ],
   "source": [
    "for item in items_set:\n",
    "    if item.startswith('ONION'):\n",
    "        print (item)"
   ]
  },
  {
   "cell_type": "code",
   "execution_count": 77,
   "metadata": {},
   "outputs": [
    {
     "data": {
      "text/plain": [
       "6105681"
      ]
     },
     "execution_count": 77,
     "metadata": {},
     "output_type": "execute_result"
    }
   ],
   "source": [
    "len(matrix_dict)"
   ]
  },
  {
   "cell_type": "code",
   "execution_count": 78,
   "metadata": {},
   "outputs": [
    {
     "name": "stdout",
     "output_type": "stream",
     "text": [
      "0\n",
      "7823\n",
      "0\n"
     ]
    }
   ],
   "source": [
    "for key,value in matrix_dict.items():\n",
    "    print (key[0])\n",
    "    print (key[1])\n",
    "    print (value)\n",
    "    break"
   ]
  },
  {
   "cell_type": "code",
   "execution_count": 79,
   "metadata": {},
   "outputs": [],
   "source": [
    "rows, cols, vals = [], [], []\n",
    "for key, value in matrix_dict.items():\n",
    "    rows.append(key[0])\n",
    "    cols.append(key[1])\n",
    "    vals.append(matrix_dict[key])\n",
    "sparse_matrix = sparse.csr_matrix((vals, (rows, cols)))"
   ]
  },
  {
   "cell_type": "code",
   "execution_count": null,
   "metadata": {},
   "outputs": [],
   "source": [
    "len(rows)"
   ]
  },
  {
   "cell_type": "code",
   "execution_count": null,
   "metadata": {},
   "outputs": [],
   "source": [
    "import pickle"
   ]
  },
  {
   "cell_type": "code",
   "execution_count": null,
   "metadata": {},
   "outputs": [],
   "source": [
    "sparse_matrix[4]"
   ]
  },
  {
   "cell_type": "code",
   "execution_count": 80,
   "metadata": {},
   "outputs": [],
   "source": [
    "pickle.dump(sparse_matrix,open('./data/pickles/sparse_matrix2016.p','wb'))"
   ]
  },
  {
   "cell_type": "code",
   "execution_count": 81,
   "metadata": {},
   "outputs": [],
   "source": [
    "pickle.dump(items_set,open('./data/pickles/items_set2016.p','wb'))"
   ]
  },
  {
   "cell_type": "code",
   "execution_count": null,
   "metadata": {},
   "outputs": [],
   "source": [
    "import pandas as pd\n",
    "import numpy as np\n",
    "from scipy import sparse\n",
    "from os import path\n",
    "from PIL import Image\n",
    "from wordcloud import WordCloud, STOPWORDS, ImageColorGenerator\n",
    "from collections import Counter, defaultdict\n",
    "import matplotlib.pyplot as plt\n",
    "%matplotlib inline\n",
    "from sklearn import decomposition, datasets, model_selection, preprocessing, metrics\n",
    "import src.rainbow\n",
    "import os\n",
    "import glob\n",
    "import pickle\n",
    "import time\n"
   ]
  },
  {
   "cell_type": "code",
   "execution_count": null,
   "metadata": {},
   "outputs": [],
   "source": [
    "file = open(\"./data/pickles/sparse_matrix2015.p\",'rb')\n",
    "sparse_matrix = pickle.load(file)\n",
    "file.close()"
   ]
  },
  {
   "cell_type": "code",
   "execution_count": null,
   "metadata": {},
   "outputs": [],
   "source": [
    "file = open(\"./data/pickles/items_set2015.p\",'rb')\n",
    "items_set = pickle.load(file)\n",
    "file.close()"
   ]
  },
  {
   "cell_type": "code",
   "execution_count": 82,
   "metadata": {},
   "outputs": [],
   "source": [
    "sparse_matrix = (sparse_matrix > 0).astype(int)"
   ]
  },
  {
   "cell_type": "code",
   "execution_count": 83,
   "metadata": {},
   "outputs": [
    {
     "name": "stdout",
     "output_type": "stream",
     "text": [
      "[[0.04405703]] % of zero weight baskets\n"
     ]
    }
   ],
   "source": [
    "sum_of_zeros=sum(np.sum(sparse_matrix,axis=1)==0)\n",
    "print(sum_of_zeros / sparse_matrix.shape[0],\"% of zero weight baskets\")"
   ]
  },
  {
   "cell_type": "code",
   "execution_count": 84,
   "metadata": {},
   "outputs": [],
   "source": [
    "number_of_components=6"
   ]
  },
  {
   "cell_type": "code",
   "execution_count": 85,
   "metadata": {},
   "outputs": [],
   "source": [
    "def fit_NMF(sparse_matrix_,n_components_,max_iter=250):\n",
    "    from sklearn.decomposition import NMF\n",
    "    model = NMF(n_components=n_components_,max_iter=max_iter)\n",
    "    W = model.fit_transform(sparse_matrix_)\n",
    "    H=model.components_\n",
    "    model_iter = model.n_iter_\n",
    "    return model,W,H,model_iter\n",
    "model,W,H,model_iter = fit_NMF(sparse_matrix,n_components_=number_of_components,max_iter=250)"
   ]
  },
  {
   "cell_type": "code",
   "execution_count": 86,
   "metadata": {},
   "outputs": [
    {
     "name": "stdout",
     "output_type": "stream",
     "text": [
      "iterations: 85 W shape: (862927, 6) H shape: (6, 24916)\n"
     ]
    }
   ],
   "source": [
    "print('iterations:',model_iter,'W shape:',W.shape,'H shape:',H.shape)"
   ]
  },
  {
   "cell_type": "code",
   "execution_count": 87,
   "metadata": {},
   "outputs": [
    {
     "name": "stdout",
     "output_type": "stream",
     "text": [
      "topic 0 srength: 0.090000 \n",
      "topic 1 srength: 0.100000 \n",
      "topic 2 srength: 0.050000 \n",
      "topic 3 srength: 0.110000 \n",
      "topic 4 srength: 0.470000 \n",
      "topic 5 srength: 0.180000 \n"
     ]
    }
   ],
   "source": [
    "w = np.zeros_like(W)\n",
    "w[np.arange(len(W)), W.argmax(1)] = 1\n",
    "topic_strength = np.sum(w,axis=0)\n",
    "topic_strength = np.round(topic_strength/topic_strength.sum(),2)\n",
    "for i,t in enumerate(topic_strength):\n",
    "    print('topic %d srength: %f '%(i,t))"
   ]
  },
  {
   "cell_type": "code",
   "execution_count": 88,
   "metadata": {},
   "outputs": [
    {
     "data": {
      "text/plain": [
       "'from sklearn.decomposition import LatentDirichletAllocation as LDA\\nmodel = LDA(n_components=2,max_iter=10)\\nW = model.fit_transform(sparse_matrix)\\nH = model.components_\\nmodel.n_iter_'"
      ]
     },
     "execution_count": 88,
     "metadata": {},
     "output_type": "execute_result"
    }
   ],
   "source": [
    "'''from sklearn.decomposition import LatentDirichletAllocation as LDA\n",
    "model = LDA(n_components=2,max_iter=10)\n",
    "W = model.fit_transform(sparse_matrix)\n",
    "H = model.components_\n",
    "model.n_iter_'''"
   ]
  },
  {
   "cell_type": "code",
   "execution_count": 89,
   "metadata": {},
   "outputs": [
    {
     "name": "stdout",
     "output_type": "stream",
     "text": [
      "[ 7049  3556 24611  3475  4344  8625  5684 14280  2130  9994]\n",
      "['CELERY', 'CUCUMBERS', 'LEEKS', 'SATSUMA MANDARIN', 'FENNEL', '5290 WALNUTS', 'GRAPEFRUIT', 'BRUSSEL SPROUTS', 'COLLARDS', '5120 ORG ALMONDS']\n",
      "\n",
      "[19622   644 22141  9834  5497  5157 16035  3556 13424  2184]\n",
      "['1lb STRAWBERRY', 'PEACH', 'NECTARINE', 'BLUEBERRIES', 'TOMATO', 'CORN', 'MINI SEEDLESS H20', 'CUCUMBERS', 'APRICOT/APRIUM', 'BLACKBERRIES']\n",
      "\n",
      "[ 6836  8257  2705  3556   644  5684 22141  5497 23213  4344]\n",
      "['LEMONS', 'LIMES', 'SHALLOTS', 'CUCUMBERS', 'PEACH', 'GRAPEFRUIT', 'NECTARINE', 'TOMATO', 'PARMIGIANO REGG', 'FENNEL']\n",
      "\n",
      "[ 1589  3910   644     9 22092  8625  9834 22141  3475 20417]\n",
      "['REFRIGERATED', 'BAKERY', 'PEACH', 'BULK', 'PRODUCE', '5290 WALNUTS', 'BLUEBERRIES', 'NECTARINE', 'SATSUMA MANDARIN', 'SUNDRIES']\n",
      "\n",
      "[20203  5501  8257  2705  8625 13563  9994  3475  5684 24611]\n",
      "['GINGER', 'CILANTRO', 'LIMES', 'SHALLOTS', '5290 WALNUTS', '4110 ORG ROLLED OA', '5120 ORG ALMONDS', 'SATSUMA MANDARIN', 'GRAPEFRUIT', 'LEEKS']\n",
      "\n",
      "[13236  3475 13563  3910 13175  8625 12313 13559  5497 21958]\n",
      "['BAGEL', 'SATSUMA MANDARIN', '4110 ORG ROLLED OA', 'BAKERY', 'OV CRM CHEESE SPRE', '5290 WALNUTS', 'EGGS DZ ROCK LG', 'WHOLE ORG MILK', 'TOMATO', 'GINA MARIE CC']\n",
      "\n"
     ]
    }
   ],
   "source": [
    "feature_names=list(items_set).copy()\n",
    "n_top_words=10\n",
    "for topic in H:\n",
    "    print(topic.argsort()[:-n_top_words -1:-1])\n",
    "    print ([feature_names[i]for i in topic.argsort()[:-n_top_words -1:-1]])\n",
    "    print()"
   ]
  },
  {
   "cell_type": "code",
   "execution_count": 90,
   "metadata": {},
   "outputs": [],
   "source": [
    "pickle.dump(sparse_matrix,open('./data/pickles/topics_list2017.p','wb'))"
   ]
  },
  {
   "cell_type": "code",
   "execution_count": 93,
   "metadata": {
    "scrolled": true
   },
   "outputs": [
    {
     "name": "stdout",
     "output_type": "stream",
     "text": [
      "0.09 Topic #0 of 6:\n",
      "['CELERY', 'CUCUMBERS', 'LEEKS', 'SATSUMA MANDARIN', 'FENNEL', '5290 WALNUTS', 'GRAPEFRUIT', 'BRUSSEL SPROUTS', 'COLLARDS', '5120 ORG ALMONDS']\n"
     ]
    },
    {
     "data": {
      "image/png": "[encoded data removed]",
      "text/plain": [
       "<Figure size 432x288 with 1 Axes>"
      ]
     },
     "metadata": {
      "needs_background": "light"
     },
     "output_type": "display_data"
    },
    {
     "name": "stdout",
     "output_type": "stream",
     "text": [
      "<img src=\"./img/2018/1554499467.topic0.png\">\n",
      "0.1 Topic #1 of 6:\n",
      "['1lb STRAWBERRY', 'PEACH', 'NECTARINE', 'BLUEBERRIES', 'TOMATO', 'CORN', 'MINI SEEDLESS H20', 'CUCUMBERS', 'APRICOT/APRIUM', 'BLACKBERRIES']\n"
     ]
    },
    {
     "data": {
      "image/png": "[encoded data removed]",
      "text/plain": [
       "<Figure size 432x288 with 1 Axes>"
      ]
     },
     "metadata": {
      "needs_background": "light"
     },
     "output_type": "display_data"
    },
    {
     "name": "stdout",
     "output_type": "stream",
     "text": [
      "<img src=\"./img/2018/1554499468.topic1.png\">\n",
      "0.05 Topic #2 of 6:\n",
      "['LEMONS', 'LIMES', 'SHALLOTS', 'CUCUMBERS', 'PEACH', 'GRAPEFRUIT', 'NECTARINE', 'TOMATO', 'PARMIGIANO REGG', 'FENNEL']\n"
     ]
    },
    {
     "data": {
      "image/png": "[encoded data removed]",
      "text/plain": [
       "<Figure size 432x288 with 1 Axes>"
      ]
     },
     "metadata": {
      "needs_background": "light"
     },
     "output_type": "display_data"
    },
    {
     "name": "stdout",
     "output_type": "stream",
     "text": [
      "<img src=\"./img/2018/1554499468.topic2.png\">\n",
      "0.11 Topic #3 of 6:\n",
      "['REFRIGERATED', 'BAKERY', 'PEACH', 'BULK', 'PRODUCE', '5290 WALNUTS', 'BLUEBERRIES', 'NECTARINE', 'SATSUMA MANDARIN', 'SUNDRIES']\n"
     ]
    },
    {
     "data": {
      "image/png": "[encoded data removed]",
      "text/plain": [
       "<Figure size 432x288 with 1 Axes>"
      ]
     },
     "metadata": {
      "needs_background": "light"
     },
     "output_type": "display_data"
    },
    {
     "name": "stdout",
     "output_type": "stream",
     "text": [
      "<img src=\"./img/2018/1554499469.topic3.png\">\n",
      "0.47 Topic #4 of 6:\n",
      "['GINGER', 'CILANTRO', 'LIMES', 'SHALLOTS', '5290 WALNUTS', '4110 ORG ROLLED OA', '5120 ORG ALMONDS', 'SATSUMA MANDARIN', 'GRAPEFRUIT', 'LEEKS']\n"
     ]
    },
    {
     "data": {
      "image/png": "[encoded data removed]",
      "text/plain": [
       "<Figure size 432x288 with 1 Axes>"
      ]
     },
     "metadata": {
      "needs_background": "light"
     },
     "output_type": "display_data"
    },
    {
     "name": "stdout",
     "output_type": "stream",
     "text": [
      "<img src=\"./img/2018/1554499469.topic4.png\">\n",
      "0.18 Topic #5 of 6:\n",
      "['BAGEL', 'SATSUMA MANDARIN', '4110 ORG ROLLED OA', 'BAKERY', 'OV CRM CHEESE SPRE', '5290 WALNUTS', 'EGGS DZ ROCK LG', 'WHOLE ORG MILK', 'TOMATO', 'GINA MARIE CC']\n"
     ]
    },
    {
     "data": {
      "image/png": "[encoded data removed]",
      "text/plain": [
       "<Figure size 432x288 with 1 Axes>"
      ]
     },
     "metadata": {
      "needs_background": "light"
     },
     "output_type": "display_data"
    },
    {
     "name": "stdout",
     "output_type": "stream",
     "text": [
      "<img src=\"./img/2018/1554499470.topic5.png\">\n",
      "[['CELERY', 'CUCUMBERS', 'LEEKS', 'SATSUMA MANDARIN', 'FENNEL', '5290 WALNUTS', 'GRAPEFRUIT', 'BRUSSEL SPROUTS', 'COLLARDS', '5120 ORG ALMONDS'], ['1lb STRAWBERRY', 'PEACH', 'NECTARINE', 'BLUEBERRIES', 'TOMATO', 'CORN', 'MINI SEEDLESS H20', 'CUCUMBERS', 'APRICOT/APRIUM', 'BLACKBERRIES'], ['LEMONS', 'LIMES', 'SHALLOTS', 'CUCUMBERS', 'PEACH', 'GRAPEFRUIT', 'NECTARINE', 'TOMATO', 'PARMIGIANO REGG', 'FENNEL'], ['REFRIGERATED', 'BAKERY', 'PEACH', 'BULK', 'PRODUCE', '5290 WALNUTS', 'BLUEBERRIES', 'NECTARINE', 'SATSUMA MANDARIN', 'SUNDRIES'], ['GINGER', 'CILANTRO', 'LIMES', 'SHALLOTS', '5290 WALNUTS', '4110 ORG ROLLED OA', '5120 ORG ALMONDS', 'SATSUMA MANDARIN', 'GRAPEFRUIT', 'LEEKS'], ['BAGEL', 'SATSUMA MANDARIN', '4110 ORG ROLLED OA', 'BAKERY', 'OV CRM CHEESE SPRE', '5290 WALNUTS', 'EGGS DZ ROCK LG', 'WHOLE ORG MILK', 'TOMATO', 'GINA MARIE CC']]\n"
     ]
    }
   ],
   "source": [
    "def print_top_items(model, feature_names, n_top_words):\n",
    "    topic_dict = defaultdict()\n",
    "    topics_list =[]\n",
    "    fig = plt.figure()\n",
    "    for topic_idx, topic in enumerate(model.components_):\n",
    "        print(topic_strength[topic_idx],\"Topic #%d of %d:\" %( topic_idx,number_of_components))\n",
    "        #topic_string=(\" \".join([feature_names[i]for i in topic.argsort()[:-n_top_words - 1:-1]]))\n",
    "        topic_string=[feature_names[i]for i in topic.argsort()[:-n_top_words - 1:-1]]\n",
    "        topic_dict[topic_idx]=topic_string\n",
    "        topics_list.append(topic_string)\n",
    "        print(topic_string)\n",
    "        #print()\n",
    "        #wordcloud = WordCloud(max_font_size=500, max_words=1000, background_color=\"white\").generate(str(topic_string).replace(\" \", \"_\").replace(\"'\",\"\"))\n",
    "        wordcloud = WordCloud(max_font_size=500, max_words=1000, background_color=\"white\").generate(str(topic_string).replace(\"'\",\"\").replace(\",\",\"\"))\n",
    "        ax = fig.add_subplot(2,1,topic_idx+1)\n",
    "        # Display the generated image:\n",
    "        #plt.figure(1,figsize=(10,10))\n",
    "        plt.imshow(wordcloud, interpolation='bilinear')\n",
    "        plt.axis(\"off\")\n",
    "        plt.show()\n",
    "        #plt.savefig('topic%d.png'%topic_idx)\n",
    "        #plt.close()\n",
    "        img_time=str(time.time()).split('.')[0]\n",
    "        wordcloud.to_file('./img/2018/%s.topic%d.png'%(img_time,topic_idx))\n",
    "        print('<img src=\"./img/2018/%s.topic%d.png\">'%(img_time,topic_idx))\n",
    "    return topic_dict,topics_list\n",
    "\n",
    "topic_dict,topics_list = print_top_items(model,list(items_set),n_top_words)\n",
    "print(topics_list)"
   ]
  },
  {
   "cell_type": "code",
   "execution_count": 144,
   "metadata": {},
   "outputs": [],
   "source": [
    "topics3=topic_dict.copy()"
   ]
  },
  {
   "cell_type": "code",
   "execution_count": 145,
   "metadata": {},
   "outputs": [
    {
     "name": "stdout",
     "output_type": "stream",
     "text": [
      "[0.14 0.05 0.54 0.05 0.17 0.04]\n",
      "[[10.  0.  0.  1.  0.  4.]\n",
      " [ 0. 10.  3.  5.  5.  0.]\n",
      " [ 0.  3. 10.  2.  2.  0.]\n",
      " [ 1.  5.  2. 10.  3.  0.]\n",
      " [ 0.  5.  2.  3. 10.  0.]\n",
      " [ 4.  0.  0.  0.  0. 10.]]\n"
     ]
    }
   ],
   "source": [
    "topic_compare = np.zeros([len(topic_dict),len(topic_dict)])\n",
    "\n",
    "for topic in topic_dict:\n",
    "    for item in topic_dict[topic]:\n",
    "        for topic2 in topic_dict:\n",
    "            if item in topic_dict[topic2]:\n",
    "                topic_compare[topic,topic2]+=1\n",
    "print (topic_strength)            \n",
    "print(topic_compare)\n"
   ]
  },
  {
   "cell_type": "code",
   "execution_count": 146,
   "metadata": {
    "scrolled": true
   },
   "outputs": [],
   "source": [
    "list_of_topics=[]\n",
    "for topic in topic_dict:\n",
    "     list_of_topics.append(topic_dict[topic])"
   ]
  },
  {
   "cell_type": "code",
   "execution_count": 147,
   "metadata": {},
   "outputs": [
    {
     "data": {
      "text/plain": [
       "(10, 6)"
      ]
     },
     "execution_count": 147,
     "metadata": {},
     "output_type": "execute_result"
    }
   ],
   "source": [
    "topic_matrix=np.array(topics_list).T\n",
    "topic_matrix.shape"
   ]
  },
  {
   "cell_type": "code",
   "execution_count": 151,
   "metadata": {},
   "outputs": [],
   "source": [
    "pd.DataFrame(topic_matrix,columns=topic_strength).to_pickle('./data/pickles/2017topics%d.pkl'%number_of_components)"
   ]
  },
  {
   "cell_type": "code",
   "execution_count": 152,
   "metadata": {
    "scrolled": true
   },
   "outputs": [],
   "source": [
    "topic_df = pd.DataFrame(topic_matrix,columns=topic_strength)"
   ]
  },
  {
   "cell_type": "code",
   "execution_count": 153,
   "metadata": {},
   "outputs": [],
   "source": [
    "import tabulate \n"
   ]
  },
  {
   "cell_type": "code",
   "execution_count": 154,
   "metadata": {},
   "outputs": [
    {
     "name": "stdout",
     "output_type": "stream",
     "text": [
      "| 0.14             | 0.05               | 0.54               | 0.05             | 0.17          | 0.04               |\n",
      "|:-----------------|:-------------------|:-------------------|:-----------------|:--------------|:-------------------|\n",
      "| ONIONS YELLOW    | LEMONS             | 1lb STRAWBERRY     | CELERY           | CILANTRO      | AVOCADOS HASS      |\n",
      "| GARLIC WHITE     | LIMES              | REFRIGERATED       | CUCUMBERS        | GINGER        | TOMATO MIX HEIRLOO |\n",
      "| APPLES FUJI      | SHALLOTS           | PEACH              | CARROTS LOOSE    | LIMES         | APPLES FUJI        |\n",
      "| PEPPERS RED BELL | GRAPEFRUIT         | BAGEL              | LEEKS            | SHALLOTS      | TOMATO DRY FARM    |\n",
      "| CARROTS LOOSE    | CUCUMBERS          | NECTARINE          | 5290 WALNUTS     | PEPPER CHILI  | SPINACH LOOSE      |\n",
      "| SQUASH ZUCCHINI  | CUKE MEDIT/PERSIAN | 5290 WALNUTS       | GRAPEFRUIT       | CUCUMBERS     | PEPPERS RED BELL   |\n",
      "| ONIONS RED       | 5290 WALNUTS       | CUCUMBERS          | FENNEL           | ROOT TURMERIC | KALE DINO          |\n",
      "| TOMATO DRY FARM  | FENNEL             | blueberries pint   | 5120 ORG ALMONDS | 5290 WALNUTS  | ARUGULA LOOSE      |\n",
      "| BROCCOLI LOOSE   | BRUSSEL SPROUTS    | CORN               | COLLARDS         | GRAPEFRUIT    | RASPBERRY          |\n",
      "| MUSHROOM CRIMINI | PARSLEY ITALIAN    | CUKE MEDIT/PERSIAN | BRUSSEL SPROUTS  | ONIONS GREEN  | BROCCOLI LOOSE     |\n"
     ]
    }
   ],
   "source": [
    "print(tabulate.tabulate(topic_df.values,topic_df.columns, tablefmt=\"pipe\")) "
   ]
  },
  {
   "cell_type": "code",
   "execution_count": null,
   "metadata": {},
   "outputs": [],
   "source": [
    "ingredients =np.array((len(topics),len(topics[0])))\n",
    "for row in topics:\n",
    "    print('row',row)\n",
    "    for i,item in enumerate(topics[row]):\n",
    "        if item not in topics[row]:\n",
    "            print ('i',i,item)\n",
    "            \n",
    "        if item not in topics[0]:\n",
    "            print ('iI',i,item)\n",
    "        #ingredients[row:i]=item\n",
    "ingredients"
   ]
  },
  {
   "cell_type": "code",
   "execution_count": null,
   "metadata": {},
   "outputs": [],
   "source": [
    "len(ing_set)"
   ]
  },
  {
   "cell_type": "code",
   "execution_count": null,
   "metadata": {},
   "outputs": [],
   "source": [
    "ing_index_dict = dict(zip(ing_set, range(len(ing_set))))"
   ]
  },
  {
   "cell_type": "code",
   "execution_count": null,
   "metadata": {},
   "outputs": [],
   "source": [
    "ingredients=np.array(ingredients)\n",
    "ingredients=ingredients.reshape(5,55)"
   ]
  },
  {
   "cell_type": "code",
   "execution_count": null,
   "metadata": {},
   "outputs": [],
   "source": [
    "ingredients.shape"
   ]
  },
  {
   "cell_type": "code",
   "execution_count": null,
   "metadata": {},
   "outputs": [],
   "source": [
    "ing_matrix=np.zeros(ingredients.shape)"
   ]
  },
  {
   "cell_type": "code",
   "execution_count": null,
   "metadata": {},
   "outputs": [],
   "source": [
    "for row,col in enumerate(ingredients):\n",
    "    for i,c in enumerate(col):\n",
    "        #print(row,i,c)\n",
    "        ing_matrix[row,i]=ing_index_dict[c]\n",
    "ing_matrix"
   ]
  },
  {
   "cell_type": "code",
   "execution_count": null,
   "metadata": {},
   "outputs": [],
   "source": [
    "ing_array=ing_index_dict.values()\n",
    "\n",
    "ing_array"
   ]
  },
  {
   "cell_type": "code",
   "execution_count": null,
   "metadata": {},
   "outputs": [],
   "source": []
  },
  {
   "cell_type": "code",
   "execution_count": null,
   "metadata": {},
   "outputs": [],
   "source": [
    "for i in ing_matrix:\n",
    "    print(ing_array==i)"
   ]
  },
  {
   "cell_type": "code",
   "execution_count": null,
   "metadata": {
    "scrolled": false
   },
   "outputs": [],
   "source": [
    "for ing_index_dict"
   ]
  },
  {
   "cell_type": "code",
   "execution_count": null,
   "metadata": {},
   "outputs": [],
   "source": []
  },
  {
   "cell_type": "code",
   "execution_count": null,
   "metadata": {},
   "outputs": [],
   "source": [
    "def print_basket_contents(basket_id):\n",
    "    basket=[]\n",
    "    #print('+++++++++++++++++++++++next basket+++++++++++++++++')\n",
    "    for items in df['items'][basket_id]:\n",
    "        #for item in items:\n",
    "        print(\"item:\",items)\n",
    "    #return basket\n",
    "#print_basket_contents(1116)"
   ]
  },
  {
   "cell_type": "code",
   "execution_count": null,
   "metadata": {},
   "outputs": [],
   "source": [
    "def print_top_baskets(model, W, n_top_words):\n",
    "    baskets = []\n",
    "    for topic_idx, w in enumerate(W.T):\n",
    "        basket_string=str([df['items'][i] for i in w.argsort()[:-n_top_words - 1:-1]])\n",
    "        count = 0\n",
    "        for i in w.argsort()[:-n_top_words - 1:-1]:\n",
    "            count+=1\n",
    "            print(\"++++++++++++++++++Topic #%d, basket #%d+++++++++++++++++++\"%(topic_idx,count))\n",
    "            print_basket_contents(i)\n",
    "        #print_basket_contents([i for i in w.argsort()[:-n_top_words - 1:-1]])\n",
    "        baskets.append(basket_string)\n",
    "        #print(basket_string)\n",
    "        #print()\n",
    "        '''wordcloud = WordCloud(max_font_size=500, max_words=1000, background_color=\"white\").generate(basket_string.replace(\" \", \"_\").replace(\"'\",\"\"))\n",
    "\n",
    "        # Display the generated image:\n",
    "        #plt.figure(1,figsize=(10,10))\n",
    "        plt.imshow(wordcloud, interpolation='bilinear')\n",
    "        plt.axis(\"off\")\n",
    "        plt.show()\n",
    "        #plt.savefig('topic%d.png'%topic_idx)\n",
    "        #plt.close()\n",
    "        wordcloud.to_file('topic%d.png'%topic_idx)'''\n",
    "print_top_baskets(model,W,10)"
   ]
  },
  {
   "cell_type": "code",
   "execution_count": null,
   "metadata": {},
   "outputs": [],
   "source": [
    "df['item_count'].max()"
   ]
  },
  {
   "cell_type": "code",
   "execution_count": null,
   "metadata": {},
   "outputs": [],
   "source": [
    "W[:,1]"
   ]
  },
  {
   "cell_type": "code",
   "execution_count": null,
   "metadata": {},
   "outputs": [],
   "source": [
    "n_top_words=10\n",
    "for i,w in enumerate(W.T):\n",
    "    print(i,w.argsort()[:-n_top_words - 1:-1])"
   ]
  },
  {
   "cell_type": "code",
   "execution_count": null,
   "metadata": {},
   "outputs": [],
   "source": [
    "len(list(items_set))"
   ]
  },
  {
   "cell_type": "code",
   "execution_count": null,
   "metadata": {},
   "outputs": [],
   "source": [
    "for topic in H:\n",
    "    print (topic.argsort()[:-10-1:-1])"
   ]
  },
  {
   "cell_type": "code",
   "execution_count": null,
   "metadata": {},
   "outputs": [],
   "source": [
    "feat\n",
    "str([feature_names[i]for i in topic.argsort()[:-n_top_words - 1:-1]])"
   ]
  },
  {
   "cell_type": "code",
   "execution_count": null,
   "metadata": {},
   "outputs": [],
   "source": [
    "df.shape[0]\n",
    "for i in range(10,11):\n",
    "    row = df['items'][i:i+1]\n",
    "    for item in row:\n",
    "        for it in item:\n",
    "            print (it[1],it[2])"
   ]
  },
  {
   "cell_type": "code",
   "execution_count": null,
   "metadata": {},
   "outputs": [],
   "source": []
  },
  {
   "cell_type": "code",
   "execution_count": null,
   "metadata": {},
   "outputs": [],
   "source": []
  },
  {
   "cell_type": "code",
   "execution_count": null,
   "metadata": {},
   "outputs": [],
   "source": [
    "df.shape[0]\n",
    "for i in range(10,11):\n",
    "    row = df['items'][i:i+1]\n",
    "    for item in row:\n",
    "        for it in item:\n",
    "            df[it[1]][i:i+1]=df[it[1]][i:i+1]+it[2]"
   ]
  },
  {
   "cell_type": "code",
   "execution_count": null,
   "metadata": {},
   "outputs": [],
   "source": [
    "df['CILANTRO'][10:11]"
   ]
  },
  {
   "cell_type": "code",
   "execution_count": null,
   "metadata": {},
   "outputs": [],
   "source": [
    "df.shape[0]\n",
    "for i in range(1,df.shape[0]):\n",
    "    row = df['items'][i:i+1]\n",
    "    for item in row:\n",
    "        for it in item:\n",
    "            df[it[1]][i:i+1]=df[it[1]][i:i+1]+it[2]"
   ]
  },
  {
   "cell_type": "code",
   "execution_count": null,
   "metadata": {},
   "outputs": [],
   "source": [
    "df.shape"
   ]
  },
  {
   "cell_type": "code",
   "execution_count": null,
   "metadata": {},
   "outputs": [],
   "source": [
    "df.to_pickle('02012019.pkl')"
   ]
  },
  {
   "cell_type": "code",
   "execution_count": null,
   "metadata": {},
   "outputs": [],
   "source": [
    "len(items_set)"
   ]
  },
  {
   "cell_type": "code",
   "execution_count": null,
   "metadata": {},
   "outputs": [],
   "source": [
    "trans = []\n",
    "for a in df[1:2]['items']:\n",
    "    #trans.append([r for v in a for r in v])\n",
    "    trans.append(a)\n",
    "print(a)"
   ]
  },
  {
   "cell_type": "code",
   "execution_count": null,
   "metadata": {},
   "outputs": [],
   "source": [
    "trans =[]\n",
    "for l in [i for i in df[1:2]['items']]:\n",
    "    print (l)\n",
    "    trans.append(l)\n",
    "    print (trans)"
   ]
  },
  {
   "cell_type": "code",
   "execution_count": null,
   "metadata": {},
   "outputs": [],
   "source": [
    "#pd.get_dummies([i for i in df[1:2]['items']]).values()"
   ]
  },
  {
   "cell_type": "code",
   "execution_count": null,
   "metadata": {},
   "outputs": [],
   "source": [
    "\n",
    "type(df['items'].values)\n",
    "count=0\n",
    "for document in df['items'][1]:\n",
    "    print (document)\n",
    "    \n",
    "    for word in(document):\n",
    "        count+=1\n",
    "        print (count,word)\n",
    "        '''for letter in str(word):\n",
    "            print (letter)'''"
   ]
  },
  {
   "cell_type": "code",
   "execution_count": null,
   "metadata": {},
   "outputs": [],
   "source": [
    "df[['gross+','time']].plot()\n",
    "plt.show()"
   ]
  },
  {
   "cell_type": "code",
   "execution_count": null,
   "metadata": {},
   "outputs": [],
   "source": [
    "ff= './tlogs/201902'\n",
    "if ff.startswith(\"./tlogs\"):\n",
    "    print (\"yep\")"
   ]
  },
  {
   "cell_type": "code",
   "execution_count": null,
   "metadata": {},
   "outputs": [],
   "source": [
    "for f in os.walk('./tlogs'): print (\"f:\",f,\"sub:\",sub)\n"
   ]
  },
  {
   "cell_type": "code",
   "execution_count": null,
   "metadata": {},
   "outputs": [],
   "source": [
    "import os\n",
    "\n",
    "for subdir, dirs, files in os.walk(rootdir):\n",
    "    for file in files:\n",
    "        #print os.path.join(subdir, file)\n",
    "        filepath = subdir + os.sep + file\n",
    "\n",
    "        if filepath.endswith(\".asm\"):\n",
    "            print (filepath)"
   ]
  },
  {
   "cell_type": "code",
   "execution_count": null,
   "metadata": {},
   "outputs": [],
   "source": [
    "df=pd.read_pickle('02012019.pkl')"
   ]
  },
  {
   "cell_type": "code",
   "execution_count": null,
   "metadata": {},
   "outputs": [],
   "source": [
    "df[df['BANANAS']!=0]"
   ]
  },
  {
   "cell_type": "code",
   "execution_count": null,
   "metadata": {},
   "outputs": [],
   "source": [
    "df.columns"
   ]
  },
  {
   "cell_type": "code",
   "execution_count": null,
   "metadata": {
    "scrolled": true
   },
   "outputs": [],
   "source": [
    "plt.scatter(x=df['time'],y=df['gross+'])"
   ]
  },
  {
   "cell_type": "code",
   "execution_count": null,
   "metadata": {},
   "outputs": [],
   "source": [
    "df.type='Va'"
   ]
  },
  {
   "cell_type": "code",
   "execution_count": null,
   "metadata": {},
   "outputs": [],
   "source": [
    "def get_dataframe(filepath):\n",
    "\n",
    "    all_files = glob.glob(os.path.join(filepath, \"*.json\"))\n",
    "    df = pd.concat((pd.read_json(f,keep_default_dates=False,lines=True) for f in all_files)) \n",
    "    df=df[df['term']<10]\n",
    "    df['date']=pd.to_datetime(df['date'],yearfirst=True)\n",
    "    df['day_of_week']=df['date'].dt.day_name()\n",
    "    df['month']=df['date'].dt.month\n",
    "    return df"
   ]
  },
  {
   "cell_type": "code",
   "execution_count": null,
   "metadata": {
    "scrolled": true
   },
   "outputs": [],
   "source": [
    "path = '/Users/Sarah/galvanize/dsi-capstone/jsons/201802/'\n",
    "df = get_dataframe(path)"
   ]
  },
  {
   "cell_type": "code",
   "execution_count": null,
   "metadata": {},
   "outputs": [],
   "source": [
    "all_files =[]\n",
    "for f in range(0,366):\n",
    "    all_files.append(path+\"%d.json\"%f)\n",
    "print (all_files)"
   ]
  },
  {
   "cell_type": "code",
   "execution_count": null,
   "metadata": {},
   "outputs": [],
   "source": [
    "import pandas as pd \n",
    "df = pd.concat((pd.read_json(f,keep_default_dates=False,lines=True) for f in all_files)) "
   ]
  },
  {
   "cell_type": "code",
   "execution_count": null,
   "metadata": {},
   "outputs": [],
   "source": [
    "df.info()"
   ]
  },
  {
   "cell_type": "code",
   "execution_count": null,
   "metadata": {},
   "outputs": [],
   "source": [
    "plt.scatter(dfq1['item_count'],dfq1['term'])"
   ]
  },
  {
   "cell_type": "code",
   "execution_count": null,
   "metadata": {},
   "outputs": [],
   "source": []
  }
 ],
 "metadata": {
  "kernelspec": {
   "display_name": "Python 3",
   "language": "python",
   "name": "python3"
  },
  "language_info": {
   "codemirror_mode": {
    "name": "ipython",
    "version": 3
   },
   "file_extension": ".py",
   "mimetype": "text/x-python",
   "name": "python",
   "nbconvert_exporter": "python",
   "pygments_lexer": "ipython3",
   "version": "3.6.8"
  }
 },
 "nbformat": 4,
 "nbformat_minor": 2
}
