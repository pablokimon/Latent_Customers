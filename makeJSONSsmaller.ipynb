{
 "cells": [
  {
   "cell_type": "code",
   "execution_count": 80,
   "metadata": {},
   "outputs": [],
   "source": [
    "import re\n",
    "import json\n",
    "\n",
    "def pos_float(s):\n",
    "    #print (s)\n",
    "    if s[-1]==\"-\":\n",
    "        return -float(s[:-1])\n",
    "    elif s[-1]=='+':\n",
    "        return float(s[:-1])\n",
    "    else:\n",
    "        return float(s)\n",
    "\n",
    "def parse_entry(entry):\n",
    "    header_re = r\"\\s+DATE\\s+TIME\\s+TERM\\s+TRANS\\s+OPER\\s+GROSS\\+\\s+GROSS-\\s+NET\\s+TRAN TYPE\\s+(\\S+)\\s+(\\S+)\\s+(\\S+)\\s+(\\S+)\\s+(\\S+)\\s+(\\S+)\\s+(\\S+)\\s+(\\S+)\\s+(\\S+)\\s+\"\n",
    "    match = re.search(header_re, entry)\n",
    "    if match is None:\n",
    "        return None\n",
    "    transinfo = match.groups()\n",
    "    if transinfo[8]!='Checkout':\n",
    "        return None\n",
    "    item_re = r\"^( \\w+)?\\s+(([\\w\\-\\+/%]+ ?)+)\\s+(\\d+\\.\\d+-?)\\s+Dept\\s+(\\d+)\"\n",
    "    items = re.findall( item_re, entry, flags=re.MULTILINE )\n",
    "    account_re = r\"\\s[Account]+\\s+\\d+$\"\n",
    "    account = re.findall(account_re,entry,flags=re.MULTILINE )\n",
    "    \n",
    "    ret = {'date':transinfo[0],\n",
    "           'time':transinfo[1],\n",
    "           'term':int(transinfo[2]),\n",
    "           'trans':int(transinfo[3]),\n",
    "           'oper':int(transinfo[4]),\n",
    "           'gross+':pos_float(transinfo[5]),\n",
    "           'gross-':pos_float(transinfo[6]),\n",
    "           'net':pos_float(transinfo[7]),\n",
    "           'type':transinfo[8],\n",
    "          'account':account}\n",
    "    \n",
    "    items = [(x[0].strip(), x[1].strip(), pos_float(x[3]), int(x[4])) for x in items]\n",
    "    \n",
    "    ret['items'] = items\n",
    "    \n",
    "    return ret\n",
    "\n",
    "def parse_transaction_file(fn):\n",
    "    raw = open(fn, encoding=\"latin1\").read()\n",
    "    \n",
    "    \n",
    "    # remove page headers\n",
    "    headerre = re.compile( r\" +Auto Report: (\\b.*)\\s+Entry: (\\b.*)\\s+TRANSACTION SUMMARY LOG REPORT  - STORE\\s+(.+)\\s+PREVIOUS PERIOD - (\\S+)\\s+Reported at:\\s+(\\S+ \\S+)\\s+\",\n",
    "                     flags=re.MULTILINE)\n",
    "    headerless, ct = re.subn(headerre, \"\", raw)\n",
    "    \n",
    "    # remove page footers\n",
    "    pageless, ct = re.subn(r'\\n +Page \\d+.*\\n', \"\\n\", headerless)\n",
    "    \n",
    "    # split at ======\n",
    "    entries = re.split(r\"\\n=+\\n\", pageless)\n",
    "    \n",
    "    trans = []\n",
    "    for i, entry in enumerate( entries ):\n",
    "        x = parse_entry(entry)\n",
    "        if x is not None: trans.append(x)\n",
    "            \n",
    "    return trans\n",
    "\n",
    "def pos_to_json(fn_in, fn_out):\n",
    "    trns = parse_transaction_file(fn_in)\n",
    "    \n",
    "    fpout = open(fn_out,\"w\")\n",
    "    for trn in trns:\n",
    "        fpout.write( json.dumps(trn) )\n",
    "        fpout.write(\"\\n\")\n",
    "    fpout.close()"
   ]
  },
  {
   "cell_type": "code",
   "execution_count": 81,
   "metadata": {},
   "outputs": [],
   "source": [
    "import os\n",
    "\n",
    "for subdir, dirs, files in os.walk('./tlogs'):\n",
    "    for file in files:\n",
    "        #print os.path.join(subdir, file)\n",
    "        filepath = subdir + os.sep + file\n",
    "\n",
    "        if filepath.endswith(\"*log.txt\"):\n",
    "            pass\n",
    "            #print (filepath)"
   ]
  },
  {
   "cell_type": "code",
   "execution_count": 82,
   "metadata": {},
   "outputs": [
    {
     "data": {
      "text/plain": [
       "<generator object walk at 0x10a19cbf8>"
      ]
     },
     "execution_count": 82,
     "metadata": {},
     "output_type": "execute_result"
    }
   ],
   "source": [
    "(os.walk('./tlogs'))"
   ]
  },
  {
   "cell_type": "code",
   "execution_count": 83,
   "metadata": {},
   "outputs": [],
   "source": [
    "for i,f in enumerate(os.walk('./tlogs/201902')):\n",
    "    #print (i,f)\n",
    "    for ff in f:\n",
    "        #print(\"ff:\",ff)\n",
    "        if type(ff)!='list':\n",
    "            if str(ff).startswith('./tlogs/'):\n",
    "                path = ff\n",
    "        for fff in ff:\n",
    "            #print(\"fff:\",fff)\n",
    "            if fff==\"transactionlog.txt\":\n",
    "                pos_to_json(path+'/'+fff,'./jsons/account/%d.json'%i)"
   ]
  },
  {
   "cell_type": "code",
   "execution_count": null,
   "metadata": {},
   "outputs": [],
   "source": []
  },
  {
   "cell_type": "code",
   "execution_count": null,
   "metadata": {},
   "outputs": [],
   "source": []
  }
 ],
 "metadata": {
  "kernelspec": {
   "display_name": "Python 3",
   "language": "python",
   "name": "python3"
  },
  "language_info": {
   "codemirror_mode": {
    "name": "ipython",
    "version": 3
   },
   "file_extension": ".py",
   "mimetype": "text/x-python",
   "name": "python",
   "nbconvert_exporter": "python",
   "pygments_lexer": "ipython3",
   "version": "3.6.8"
  }
 },
 "nbformat": 4,
 "nbformat_minor": 2
}
