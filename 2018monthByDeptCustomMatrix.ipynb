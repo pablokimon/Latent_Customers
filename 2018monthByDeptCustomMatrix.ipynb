{
 "cells": [
  {
   "cell_type": "code",
   "execution_count": 1,
   "metadata": {},
   "outputs": [],
   "source": [
    "import pandas as pd\n",
    "import numpy as np\n",
    "from scipy import sparse\n",
    "from os import path\n",
    "from PIL import Image\n",
    "from wordcloud import WordCloud, STOPWORDS, ImageColorGenerator\n",
    "from collections import Counter, defaultdict\n",
    "import matplotlib.pyplot as plt\n",
    "%matplotlib inline\n",
    "from sklearn import decomposition, datasets, model_selection, preprocessing, metrics\n",
    "import src.rainbow\n",
    "import os\n",
    "import glob\n",
    "import pickle\n",
    "import time\n"
   ]
  },
  {
   "cell_type": "code",
   "execution_count": 114,
   "metadata": {},
   "outputs": [
    {
     "data": {
      "application/javascript": [
       "IPython.OutputArea.prototype._should_scroll = function(lines) {\n",
       "    return false;\n",
       "}\n"
      ],
      "text/plain": [
       "<IPython.core.display.Javascript object>"
      ]
     },
     "metadata": {},
     "output_type": "display_data"
    }
   ],
   "source": [
    "%%javascript\n",
    "IPython.OutputArea.prototype._should_scroll = function(lines) {\n",
    "    return false;\n",
    "}"
   ]
  },
  {
   "cell_type": "code",
   "execution_count": null,
   "metadata": {},
   "outputs": [],
   "source": []
  },
  {
   "cell_type": "markdown",
   "metadata": {},
   "source": [
    "## Import the jsonified transactions into a dataframe"
   ]
  },
  {
   "cell_type": "code",
   "execution_count": 2,
   "metadata": {},
   "outputs": [],
   "source": [
    "path = '/Users/Sarah/galvanize/dsi-capstone/jsons/2018/'\n",
    "all_files = glob.glob(os.path.join(path, \"*.json\"))"
   ]
  },
  {
   "cell_type": "code",
   "execution_count": 3,
   "metadata": {},
   "outputs": [],
   "source": [
    "df = pd.concat((pd.read_json(f,keep_default_dates=False,lines=True) for f in all_files)) "
   ]
  },
  {
   "cell_type": "code",
   "execution_count": 4,
   "metadata": {
    "scrolled": true
   },
   "outputs": [
    {
     "name": "stdout",
     "output_type": "stream",
     "text": [
      "Checkout\n"
     ]
    }
   ],
   "source": [
    "for types in df.type.unique():\n",
    "    print(types)    "
   ]
  },
  {
   "cell_type": "code",
   "execution_count": 5,
   "metadata": {},
   "outputs": [],
   "source": [
    "df=df[df['type']=='Checkout']"
   ]
  },
  {
   "cell_type": "code",
   "execution_count": 6,
   "metadata": {},
   "outputs": [
    {
     "name": "stdout",
     "output_type": "stream",
     "text": [
      "terminals (registers): [11  8 10  2  3  7  6  1  9  5  4 13]\n"
     ]
    }
   ],
   "source": [
    "print(\"terminals (registers):\",df.term.unique())"
   ]
  },
  {
   "cell_type": "markdown",
   "metadata": {},
   "source": [
    "Drop transactions from register other than 1-9. Register 10 is the customer service desk returns register. Register 11 is the worker self checkout register."
   ]
  },
  {
   "cell_type": "code",
   "execution_count": 7,
   "metadata": {},
   "outputs": [],
   "source": [
    "df=df[df['term']<10]"
   ]
  },
  {
   "cell_type": "code",
   "execution_count": 8,
   "metadata": {
    "scrolled": true
   },
   "outputs": [
    {
     "name": "stdout",
     "output_type": "stream",
     "text": [
      "<class 'pandas.core.frame.DataFrame'>\n",
      "Int64Index: 831284 entries, 5 to 2824\n",
      "Data columns (total 10 columns):\n",
      "date      831284 non-null object\n",
      "gross+    831284 non-null float64\n",
      "gross-    831284 non-null float64\n",
      "items     831284 non-null object\n",
      "net       831284 non-null float64\n",
      "oper      831284 non-null int64\n",
      "term      831284 non-null int64\n",
      "time      831284 non-null object\n",
      "trans     831284 non-null int64\n",
      "type      831284 non-null object\n",
      "dtypes: float64(3), int64(3), object(4)\n",
      "memory usage: 69.8+ MB\n"
     ]
    }
   ],
   "source": [
    "df.info()"
   ]
  },
  {
   "cell_type": "code",
   "execution_count": 8,
   "metadata": {},
   "outputs": [],
   "source": [
    "df['date']=pd.to_datetime(df['date'],yearfirst=True)"
   ]
  },
  {
   "cell_type": "code",
   "execution_count": 9,
   "metadata": {},
   "outputs": [],
   "source": [
    "df['day_of_week']=df['date'].dt.day_name()\n",
    "df['month']=df['date'].dt.month"
   ]
  },
  {
   "cell_type": "code",
   "execution_count": 10,
   "metadata": {},
   "outputs": [],
   "source": [
    "pickle.dump(df,open('./pickles/df2018.p','wb'))"
   ]
  },
  {
   "cell_type": "code",
   "execution_count": 9,
   "metadata": {},
   "outputs": [],
   "source": [
    "df = pickle.load(open('./pickles/df2018.p','rb'))"
   ]
  },
  {
   "cell_type": "code",
   "execution_count": 3,
   "metadata": {},
   "outputs": [
    {
     "name": "stdout",
     "output_type": "stream",
     "text": [
      "<class 'pandas.core.frame.DataFrame'>\n",
      "Int64Index: 831284 entries, 5 to 2824\n",
      "Data columns (total 12 columns):\n",
      "date           831284 non-null datetime64[ns]\n",
      "gross+         831284 non-null float64\n",
      "gross-         831284 non-null float64\n",
      "items          831284 non-null object\n",
      "net            831284 non-null float64\n",
      "oper           831284 non-null int64\n",
      "term           831284 non-null int64\n",
      "time           831284 non-null object\n",
      "trans          831284 non-null int64\n",
      "type           831284 non-null object\n",
      "day_of_week    831284 non-null object\n",
      "month          831284 non-null int64\n",
      "dtypes: datetime64[ns](1), float64(3), int64(4), object(4)\n",
      "memory usage: 82.4+ MB\n"
     ]
    }
   ],
   "source": [
    "df.info()"
   ]
  },
  {
   "cell_type": "code",
   "execution_count": 13,
   "metadata": {},
   "outputs": [],
   "source": [
    "#quarter1 = df[(df['month']>=1) & (df['month']<=3)]"
   ]
  },
  {
   "cell_type": "markdown",
   "metadata": {},
   "source": [
    "## Import just one day into a dataframe "
   ]
  },
  {
   "cell_type": "code",
   "execution_count": 14,
   "metadata": {},
   "outputs": [],
   "source": [
    "#df=pd.read_json('./jsons/1.json',keep_default_dates=False,lines=True)"
   ]
  },
  {
   "cell_type": "code",
   "execution_count": 15,
   "metadata": {},
   "outputs": [
    {
     "name": "stdout",
     "output_type": "stream",
     "text": [
      "<class 'pandas.core.frame.DataFrame'>\n",
      "Int64Index: 831284 entries, 5 to 2824\n",
      "Data columns (total 12 columns):\n",
      "date           831284 non-null datetime64[ns]\n",
      "gross+         831284 non-null float64\n",
      "gross-         831284 non-null float64\n",
      "items          831284 non-null object\n",
      "net            831284 non-null float64\n",
      "oper           831284 non-null int64\n",
      "term           831284 non-null int64\n",
      "time           831284 non-null object\n",
      "trans          831284 non-null int64\n",
      "type           831284 non-null object\n",
      "day_of_week    831284 non-null object\n",
      "month          831284 non-null int64\n",
      "dtypes: datetime64[ns](1), float64(3), int64(4), object(4)\n",
      "memory usage: 82.4+ MB\n"
     ]
    }
   ],
   "source": [
    "df.info()"
   ]
  },
  {
   "cell_type": "code",
   "execution_count": 70,
   "metadata": {},
   "outputs": [
    {
     "name": "stdout",
     "output_type": "stream",
     "text": [
      "<class 'list'>\n"
     ]
    }
   ],
   "source": [
    "def get_items(df,most_common=10,least_common=5):\n",
    "    df['total_of_items'] = 0\n",
    "    stoppers = ['BAG CREDIT','SF Bag Charge','Gift Card Reload','8 OZ BIO TUB t3', '16OZ BIO TUB t4',\n",
    "                 '32OZ BIO TUB t5','BOTTLE DEPOSIT','6PACK BEER SMALL C','PAID IN','Gift Card Sale','PACKAGED FOOD', ]  \n",
    "    '''build a dictionary where the keys are the words\n",
    "    in the dataframe items column'''\n",
    "    \n",
    "    items=[]\n",
    "    item_dict = defaultdict(int)\n",
    "    basket_counts=[]\n",
    "    \n",
    "    for basket in df['items']:\n",
    "        basket_counts.append(len(basket))\n",
    "        for item in basket:\n",
    "            \n",
    "            items.append(item[1])\n",
    "            item_dict[item[1]] += 1\n",
    "    \n",
    "    items_set=set(items)\n",
    "\n",
    "    \n",
    "    '''add the most common words to the stopwords list'''\n",
    "    stopwords=list([i[0] for i in Counter(item_dict).most_common(most_common)])\n",
    "    \n",
    "    for s in stoppers:\n",
    "        stopwords.append(s)\n",
    "        \n",
    "    '''add items containing \"CRV\" to the stopwords list'''\n",
    "    for item in items_set:\n",
    "        if \"crv\" in item.lower():\n",
    "            stopwords.append(item)\n",
    "    \n",
    "    '''add the least common words to the stopwords list'''\n",
    "    for key,value in item_dict.items():\n",
    "        if value < least_common:\n",
    "            stopwords.append(key)\n",
    "    print(type(stopwords) )  \n",
    "    stopwords = set(stopwords)\n",
    "    \n",
    "    '''iterate through the baskets and add items to items_set\n",
    "    if not in stopwords (too common or too uncommon)'''\n",
    "    for stops in stopwords:\n",
    "        items_set.remove(stops)\n",
    "  \n",
    "\n",
    "    return items_set,stopwords, item_dict, basket_counts\n",
    "\n",
    "items_set,stopwords,item_dict, basket_counts = get_items(df,most_common=5,least_common=150)"
   ]
  },
  {
   "cell_type": "code",
   "execution_count": 71,
   "metadata": {},
   "outputs": [
    {
     "data": {
      "text/plain": [
       "[('BAG CREDIT', 492884),\n",
       " ('SF Bag Charge', 144796),\n",
       " ('SMALL COOLER CRV', 136438),\n",
       " ('BANANAS', 95544),\n",
       " ('AVOCADOS HASS', 76003),\n",
       " ('ONIONS YELLOW', 61469),\n",
       " ('8 OZ BIO TUB t3', 50314),\n",
       " ('APPLES FUJI', 46601),\n",
       " ('GARLIC WHITE', 44169),\n",
       " ('CRV LRG SING NOTAX', 43423),\n",
       " ('CRV SMALL NO TAX', 40854),\n",
       " ('CRV SMALL SING T', 38122),\n",
       " ('LEMONS', 37909),\n",
       " ('LARGE COOLER CRV', 36818),\n",
       " ('PEPPERS RED BELL', 35455),\n",
       " ('16OZ BIO TUB t4', 33923),\n",
       " ('CELERY', 33737),\n",
       " ('KALE DINO', 32089),\n",
       " ('BOTTLE DEPOSIT', 31374),\n",
       " ('CARROTS LOOSE', 31286),\n",
       " ('SQUASH ZUCCHINI', 31191),\n",
       " ('ONIONS RED', 30458),\n",
       " ('CRV LRG SING T', 29929),\n",
       " ('CILANTRO', 29848),\n",
       " ('GINGER', 29740),\n",
       " ('CARROTS BUNCH', 27666),\n",
       " ('LIMES', 25607),\n",
       " ('CUCUMBERS', 24660),\n",
       " ('BAGEL', 24172),\n",
       " ('BROCCOLI LOOSE', 24144),\n",
       " ('ONIONS GREEN', 23789),\n",
       " ('1lb STRAWBERRY', 23581),\n",
       " ('PEPPER CHILI', 22860),\n",
       " ('SPINACH LOOSE', 22728),\n",
       " ('BEER SMALL CRV', 22597),\n",
       " ('MUSHROOM CRIMINI', 22147),\n",
       " ('PARSLEY ITALIAN', 21058),\n",
       " ('BEANS GREEN', 21016),\n",
       " ('LETTUCE SALAD MIX', 20197),\n",
       " ('CORN', 19476),\n",
       " ('POTATOES GARNET', 19175),\n",
       " ('TOMATO DRY FARM', 19088),\n",
       " ('ARUGULA LOOSE', 19050),\n",
       " ('5290 WALNUTS', 18309),\n",
       " ('ORANGES NAVEL', 17552),\n",
       " ('HERBS BUNCH', 17283),\n",
       " ('CUKE MEDIT/PERSIAN', 17145),\n",
       " ('TOMATO MIX HEIRLOO', 17060),\n",
       " ('POTATOES YELLOW', 17033),\n",
       " ('REFRIGERATED', 16868)]"
      ]
     },
     "execution_count": 71,
     "metadata": {},
     "output_type": "execute_result"
    }
   ],
   "source": [
    "Counter(item_dict).most_common(50)"
   ]
  },
  {
   "cell_type": "code",
   "execution_count": 72,
   "metadata": {},
   "outputs": [
    {
     "data": {
      "text/plain": [
       "7555"
      ]
     },
     "execution_count": 72,
     "metadata": {},
     "output_type": "execute_result"
    }
   ],
   "source": [
    "len(items_set)"
   ]
  },
  {
   "cell_type": "code",
   "execution_count": 73,
   "metadata": {},
   "outputs": [],
   "source": [
    "df['item_count']=basket_counts"
   ]
  },
  {
   "cell_type": "code",
   "execution_count": 74,
   "metadata": {},
   "outputs": [],
   "source": [
    "percentile = np.percentile(basket_counts, [25, 50, 75])\n",
    "q1=percentile[0]\n",
    "q2=percentile[1]\n",
    "q3=percentile[2]"
   ]
  },
  {
   "cell_type": "code",
   "execution_count": 75,
   "metadata": {},
   "outputs": [
    {
     "data": {
      "text/plain": [
       "(13.0, 18.0, 26.0)"
      ]
     },
     "execution_count": 75,
     "metadata": {},
     "output_type": "execute_result"
    }
   ],
   "source": [
    "q1,q2,q3"
   ]
  },
  {
   "cell_type": "code",
   "execution_count": 118,
   "metadata": {},
   "outputs": [],
   "source": [
    "dfq1=df[(df['item_count']<=q1)]\n",
    "dfq2=df[(df['item_count']>q1 )& (df['item_count']<=q2)]\n",
    "dfq3=df[(df['item_count']>q2 )& (df['item_count']<=q3)]\n",
    "dfq4=df[df['item_count']>q3]\n",
    "df_avg=df[(df['item_count']>=10 )& (df['item_count']<=12)]"
   ]
  },
  {
   "cell_type": "code",
   "execution_count": 76,
   "metadata": {},
   "outputs": [],
   "source": [
    "df = df[df['item_count']>q2]"
   ]
  },
  {
   "cell_type": "code",
   "execution_count": 77,
   "metadata": {},
   "outputs": [
    {
     "data": {
      "text/plain": [
       "251"
      ]
     },
     "execution_count": 77,
     "metadata": {},
     "output_type": "execute_result"
    }
   ],
   "source": [
    "df['item_count'].max()"
   ]
  },
  {
   "cell_type": "code",
   "execution_count": 78,
   "metadata": {},
   "outputs": [],
   "source": [
    "item_matrix = np.zeros((df.shape[0],len(items_set)))"
   ]
  },
  {
   "cell_type": "code",
   "execution_count": 79,
   "metadata": {},
   "outputs": [],
   "source": [
    "df_items= pd.DataFrame(item_matrix,columns=items_set)"
   ]
  },
  {
   "cell_type": "code",
   "execution_count": 80,
   "metadata": {},
   "outputs": [
    {
     "data": {
      "text/plain": [
       "Int64Index([     1,      4,      6,      7,      9,     12,     13,     15,\n",
       "                16,     17,\n",
       "            ...\n",
       "            393239, 393241, 393243, 393245, 393247, 393248, 393250, 393251,\n",
       "            393252, 393255],\n",
       "           dtype='int64', length=185214)"
      ]
     },
     "execution_count": 80,
     "metadata": {},
     "output_type": "execute_result"
    }
   ],
   "source": [
    "df.index"
   ]
  },
  {
   "cell_type": "code",
   "execution_count": 81,
   "metadata": {},
   "outputs": [],
   "source": [
    "df=df.reset_index()"
   ]
  },
  {
   "cell_type": "code",
   "execution_count": 82,
   "metadata": {},
   "outputs": [
    {
     "data": {
      "text/plain": [
       "RangeIndex(start=0, stop=185214, step=1)"
      ]
     },
     "execution_count": 82,
     "metadata": {},
     "output_type": "execute_result"
    }
   ],
   "source": [
    "df.index"
   ]
  },
  {
   "cell_type": "code",
   "execution_count": 83,
   "metadata": {},
   "outputs": [
    {
     "data": {
      "text/html": [
       "<div>\n",
       "<style scoped>\n",
       "    .dataframe tbody tr th:only-of-type {\n",
       "        vertical-align: middle;\n",
       "    }\n",
       "\n",
       "    .dataframe tbody tr th {\n",
       "        vertical-align: top;\n",
       "    }\n",
       "\n",
       "    .dataframe thead th {\n",
       "        text-align: right;\n",
       "    }\n",
       "</style>\n",
       "<table border=\"1\" class=\"dataframe\">\n",
       "  <thead>\n",
       "    <tr style=\"text-align: right;\">\n",
       "      <th></th>\n",
       "      <th>index</th>\n",
       "      <th>gross+</th>\n",
       "      <th>gross-</th>\n",
       "      <th>net</th>\n",
       "      <th>oper</th>\n",
       "      <th>term</th>\n",
       "      <th>trans</th>\n",
       "      <th>month</th>\n",
       "      <th>total_of_items</th>\n",
       "      <th>item_count</th>\n",
       "    </tr>\n",
       "  </thead>\n",
       "  <tbody>\n",
       "    <tr>\n",
       "      <th>count</th>\n",
       "      <td>185214.000000</td>\n",
       "      <td>185214.000000</td>\n",
       "      <td>185214.000000</td>\n",
       "      <td>185214.000000</td>\n",
       "      <td>185214.000000</td>\n",
       "      <td>185214.000000</td>\n",
       "      <td>185214.000000</td>\n",
       "      <td>185214.000000</td>\n",
       "      <td>185214.0</td>\n",
       "      <td>185214.000000</td>\n",
       "    </tr>\n",
       "    <tr>\n",
       "      <th>mean</th>\n",
       "      <td>197525.035073</td>\n",
       "      <td>155.646991</td>\n",
       "      <td>4.901981</td>\n",
       "      <td>150.745398</td>\n",
       "      <td>54.480887</td>\n",
       "      <td>5.081074</td>\n",
       "      <td>140.583363</td>\n",
       "      <td>6.541034</td>\n",
       "      <td>0.0</td>\n",
       "      <td>31.048182</td>\n",
       "    </tr>\n",
       "    <tr>\n",
       "      <th>std</th>\n",
       "      <td>113700.136494</td>\n",
       "      <td>296.916066</td>\n",
       "      <td>281.347688</td>\n",
       "      <td>93.517499</td>\n",
       "      <td>27.106113</td>\n",
       "      <td>2.128491</td>\n",
       "      <td>89.763352</td>\n",
       "      <td>3.489264</td>\n",
       "      <td>0.0</td>\n",
       "      <td>12.689842</td>\n",
       "    </tr>\n",
       "    <tr>\n",
       "      <th>min</th>\n",
       "      <td>1.000000</td>\n",
       "      <td>0.000000</td>\n",
       "      <td>0.000000</td>\n",
       "      <td>-481.450000</td>\n",
       "      <td>6.000000</td>\n",
       "      <td>1.000000</td>\n",
       "      <td>1.000000</td>\n",
       "      <td>1.000000</td>\n",
       "      <td>0.0</td>\n",
       "      <td>19.000000</td>\n",
       "    </tr>\n",
       "    <tr>\n",
       "      <th>25%</th>\n",
       "      <td>98822.250000</td>\n",
       "      <td>92.690000</td>\n",
       "      <td>0.000000</td>\n",
       "      <td>91.010000</td>\n",
       "      <td>27.000000</td>\n",
       "      <td>3.000000</td>\n",
       "      <td>64.000000</td>\n",
       "      <td>3.000000</td>\n",
       "      <td>0.0</td>\n",
       "      <td>22.000000</td>\n",
       "    </tr>\n",
       "    <tr>\n",
       "      <th>50%</th>\n",
       "      <td>198165.500000</td>\n",
       "      <td>130.320000</td>\n",
       "      <td>0.000000</td>\n",
       "      <td>128.190000</td>\n",
       "      <td>57.000000</td>\n",
       "      <td>5.000000</td>\n",
       "      <td>132.000000</td>\n",
       "      <td>7.000000</td>\n",
       "      <td>0.0</td>\n",
       "      <td>27.000000</td>\n",
       "    </tr>\n",
       "    <tr>\n",
       "      <th>75%</th>\n",
       "      <td>296066.750000</td>\n",
       "      <td>187.180000</td>\n",
       "      <td>1.240000</td>\n",
       "      <td>184.070000</td>\n",
       "      <td>79.000000</td>\n",
       "      <td>7.000000</td>\n",
       "      <td>207.000000</td>\n",
       "      <td>10.000000</td>\n",
       "      <td>0.0</td>\n",
       "      <td>36.000000</td>\n",
       "    </tr>\n",
       "    <tr>\n",
       "      <th>max</th>\n",
       "      <td>393255.000000</td>\n",
       "      <td>86643.090000</td>\n",
       "      <td>86502.310000</td>\n",
       "      <td>3727.590000</td>\n",
       "      <td>110.000000</td>\n",
       "      <td>9.000000</td>\n",
       "      <td>637.000000</td>\n",
       "      <td>12.000000</td>\n",
       "      <td>0.0</td>\n",
       "      <td>251.000000</td>\n",
       "    </tr>\n",
       "  </tbody>\n",
       "</table>\n",
       "</div>"
      ],
      "text/plain": [
       "               index         gross+         gross-            net  \\\n",
       "count  185214.000000  185214.000000  185214.000000  185214.000000   \n",
       "mean   197525.035073     155.646991       4.901981     150.745398   \n",
       "std    113700.136494     296.916066     281.347688      93.517499   \n",
       "min         1.000000       0.000000       0.000000    -481.450000   \n",
       "25%     98822.250000      92.690000       0.000000      91.010000   \n",
       "50%    198165.500000     130.320000       0.000000     128.190000   \n",
       "75%    296066.750000     187.180000       1.240000     184.070000   \n",
       "max    393255.000000   86643.090000   86502.310000    3727.590000   \n",
       "\n",
       "                oper           term          trans          month  \\\n",
       "count  185214.000000  185214.000000  185214.000000  185214.000000   \n",
       "mean       54.480887       5.081074     140.583363       6.541034   \n",
       "std        27.106113       2.128491      89.763352       3.489264   \n",
       "min         6.000000       1.000000       1.000000       1.000000   \n",
       "25%        27.000000       3.000000      64.000000       3.000000   \n",
       "50%        57.000000       5.000000     132.000000       7.000000   \n",
       "75%        79.000000       7.000000     207.000000      10.000000   \n",
       "max       110.000000       9.000000     637.000000      12.000000   \n",
       "\n",
       "       total_of_items     item_count  \n",
       "count        185214.0  185214.000000  \n",
       "mean              0.0      31.048182  \n",
       "std               0.0      12.689842  \n",
       "min               0.0      19.000000  \n",
       "25%               0.0      22.000000  \n",
       "50%               0.0      27.000000  \n",
       "75%               0.0      36.000000  \n",
       "max               0.0     251.000000  "
      ]
     },
     "execution_count": 83,
     "metadata": {},
     "output_type": "execute_result"
    }
   ],
   "source": [
    "df.describe()"
   ]
  },
  {
   "cell_type": "code",
   "execution_count": 84,
   "metadata": {},
   "outputs": [
    {
     "name": "stdout",
     "output_type": "stream",
     "text": [
      "\n"
     ]
    }
   ],
   "source": [
    "df.pop('index')\n",
    "print ()"
   ]
  },
  {
   "cell_type": "code",
   "execution_count": 85,
   "metadata": {},
   "outputs": [
    {
     "name": "stdout",
     "output_type": "stream",
     "text": [
      "<class 'pandas.core.frame.DataFrame'>\n",
      "RangeIndex: 185214 entries, 0 to 185213\n",
      "Data columns (total 14 columns):\n",
      "date              185214 non-null datetime64[ns]\n",
      "gross+            185214 non-null float64\n",
      "gross-            185214 non-null float64\n",
      "items             185214 non-null object\n",
      "net               185214 non-null float64\n",
      "oper              185214 non-null int64\n",
      "term              185214 non-null int64\n",
      "time              185214 non-null object\n",
      "trans             185214 non-null int64\n",
      "type              185214 non-null object\n",
      "day_of_week       185214 non-null object\n",
      "month             185214 non-null int64\n",
      "total_of_items    185214 non-null int64\n",
      "item_count        185214 non-null int64\n",
      "dtypes: datetime64[ns](1), float64(3), int64(6), object(4)\n",
      "memory usage: 19.8+ MB\n"
     ]
    }
   ],
   "source": [
    "\n",
    "df.info()"
   ]
  },
  {
   "cell_type": "code",
   "execution_count": 86,
   "metadata": {},
   "outputs": [
    {
     "data": {
      "text/plain": [
       "RangeIndex(start=0, stop=185214, step=1)"
      ]
     },
     "execution_count": 86,
     "metadata": {},
     "output_type": "execute_result"
    }
   ],
   "source": [
    "df.iloc[:,0].index\n"
   ]
  },
  {
   "cell_type": "code",
   "execution_count": 87,
   "metadata": {},
   "outputs": [
    {
     "data": {
      "text/plain": [
       "RangeIndex(start=0, stop=185214, step=1)"
      ]
     },
     "execution_count": 87,
     "metadata": {},
     "output_type": "execute_result"
    }
   ],
   "source": [
    "df_items.iloc[:,0].index"
   ]
  },
  {
   "cell_type": "code",
   "execution_count": 88,
   "metadata": {},
   "outputs": [],
   "source": [
    "col_index_dict = dict(zip(items_set, range(len(items_set))))"
   ]
  },
  {
   "cell_type": "code",
   "execution_count": 89,
   "metadata": {},
   "outputs": [],
   "source": [
    "#col_index_dict"
   ]
  },
  {
   "cell_type": "code",
   "execution_count": 90,
   "metadata": {},
   "outputs": [
    {
     "data": {
      "text/plain": [
       "(185214, 7555)"
      ]
     },
     "execution_count": 90,
     "metadata": {},
     "output_type": "execute_result"
    }
   ],
   "source": [
    "matrix = np.zeros(df_items.shape)\n",
    "matrix.shape"
   ]
  },
  {
   "cell_type": "code",
   "execution_count": 91,
   "metadata": {},
   "outputs": [
    {
     "data": {
      "text/plain": [
       "185214"
      ]
     },
     "execution_count": 91,
     "metadata": {},
     "output_type": "execute_result"
    }
   ],
   "source": [
    "df.shape[0]"
   ]
  },
  {
   "cell_type": "code",
   "execution_count": 137,
   "metadata": {},
   "outputs": [],
   "source": [
    "    matrix_dict = defaultdict(int)\n",
    "    for i in range(df.shape[0]):\n",
    "        for item in df['items'][i]:\n",
    "            #set matrix to boolean for item precence in basket:\n",
    "            #if item[1] not in stopwords and item[3] != 12:\n",
    "            #if item[1] not in stopwords and item[3] not in (12,16):\n",
    "            if item[1] not in stopwords and item[3] == 15:\n",
    "                if item[2] > 0:\n",
    "                    value = 1\n",
    "                elif item[2] == 0:\n",
    "                    value = 0\n",
    "                else:\n",
    "                    value = -1\n",
    "                matrix_dict[i,col_index_dict[item[1]]] += value #+ matrix_dict[(i,item[1])]\n",
    "                #matrix[i,col_index_dict[ item[1] ]] = matrix[i,col_index_dict[ item[1] ]] + value\n",
    "            '''if item[1] not in stopwords and item[2] > 0:\n",
    "                matrix[i,col_index_dict[ item[1] ]] = 1\n",
    "            if item[1] not in stopwords and item[2] < 0:\n",
    "                matrix[i,col_index_dict[ item[1] ]] = 0'''\n",
    "    #matrix = (matrix > 0).astype(int)\n",
    " "
   ]
  },
  {
   "cell_type": "code",
   "execution_count": 138,
   "metadata": {},
   "outputs": [
    {
     "data": {
      "text/plain": [
       "551514"
      ]
     },
     "execution_count": 138,
     "metadata": {},
     "output_type": "execute_result"
    }
   ],
   "source": [
    "len(matrix_dict)"
   ]
  },
  {
   "cell_type": "code",
   "execution_count": 139,
   "metadata": {},
   "outputs": [
    {
     "name": "stdout",
     "output_type": "stream",
     "text": [
      "0\n",
      "5526\n",
      "1\n"
     ]
    }
   ],
   "source": [
    "for key,value in matrix_dict.items():\n",
    "    print (key[0])\n",
    "    print (key[1])\n",
    "    print (value)\n",
    "    break"
   ]
  },
  {
   "cell_type": "code",
   "execution_count": 140,
   "metadata": {},
   "outputs": [],
   "source": [
    "rows, cols, vals = [], [], []\n",
    "for key, value in matrix_dict.items():\n",
    "    rows.append(key[0])\n",
    "    cols.append(key[1])\n",
    "    vals.append(matrix_dict[key])\n",
    "sparse_matrix = sparse.csr_matrix((vals, (rows, cols)))"
   ]
  },
  {
   "cell_type": "code",
   "execution_count": 131,
   "metadata": {},
   "outputs": [
    {
     "data": {
      "text/plain": [
       "551514"
      ]
     },
     "execution_count": 131,
     "metadata": {},
     "output_type": "execute_result"
    }
   ],
   "source": [
    "len(rows)"
   ]
  },
  {
   "cell_type": "code",
   "execution_count": 132,
   "metadata": {},
   "outputs": [],
   "source": [
    "import pickle"
   ]
  },
  {
   "cell_type": "code",
   "execution_count": 66,
   "metadata": {},
   "outputs": [
    {
     "data": {
      "text/plain": [
       "<1x8945 sparse matrix of type '<class 'numpy.int64'>'\n",
       "\twith 2 stored elements in Compressed Sparse Row format>"
      ]
     },
     "execution_count": 66,
     "metadata": {},
     "output_type": "execute_result"
    }
   ],
   "source": [
    "sparse_matrix[4]"
   ]
  },
  {
   "cell_type": "code",
   "execution_count": 70,
   "metadata": {},
   "outputs": [],
   "source": [
    "pickle.dump(sparse_matrix,open('./pickles/sparse_matrix2018.p','wb'))"
   ]
  },
  {
   "cell_type": "code",
   "execution_count": 71,
   "metadata": {},
   "outputs": [],
   "source": [
    "pickle.dump(items_set,open('./pickles/items_set2018.p','wb'))"
   ]
  },
  {
   "cell_type": "code",
   "execution_count": 43,
   "metadata": {},
   "outputs": [],
   "source": [
    "file = open(\"./sparse_matrix201802orig.p\",'rb')\n",
    "sparse_matrix_orig = pickle.load(file)\n",
    "file.close()"
   ]
  },
  {
   "cell_type": "code",
   "execution_count": null,
   "metadata": {},
   "outputs": [],
   "source": [
    "for s in sparse_matrix[1:,9]:\n",
    "    print (s)"
   ]
  },
  {
   "cell_type": "code",
   "execution_count": 63,
   "metadata": {},
   "outputs": [
    {
     "name": "stdout",
     "output_type": "stream",
     "text": [
      "  (0, 852)\t1\n"
     ]
    }
   ],
   "source": [
    "for s in sparse_matrix_orig[0]:\n",
    "    print (s)"
   ]
  },
  {
   "cell_type": "code",
   "execution_count": 48,
   "metadata": {},
   "outputs": [],
   "source": [
    "diff = sparse_matrix-sparse_matrix_orig"
   ]
  },
  {
   "cell_type": "code",
   "execution_count": 49,
   "metadata": {},
   "outputs": [
    {
     "data": {
      "text/plain": [
       "51149"
      ]
     },
     "execution_count": 49,
     "metadata": {},
     "output_type": "execute_result"
    }
   ],
   "source": [
    "diff.sum()"
   ]
  },
  {
   "cell_type": "code",
   "execution_count": 40,
   "metadata": {},
   "outputs": [],
   "source": [
    "file = open(\"./sparse_matrix201802.p\",'rb')\n",
    "sparse_matrix = pickle.load(file)\n",
    "file.close()"
   ]
  },
  {
   "cell_type": "code",
   "execution_count": 41,
   "metadata": {},
   "outputs": [],
   "source": [
    "file = open(\"./items_set201802.p\",'rb')\n",
    "items_set = pickle.load(file)\n",
    "file.close()"
   ]
  },
  {
   "cell_type": "code",
   "execution_count": 142,
   "metadata": {},
   "outputs": [],
   "source": [
    "sparse_matrix = (sparse_matrix > 0).astype(int)"
   ]
  },
  {
   "cell_type": "code",
   "execution_count": 143,
   "metadata": {},
   "outputs": [
    {
     "data": {
      "text/plain": [
       "matrix([[33767]])"
      ]
     },
     "execution_count": 143,
     "metadata": {},
     "output_type": "execute_result"
    }
   ],
   "source": [
    "sum(np.sum(sparse_matrix,axis=1)==0)"
   ]
  },
  {
   "cell_type": "code",
   "execution_count": 102,
   "metadata": {},
   "outputs": [
    {
     "name": "stdout",
     "output_type": "stream",
     "text": [
      "801\n"
     ]
    }
   ],
   "source": [
    "#count rows of baskets with a total of 0 weight items\n",
    "sum_of_zeros=0\n",
    "for i in range(sparse_matrix.shape[0]):\n",
    "    if sparse_matrix[i].sum()<1:\n",
    "        sum_of_zeros+=1\n",
    "print (sum_of_zeros)"
   ]
  },
  {
   "cell_type": "code",
   "execution_count": 144,
   "metadata": {},
   "outputs": [
    {
     "name": "stdout",
     "output_type": "stream",
     "text": [
      "0.004324727072467524 % of zero weight baskets\n"
     ]
    }
   ],
   "source": [
    "print(sum_of_zeros / sparse_matrix.shape[0],\"% of zero weight baskets\")"
   ]
  },
  {
   "cell_type": "code",
   "execution_count": null,
   "metadata": {},
   "outputs": [],
   "source": [
    "#Set all negative values in the matrix to 0.\n",
    "#matrix = pickle.load('matrix.p','rb')\n",
    "#matrix = (matrix > 0).astype(int)"
   ]
  },
  {
   "cell_type": "code",
   "execution_count": 103,
   "metadata": {},
   "outputs": [
    {
     "ename": "NameError",
     "evalue": "name 'matrix' is not defined",
     "output_type": "error",
     "traceback": [
      "\u001b[0;31m---------------------------------------------------------------------------\u001b[0m",
      "\u001b[0;31mNameError\u001b[0m                                 Traceback (most recent call last)",
      "\u001b[0;32m<ipython-input-103-88593281d2a2>\u001b[0m in \u001b[0;36m<module>\u001b[0;34m\u001b[0m\n\u001b[0;32m----> 1\u001b[0;31m \u001b[0mmatrix\u001b[0m\u001b[0;34m.\u001b[0m\u001b[0mshape\u001b[0m\u001b[0;34m[\u001b[0m\u001b[0;36m0\u001b[0m\u001b[0;34m]\u001b[0m\u001b[0;34m\u001b[0m\u001b[0;34m\u001b[0m\u001b[0m\n\u001b[0m",
      "\u001b[0;31mNameError\u001b[0m: name 'matrix' is not defined"
     ]
    }
   ],
   "source": [
    "matrix.shape[0]"
   ]
  },
  {
   "cell_type": "code",
   "execution_count": 47,
   "metadata": {},
   "outputs": [
    {
     "data": {
      "text/plain": [
       "6"
      ]
     },
     "execution_count": 47,
     "metadata": {},
     "output_type": "execute_result"
    }
   ],
   "source": [
    "sparse_matrix[1111].sum()"
   ]
  },
  {
   "cell_type": "code",
   "execution_count": 75,
   "metadata": {},
   "outputs": [],
   "source": [
    "from sklearn import decomposition, datasets, model_selection, preprocessing, metrics"
   ]
  },
  {
   "cell_type": "code",
   "execution_count": 76,
   "metadata": {},
   "outputs": [],
   "source": [
    "def nmf_funct(sparse_matrix,n_components=10):\n",
    "    from sklearn.decomposition import NMF\n",
    "    model = NMF(n_components=n_components,max_iter=500)\n",
    "    W = model.fit_transform(sparse_matrix)\n",
    "    H=model.components_\n",
    "    model_iter = model.n_iter_\n",
    "    return model,W,H,model_iter"
   ]
  },
  {
   "cell_type": "code",
   "execution_count": 78,
   "metadata": {},
   "outputs": [
    {
     "ename": "NameError",
     "evalue": "name 'scoring' is not defined",
     "output_type": "error",
     "traceback": [
      "\u001b[0;31m---------------------------------------------------------------------------\u001b[0m",
      "\u001b[0;31mNameError\u001b[0m                                 Traceback (most recent call last)",
      "\u001b[0;32m<ipython-input-78-f7d233d896b4>\u001b[0m in \u001b[0;36m<module>\u001b[0;34m\u001b[0m\n\u001b[1;32m      2\u001b[0m \u001b[0;32mfor\u001b[0m \u001b[0mi\u001b[0m \u001b[0;32min\u001b[0m \u001b[0mrange\u001b[0m\u001b[0;34m(\u001b[0m\u001b[0;36m1\u001b[0m\u001b[0;34m,\u001b[0m\u001b[0;36m25\u001b[0m\u001b[0;34m,\u001b[0m\u001b[0;36m5\u001b[0m\u001b[0;34m)\u001b[0m\u001b[0;34m:\u001b[0m\u001b[0;34m\u001b[0m\u001b[0;34m\u001b[0m\u001b[0m\n\u001b[1;32m      3\u001b[0m     \u001b[0miter\u001b[0m\u001b[0;34m=\u001b[0m\u001b[0mi\u001b[0m\u001b[0;34m\u001b[0m\u001b[0;34m\u001b[0m\u001b[0m\n\u001b[0;32m----> 4\u001b[0;31m     \u001b[0miteration\u001b[0m\u001b[0;34m,\u001b[0m\u001b[0mscore\u001b[0m\u001b[0;34m,\u001b[0m\u001b[0mmodel_iter\u001b[0m \u001b[0;34m=\u001b[0m \u001b[0mscoring\u001b[0m\u001b[0;34m(\u001b[0m\u001b[0miter\u001b[0m\u001b[0;34m,\u001b[0m\u001b[0msparse_matrix\u001b[0m\u001b[0;34m,\u001b[0m\u001b[0mmatrix\u001b[0m\u001b[0;34m)\u001b[0m\u001b[0;34m\u001b[0m\u001b[0;34m\u001b[0m\u001b[0m\n\u001b[0m\u001b[1;32m      5\u001b[0m     \u001b[0mprint\u001b[0m\u001b[0;34m(\u001b[0m\u001b[0miteration\u001b[0m\u001b[0;34m,\u001b[0m\u001b[0mscore\u001b[0m\u001b[0;34m)\u001b[0m\u001b[0;34m\u001b[0m\u001b[0;34m\u001b[0m\u001b[0m\n\u001b[1;32m      6\u001b[0m     \u001b[0mscores\u001b[0m\u001b[0;34m.\u001b[0m\u001b[0mappend\u001b[0m\u001b[0;34m(\u001b[0m\u001b[0;34m[\u001b[0m\u001b[0miteration\u001b[0m\u001b[0;34m,\u001b[0m\u001b[0mscore\u001b[0m\u001b[0;34m,\u001b[0m\u001b[0mmodel_iter\u001b[0m\u001b[0;34m]\u001b[0m\u001b[0;34m)\u001b[0m\u001b[0;34m\u001b[0m\u001b[0;34m\u001b[0m\u001b[0m\n",
      "\u001b[0;31mNameError\u001b[0m: name 'scoring' is not defined"
     ]
    }
   ],
   "source": [
    "scores =[]\n",
    "for i in range(1,25,5):\n",
    "    iter=i\n",
    "    iteration,score,model_iter = scoring(iter,sparse_matrix,matrix)\n",
    "    print(iteration,score)\n",
    "    scores.append([iteration,score,model_iter])"
   ]
  },
  {
   "cell_type": "code",
   "execution_count": 406,
   "metadata": {},
   "outputs": [],
   "source": [
    "just_scores=[]\n",
    "for s in range(len(scores)):\n",
    "    just_scores.append(scores[s][1])\n"
   ]
  },
  {
   "cell_type": "code",
   "execution_count": 79,
   "metadata": {},
   "outputs": [],
   "source": [
    "#scores"
   ]
  },
  {
   "cell_type": "code",
   "execution_count": 80,
   "metadata": {},
   "outputs": [],
   "source": [
    "#just_scores"
   ]
  },
  {
   "cell_type": "code",
   "execution_count": 409,
   "metadata": {},
   "outputs": [
    {
     "data": {
      "text/plain": [
       "[<matplotlib.lines.Line2D at 0x1a2bec8c50>]"
      ]
     },
     "execution_count": 409,
     "metadata": {},
     "output_type": "execute_result"
    },
    {
     "data": {
      "image/png": "[encoded data removed]",
      "text/plain": [
       "<Figure size 432x288 with 1 Axes>"
      ]
     },
     "metadata": {
      "needs_background": "light"
     },
     "output_type": "display_data"
    }
   ],
   "source": [
    "plt.plot(np.arange(len(just_scores[24:30])),(just_scores[24:30]))\n"
   ]
  },
  {
   "cell_type": "code",
   "execution_count": 722,
   "metadata": {},
   "outputs": [
    {
     "data": {
      "text/plain": [
       "[[1, 0.001462029804203652, 5],\n",
       " [6, 0.0013877529690621115, 95],\n",
       " [11, 0.0013427198413541964, 96],\n",
       " [16, 0.0013029291315034713, 292],\n",
       " [21, 0.0012701763318097284, 243],\n",
       " [1, 0.0001431933907664586, 6]]"
      ]
     },
     "execution_count": 722,
     "metadata": {},
     "output_type": "execute_result"
    }
   ],
   "source": [
    "scores[24:30]"
   ]
  },
  {
   "cell_type": "code",
   "execution_count": 411,
   "metadata": {},
   "outputs": [
    {
     "name": "stdout",
     "output_type": "stream",
     "text": [
      "10\n",
      "20\n",
      "30\n",
      "40\n",
      "50\n",
      "60\n",
      "70\n",
      "80\n",
      "90\n",
      "100\n"
     ]
    }
   ],
   "source": [
    "for i in range(10,101,10):\n",
    "    iter=i\n",
    "    print (iter)"
   ]
  },
  {
   "cell_type": "code",
   "execution_count": null,
   "metadata": {},
   "outputs": [],
   "source": [
    "rebuilt = np.dot(W,H)"
   ]
  },
  {
   "cell_type": "code",
   "execution_count": null,
   "metadata": {},
   "outputs": [],
   "source": [
    "rebuilt.shape"
   ]
  },
  {
   "cell_type": "code",
   "execution_count": null,
   "metadata": {},
   "outputs": [],
   "source": [
    "matrix.shape"
   ]
  },
  {
   "cell_type": "code",
   "execution_count": 108,
   "metadata": {},
   "outputs": [
    {
     "data": {
      "text/plain": [
       "array([[0.00000000e+00, 0.00000000e+00, 0.00000000e+00, ...,\n",
       "        0.00000000e+00, 0.00000000e+00, 0.00000000e+00],\n",
       "       [1.29976971e-04, 3.29969297e-04, 2.11526977e-04, ...,\n",
       "        1.46095233e-04, 9.08517333e-04, 6.24379430e-05],\n",
       "       [0.00000000e+00, 0.00000000e+00, 0.00000000e+00, ...,\n",
       "        0.00000000e+00, 0.00000000e+00, 0.00000000e+00],\n",
       "       ...,\n",
       "       [0.00000000e+00, 0.00000000e+00, 0.00000000e+00, ...,\n",
       "        0.00000000e+00, 0.00000000e+00, 0.00000000e+00],\n",
       "       [3.05683634e-05, 7.16348659e-05, 8.00710503e-05, ...,\n",
       "        4.00441875e-05, 2.78065699e-04, 2.19722093e-05],\n",
       "       [0.00000000e+00, 0.00000000e+00, 0.00000000e+00, ...,\n",
       "        0.00000000e+00, 0.00000000e+00, 0.00000000e+00]])"
      ]
     },
     "execution_count": 108,
     "metadata": {},
     "output_type": "execute_result"
    }
   ],
   "source": [
    "rebuilt-matrix"
   ]
  },
  {
   "cell_type": "code",
   "execution_count": 121,
   "metadata": {},
   "outputs": [
    {
     "data": {
      "text/plain": [
       "0.09009532798915376"
      ]
     },
     "execution_count": 121,
     "metadata": {},
     "output_type": "execute_result"
    }
   ],
   "source": [
    "np.mean((rebuilt-matrix)**2)"
   ]
  },
  {
   "cell_type": "markdown",
   "metadata": {},
   "source": [
    "n_components:\n",
    "1   =  .0001\n",
    "2   = 0.0013937693036813904\n",
    "3   = 0.001383618220432841\n",
    "10  = 0.0013233378763788833\n",
    "100 =-0.0003337663571822616\n",
    "100 = 0.001324181632724416"
   ]
  },
  {
   "cell_type": "code",
   "execution_count": 129,
   "metadata": {},
   "outputs": [
    {
     "data": {
      "text/plain": [
       "0.018682112359056913"
      ]
     },
     "execution_count": 129,
     "metadata": {},
     "output_type": "execute_result"
    }
   ],
   "source": [
    "scorer=metrics.explained_variance_score\n",
    "prediction = model.inverse_transform(model.transform(sparse_matrix))\n",
    "scorer(matrix, prediction)"
   ]
  },
  {
   "cell_type": "code",
   "execution_count": 130,
   "metadata": {},
   "outputs": [
    {
     "data": {
      "text/plain": [
       "array([[0.00000000e+00, 0.00000000e+00, 0.00000000e+00, ...,\n",
       "        0.00000000e+00, 0.00000000e+00, 0.00000000e+00],\n",
       "       [1.29976672e-04, 3.29950574e-04, 2.11518553e-04, ...,\n",
       "        1.46131375e-04, 9.08533609e-04, 6.24109411e-05],\n",
       "       [0.00000000e+00, 0.00000000e+00, 0.00000000e+00, ...,\n",
       "        0.00000000e+00, 0.00000000e+00, 0.00000000e+00],\n",
       "       ...,\n",
       "       [0.00000000e+00, 0.00000000e+00, 0.00000000e+00, ...,\n",
       "        0.00000000e+00, 0.00000000e+00, 0.00000000e+00],\n",
       "       [3.05695823e-05, 7.16348761e-05, 8.00711799e-05, ...,\n",
       "        4.00437082e-05, 2.78061313e-04, 2.19714633e-05],\n",
       "       [0.00000000e+00, 0.00000000e+00, 0.00000000e+00, ...,\n",
       "        0.00000000e+00, 0.00000000e+00, 0.00000000e+00]])"
      ]
     },
     "execution_count": 130,
     "metadata": {},
     "output_type": "execute_result"
    }
   ],
   "source": [
    "prediction\n"
   ]
  },
  {
   "cell_type": "code",
   "execution_count": 150,
   "metadata": {},
   "outputs": [],
   "source": [
    "def fit_NMF(sparse_matrix_,n_components_,max_iter=250):\n",
    "    from sklearn.decomposition import NMF\n",
    "    model = NMF(n_components=n_components_,max_iter=max_iter)\n",
    "    W = model.fit_transform(sparse_matrix_)\n",
    "    H=model.components_\n",
    "    model_iter = model.n_iter_\n",
    "    return model,W,H,model_iter\n",
    "model,W,H,model_iter = fit_NMF(sparse_matrix,n_components_=7,max_iter=250)"
   ]
  },
  {
   "cell_type": "code",
   "execution_count": 151,
   "metadata": {},
   "outputs": [
    {
     "name": "stdout",
     "output_type": "stream",
     "text": [
      "iterations: 43 W shape: (185214, 7) H shape: (7, 7551)\n"
     ]
    }
   ],
   "source": [
    "print('iterations:',model_iter,'W shape:',W.shape,'H shape:',H.shape)"
   ]
  },
  {
   "cell_type": "code",
   "execution_count": 152,
   "metadata": {},
   "outputs": [
    {
     "name": "stdout",
     "output_type": "stream",
     "text": [
      "topic 0 srength: 0.230000 \n",
      "topic 1 srength: 0.190000 \n",
      "topic 2 srength: 0.030000 \n",
      "topic 3 srength: 0.060000 \n",
      "topic 4 srength: 0.160000 \n",
      "topic 5 srength: 0.180000 \n",
      "topic 6 srength: 0.150000 \n"
     ]
    }
   ],
   "source": [
    "w = np.zeros_like(W)\n",
    "w[np.arange(len(W)), W.argmax(1)] = 1\n",
    "topic_strength = np.sum(w,axis=0)\n",
    "topic_strength = np.round(topic_strength/topic_strength.sum(),2)\n",
    "for i,t in enumerate(topic_strength):\n",
    "    print('topic %d srength: %f '%(i,t))"
   ]
  },
  {
   "cell_type": "code",
   "execution_count": 12,
   "metadata": {},
   "outputs": [
    {
     "ename": "NameError",
     "evalue": "name 'H' is not defined",
     "output_type": "error",
     "traceback": [
      "\u001b[0;31m---------------------------------------------------------------------------\u001b[0m",
      "\u001b[0;31mNameError\u001b[0m                                 Traceback (most recent call last)",
      "\u001b[0;32m<ipython-input-12-a13ae7576c78>\u001b[0m in \u001b[0;36m<module>\u001b[0;34m\u001b[0m\n\u001b[0;32m----> 1\u001b[0;31m \u001b[0;32mfor\u001b[0m \u001b[0mh\u001b[0m \u001b[0;32min\u001b[0m \u001b[0mH\u001b[0m\u001b[0;34m:\u001b[0m\u001b[0;34m\u001b[0m\u001b[0;34m\u001b[0m\u001b[0m\n\u001b[0m\u001b[1;32m      2\u001b[0m     \u001b[0mprint\u001b[0m \u001b[0;34m(\u001b[0m\u001b[0mh\u001b[0m\u001b[0;34m)\u001b[0m\u001b[0;34m\u001b[0m\u001b[0;34m\u001b[0m\u001b[0m\n",
      "\u001b[0;31mNameError\u001b[0m: name 'H' is not defined"
     ]
    }
   ],
   "source": [
    "for h in H:\n",
    "    print (h)"
   ]
  },
  {
   "cell_type": "code",
   "execution_count": 176,
   "metadata": {},
   "outputs": [],
   "source": []
  },
  {
   "cell_type": "code",
   "execution_count": null,
   "metadata": {},
   "outputs": [],
   "source": [
    "from sklearn.decomposition import LatentDirichletAllocation as LDA\n",
    "model = LDA(n_components=2,max_iter=10)\n",
    "W = model.fit_transform(sparse_matrix)\n",
    "H = model.components_\n",
    "model.n_iter_"
   ]
  },
  {
   "cell_type": "code",
   "execution_count": 107,
   "metadata": {},
   "outputs": [
    {
     "data": {
      "text/plain": [
       "array([0.00568646, 0.        , 0.00035769, 0.00134455, 0.        ,\n",
       "       0.        , 0.00069092, 0.00292025, 0.00037241, 0.        ])"
      ]
     },
     "execution_count": 107,
     "metadata": {},
     "output_type": "execute_result"
    }
   ],
   "source": [
    "H[:,6249]"
   ]
  },
  {
   "cell_type": "code",
   "execution_count": 115,
   "metadata": {},
   "outputs": [
    {
     "data": {
      "text/plain": [
       "13028"
      ]
     },
     "execution_count": 115,
     "metadata": {},
     "output_type": "execute_result"
    }
   ],
   "source": [
    "len(items_set)"
   ]
  },
  {
   "cell_type": "code",
   "execution_count": 10,
   "metadata": {},
   "outputs": [
    {
     "ename": "NameError",
     "evalue": "name 'H' is not defined",
     "output_type": "error",
     "traceback": [
      "\u001b[0;31m---------------------------------------------------------------------------\u001b[0m",
      "\u001b[0;31mNameError\u001b[0m                                 Traceback (most recent call last)",
      "\u001b[0;32m<ipython-input-10-9f39c9d24c60>\u001b[0m in \u001b[0;36m<module>\u001b[0;34m\u001b[0m\n\u001b[0;32m----> 1\u001b[0;31m \u001b[0;32mfor\u001b[0m \u001b[0mtopic\u001b[0m \u001b[0;32min\u001b[0m \u001b[0mH\u001b[0m\u001b[0;34m:\u001b[0m\u001b[0;34m\u001b[0m\u001b[0;34m\u001b[0m\u001b[0m\n\u001b[0m\u001b[1;32m      2\u001b[0m     \u001b[0mprint\u001b[0m \u001b[0;34m(\u001b[0m\u001b[0mtopic\u001b[0m\u001b[0;34m[\u001b[0m\u001b[0;34m:\u001b[0m\u001b[0;34m-\u001b[0m\u001b[0;36m10\u001b[0m\u001b[0;34m:\u001b[0m\u001b[0;34m-\u001b[0m\u001b[0;36m1\u001b[0m\u001b[0;34m]\u001b[0m\u001b[0;34m)\u001b[0m\u001b[0;34m\u001b[0m\u001b[0;34m\u001b[0m\u001b[0m\n",
      "\u001b[0;31mNameError\u001b[0m: name 'H' is not defined"
     ]
    }
   ],
   "source": [
    "for topic in H:\n",
    "    print (topic[:-10:-1])"
   ]
  },
  {
   "cell_type": "code",
   "execution_count": 70,
   "metadata": {},
   "outputs": [],
   "source": [
    "file = open(\"./pickles/items_set.p\",'rb')\n",
    "items_set = pickle.load(file)\n",
    "file.close()"
   ]
  },
  {
   "cell_type": "raw",
   "metadata": {},
   "source": []
  },
  {
   "cell_type": "code",
   "execution_count": 153,
   "metadata": {},
   "outputs": [
    {
     "name": "stdout",
     "output_type": "stream",
     "text": [
      "[1961 7181 6024 5259 4374 7228 7403 3061 6433 5296 4391 3692 1090  335\n",
      "  560 5921  371  249 6386 3378 1253 5277 4399 7072 5033 7155 5260 1954\n",
      "  895 3359 3501 5111 5872 3095 2847 2530 5736 5491 7420 2378 3545 3252\n",
      " 4190 6497 1131 3347  376 1122 3179 1292]\n",
      "['LACROIX GRPFRT12pk', 'LACROIX TNGRN12pk', 'LACROIX LIME 12pk', 'LACROIX PLAIN 12pk', 'LACROIX PSNFRT 8PK', 'LA CROIX APRICO8PK', 'LACROIX COCONUT8PK', 'LACROIX LEMON 8PK', 'LACROIX-CHRRY LIME', 'LACROIX PEACH PEAR', 'LACROIX MANGO 8PK', 'ANGIE-SSALT POPCRN', 'LACROIX-MurePEPINO', 'LACROIX CRNRSP 8PK', 'LUND-BRN RICE CAKE', 'KEY LIME 12 PACK', 'LACROIX-PIN/STRAW', 'BD-UNS ALMD BREEZE', 'BD-SSALT NUT THINS', 'LACROIX-NICOLA', 'LACROIX-MLN POMELO', 'SIMPLY NKD PITA CH', 'NEWMAN-THIN PRETZL', 'GIMME-SSALTsnk6pk', 'NUMI GUNPOWDER', 'LACROIX-KiwiSANDIA', 'GEROLSTEINER', 'INKA PLANTAINS 4oz', 'OI OCHA GRN TEA', 'LACROIX GFRUIT 8PK', 'CASASAN THICK CHIP', 'CASASAN THIN CHIPS', 'JUSTIN-MINI PB CUP', 'RX BAR-BLUEBERRY', 'LACROIX-APPLE CRAN', 'LACROIX LIME8PK', 'ANNIE BRRYBNNY FRT', 'HERITAGE FLAKE bag', 'SPIND-RASP SELTZER', 'LUND TAMARI RICECA', 'SF-ORIG PRTZS CRSP', 'MARYS - EVERYTHING', 'LUND-N/S RICE CAKE', 'RX BAR-PEANUT BTTR', 'BARK -CHOC PRETZEL', 'LACROIX-PURE 8PK', 'CHOCOLOVE RICH DAR', 'FSTG SWT POT 5oz', 'BTN STNGRND WHEATS', 'SIGHT GLASS']\n",
      "\n",
      "[5896 2624 2620  848 5907 4143 5409 2510 4752 3966 1991 2556 5579 6001\n",
      " 7059  560 6579 2660 2605 5817 3829 3101 5842 7072 4706 1199 4087  249\n",
      "  154 5794 4982  363 4061 3501  317 3472 7254 6324 5491 3309 2955 4387\n",
      " 6476 5196 6323 7529 4914  871 1591 4059]\n",
      "['EDEN GARBANZOS', 'EDEN BLACKBEANS 15', 'EDEN CANNELLINI BE', 'EDEN KIDNEY BEANS', 'TK ORG COCONUT MLK', 'EDEN PINTO BN 15oz', 'NF-COCO MILK- CAN', 'PACIFIC LS VEG BRO', 'MUIR-TOMATO PASTE', 'MUIR DICED TOMATOS', 'PAC-VEG BROTH 32oz', 'FARMER PUMPKIN-CAN', 'BIONATURAE TOM PAS', 'CAL OLIVE OIL 25oz', 'THAI COCONUT MILK', 'LUND-BRN RICE CAKE', 'MUIR DICED TOM N/S', 'DELREAL DATES', 'EDEN BUTTER BEANS', 'NF-COCO MILK- SIMP', 'MUIR-DICED TOMATO', 'EDEN BLACK EYED PE', 'GREAT NORTHERN BEA', 'GIMME-SSALTsnk6pk', 'NV MED PITTD OLIVE', 'IMAGINE LS VEG BRO', 'BARIANI OIL 1LITER', 'BD-UNS ALMD BREEZE', 'EDEN NAVYBEANS 15O', 'EDEN GARBANZO 29oz', 'DICED TOMS NO SALT', 'PAC OAT ORIG 32oz', 'SC APPLE SAUCE CUP', 'CASASAN THICK CHIP', 'WESTBRAE-BLK BEANS', 'NF COCONUT CREAM', 'PAC ALM UNSORIG 32', 'BRAGG-APPLciderVIN', 'HERITAGE FLAKE bag', 'CADIA TOM PASTE', 'ADUKI BEANS', 'DANDELION CHOC BAR', 'MUIR FIRE RSTD TOM', 'TK RED CURRY PASTE', 'NF-LIGHT COCO MILK', 'TOMATO SAUCE 8 OZ', 'IMAGINE VEG BROTH', 'TK ORG LITE COCOMI', 'WSOY-UNS PLAIN32oz', 'MARUKAN RICE VIN']\n",
      "\n",
      "[6074 5907 2556  720 7254 5579 3966  560 5409  168 5810 4236 1123 1323\n",
      " 4966 1991 7002 5260 4072 6324 3685 4222 5491 1639 4346 3077 1661 4059\n",
      " 2510 3489 7222  249  438 6585 2651 6023 7059 2688 1701  788 7072 4914\n",
      " 6184 4087 3595 4752 3289  627 1659 6619]\n",
      "['NAPA-OLIVE OIL25oz', 'TK ORG COCONUT MLK', 'FARMER PUMPKIN-CAN', 'KARLIN BAKING SODA', 'PAC ALM UNSORIG 32', 'BIONATURAE TOM PAS', 'MUIR DICED TOMATOS', 'LUND-BRN RICE CAKE', 'NF-COCO MILK- CAN', 'NAPA V RED WINE VI', 'CORN FLAKES ecopac', 'BTB VEGETABLE BASE', 'RIVER-CRMY ALMDbtr', 'FERIDIES PEANUTS', 'UNSWEET COCONUT MI', 'PAC-VEG BROTH 32oz', 'DrB COCO OIL 30oz', 'GEROLSTEINER', 'IL CASOLARE OLVE O', 'BRAGG-APPLciderVIN', 'NAPA GOLDEN BALSAM', 'MILKADAMIA-UNSWEET', 'HERITAGE FLAKE bag', 'KOSHER SALT 48oz', 'COOMB MAPLE A 32oz', 'BIO STRAINED TOMAT', 'NAPA TSTD SES OIL', 'MARUKAN RICE VIN', 'PACIFIC LS VEG BRO', 'ChFOOD AVOCADO OIL', 'MUIR-WHL PEEL TOMS', 'BD-UNS ALMD BREEZE', 'BIONAT ORG PENNE', 'JOVIAL CRUSHED TOM', 'BALSAMIC VINEGAR', 'FD-CANNELLINI BEAN', 'THAI COCONUT MILK', 'BNFIELD-NACHO CHIP', 'MONARI ORG BALSAMI', 'ORGANIC PENNE', 'GIMME-SSALTsnk6pk', 'IMAGINE VEG BROTH', 'ORGANIC FUSILLI', 'BARIANI OIL 1LITER', 'LUND-WILDRICE CAKE', 'MUIR-TOMATO PASTE', 'FORAGER CHEEZY', 'CASC MULTI GRAN SQ', 'NAPA GRAPE SD OIL', 'NV ORG COCO MILK']\n",
      "\n",
      "[3454 7072 7416 5111 2378 4251 6148 3501 2172 6024 4374 7254  962 6588\n",
      "  349 5907 5769 1954 6386 4198 1292 6889 2373 2644  317  942  560 5568\n",
      " 5264 7181 4399 5277 2537 6001 1591 6449 6709 1991 6023 7059  775 4754\n",
      " 3234 3710  329 2495 3372 6626 3692 5260]\n",
      "['HAVE A CHIP', 'GIMME-SSALTsnk6pk', 'PLOTE RSTTOM SALSA', 'CASASAN THIN CHIPS', 'LUND TAMARI RICECA', 'BROWN RICE THINS', 'MINERAL WATER', 'CASASAN THICK CHIP', 'PELLEGRINO -750 ML', 'LACROIX LIME 12pk', 'LACROIX PSNFRT 8PK', 'PAC ALM UNSORIG 32', 'PRIMAVERA TOR CHIP', 'NEWMAN SPELT PRETZ', 'ELDERFLOWER TONIC', 'TK ORG COCONUT MLK', 'SANJ BLK SES CRKR', 'INKA PLANTAINS 4oz', 'BD-SSALT NUT THINS', 'GUITTARDCHOCO CHIP', 'SIGHT GLASS', 'F-TREE TONIC 16oz', 'SPRAY AVOCADO OIL', 'ROASTED TOM SALSA', 'WESTBRAE-BLK BEANS', 'HINT BLKBERRY WATE', 'LUND-BRN RICE CAKE', 'GREEN NOODLE SOY', 'KOYO TOFU MISO RAM', 'LACROIX TNGRN12pk', 'NEWMAN-THIN PRETZL', 'SIMPLY NKD PITA CH', 'Qualita Oro Espres', 'CAL OLIVE OIL 25oz', 'WSOY-UNS PLAIN32oz', 'HINT WATERMELON', 'BTN-HRVST WHT CRKR', 'PAC-VEG BROTH 32oz', 'FD-CANNELLINI BEAN', 'THAI COCONUT MILK', 'GREEN CHILI REFRIE', 'GIMME-TERIYAKi 6pk', 'SESAME RICE THINS', 'INKA RSTD CORN 4oz', 'JUSTIN-DARK PB CUP', 'AK MAK CRACKERS', 'KOYO MUSHROOM RAMN', 'KETTLE-liteSALT5oz', 'ANGIE-SSALT POPCRN', 'GEROLSTEINER']\n",
      "\n",
      "[1405 6024 3692 7072 7416 6001  962 1292 4752 6709 2556  788 3596 5277\n",
      " 6184 6386 2172 4222 4399 5907 2644 6324  560 5994 2047  317 5259 6016\n",
      " 3252 4093 5491 4087 6023  994  684 5161 3829 4698 1954 7254 2269 6148\n",
      " 4190 4706 4914 3179 5283 5076 1123 6588]\n",
      "['Sabor Orig', 'LACROIX LIME 12pk', 'ANGIE-SSALT POPCRN', 'GIMME-SSALTsnk6pk', 'PLOTE RSTTOM SALSA', 'CAL OLIVE OIL 25oz', 'PRIMAVERA TOR CHIP', 'SIGHT GLASS', 'MUIR-TOMATO PASTE', 'BTN-HRVST WHT CRKR', 'FARMER PUMPKIN-CAN', 'ORGANIC PENNE', 'MONTEBL TORCHIETTE', 'SIMPLY NKD PITA CH', 'ORGANIC FUSILLI', 'BD-SSALT NUT THINS', 'PELLEGRINO -750 ML', 'MILKADAMIA-UNSWEET', 'NEWMAN-THIN PRETZL', 'TK ORG COCONUT MLK', 'ROASTED TOM SALSA', 'BRAGG-APPLciderVIN', 'LUND-BRN RICE CAKE', 'HOMEMADE-BLUE CHIP', 'CASC FARM PURELY O', 'WESTBRAE-BLK BEANS', 'LACROIX PLAIN 12pk', 'GIMME-SESAME SNACK', 'MARYS - EVERYTHING', 'CHIPOTLE SALSA', 'HERITAGE FLAKE bag', 'BARIANI OIL 1LITER', 'FD-CANNELLINI BEAN', 'CRUSHED', 'SIMPLE-SSALT CRCKR', 'LJULY-MINI PBcrckr', 'MUIR-DICED TOMATO', 'BTN-CRSPY WHT CRKR', 'INKA PLANTAINS 4oz', 'PAC ALM UNSORIG 32', 'MARYclassicCRACKER', 'MINERAL WATER', 'LUND-N/S RICE CAKE', 'NV MED PITTD OLIVE', 'IMAGINE VEG BROTH', 'BTN STNGRND WHEATS', 'SB PIST SALT 12oz', 'ORGANIC LINGUINE', 'RIVER-CRMY ALMDbtr', 'NEWMAN SPELT PRETZ']\n",
      "\n",
      "[6876  720 6324 5907 4752 4222 6001 3692  363  560 7254 4087 5579 2172\n",
      " 4059 1991 5817 5409 1954 5260  186 7365 2660 3027 7059 5196 3472 4966\n",
      " 3746 2742 7002  249 3309 5188 2556 6375 6883 3489 7491 7321 4236 4190\n",
      " 2474 6023 5215 2378  886 5257 5955 2495]\n",
      "['BRAGGS CIDER VINEG', 'KARLIN BAKING SODA', 'BRAGG-APPLciderVIN', 'TK ORG COCONUT MLK', 'MUIR-TOMATO PASTE', 'MILKADAMIA-UNSWEET', 'CAL OLIVE OIL 25oz', 'ANGIE-SSALT POPCRN', 'PAC OAT ORIG 32oz', 'LUND-BRN RICE CAKE', 'PAC ALM UNSORIG 32', 'BARIANI OIL 1LITER', 'BIONATURAE TOM PAS', 'PELLEGRINO -750 ML', 'MARUKAN RICE VIN', 'PAC-VEG BROTH 32oz', 'NF-COCO MILK- SIMP', 'NF-COCO MILK- CAN', 'INKA PLANTAINS 4oz', 'GEROLSTEINER', 'BAKING POWDER 4 OZ', 'TEMPT-unswtORIGINL', 'DELREAL DATES', 'Heavy Coconut Crea', 'THAI COCONUT MILK', 'TK RED CURRY PASTE', 'NF COCONUT CREAM', 'UNSWEET COCONUT MI', 'S CRUZ LEMON JUICE', 'DrB COCO OIL 14oz', 'DrB COCO OIL 30oz', 'BD-UNS ALMD BREEZE', 'CADIA TOM PASTE', 'DISTILLED VINEGAR', 'FARMER PUMPKIN-CAN', 'SPECTRUM ORG VINEG', 'GOE BLUE CORN 8oz', 'ChFOOD AVOCADO OIL', 'GRADE A MAPLE SYRU', 'BRAGG LQD AMNO16oz', 'BTB VEGETABLE BASE', 'LUND-N/S RICE CAKE', 'CHOLULA HSAUCE 5oz', 'FD-CANNELLINI BEAN', 'ORGANIC ARTISAN FL', 'LUND TAMARI RICECA', 'PURITY GHEE', 'HAKUBAKU SOBA', 'ANCIENTORG GHEE 16', 'AK MAK CRACKERS']\n",
      "\n",
      "[1472 5409 6324 5260 2172 6001  514 5817 6148 5642 2556 2920 1954 7072\n",
      " 7254  720 4222 1991 5579 3592  197 4190 3692 4087  962 1123  560 7002\n",
      " 6351 3472 4969 3234 6980 4249 1855 2269 6023 3252 2705 3929  162 3027\n",
      " 2378 7535 3501 3545 6585 3077 3147 5955]\n",
      "['MtV SPRKLING 1 LTR', 'NF-COCO MILK- CAN', 'BRAGG-APPLciderVIN', 'GEROLSTEINER', 'PELLEGRINO -750 ML', 'CAL OLIVE OIL 25oz', 'SPARKLING LIME', 'NF-COCO MILK- SIMP', 'MINERAL WATER', 'LAIKI-blkRICE CRKR', 'FARMER PUMPKIN-CAN', 'SPARKLING BLACKBER', 'INKA PLANTAINS 4oz', 'GIMME-SSALTsnk6pk', 'PAC ALM UNSORIG 32', 'KARLIN BAKING SODA', 'MILKADAMIA-UNSWEET', 'PAC-VEG BROTH 32oz', 'BIONATURAE TOM PAS', 'LAIKI-redRICE CRKR', 'PAC UNSWT HEMPMILK', 'LUND-N/S RICE CAKE', 'ANGIE-SSALT POPCRN', 'BARIANI OIL 1LITER', 'PRIMAVERA TOR CHIP', 'RIVER-CRMY ALMDbtr', 'LUND-BRN RICE CAKE', 'DrB COCO OIL 30oz', 'GUAYAKI CLSSC GOLD', 'NF COCONUT CREAM', 'NAIRN-OATMEAL CKY', 'SESAME RICE THINS', 'SF-EVERYTHING PRTZ', 'ORGANIC WATER CRAC', 'MARCONA ALMONDS', 'MARYclassicCRACKER', 'FD-CANNELLINI BEAN', 'MARYS - EVERYTHING', 'MARYS-HERB CRACKER', 'TONY-MILK CHOC BAR', 'MARYS-SEAWD SESAME', 'Heavy Coconut Crea', 'LUND TAMARI RICECA', 'NOCCIOLATA', 'CASASAN THICK CHIP', 'SF-ORIG PRTZS CRSP', 'JOVIAL CRUSHED TOM', 'BIO STRAINED TOMAT', 'SIETE-SEASALT CHIP', 'ANCIENTORG GHEE 16']\n",
      "\n"
     ]
    }
   ],
   "source": [
    "feature_names=list(items_set).copy()\n",
    "n_top_words=50\n",
    "for topic in H:\n",
    "    print(topic.argsort()[:-n_top_words -1:-1])\n",
    "    print ([feature_names[i]for i in topic.argsort()[:-n_top_words -1:-1]])\n",
    "    print()"
   ]
  },
  {
   "cell_type": "code",
   "execution_count": 154,
   "metadata": {
    "scrolled": true
   },
   "outputs": [
    {
     "name": "stdout",
     "output_type": "stream",
     "text": [
      "0.23 Topic #0:\n",
      "['LACROIX GRPFRT12pk', 'LACROIX TNGRN12pk', 'LACROIX LIME 12pk', 'LACROIX PLAIN 12pk', 'LACROIX PSNFRT 8PK', 'LA CROIX APRICO8PK', 'LACROIX COCONUT8PK', 'LACROIX LEMON 8PK', 'LACROIX-CHRRY LIME', 'LACROIX PEACH PEAR', 'LACROIX MANGO 8PK', 'ANGIE-SSALT POPCRN', 'LACROIX-MurePEPINO', 'LACROIX CRNRSP 8PK', 'LUND-BRN RICE CAKE', 'KEY LIME 12 PACK', 'LACROIX-PIN/STRAW', 'BD-UNS ALMD BREEZE', 'BD-SSALT NUT THINS', 'LACROIX-NICOLA', 'LACROIX-MLN POMELO', 'SIMPLY NKD PITA CH', 'NEWMAN-THIN PRETZL', 'GIMME-SSALTsnk6pk', 'NUMI GUNPOWDER', 'LACROIX-KiwiSANDIA', 'GEROLSTEINER', 'INKA PLANTAINS 4oz', 'OI OCHA GRN TEA', 'LACROIX GFRUIT 8PK', 'CASASAN THICK CHIP', 'CASASAN THIN CHIPS', 'JUSTIN-MINI PB CUP', 'RX BAR-BLUEBERRY', 'LACROIX-APPLE CRAN', 'LACROIX LIME8PK', 'ANNIE BRRYBNNY FRT', 'HERITAGE FLAKE bag', 'SPIND-RASP SELTZER', 'LUND TAMARI RICECA', 'SF-ORIG PRTZS CRSP', 'MARYS - EVERYTHING', 'LUND-N/S RICE CAKE', 'RX BAR-PEANUT BTTR', 'BARK -CHOC PRETZEL', 'LACROIX-PURE 8PK', 'CHOCOLOVE RICH DAR', 'FSTG SWT POT 5oz', 'BTN STNGRND WHEATS', 'SIGHT GLASS']\n"
     ]
    },
    {
     "data": {
      "image/png": "[encoded data removed]",
      "text/plain": [
       "<Figure size 432x288 with 1 Axes>"
      ]
     },
     "metadata": {
      "needs_background": "light"
     },
     "output_type": "display_data"
    },
    {
     "name": "stdout",
     "output_type": "stream",
     "text": [
      "<img src=\"./img/2018/1554323888.topic0.png\">\n",
      "0.19 Topic #1:\n",
      "['EDEN GARBANZOS', 'EDEN BLACKBEANS 15', 'EDEN CANNELLINI BE', 'EDEN KIDNEY BEANS', 'TK ORG COCONUT MLK', 'EDEN PINTO BN 15oz', 'NF-COCO MILK- CAN', 'PACIFIC LS VEG BRO', 'MUIR-TOMATO PASTE', 'MUIR DICED TOMATOS', 'PAC-VEG BROTH 32oz', 'FARMER PUMPKIN-CAN', 'BIONATURAE TOM PAS', 'CAL OLIVE OIL 25oz', 'THAI COCONUT MILK', 'LUND-BRN RICE CAKE', 'MUIR DICED TOM N/S', 'DELREAL DATES', 'EDEN BUTTER BEANS', 'NF-COCO MILK- SIMP', 'MUIR-DICED TOMATO', 'EDEN BLACK EYED PE', 'GREAT NORTHERN BEA', 'GIMME-SSALTsnk6pk', 'NV MED PITTD OLIVE', 'IMAGINE LS VEG BRO', 'BARIANI OIL 1LITER', 'BD-UNS ALMD BREEZE', 'EDEN NAVYBEANS 15O', 'EDEN GARBANZO 29oz', 'DICED TOMS NO SALT', 'PAC OAT ORIG 32oz', 'SC APPLE SAUCE CUP', 'CASASAN THICK CHIP', 'WESTBRAE-BLK BEANS', 'NF COCONUT CREAM', 'PAC ALM UNSORIG 32', 'BRAGG-APPLciderVIN', 'HERITAGE FLAKE bag', 'CADIA TOM PASTE', 'ADUKI BEANS', 'DANDELION CHOC BAR', 'MUIR FIRE RSTD TOM', 'TK RED CURRY PASTE', 'NF-LIGHT COCO MILK', 'TOMATO SAUCE 8 OZ', 'IMAGINE VEG BROTH', 'TK ORG LITE COCOMI', 'WSOY-UNS PLAIN32oz', 'MARUKAN RICE VIN']\n"
     ]
    },
    {
     "data": {
      "image/png": "[encoded data removed]",
      "text/plain": [
       "<Figure size 432x288 with 1 Axes>"
      ]
     },
     "metadata": {
      "needs_background": "light"
     },
     "output_type": "display_data"
    },
    {
     "name": "stdout",
     "output_type": "stream",
     "text": [
      "<img src=\"./img/2018/1554323888.topic1.png\">\n",
      "0.03 Topic #2:\n",
      "['NAPA-OLIVE OIL25oz', 'TK ORG COCONUT MLK', 'FARMER PUMPKIN-CAN', 'KARLIN BAKING SODA', 'PAC ALM UNSORIG 32', 'BIONATURAE TOM PAS', 'MUIR DICED TOMATOS', 'LUND-BRN RICE CAKE', 'NF-COCO MILK- CAN', 'NAPA V RED WINE VI', 'CORN FLAKES ecopac', 'BTB VEGETABLE BASE', 'RIVER-CRMY ALMDbtr', 'FERIDIES PEANUTS', 'UNSWEET COCONUT MI', 'PAC-VEG BROTH 32oz', 'DrB COCO OIL 30oz', 'GEROLSTEINER', 'IL CASOLARE OLVE O', 'BRAGG-APPLciderVIN', 'NAPA GOLDEN BALSAM', 'MILKADAMIA-UNSWEET', 'HERITAGE FLAKE bag', 'KOSHER SALT 48oz', 'COOMB MAPLE A 32oz', 'BIO STRAINED TOMAT', 'NAPA TSTD SES OIL', 'MARUKAN RICE VIN', 'PACIFIC LS VEG BRO', 'ChFOOD AVOCADO OIL', 'MUIR-WHL PEEL TOMS', 'BD-UNS ALMD BREEZE', 'BIONAT ORG PENNE', 'JOVIAL CRUSHED TOM', 'BALSAMIC VINEGAR', 'FD-CANNELLINI BEAN', 'THAI COCONUT MILK', 'BNFIELD-NACHO CHIP', 'MONARI ORG BALSAMI', 'ORGANIC PENNE', 'GIMME-SSALTsnk6pk', 'IMAGINE VEG BROTH', 'ORGANIC FUSILLI', 'BARIANI OIL 1LITER', 'LUND-WILDRICE CAKE', 'MUIR-TOMATO PASTE', 'FORAGER CHEEZY', 'CASC MULTI GRAN SQ', 'NAPA GRAPE SD OIL', 'NV ORG COCO MILK']\n"
     ]
    },
    {
     "data": {
      "image/png": "[encoded data removed]",
      "text/plain": [
       "<Figure size 432x288 with 1 Axes>"
      ]
     },
     "metadata": {
      "needs_background": "light"
     },
     "output_type": "display_data"
    },
    {
     "name": "stdout",
     "output_type": "stream",
     "text": [
      "<img src=\"./img/2018/1554323889.topic2.png\">\n",
      "0.06 Topic #3:\n",
      "['HAVE A CHIP', 'GIMME-SSALTsnk6pk', 'PLOTE RSTTOM SALSA', 'CASASAN THIN CHIPS', 'LUND TAMARI RICECA', 'BROWN RICE THINS', 'MINERAL WATER', 'CASASAN THICK CHIP', 'PELLEGRINO -750 ML', 'LACROIX LIME 12pk', 'LACROIX PSNFRT 8PK', 'PAC ALM UNSORIG 32', 'PRIMAVERA TOR CHIP', 'NEWMAN SPELT PRETZ', 'ELDERFLOWER TONIC', 'TK ORG COCONUT MLK', 'SANJ BLK SES CRKR', 'INKA PLANTAINS 4oz', 'BD-SSALT NUT THINS', 'GUITTARDCHOCO CHIP', 'SIGHT GLASS', 'F-TREE TONIC 16oz', 'SPRAY AVOCADO OIL', 'ROASTED TOM SALSA', 'WESTBRAE-BLK BEANS', 'HINT BLKBERRY WATE', 'LUND-BRN RICE CAKE', 'GREEN NOODLE SOY', 'KOYO TOFU MISO RAM', 'LACROIX TNGRN12pk', 'NEWMAN-THIN PRETZL', 'SIMPLY NKD PITA CH', 'Qualita Oro Espres', 'CAL OLIVE OIL 25oz', 'WSOY-UNS PLAIN32oz', 'HINT WATERMELON', 'BTN-HRVST WHT CRKR', 'PAC-VEG BROTH 32oz', 'FD-CANNELLINI BEAN', 'THAI COCONUT MILK', 'GREEN CHILI REFRIE', 'GIMME-TERIYAKi 6pk', 'SESAME RICE THINS', 'INKA RSTD CORN 4oz', 'JUSTIN-DARK PB CUP', 'AK MAK CRACKERS', 'KOYO MUSHROOM RAMN', 'KETTLE-liteSALT5oz', 'ANGIE-SSALT POPCRN', 'GEROLSTEINER']\n"
     ]
    },
    {
     "data": {
      "image/png": "[encoded data removed]",
      "text/plain": [
       "<Figure size 432x288 with 1 Axes>"
      ]
     },
     "metadata": {
      "needs_background": "light"
     },
     "output_type": "display_data"
    },
    {
     "name": "stdout",
     "output_type": "stream",
     "text": [
      "<img src=\"./img/2018/1554323890.topic3.png\">\n",
      "0.16 Topic #4:\n",
      "['Sabor Orig', 'LACROIX LIME 12pk', 'ANGIE-SSALT POPCRN', 'GIMME-SSALTsnk6pk', 'PLOTE RSTTOM SALSA', 'CAL OLIVE OIL 25oz', 'PRIMAVERA TOR CHIP', 'SIGHT GLASS', 'MUIR-TOMATO PASTE', 'BTN-HRVST WHT CRKR', 'FARMER PUMPKIN-CAN', 'ORGANIC PENNE', 'MONTEBL TORCHIETTE', 'SIMPLY NKD PITA CH', 'ORGANIC FUSILLI', 'BD-SSALT NUT THINS', 'PELLEGRINO -750 ML', 'MILKADAMIA-UNSWEET', 'NEWMAN-THIN PRETZL', 'TK ORG COCONUT MLK', 'ROASTED TOM SALSA', 'BRAGG-APPLciderVIN', 'LUND-BRN RICE CAKE', 'HOMEMADE-BLUE CHIP', 'CASC FARM PURELY O', 'WESTBRAE-BLK BEANS', 'LACROIX PLAIN 12pk', 'GIMME-SESAME SNACK', 'MARYS - EVERYTHING', 'CHIPOTLE SALSA', 'HERITAGE FLAKE bag', 'BARIANI OIL 1LITER', 'FD-CANNELLINI BEAN', 'CRUSHED', 'SIMPLE-SSALT CRCKR', 'LJULY-MINI PBcrckr', 'MUIR-DICED TOMATO', 'BTN-CRSPY WHT CRKR', 'INKA PLANTAINS 4oz', 'PAC ALM UNSORIG 32', 'MARYclassicCRACKER', 'MINERAL WATER', 'LUND-N/S RICE CAKE', 'NV MED PITTD OLIVE', 'IMAGINE VEG BROTH', 'BTN STNGRND WHEATS', 'SB PIST SALT 12oz', 'ORGANIC LINGUINE', 'RIVER-CRMY ALMDbtr', 'NEWMAN SPELT PRETZ']\n"
     ]
    },
    {
     "data": {
      "image/png": "[encoded data removed]",
      "text/plain": [
       "<Figure size 432x288 with 1 Axes>"
      ]
     },
     "metadata": {
      "needs_background": "light"
     },
     "output_type": "display_data"
    },
    {
     "name": "stdout",
     "output_type": "stream",
     "text": [
      "<img src=\"./img/2018/1554323890.topic4.png\">\n",
      "0.18 Topic #5:\n",
      "['BRAGGS CIDER VINEG', 'KARLIN BAKING SODA', 'BRAGG-APPLciderVIN', 'TK ORG COCONUT MLK', 'MUIR-TOMATO PASTE', 'MILKADAMIA-UNSWEET', 'CAL OLIVE OIL 25oz', 'ANGIE-SSALT POPCRN', 'PAC OAT ORIG 32oz', 'LUND-BRN RICE CAKE', 'PAC ALM UNSORIG 32', 'BARIANI OIL 1LITER', 'BIONATURAE TOM PAS', 'PELLEGRINO -750 ML', 'MARUKAN RICE VIN', 'PAC-VEG BROTH 32oz', 'NF-COCO MILK- SIMP', 'NF-COCO MILK- CAN', 'INKA PLANTAINS 4oz', 'GEROLSTEINER', 'BAKING POWDER 4 OZ', 'TEMPT-unswtORIGINL', 'DELREAL DATES', 'Heavy Coconut Crea', 'THAI COCONUT MILK', 'TK RED CURRY PASTE', 'NF COCONUT CREAM', 'UNSWEET COCONUT MI', 'S CRUZ LEMON JUICE', 'DrB COCO OIL 14oz', 'DrB COCO OIL 30oz', 'BD-UNS ALMD BREEZE', 'CADIA TOM PASTE', 'DISTILLED VINEGAR', 'FARMER PUMPKIN-CAN', 'SPECTRUM ORG VINEG', 'GOE BLUE CORN 8oz', 'ChFOOD AVOCADO OIL', 'GRADE A MAPLE SYRU', 'BRAGG LQD AMNO16oz', 'BTB VEGETABLE BASE', 'LUND-N/S RICE CAKE', 'CHOLULA HSAUCE 5oz', 'FD-CANNELLINI BEAN', 'ORGANIC ARTISAN FL', 'LUND TAMARI RICECA', 'PURITY GHEE', 'HAKUBAKU SOBA', 'ANCIENTORG GHEE 16', 'AK MAK CRACKERS']\n"
     ]
    },
    {
     "data": {
      "image/png": "[encoded data removed]",
      "text/plain": [
       "<Figure size 432x288 with 1 Axes>"
      ]
     },
     "metadata": {
      "needs_background": "light"
     },
     "output_type": "display_data"
    },
    {
     "name": "stdout",
     "output_type": "stream",
     "text": [
      "<img src=\"./img/2018/1554323891.topic5.png\">\n",
      "0.15 Topic #6:\n",
      "['MtV SPRKLING 1 LTR', 'NF-COCO MILK- CAN', 'BRAGG-APPLciderVIN', 'GEROLSTEINER', 'PELLEGRINO -750 ML', 'CAL OLIVE OIL 25oz', 'SPARKLING LIME', 'NF-COCO MILK- SIMP', 'MINERAL WATER', 'LAIKI-blkRICE CRKR', 'FARMER PUMPKIN-CAN', 'SPARKLING BLACKBER', 'INKA PLANTAINS 4oz', 'GIMME-SSALTsnk6pk', 'PAC ALM UNSORIG 32', 'KARLIN BAKING SODA', 'MILKADAMIA-UNSWEET', 'PAC-VEG BROTH 32oz', 'BIONATURAE TOM PAS', 'LAIKI-redRICE CRKR', 'PAC UNSWT HEMPMILK', 'LUND-N/S RICE CAKE', 'ANGIE-SSALT POPCRN', 'BARIANI OIL 1LITER', 'PRIMAVERA TOR CHIP', 'RIVER-CRMY ALMDbtr', 'LUND-BRN RICE CAKE', 'DrB COCO OIL 30oz', 'GUAYAKI CLSSC GOLD', 'NF COCONUT CREAM', 'NAIRN-OATMEAL CKY', 'SESAME RICE THINS', 'SF-EVERYTHING PRTZ', 'ORGANIC WATER CRAC', 'MARCONA ALMONDS', 'MARYclassicCRACKER', 'FD-CANNELLINI BEAN', 'MARYS - EVERYTHING', 'MARYS-HERB CRACKER', 'TONY-MILK CHOC BAR', 'MARYS-SEAWD SESAME', 'Heavy Coconut Crea', 'LUND TAMARI RICECA', 'NOCCIOLATA', 'CASASAN THICK CHIP', 'SF-ORIG PRTZS CRSP', 'JOVIAL CRUSHED TOM', 'BIO STRAINED TOMAT', 'SIETE-SEASALT CHIP', 'ANCIENTORG GHEE 16']\n"
     ]
    },
    {
     "data": {
      "image/png": "[encoded data removed]",
      "text/plain": [
       "<Figure size 432x288 with 1 Axes>"
      ]
     },
     "metadata": {
      "needs_background": "light"
     },
     "output_type": "display_data"
    },
    {
     "name": "stdout",
     "output_type": "stream",
     "text": [
      "<img src=\"./img/2018/1554323891.topic6.png\">\n"
     ]
    }
   ],
   "source": [
    "def print_top_items(model, feature_names, n_top_words):\n",
    "    topic_dict = defaultdict()\n",
    "    topics =[]\n",
    "    for topic_idx, topic in enumerate(model.components_):\n",
    "        print(topic_strength[topic_idx],\"Topic #%d:\" % topic_idx)\n",
    "        #topic_string=(\" \".join([feature_names[i]for i in topic.argsort()[:-n_top_words - 1:-1]]))\n",
    "        topic_string=[feature_names[i]for i in topic.argsort()[:-n_top_words - 1:-1]]\n",
    "        topic_dict[topic_idx]=topic_string\n",
    "        topics.append(topic_string)\n",
    "        print(topic_string)\n",
    "        #print()\n",
    "        wordcloud = WordCloud(max_font_size=500, max_words=1000, background_color=\"white\").generate(str(topic_string).replace(\" \", \"_\").replace(\"'\",\"\"))\n",
    "\n",
    "        # Display the generated image:\n",
    "        #plt.figure(1,figsize=(10,10))\n",
    "        plt.imshow(wordcloud, interpolation='bilinear')\n",
    "        plt.axis(\"off\")\n",
    "        plt.show()\n",
    "        #plt.savefig('topic%d.png'%topic_idx)\n",
    "        #plt.close()\n",
    "        img_time=str(time.time()).split('.')[0]\n",
    "        wordcloud.to_file('./img/2018/%s.topic%d.png'%(img_time,topic_idx))\n",
    "        print('<img src=\"./img/2018/%s.topic%d.png\">'%(img_time,topic_idx))\n",
    "    return topic_dict\n",
    "topics = print_top_items(model,list(items_set),n_top_words)\n",
    "#print(\"stopwords:\",stopwords,\"number of topics:\",len(topics))"
   ]
  },
  {
   "cell_type": "code",
   "execution_count": 65,
   "metadata": {},
   "outputs": [],
   "source": [
    "topics3=topics.copy()"
   ]
  },
  {
   "cell_type": "code",
   "execution_count": 66,
   "metadata": {},
   "outputs": [
    {
     "name": "stdout",
     "output_type": "stream",
     "text": [
      "[0.93 0.01 0.01 0.02 0.03]\n",
      "[[50.  8.  8. 23. 13.]\n",
      " [ 8. 50. 22.  5. 19.]\n",
      " [ 8. 22. 50.  7. 16.]\n",
      " [23.  5.  7. 50. 11.]\n",
      " [13. 19. 16. 11. 50.]]\n"
     ]
    }
   ],
   "source": [
    "topic_compare =np.zeros([len(topics),len(topics)])\n",
    "\n",
    "for topic in topics:\n",
    "    for item in topics[topic]:\n",
    "        for topic2 in topics:\n",
    "            #print (item)\n",
    "            #print (type(topics[topic2]))\n",
    "            if item in topics[topic2]:\n",
    "                topic_compare[topic,topic2]+=1\n",
    "print (topic_strength)            \n",
    "print(topic_compare)\n"
   ]
  },
  {
   "cell_type": "code",
   "execution_count": 67,
   "metadata": {
    "scrolled": true
   },
   "outputs": [],
   "source": [
    "list_of_topics=[]\n",
    "for topic in topics:\n",
    "     list_of_topics.append(topics[topic])"
   ]
  },
  {
   "cell_type": "code",
   "execution_count": 45,
   "metadata": {},
   "outputs": [
    {
     "data": {
      "text/plain": [
       "50"
      ]
     },
     "execution_count": 45,
     "metadata": {},
     "output_type": "execute_result"
    }
   ],
   "source": [
    "len(topics[0])"
   ]
  },
  {
   "cell_type": "code",
   "execution_count": null,
   "metadata": {},
   "outputs": [],
   "source": [
    "ingredients =np.array((len(topics),len(topics[0])))\n",
    "for row in topics:\n",
    "    print('row',row)\n",
    "    for i,item in enumerate(topics[row]):\n",
    "        if item not in topics[row]:\n",
    "            print ('i',i,item)\n",
    "            \n",
    "        if item not in topics[0]:\n",
    "            print ('iI',i,item)\n",
    "        #ingredients[row:i]=item\n",
    "ingredients"
   ]
  },
  {
   "cell_type": "code",
   "execution_count": 47,
   "metadata": {},
   "outputs": [
    {
     "ename": "NameError",
     "evalue": "name 'ing_set' is not defined",
     "output_type": "error",
     "traceback": [
      "\u001b[0;31m---------------------------------------------------------------------------\u001b[0m",
      "\u001b[0;31mNameError\u001b[0m                                 Traceback (most recent call last)",
      "\u001b[0;32m<ipython-input-47-b0399d11eeb1>\u001b[0m in \u001b[0;36m<module>\u001b[0;34m\u001b[0m\n\u001b[0;32m----> 1\u001b[0;31m \u001b[0mlen\u001b[0m\u001b[0;34m(\u001b[0m\u001b[0ming_set\u001b[0m\u001b[0;34m)\u001b[0m\u001b[0;34m\u001b[0m\u001b[0;34m\u001b[0m\u001b[0m\n\u001b[0m",
      "\u001b[0;31mNameError\u001b[0m: name 'ing_set' is not defined"
     ]
    }
   ],
   "source": [
    "len(ing_set)"
   ]
  },
  {
   "cell_type": "code",
   "execution_count": 225,
   "metadata": {},
   "outputs": [],
   "source": [
    "ing_index_dict = dict(zip(ing_set, range(len(ing_set))))"
   ]
  },
  {
   "cell_type": "code",
   "execution_count": 231,
   "metadata": {},
   "outputs": [],
   "source": [
    "ingredients=np.array(ingredients)\n",
    "ingredients=ingredients.reshape(5,55)"
   ]
  },
  {
   "cell_type": "code",
   "execution_count": 233,
   "metadata": {},
   "outputs": [
    {
     "data": {
      "text/plain": [
       "(5, 55)"
      ]
     },
     "execution_count": 233,
     "metadata": {},
     "output_type": "execute_result"
    }
   ],
   "source": [
    "ingredients.shape"
   ]
  },
  {
   "cell_type": "code",
   "execution_count": 234,
   "metadata": {},
   "outputs": [],
   "source": [
    "ing_matrix=np.zeros(ingredients.shape)"
   ]
  },
  {
   "cell_type": "code",
   "execution_count": 244,
   "metadata": {},
   "outputs": [
    {
     "data": {
      "text/plain": [
       "array([[ 63.,  99.,  42.,  64., 112.,  14.,  21., 124.,  32.,  35.,  88.,\n",
       "         68., 121., 130., 113., 120.,  38.,  95., 134.,  10.,  23.,  16.,\n",
       "         27.,  41.,  96., 118.,  58., 101., 105.,  85.,  97.,  47.,  86.,\n",
       "         29.,  20.,  91.,  15.,  55., 102.,  28.,  98.,   1., 119., 122.,\n",
       "        132.,  11., 128.,  65.,  17.,  72.,  54.,   0.,  81., 125.,  25.],\n",
       "       [100.,  32.,  64.,  19.,  88.,   1., 120.,  86.,   3.,   9.,  39.,\n",
       "        105., 134.,  41.,  78.,  69.,  93., 131., 124.,  48.,  34.,  97.,\n",
       "         67.,  57., 112.,  62.,  74.,   7.,  16.,  44., 115.,  91.,  65.,\n",
       "         11., 123.,  14.,  68.,  53., 107.,  51.,  31.,   6.,  98., 102.,\n",
       "         24., 121.,  61.,  49.,  55.,  12.,  82., 101., 133.,  60.,  75.],\n",
       "       [ 37., 115.,  96.,  97.,  21.,   1.,  58.,  77.,  35.,   3., 105.,\n",
       "        118.,  71., 130.,  85., 131., 104.,  87.,  19.,  15.,  43.,  38.,\n",
       "        101.,   0.,  41.,   2.,  13., 127.,  62., 121.,  18.,  89.,  32.,\n",
       "        102.,  50., 126.,  65.,  30.,  14.,  69.,  29.,  56.,  51.,  40.,\n",
       "         20.,  64.,  17., 129.,  88., 119., 113., 103.,  12.,  26., 110.],\n",
       "       [ 45.,  87.,   4.,  77.,  62.,  35.,  68., 101.,  19.,  96.,  22.,\n",
       "        105.,  50.,  91., 113.,  69.,  13., 109.,  48.,  32.,  38.,  94.,\n",
       "         83.,   1.,   9.,  10.,  39.,  30., 120.,  66.,  41., 126.,  85.,\n",
       "         12., 131.,  93.,  23.,  51.,  89.,   3.,  97.,  27.,  43.,  80.,\n",
       "         58., 110., 118.,  15.,  72., 111., 134., 108.,  73., 106.,  84.],\n",
       "       [ 52.,  27.,  13.,  48.,   4., 126.,  93.,  94., 110.,   9.,   3.,\n",
       "         16., 105.,  69.,   1.,  77.,  51., 132., 106.,  22.,  90.,  62.,\n",
       "         57., 115.,  65.,  73.,  70.,  72.,  68.,  31.,   5.,  50.,  41.,\n",
       "        134.,  33.,  55.,  85., 103.,  71., 117.,  58., 116.,  92.,  36.,\n",
       "         67.,  28.,   0.,   8.,  96.,  79.,  59.,  76.,  46., 114.,  39.]])"
      ]
     },
     "execution_count": 244,
     "metadata": {},
     "output_type": "execute_result"
    }
   ],
   "source": [
    "for row,col in enumerate(ingredients):\n",
    "    for i,c in enumerate(col):\n",
    "        #print(row,i,c)\n",
    "        ing_matrix[row,i]=ing_index_dict[c]\n",
    "ing_matrix"
   ]
  },
  {
   "cell_type": "code",
   "execution_count": 255,
   "metadata": {},
   "outputs": [
    {
     "data": {
      "text/plain": [
       "dict_values([0, 1, 2, 3, 4, 5, 6, 7, 8, 9, 10, 11, 12, 13, 14, 15, 16, 17, 18, 19, 20, 21, 22, 23, 24, 25, 26, 27, 28, 29, 30, 31, 32, 33, 34, 35, 36, 37, 38, 39, 40, 41, 42, 43, 44, 45, 46, 47, 48, 49, 50, 51, 52, 53, 54, 55, 56, 57, 58, 59, 60, 61, 62, 63, 64, 65, 66, 67, 68, 69, 70, 71, 72, 73, 74, 75, 76, 77, 78, 79, 80, 81, 82, 83, 84, 85, 86, 87, 88, 89, 90, 91, 92, 93, 94, 95, 96, 97, 98, 99, 100, 101, 102, 103, 104, 105, 106, 107, 108, 109, 110, 111, 112, 113, 114, 115, 116, 117, 118, 119, 120, 121, 122, 123, 124, 125, 126, 127, 128, 129, 130, 131, 132, 133, 134])"
      ]
     },
     "execution_count": 255,
     "metadata": {},
     "output_type": "execute_result"
    }
   ],
   "source": [
    "ing_array=ing_index_dict.values()\n",
    "\n",
    "ing_array"
   ]
  },
  {
   "cell_type": "code",
   "execution_count": null,
   "metadata": {},
   "outputs": [],
   "source": []
  },
  {
   "cell_type": "code",
   "execution_count": 259,
   "metadata": {},
   "outputs": [
    {
     "name": "stdout",
     "output_type": "stream",
     "text": [
      "[False False False False False False False False False False False False\n",
      " False False False False False False False False False False False False\n",
      " False False False False False False False False False False False False\n",
      " False False False False False False False False False False False False\n",
      " False False False False False False False]\n",
      "[False False False False False False False False False False False False\n",
      " False False False False False False False False False False False False\n",
      " False False False False False False False False False False False False\n",
      " False False False False False False False False False False False False\n",
      " False False False False False False False]\n",
      "[False False False False False False False False False False False False\n",
      " False False False False False False False False False False False False\n",
      " False False False False False False False False False False False False\n",
      " False False False False False False False False False False False False\n",
      " False False False False False False False]\n",
      "[False False False False False False False False False False False False\n",
      " False False False False False False False False False False False False\n",
      " False False False False False False False False False False False False\n",
      " False False False False False False False False False False False False\n",
      " False False False False False False False]\n",
      "[False False False False False False False False False False False False\n",
      " False False False False False False False False False False False False\n",
      " False False False False False False False False False False False False\n",
      " False False False False False False False False False False False False\n",
      " False False False False False False False]\n"
     ]
    }
   ],
   "source": [
    "for i in ing_matrix:\n",
    "    print(ing_array==i)"
   ]
  },
  {
   "cell_type": "code",
   "execution_count": 226,
   "metadata": {
    "scrolled": false
   },
   "outputs": [
    {
     "data": {
      "text/plain": [
       "{'SPINACH BUNCHED': 0,\n",
       " 'POTATOES YELLOW': 1,\n",
       " 'ROOTS TURNIP LOOSE': 2,\n",
       " 'POTATOES RUSSET': 3,\n",
       " 'SATSUMA MANDARIN': 4,\n",
       " 'ORGANIC 2% MILK': 5,\n",
       " 'PARMIGIANO REGGIAN': 6,\n",
       " 'ORG 1LB BUTTER': 7,\n",
       " 'BAG PINK LADY APPL': 8,\n",
       " '4110 ORG RLD OATS': 9,\n",
       " 'TOMATO MIX HEIRLOO': 10,\n",
       " 'GREEN ONIONS': 11,\n",
       " 'BRUSSEL SPROUTS': 12,\n",
       " 'PEAR BOSC': 13,\n",
       " 'ONIONS GREEN': 14,\n",
       " 'KALE GREEN': 15,\n",
       " 'ORANGES BLOOD': 16,\n",
       " 'CHARD RAINBOW': 17,\n",
       " 'POTATOES RED': 18,\n",
       " 'MUSHROOM CRIMINI': 19,\n",
       " 'CUCUMBERS ENGLISH': 20,\n",
       " 'PARSLEY ITALIAN': 21,\n",
       " 'BLUEBERRIES': 22,\n",
       " 'BROCCOLI BABY SWEE': 23,\n",
       " 'CLO UNSALTED BUTTE': 24,\n",
       " 'DAIKON WATERMELON': 25,\n",
       " '2215 ORGANIC LENTI': 26,\n",
       " 'GRAPEFRUIT': 27,\n",
       " 'RADDICHIO': 28,\n",
       " 'BOK CHOY BABY': 29,\n",
       " 'PEPPERS GREEN BELL': 30,\n",
       " 'ORG WM QT CLOVER': 31,\n",
       " 'ONIONS RED': 32,\n",
       " 'STRAUS PLN YOG QT': 33,\n",
       " 'EGGS DZ ST JOHN': 34,\n",
       " 'KALE DINO': 35,\n",
       " '3080 MEDJOOL DATES': 36,\n",
       " 'CELERY': 37,\n",
       " 'CAULIFLOWER CELLO': 38,\n",
       " 'EGGPLANT GLOBE': 39,\n",
       " 'DAIKON': 40,\n",
       " 'TOMATOES ROMA': 41,\n",
       " 'LIMES': 42,\n",
       " 'CHARD RED': 43,\n",
       " 'BASIL 4oz PACKAGE': 44,\n",
       " 'PEPPERS RED BELL': 45,\n",
       " 'CAULIFLOWER BULK': 46,\n",
       " 'LEMONGRASS': 47,\n",
       " 'BAGEL': 48,\n",
       " '2195 ORG GARBANZO': 49,\n",
       " 'LETTUCE SALAD MIX': 50,\n",
       " 'LETTUCE RED LEAF': 51,\n",
       " 'ORANGES NAVEL': 52,\n",
       " '8160 CUMIN SD ORG': 53,\n",
       " 'KALE RED BOR': 54,\n",
       " 'CARA CARA NAVEL': 55,\n",
       " 'GREEN CHARD': 56,\n",
       " 'WHOLE ORG MILK': 57,\n",
       " 'BEETS RED LOOSE': 58,\n",
       " '4105 QUICK OATS': 59,\n",
       " '2220 ORG RED LNTL': 60,\n",
       " '3680 BAKERS CH FLO': 61,\n",
       " 'BEANS GREEN': 62,\n",
       " 'CILANTRO': 63,\n",
       " 'GINGER': 64,\n",
       " 'TOMATOES CLUSTER': 65,\n",
       " 'RASPBERRY': 66,\n",
       " '4125 OG STL CUT OA': 67,\n",
       " 'CARROTS BUNCH': 68,\n",
       " '5290 WALNUTS': 69,\n",
       " 'PACKAGED FOOD': 70,\n",
       " 'COLLARDS': 71,\n",
       " 'MANGO': 72,\n",
       " 'REFRIGERATED': 73,\n",
       " 'SPROUTED FIRM TOFU': 74,\n",
       " '8571 TURM PWD ORG': 75,\n",
       " 'EVOLUTION': 76,\n",
       " 'BROCCOLI LOOSE': 77,\n",
       " 'PARMIGIANO REGG': 78,\n",
       " 'MIX CHERRY TOMATO': 79,\n",
       " 'BLACKBERRY PACK': 80,\n",
       " 'LIL GEM LETTUCE': 81,\n",
       " '5657 OG OLIVE OIL': 82,\n",
       " 'PEPPERS YELLOW BEL': 83,\n",
       " 'ASPARAGUS': 84,\n",
       " 'CABBAGE RED': 85,\n",
       " 'ONIONS WHITE': 86,\n",
       " 'SQUASH ZUCCHINI': 87,\n",
       " 'SHALLOTS': 88,\n",
       " 'LETTUCE ROMAINE': 89,\n",
       " 'PEARS RED': 90,\n",
       " 'SUGAR PLUM CLAM': 91,\n",
       " 'APPLES GALA': 92,\n",
       " 'MILTON CHEDDAR': 93,\n",
       " 'KIWI LOOSE': 94,\n",
       " 'DILL': 95,\n",
       " 'CUCUMBERS': 96,\n",
       " 'LEEKS': 97,\n",
       " 'SHIITAKES BABY': 98,\n",
       " 'LEMONS': 99,\n",
       " 'GARLIC WHITE': 100,\n",
       " 'SPINACH LOOSE': 101,\n",
       " 'SQUASH BUTTERNUT': 102,\n",
       " 'LETTUCE RED BUTTER': 103,\n",
       " 'ROOTS PARSNIP': 104,\n",
       " 'POTATOES GARNET': 105,\n",
       " '3185 ORG MANGO': 106,\n",
       " '8161 ORG CUMIN PWD': 107,\n",
       " 'STRAWBERRY 1LB PKG': 108,\n",
       " 'PEPPERS ORANGE BEL': 109,\n",
       " 'APPLE HONEYCRISP': 110,\n",
       " 'PEAS SNAP': 111,\n",
       " 'PEPPER CHILI': 112,\n",
       " 'ARUGULA LOOSE': 113,\n",
       " 'PARADISO VINTAGE': 114,\n",
       " 'CARROTS LOOSE': 115,\n",
       " '5120 ORG ALMONDS': 116,\n",
       " 'EGGS DZ ROCK LG': 117,\n",
       " 'CABBAGE GREEN': 118,\n",
       " 'DANDELION': 119,\n",
       " 'MUSHROOMS SHIITAKE': 120,\n",
       " 'ROOT TURMERIC': 121,\n",
       " '2448 CASTEL OLIVE': 122,\n",
       " '8036 BAY LEAF ORG': 123,\n",
       " 'HERBS BUNCH': 124,\n",
       " 'ORG Y CORN TORT': 125,\n",
       " 'APPLES PINK LADY': 126,\n",
       " 'PARSLEY CURLY': 127,\n",
       " 'GARLIC PURPLE': 128,\n",
       " 'ORANGES VALENCIA': 129,\n",
       " 'FENNEL': 130,\n",
       " 'POTATOES JAPANESE': 131,\n",
       " 'TANGELO MINNEOLA': 132,\n",
       " '8156 CURRY PWDORG': 133,\n",
       " 'LEMONS MEYER': 134}"
      ]
     },
     "execution_count": 226,
     "metadata": {},
     "output_type": "execute_result"
    }
   ],
   "source": [
    "for ing_index_dict"
   ]
  },
  {
   "cell_type": "code",
   "execution_count": null,
   "metadata": {},
   "outputs": [],
   "source": []
  },
  {
   "cell_type": "code",
   "execution_count": 68,
   "metadata": {},
   "outputs": [],
   "source": [
    "def print_basket_contents(basket_id):\n",
    "    basket=[]\n",
    "    #print('+++++++++++++++++++++++next basket+++++++++++++++++')\n",
    "    for items in df['items'][basket_id]:\n",
    "        #for item in items:\n",
    "        print(\"item:\",items)\n",
    "    #return basket\n",
    "#print_basket_contents(1116)"
   ]
  },
  {
   "cell_type": "code",
   "execution_count": 69,
   "metadata": {},
   "outputs": [
    {
     "name": "stdout",
     "output_type": "stream",
     "text": [
      "++++++++++++++++++Topic #0, basket #1+++++++++++++++++++\n",
      "item: ['', 'NG Arthred 240gram', 45.45, 1]\n",
      "item: ['', 'Now Taurine 1000 m', 20.78, 1]\n",
      "item: ['', 'SG Vit D-3 5000 24', 29.12, 1]\n",
      "item: ['', 'PN Vit-C 500m180vg', 20.63, 1]\n",
      "item: ['', 'Now Leangels 120ct', 55.98, 1]\n",
      "item: ['', 'CL CoEnzymeBplex12', 21.69, 1]\n",
      "item: ['', 'CL CoEnzymeBplex12', 21.69, 1]\n",
      "item: ['', 'NO Tyrosine 120cp', 12.78, 1]\n",
      "item: ['', 'JR Gamma E-300 120', 30.36, 1]\n",
      "item: ['', 'JR Gamma E-300 120', 30.36, 1]\n",
      "item: ['', 'JR Red Glut 500mg', 32.76, 1]\n",
      "item: ['', 'JR Hyaluronic 120c', 28.76, 1]\n",
      "item: ['', 'EZ Resveratrol 60g', 20.39, 1]\n",
      "item: ['', 'TW DMAE 100cap', 8.39, 1]\n",
      "item: ['', 'NO Silymarin 120vc', 13.5, 1]\n",
      "item: ['', 'NO L-Carnosine 100', 43.18, 1]\n",
      "item: ['', 'NO Relora 120vcap', 30.38, 1]\n",
      "item: ['', 'NO Arginine500mg25', 19.19, 1]\n",
      "item: ['', 'GI Turmeric 120cap', 31.99, 1]\n",
      "item: ['', 'GI Turmeric 120cap', 31.99, 1]\n",
      "item: ['', 'GoL Zinc', 9.99, 1]\n",
      "item: ['', 'GoL Zinc', 9.99, 1]\n",
      "item: ['', 'NA Boswellia 90vcp', 18.75, 1]\n",
      "item: ['', 'GoL Vit Code Iron', 12.99, 1]\n",
      "item: ['', 'FP My Commun 120c', 48.99, 1]\n",
      "item: ['', 'FP Cordychi 120c', 47.96, 1]\n",
      "item: ['', 'HE LungTonic 60gel', 20.99, 1]\n",
      "item: ['', 'Now Astragalus Ext', 10.99, 1]\n",
      "item: ['', 'VW Holy Basil 60vg', 20.4, 1]\n",
      "item: ['', 'HE LungTonic 60gel', 20.99, 1]\n",
      "item: ['', 'NG Biotin 5mg 60cp', 14.22, 1]\n",
      "item: ['', 'DB Actv Folate 90c', 11.2, 1]\n",
      "item: ['', 'Now Ginger Root 90', 9.75, 1]\n",
      "item: ['', 'Arnicare Gel', 15.95, 4]\n",
      "item: ['', 'SP Fish Oil 250gel', 27.35, 1]\n",
      "item: ['', 'SP Ashitaba 80g', 49.99, 1]\n",
      "item: ['', 'NO Super EPO 120ge', 19.99, 1]\n",
      "item: ['', 'MF Zinc DailyFoods', 22.99, 1]\n",
      "item: ['', 'HK Omega-7 60gel', 23.98, 1]\n",
      "item: ['', 'Now Astragalus Ext', 10.99, 1]\n",
      "item: ['', 'NG Biotin 5mg 60cp', 14.22, 1]\n",
      "item: ['', 'NO Grape Seed 90vc', 11.18, 1]\n",
      "item: ['', 'NW Std Rhodiola 60', 15.49, 1]\n",
      "item: ['', 'Now Ginger Root 90', 9.75, 1]\n",
      "item: ['', 'MR Chromium Pico10', 5.98, 1]\n",
      "item: ['', 'GI Whl Body Defens', 25.49, 1]\n",
      "item: ['', 'NV Fever Cplx 50ml', 10.45, 1]\n",
      "item: ['', 'NV Teething 50ml', 10.45, 1]\n",
      "item: ['', 'NV Teething 50ml', 10.45, 1]\n",
      "item: ['', 'VW Holy Basil 60vg', 20.4, 1]\n",
      "item: ['', 'VW Holy Basil 60vg', 20.4, 1]\n",
      "item: ['', 'TW Tri-Boron 100ca', 7.44, 1]\n",
      "item: ['', 'MR Chromium Pico10', 5.98, 1]\n",
      "item: ['', 'MR Chromium Pico10', 5.98, 1]\n",
      "item: ['', 'BO Mezereum 30c', 6.45, 1]\n",
      "item: ['', 'BO Cuprum Met 30c', 6.45, 1]\n",
      "item: ['', 'B APIS MELLIFICA 6', 6.45, 1]\n",
      "item: ['', 'BARYTA CARBONIC30C', 6.45, 1]\n",
      "item: ['', 'B ARNICA MONTANA30', 6.45, 1]\n",
      "item: ['', 'BO Zinc Met 6c', 6.45, 1]\n",
      "item: ['', 'NG ZnCitrate50mg60', 7.15, 1]\n",
      "item: ['', 'NG Biotin 5mg 60cp', 14.22, 1]\n",
      "item: ['', 'SG Astaxan 5mg 60g', 21.12, 1]\n",
      "item: ['', 'SG Astaxan 5mg 60g', 21.12, 1]\n",
      "item: ['', 'BA Rescue Pastille', 8.63, 1]\n",
      "item: ['', 'BA Rescue Pastille', 8.63, 1]\n",
      "item: ['', 'BA Rescue Pastille', 8.63, 1]\n",
      "item: ['', 'BA Rescue Pastille', 8.63, 1]\n",
      "item: ['', 'HP Peppermint Spir', 10.9, 1]\n",
      "item: ['', 'EC Nettles 90vegca', 19.65, 1]\n",
      "item: ['', 'MR Chromium Pico10', 5.98, 1]\n",
      "item: ['', 'Flora Floradix 23', 50.39, 1]\n",
      "item: ['', 'BK Bio-K+12pk Rice', 48.45, 2]\n",
      "item: ['', 'NW ChildPrimadophi', 14.39, 1]\n",
      "item: ['', '2345 SAUERKRAUT AV', 1.6600000000000001, 16]\n",
      "item: ['MP', 'BAG CREDIT', -0.05, 23]\n",
      "item: ['MP', 'BAG CREDIT', -0.05, 23]\n",
      "item: ['MP', 'BAG CREDIT', -0.05, 23]\n",
      "item: ['MP', 'BAG CREDIT', -0.1, 23]\n",
      "item: ['', 'GOLDEN KRAUT', 2.92, 16]\n",
      "item: ['', '2347 apple kraut', 2.67, 16]\n",
      "item: ['', '2236 PINK SALT CRS', 1.21, 16]\n",
      "item: ['', 'FARMER PUMPKIN-CAN', 1.99, 15]\n",
      "item: ['', '5495 COCONUT OIL', 7.11, 16]\n",
      "item: ['MP', 'BAG CREDIT', -0.05, 23]\n",
      "item: ['', 'FARMER PUMPKIN-CAN', 1.99, 15]\n",
      "item: ['', 'FARMER PUMPKIN-CAN', 1.99, 15]\n",
      "item: ['', 'FARMER PUMPKIN-CAN', 1.99, 15]\n",
      "item: ['', '6516 SEA CRUNCHIES', 1.2, 16]\n",
      "item: ['MP', '20% Vitamin TX', -279.81, 1]\n",
      "item: ['MP', '20% Vitamin TX FS', -9.69, 2]\n",
      "++++++++++++++++++Topic #0, basket #2+++++++++++++++++++\n",
      "item: ['', 'EU Curamin 120vcap', 56.91, 1]\n",
      "item: ['', 'FP Cordychi 120c', 47.96, 1]\n",
      "item: ['', 'FP My Commun 120c', 55.96, 1]\n",
      "item: ['', 'GI Whl Body Defens', 25.49, 1]\n",
      "item: ['', 'GI Whl Body Defens', 25.49, 1]\n",
      "item: ['', 'NC Estrotone 60 vc', 45.56, 1]\n",
      "item: ['', 'NG Arthred 240gram', 45.45, 1]\n",
      "item: ['', 'MF BB 180 Tab', 47.99, 1]\n",
      "item: ['', 'NO L-Lysine 500mg2', 15.18, 1]\n",
      "item: ['', 'NO Coral Calcium 6', 12.78, 1]\n",
      "item: ['', 'NO Carnitine500mg1', 52.78, 1]\n",
      "item: ['', 'NO Super EPO 120ge', 19.99, 1]\n",
      "item: ['', 'NO Super EPO 120ge', 19.99, 1]\n",
      "item: ['', 'NO Arginine500mg25', 19.19, 1]\n",
      "item: ['', 'DB Lipoic 300mg180', 25.6, 1]\n",
      "item: ['', 'HK Omega-7 120gel', 39.99, 1]\n",
      "item: ['', 'OI Ashwagandha 180', 35.1, 1]\n",
      "item: ['', 'SG Quercetin 100vg', 21.12, 1]\n",
      "item: ['', 'MF Zinc DailyFoods', 18.99, 1]\n",
      "item: ['', 'GI Turmeric 120cap', 31.99, 1]\n",
      "item: ['', 'PN Vit-C 500m180vg', 20.63, 1]\n",
      "item: ['', 'TW PABA 500mg 100c', 10.96, 1]\n",
      "item: ['', 'MF Zinc DailyFoods', 18.99, 1]\n",
      "item: ['', 'SN L-Proline 4oz', 11.18, 1]\n",
      "item: ['', 'JR Famil-E 60gel', 25.56, 1]\n",
      "item: ['', 'CL CoEnzymeBplex12', 21.69, 1]\n",
      "item: ['', 'TW DMAE 100cap', 8.39, 1]\n",
      "item: ['', 'Gt Grn Coffee 60cp', 22.94, 1]\n",
      "item: ['', 'JR Red Glut 500mg', 32.76, 1]\n",
      "item: ['', 'CL CoEnzymeBplex12', 21.69, 1]\n",
      "item: ['', 'OI Brahmi-GK 90vca', 18.0, 1]\n",
      "item: ['', 'NO Tyrosine 120cp', 12.78, 1]\n",
      "item: ['', 'NW Std Rhodiola 60', 13.12, 1]\n",
      "item: ['', 'HE LungTonic 60gel', 20.99, 1]\n",
      "item: ['', 'HE LungTonic 60gel', 20.99, 1]\n",
      "item: ['', 'DB Actv Folate 90c', 11.2, 1]\n",
      "item: ['', 'DB Actv Folate 90c', 11.2, 1]\n",
      "item: ['', 'NW Capsicool 100ca', 7.88, 1]\n",
      "item: ['', 'NW Capsicool 100ca', 7.88, 1]\n",
      "item: ['', 'JR Selenium Syn 60', 11.2, 1]\n",
      "item: ['', 'SN OptiZinc 120tab', 9.2, 1]\n",
      "item: ['', 'GoL Vit Code Iron', 12.99, 1]\n",
      "item: ['', 'GoL Vit Code Iron', 12.99, 1]\n",
      "item: ['', 'HP Peppermint Spir', 10.9, 1]\n",
      "item: ['', 'VW Holy Basil 60vg', 20.4, 1]\n",
      "item: ['', 'NV Skin Rash 50ml', 10.45, 1]\n",
      "item: ['', 'NV Anxiety 50ml', 10.45, 1]\n",
      "item: ['', 'NV Cold Sore', 10.45, 1]\n",
      "item: ['', 'EC Dandelion 90veg', 19.8, 1]\n",
      "item: ['', 'JR Jarrosil 30ml', 12.95, 1]\n",
      "item: ['', 'BA Rescue Pastille', 8.63, 1]\n",
      "item: ['', 'BA Rescue Pastille', 8.63, 1]\n",
      "item: ['', 'BA Rescue Pastille', 8.63, 1]\n",
      "item: ['', 'BA Rescue Pastille', 8.63, 1]\n",
      "item: ['', 'BA Rescue Pastille', 8.63, 1]\n",
      "item: ['', 'BO Cuprum Met 30c', 6.45, 1]\n",
      "item: ['', 'BO Tabacum 30c', 6.45, 1]\n",
      "item: ['', 'BO Silicea 6c', 6.45, 1]\n",
      "item: ['', 'B APIS MELLIFICA30', 6.45, 1]\n",
      "item: ['', 'BO Zincum Met 30c', 6.45, 1]\n",
      "item: ['', 'B APIS MELLIFICA30', 6.45, 1]\n",
      "item: ['', 'BO Thuja 30c', 6.45, 1]\n",
      "item: ['', 'BO Histaminum 30c', 6.45, 1]\n",
      "item: ['', 'Flora Floradix 23', 49.98, 1]\n",
      "item: ['', 'BL FlaxOil 32oz Li', 39.71, 1]\n",
      "item: ['', 'BK Bio-K+12pk Rice', 48.45, 2]\n",
      "item: ['', 'NW ChildPrimadophi', 14.39, 1]\n",
      "item: ['', 'VH Max Vib Van626', 66.4, 1]\n",
      "item: ['', 'COCOYO PURE', 5.99, 13]\n",
      "item: ['', 'COCOYO PURE', 5.99, 13]\n",
      "item: ['', 'COCOYO VANILLA', 5.99, 13]\n",
      "item: ['', 'KH ALM GREEK PLN', 1.99, 13]\n",
      "item: ['MP', '20% Vitamin', -7.94, 1]\n",
      "item: ['MP', '20% Vitamin TX', -272.5, 1]\n",
      "item: ['MP', '20% Vitamin TX FS', -9.69, 2]\n",
      "item: ['MC', '55662400050', -0.5, 13]\n",
      "item: ['', 'FARMER PUMPKIN-CAN', 2.59, 15]\n",
      "item: ['', 'FARMER PUMPKIN-CAN', 2.59, 15]\n",
      "item: ['', 'FARMER PUMPKIN-CAN', 2.59, 15]\n",
      "item: ['', 'FARMER PUMPKIN-CAN', 2.59, 15]\n",
      "item: ['', 'EB GREEN BEANS RIC', 1.49, 15]\n",
      "item: ['', 'EB GREEN BEANS RIC', 1.49, 15]\n",
      "item: ['', 'EARTHS BEST PEAS', 0.89, 15]\n",
      "item: ['', 'EARTHS BEST PEAS', 0.89, 15]\n",
      "item: ['', 'EARTHS BEST PEAS', 0.89, 15]\n",
      "item: ['', 'EARTHS BEST PEAS', 0.89, 15]\n",
      "item: ['', 'EARTHS BEST PEAS', 0.89, 15]\n",
      "item: ['', 'EARTHS BEST PEAS', 0.89, 15]\n",
      "item: ['', 'EARTHS BEST PEAS', 0.89, 15]\n",
      "item: ['', 'EARTHS BEST PEAS', 0.89, 15]\n",
      "item: ['', '5495 COCONUT OIL', 7.35, 16]\n",
      "item: ['MP', 'BAG CREDIT', -0.05, 23]\n",
      "item: ['', '5495 COCONUT OIL', 6.39, 16]\n",
      "item: ['MP', 'BAG CREDIT', -0.05, 23]\n",
      "item: ['', '2347 apple kraut', 2.6, 16]\n",
      "item: ['', 'GOLDEN KRAUT', 3.75, 16]\n",
      "item: ['MP', 'BAG CREDIT', -0.05, 23]\n",
      "item: ['', '2345 SAUERKRAUT AV', 1.76, 16]\n",
      "item: ['MP', 'BAG CREDIT', -0.05, 23]\n",
      "item: ['', 'Alba Sugar Polish1', 11.3, 4]\n",
      "item: ['', 'Alba Sugar Polish1', 11.3, 4]\n",
      "item: ['', '2791 CHOC ESP BEAN', 3.16, 16]\n",
      "item: ['', 'BANANAS', 3.12, 12]\n",
      "item: ['', 'Organic Cotton Bal', 3.15, 4]\n",
      "item: ['MP', 'BAG CREDIT', -0.1, 23]\n",
      "++++++++++++++++++Topic #0, basket #3+++++++++++++++++++\n",
      "item: ['', 'NC Zyflamend 180vc', 80.76, 1]\n",
      "item: ['', 'NA Boswellia 90vcp', 18.75, 1]\n",
      "item: ['', 'FP My Commun 120c', 48.69, 1]\n",
      "item: ['', 'FP Cordychi 120c', 47.96, 1]\n",
      "item: ['', 'EU Curamin 120vcap', 56.91, 1]\n",
      "item: ['', 'GoL Vit Code Iron', 13.95, 1]\n",
      "item: ['', 'RV Resver100', 22.49, 1]\n",
      "item: ['', 'GoL Vit Code Iron', 13.95, 1]\n",
      "item: ['', 'GI Whl Body Defens', 25.49, 1]\n",
      "item: ['', 'NG Arthred 240gram', 45.45, 1]\n",
      "item: ['', 'KL Hi-Po Multi 240', 56.87, 1]\n",
      "item: ['', 'PN Vit-C 500m180vg', 20.63, 1]\n",
      "item: ['', 'NO Coral Calcium 6', 12.78, 1]\n",
      "item: ['', 'NO Vit K-2 250caps', 25.58, 1]\n",
      "item: ['', 'NO Tyrosine 120cp', 12.78, 1]\n",
      "item: ['', 'CA Moistur-Eyes 90', 22.32, 1]\n",
      "item: ['', 'HE LungTonic 60gel', 20.99, 1]\n",
      "item: ['', 'HE LungTonic 60gel', 20.99, 1]\n",
      "item: ['', 'HK Omega-7 120gel', 39.99, 1]\n",
      "item: ['', 'ET TartCherryUltra', 19.99, 1]\n",
      "item: ['', 'JR Red Glut 500mg', 32.76, 1]\n",
      "item: ['', 'OI Brahmi-GK 90vca', 18.0, 1]\n",
      "item: ['', 'SG Quercetin 100vg', 21.12, 1]\n",
      "item: ['', 'GI Turmeric 120cap', 31.99, 1]\n",
      "item: ['', 'MF Zinc DailyFoods', 18.99, 1]\n",
      "item: ['', 'MF Zinc DailyFoods', 18.99, 1]\n",
      "item: ['', 'TW DMAE 100cap', 8.39, 1]\n",
      "item: ['', 'NW Std Rhodiola 60', 13.12, 1]\n",
      "item: ['', 'SG Astaxan 5mg 60g', 21.12, 1]\n",
      "item: ['', 'SG Astaxan 5mg 60g', 21.12, 1]\n",
      "item: ['', 'SG Astaxan 5mg 60g', 21.12, 1]\n",
      "item: ['', 'TW Tri-Boron 100ca', 7.44, 1]\n",
      "item: ['', 'ET TartCherryUltra', 19.99, 1]\n",
      "item: ['', 'Now 5HTP 200mg 12v', 47.98, 1]\n",
      "item: ['', 'EC Nettles 90vegca', 16.99, 1]\n",
      "item: ['', 'NG Potassium Citra', 11.98, 1]\n",
      "item: ['', 'EC Dandelion 90veg', 19.8, 1]\n",
      "item: ['', 'JR Selenium Syn 60', 11.2, 1]\n",
      "item: ['', 'VW Kava 60gel', 20.4, 1]\n",
      "item: ['', 'VW Kava 60gel', 20.4, 1]\n",
      "item: ['', 'VW Kava 60gel', 20.4, 1]\n",
      "item: ['', 'VW Kava 60gel', 20.4, 1]\n",
      "item: ['', 'TM Mega-Mag 4oz', 11.95, 1]\n",
      "item: ['', 'EC Nettles 50vegic', 11.4, 1]\n",
      "item: ['', 'SN OptiZinc 120tab', 7.99, 1]\n",
      "item: ['', 'HP Peppermint Spir', 10.9, 1]\n",
      "item: ['', 'WO Liq Kelp 2oz', 5.35, 1]\n",
      "item: ['', 'TM Ionic Magnesium', 8.95, 1]\n",
      "item: ['', 'JR Jarrosil 30ml', 12.95, 1]\n",
      "item: ['', 'BA RR Pastilles Lm', 8.63, 1]\n",
      "item: ['', 'BA RR Pastilles Lm', 8.63, 1]\n",
      "item: ['', 'SG Liquid E 2oz', 11.52, 1]\n",
      "item: ['', 'AL Emergen-C w/MSM', 16.96, 1]\n",
      "item: ['', 'NV Cold Complex 50', 10.45, 1]\n",
      "item: ['', 'Nv Indigestion50ml', 10.45, 1]\n",
      "item: ['', 'NV Injury Cmplx 50', 10.45, 1]\n",
      "item: ['', 'NV Stress Cplx 50m', 10.45, 1]\n",
      "item: ['', 'NV Anxiety 50ml', 10.45, 1]\n",
      "item: ['', 'BO Ruta Grav 30c', 6.45, 1]\n",
      "item: ['', 'BO Thuja 30c', 6.45, 1]\n",
      "item: ['', 'BO Thuja 30c', 6.45, 1]\n",
      "item: ['', 'BO Ruta Grav 30c', 6.45, 1]\n",
      "item: ['', 'Flora Floradix 23', 49.98, 1]\n",
      "item: ['', 'VH Max Vib Van626', 66.4, 1]\n",
      "item: ['', 'NW ChildPrimadophi', 14.39, 1]\n",
      "item: ['', 'NW ChildPrimadophi', 14.39, 1]\n",
      "item: ['', 'NW ChildPrimadophi', 14.39, 1]\n",
      "item: ['', 'BK Bio-K+12pk Rice', 46.81, 1]\n",
      "item: ['', 'BK Bio-K+12pk Rice', 46.81, 1]\n",
      "item: ['', 'BK Bio-K+12pk Rice', 46.81, 1]\n",
      "item: ['', 'LVS COCO YOG VAN', 24.49, 13]\n",
      "item: ['', 'EARTHS BEST PEAS', 0.89, 15]\n",
      "item: ['', 'EARTHS BEST PEAS', 0.89, 15]\n",
      "item: ['', 'EB GREEN BEANS RIC', 1.49, 15]\n",
      "item: ['', 'EB GREEN BEANS RIC', 1.49, 15]\n",
      "item: ['', 'EARTHS BEST PEAS', 0.89, 15]\n",
      "item: ['', 'FARMER PUMPKIN-CAN', 2.59, 15]\n",
      "item: ['', 'FARMER PUMPKIN-CAN', 2.59, 15]\n",
      "item: ['', 'FARMER PUMPKIN-CAN', 2.59, 15]\n",
      "item: ['', 'FARMER PUMPKIN-CAN', 2.59, 15]\n",
      "item: ['', '88% EXTREME DARK', 2.89, 15]\n",
      "item: ['', '2236 PINK SALT CRS', 1.42, 16]\n",
      "item: ['', '2347 apple kraut', 2.22, 16]\n",
      "item: ['', 'GOLDEN KRAUT', 2.79, 16]\n",
      "item: ['MP', 'BAG CREDIT', -0.05, 23]\n",
      "item: ['MP', 'BAG CREDIT', -0.05, 23]\n",
      "item: ['', '2345 SAUERKRAUT AV', 1.32, 16]\n",
      "item: ['MP', 'BAG CREDIT', -0.05, 23]\n",
      "item: ['', '8004ACACIAGUMARABI', 19.27, 11]\n",
      "item: ['VD', '8004ACACIAGUMARABI', -19.27, 11]\n",
      "item: ['', '8004ACACIAGUMARABI', 3.2800000000000002, 11]\n",
      "item: ['', '3675 OAT FLOUR', 0.39, 16]\n",
      "item: ['', '3420 b rice flour', 0.87, 16]\n",
      "item: ['MP', 'BAG CREDIT', -0.05, 23]\n",
      "item: ['MP', 'BAG CREDIT', -0.05, 23]\n",
      "item: ['', '5495 COCONUT OIL', 5.75, 16]\n",
      "item: ['MP', 'BAG CREDIT', -0.05, 23]\n",
      "item: ['', '5495 COCONUT OIL', 7.27, 16]\n",
      "item: ['MP', 'BAG CREDIT', -0.05, 23]\n",
      "item: ['MP', 'BAG CREDIT', -0.1, 23]\n",
      "item: ['MP', '20% Vitamin TX', -322.58, 1]\n",
      "++++++++++++++++++Topic #0, basket #4+++++++++++++++++++\n",
      "item: ['', 'B Carbo Veg 30c', 6.45, 1]\n",
      "item: ['', 'BO Thuja 30c', 6.45, 1]\n",
      "item: ['', 'B BRYONIA 30C', 6.45, 1]\n",
      "item: ['', 'B APIS MELLIFICA 6', 6.45, 1]\n",
      "item: ['', 'BO Thuja 200c', 8.55, 1]\n",
      "item: ['', 'BO Nux Vomica 30c', 6.45, 1]\n",
      "item: ['', 'BO Lycopdium Clava', 6.45, 1]\n",
      "item: ['', 'BO Carbo Vegetabil', 6.45, 1]\n",
      "item: ['', 'B APIS MELLIFICA30', 6.45, 1]\n",
      "item: ['', 'BO Thuja 30c', 6.45, 1]\n",
      "item: ['', 'BO Histaminum 30c', 6.45, 1]\n",
      "item: ['', 'BO Thuja 6c', 6.45, 1]\n",
      "item: ['', 'BO Lycopodium 30c', 6.45, 1]\n",
      "item: ['', 'BO Nux Vomica 6c', 6.45, 1]\n",
      "item: ['', 'BO Histaminum 30c', 6.45, 1]\n",
      "item: ['', 'BO Cal Fluorica 30', 6.45, 1]\n",
      "item: ['', 'BO Silicea 30c', 6.45, 1]\n",
      "item: ['', 'BO Silicea 6c', 6.45, 1]\n",
      "item: ['', 'NV Cold Complex 50', 10.45, 1]\n",
      "item: ['', 'NV Leg Cramp 50ml', 10.45, 1]\n",
      "item: ['', 'NV Relaxation 50ml', 10.45, 1]\n",
      "item: ['', 'NV Fever Cplx 50ml', 10.45, 1]\n",
      "item: ['', 'NV Headache Cplx50', 10.45, 1]\n",
      "item: ['', 'NV Respiration 50m', 10.45, 1]\n",
      "item: ['', 'NV Respiration 50m', 10.45, 1]\n",
      "item: ['', 'NV VaricoseVein 50', 10.45, 1]\n",
      "item: ['', 'NV Respiration 50m', 10.45, 1]\n",
      "item: ['', 'NV Headache Cplx50', 10.45, 1]\n",
      "item: ['', 'NV Cold Complex 50', 10.45, 1]\n",
      "item: ['', 'NV Injury Cmplx 50', 10.45, 1]\n",
      "item: ['', 'NV Circulation Cpl', 10.45, 1]\n",
      "item: ['', 'NV Flu Complex 50m', 10.45, 1]\n",
      "item: ['', 'NV Headache Cplx50', 10.45, 1]\n",
      "item: ['', 'NV Respiration 50m', 10.45, 1]\n",
      "item: ['', 'NV Hemorrhoid Cplx', 10.45, 1]\n",
      "item: ['', 'NV Shoulder Arm 50', 10.45, 1]\n",
      "item: ['', 'NC Estrotone 60 vc', 45.56, 1]\n",
      "item: ['MP', '15% Vitamin TX', -52.86, 1]\n",
      "item: ['MC', '811099999999', -4.0, 1]\n",
      "item: ['', 'RV Resver100', 22.49, 1]\n",
      "item: ['', 'NA Boswellia 90vcp', 18.75, 1]\n",
      "item: ['', 'NA Bacopa 90vcap', 11.25, 1]\n",
      "item: ['', 'GoL Vit Code Iron', 12.99, 1]\n",
      "item: ['', 'GoL Vit Code Iron', 12.99, 1]\n",
      "item: ['', 'GoL Vit Code Iron', 12.99, 1]\n",
      "item: ['', 'RV Resver100', 22.49, 1]\n",
      "item: ['', 'JR Jarrosil 30ml', 12.95, 1]\n",
      "item: ['', 'Boiron Bonus Pack', 10.95, 4]\n",
      "item: ['', 'NO L-Lysine 500mg2', 15.18, 1]\n",
      "item: ['', 'NO Super EPO 120ge', 19.99, 1]\n",
      "item: ['', 'TW PABA 500mg 100c', 10.96, 1]\n",
      "item: ['', 'GI Turmeric 120cap', 37.5, 1]\n",
      "item: ['', 'NR Citrimax+Chrm90', 20.8, 1]\n",
      "item: ['', 'LE Green Tea Decaf', 22.5, 1]\n",
      "item: ['', 'Now Leangels 120ct', 55.98, 1]\n",
      "item: ['', 'SG Quercetin 100vg', 16.99, 1]\n",
      "item: ['', 'HK Omega-7 120gel', 39.99, 1]\n",
      "item: ['', 'EZ Cherry Extract9', 15.75, 1]\n",
      "item: ['', 'DB Quercetin/Brome', 32.0, 1]\n",
      "item: ['', 'MF Zinc DailyFoods', 18.99, 1]\n",
      "item: ['', 'Gt Grn Coffee 60cp', 22.94, 1]\n",
      "item: ['', 'PN Vit-C 500m180vg', 20.63, 1]\n",
      "item: ['', 'JR MSM 1000mg 200c', 17.95, 1]\n",
      "item: ['', 'PN Vit-C 500m180vg', 20.63, 1]\n",
      "item: ['', 'SG Vit D-3 5000 24', 29.12, 1]\n",
      "item: ['', 'NO Grape Seed 90vc', 11.18, 1]\n",
      "item: ['', 'Now 5HTP 200mg 12v', 47.98, 1]\n",
      "item: ['', 'NO Tyrosine 120cp', 12.78, 1]\n",
      "item: ['', 'TW DMAE 100cap', 8.39, 1]\n",
      "item: ['', 'DB Tocotrienols 60', 20.0, 1]\n",
      "item: ['', 'DB Actv Folate 90c', 11.2, 1]\n",
      "item: ['', 'HE LungTonic 60gel', 20.99, 1]\n",
      "item: ['', 'NW Std Rhodiola 60', 13.12, 1]\n",
      "item: ['', 'JR Selenium Syn 60', 11.2, 1]\n",
      "item: ['', 'SN OptiZinc 120tab', 9.2, 1]\n",
      "item: ['', 'TM Mega-Mag 4oz', 11.95, 1]\n",
      "item: ['', 'EC Dandelion 90veg', 19.8, 1]\n",
      "item: ['', 'HP Peppermint Spir', 10.9, 1]\n",
      "item: ['', 'WO Liq Kelp 2oz', 5.35, 1]\n",
      "item: ['', 'WO Liq Kelp 2oz', 5.35, 1]\n",
      "item: ['', 'WO Liq Kelp 2oz', 5.35, 1]\n",
      "item: ['', 'VW Kava 60gel', 20.4, 1]\n",
      "item: ['', 'VW Holy Basil 60vg', 20.4, 1]\n",
      "item: ['', 'VW Holy Basil 60vg', 20.4, 1]\n",
      "item: ['', 'VW Kava 60gel', 20.4, 1]\n",
      "item: ['', 'VW Kava 60gel', 20.4, 1]\n",
      "item: ['', 'VW Holy Basil 60vg', 20.4, 1]\n",
      "item: ['', 'BA Rescue Pastille', 8.63, 1]\n",
      "item: ['', 'BA RR Pastilles Lm', 8.63, 1]\n",
      "item: ['', 'BA RR Pastilles Lm', 8.63, 1]\n",
      "item: ['', 'BA Rescue Pastille', 8.63, 1]\n",
      "item: ['', 'VH Max Vib Van626', 66.4, 1]\n",
      "item: ['', 'NG Arthred 240gram', 45.45, 1]\n",
      "item: ['', 'Flora Floradix 23', 50.39, 1]\n",
      "item: ['', 'SO Chlorella 1500t', 140.25, 1]\n",
      "item: ['', 'AL Emergen-C w/MSM', 16.96, 1]\n",
      "item: ['', 'NW ChildPrimadophi', 14.39, 1]\n",
      "item: ['', 'NW ChildPrimadophi', 14.39, 1]\n",
      "item: ['', 'BK Bio-K+12pk Rice', 48.45, 2]\n",
      "item: ['', 'CHARAPA AJI AMARIL', 11.49, 13]\n",
      "item: ['', 'EARTHS BEST PEAS', 0.89, 15]\n",
      "item: ['', 'EARTHS BEST PEAS', 0.89, 15]\n",
      "item: ['', 'EARTHS BEST PEAS', 0.89, 15]\n",
      "item: ['', 'EARTHS BEST PEAS', 0.89, 15]\n",
      "item: ['', 'FARMER PUMPKIN-CAN', 2.59, 15]\n",
      "item: ['', 'FARMER PUMPKIN-CAN', 2.59, 15]\n",
      "item: ['', 'FARMER PUMPKIN-CAN', 2.59, 15]\n",
      "item: ['', 'FARMER PUMPKIN-CAN', 2.59, 15]\n",
      "item: ['', 'FARMER PUMPKIN-CAN', 2.59, 15]\n",
      "item: ['', '5495 COCONUT OIL', 6.47, 16]\n",
      "item: ['', '5495 COCONUT OIL', 6.63, 16]\n",
      "item: ['MP', 'BAG CREDIT', -0.05, 23]\n",
      "item: ['MP', 'BAG CREDIT', -0.05, 23]\n",
      "item: ['', 'GOLDEN KRAUT', 2.98, 16]\n",
      "item: ['', '2347 apple kraut', 2.22, 16]\n",
      "item: ['', '2345 SAUERKRAUT AV', 1.78, 16]\n",
      "item: ['MP', 'BAG CREDIT', -0.05, 23]\n",
      "item: ['MP', 'BAG CREDIT', -0.05, 23]\n",
      "item: ['MP', 'BAG CREDIT', -0.05, 23]\n",
      "item: ['', '2791 CHOC ESP BEAN', 0.71, 16]\n",
      "item: ['', '3420 b rice flour', 0.6900000000000001, 16]\n",
      "item: ['', '3420 b rice flour', 0.92, 16]\n",
      "item: ['MP', 'BAG CREDIT', -0.05, 23]\n",
      "item: ['MP', 'BAG CREDIT', -0.05, 23]\n",
      "item: ['', 'BANANAS', 1.7000000000000002, 12]\n",
      "item: ['MP', 'BAG CREDIT', -0.05, 23]\n",
      "item: ['MP', 'BAG CREDIT', -0.05, 23]\n",
      "item: ['MP', '15% Vitamin TX', -52.86, 1]\n",
      "item: ['MP', '20% Vitamin TX', -325.37, 1]\n",
      "item: ['MP', '20% Vitamin TX FS', -9.69, 2]\n",
      "++++++++++++++++++Topic #0, basket #5+++++++++++++++++++\n",
      "item: ['', 'JR Bone-Up 360cap', 31.96, 1]\n",
      "item: ['', 'JR MSM 1000mg 200c', 17.95, 1]\n",
      "item: ['', 'SP Fish Oil 250gel', 27.35, 1]\n",
      "item: ['', 'NO Super EPO 120ge', 19.99, 1]\n",
      "item: ['', 'DB Lipoic 300mg180', 25.6, 1]\n",
      "item: ['', 'NO Boswellia 90cap', 18.75, 1]\n",
      "item: ['', 'RV Resver100', 22.49, 1]\n",
      "item: ['', 'RV Resver100', 22.49, 1]\n",
      "item: ['', 'FP Cordychi 120c', 47.96, 1]\n",
      "item: ['', 'FP My Commun 120c', 55.96, 1]\n",
      "item: ['', 'NC Estrotone 60 vc', 45.56, 1]\n",
      "item: ['', 'BO Carbo Vegetabil', 6.45, 1]\n",
      "item: ['', 'B Carbo Veg 30c', 6.45, 1]\n",
      "item: ['', 'B Carbo Veg 30c', 6.45, 1]\n",
      "item: ['', 'CA Moistur-Eyes 90', 22.32, 1]\n",
      "item: ['', 'NO Silymarin 120vc', 13.5, 1]\n",
      "item: ['', 'NO Relora 120vcap', 30.38, 1]\n",
      "item: ['', 'GoL Vit Code Iron', 13.95, 1]\n",
      "item: ['', 'OI Ashwagandha 180', 35.1, 1]\n",
      "item: ['', 'NO Silymarin 120vc', 13.5, 1]\n",
      "item: ['', 'MF Zinc DailyFoods', 18.99, 1]\n",
      "item: ['', 'GoL Vit Code Iron', 13.95, 1]\n",
      "item: ['', 'GoL Vit Code Iron', 13.95, 1]\n",
      "item: ['', 'MF Zinc DailyFoods', 18.99, 1]\n",
      "item: ['', 'GI Turmeric 120cap', 37.5, 1]\n",
      "item: ['', 'CL CoEnzymeBplex12', 21.69, 1]\n",
      "item: ['', 'CL CoEnzymeBplex12', 21.69, 1]\n",
      "item: ['', 'DB Actv Folate 90c', 11.2, 1]\n",
      "item: ['', 'NO Grape Seed 90vc', 11.18, 1]\n",
      "item: ['', 'NO L-Carnosine 100', 43.18, 1]\n",
      "item: ['', 'DB Actv Folate 90c', 11.2, 1]\n",
      "item: ['', 'JR Gamma E-300 120', 30.36, 1]\n",
      "item: ['', 'JR Selenium Syn 60', 11.2, 1]\n",
      "item: ['', 'CR Vit A 25M Emul1', 8.72, 1]\n",
      "item: ['', 'NO Vit D 5 000 240', 18.39, 1]\n",
      "item: ['', 'NO Vit D 5 000 240', 18.39, 1]\n",
      "item: ['', 'CR Vit A 25M Emul1', 8.72, 1]\n",
      "item: ['', 'NG Biotin 5mg 60cp', 14.22, 1]\n",
      "item: ['', 'SN OptiZinc 120tab', 9.2, 1]\n",
      "item: ['', 'NG Biotin 5mg 60cp', 14.22, 1]\n",
      "item: ['', 'EC Dandelion 90veg', 19.8, 1]\n",
      "item: ['', 'VW Kava 60gel', 20.4, 1]\n",
      "item: ['', 'BO Arnica 30c 3-pa', 12.85, 1]\n",
      "item: ['', 'AL Emergen-C w/MSM', 16.96, 1]\n",
      "item: ['', 'Flora Floradix 23', 49.98, 1]\n",
      "item: ['', 'BL FlaxOil 32oz Li', 39.71, 1]\n",
      "item: ['', 'NV Vision 50ml', 209.0, 1]\n",
      "item: ['', 'SPRTD SEEDS GF BRD', 9.49, 17]\n",
      "item: ['', 'TC SPARKLING TEA', 2.29, 15]\n",
      "item: ['', 'COYO ORIGINAL', 4.99, 13]\n",
      "item: ['', 'COYO ORIGINAL', 4.99, 13]\n",
      "item: ['', 'LVS COCO YOG VAN', 23.49, 13]\n",
      "item: ['', '8004ACACIAGUMARABI', 1.85, 11]\n",
      "item: ['', '4450COUNTRY MISO', 3.5300000000000002, 16]\n",
      "item: ['', 'GOLDEN KRAUT', 3.24, 16]\n",
      "item: ['', '2345 SAUERKRAUT AV', 1.8, 16]\n",
      "item: ['', '5495 COCONUT OIL', 6.87, 16]\n",
      "item: ['', 'BANANAS', 3.67, 12]\n",
      "item: ['MP', 'BAG CREDIT', -0.65, 23]\n",
      "item: ['MP', '20% Vitamin', -7.94, 1]\n",
      "item: ['MP', '20% Vitamin TX', -236.52, 1]\n",
      "++++++++++++++++++Topic #0, basket #6+++++++++++++++++++\n",
      "item: ['', 'NG Arthred 240gram', 45.45, 1]\n",
      "item: ['', 'NC Zyflamend 180vc', 80.76, 1]\n",
      "item: ['', 'AL Emergen-C w/MSM', 16.96, 1]\n",
      "item: ['', 'LE Green Tea Decaf', 22.5, 1]\n",
      "item: ['', 'NO Relora 120vcap', 30.38, 1]\n",
      "item: ['', 'SG Quercetin 100vg', 21.12, 1]\n",
      "item: ['', 'JR B-Right 100cap', 17.95, 1]\n",
      "item: ['', 'NO Super EPO 120ge', 19.99, 1]\n",
      "item: ['', 'DB Actv Folate 90c', 11.2, 1]\n",
      "item: ['', 'HE LungTonic 60gel', 20.99, 1]\n",
      "item: ['', 'HE LungTonic 60gel', 20.99, 1]\n",
      "item: ['', 'NG Biotin 5mg 60cp', 14.22, 1]\n",
      "item: ['', 'NG Biotin 5mg 60cp', 14.22, 1]\n",
      "item: ['', 'RV Resver100', 22.49, 1]\n",
      "item: ['', 'RV Resver100', 22.49, 1]\n",
      "item: ['', 'NV Injury Cmplx 50', 10.45, 1]\n",
      "item: ['', 'NA Boswellia 90vcp', 18.75, 1]\n",
      "item: ['', 'NA Boswellia 90vcp', 18.75, 1]\n",
      "item: ['', 'NV Respiration 50m', 10.45, 1]\n",
      "item: ['', 'NV Cold Complex 50', 10.45, 1]\n",
      "item: ['', 'NV Respiration 50m', 10.45, 1]\n",
      "item: ['', 'NV Sinus Cmplx 50m', 10.45, 1]\n",
      "item: ['', 'NF GarlicRich 180c', 28.8, 1]\n",
      "item: ['', 'GoL Vit Code Iron', 13.95, 1]\n",
      "item: ['', 'GoL Vit Code Iron', 13.95, 1]\n",
      "item: ['', 'MF Zinc DailyFoods', 18.99, 1]\n",
      "item: ['', 'EC Nettles 90vegca', 19.65, 1]\n",
      "item: ['', 'EC Nettles 90vegca', 19.65, 1]\n",
      "item: ['', 'GI Turmeric 120cap', 37.5, 1]\n",
      "item: ['', 'GI Whl Body Defens', 25.49, 1]\n",
      "item: ['', 'EC Dandelion 90veg', 19.8, 1]\n",
      "item: ['', 'NW Std Rhodiola 60', 13.12, 1]\n",
      "item: ['', 'TM Ionic Magnesium', 8.95, 1]\n",
      "item: ['', 'NO Silymarin 120vc', 13.5, 1]\n",
      "item: ['', 'TM Mega-Mag 4oz', 11.95, 1]\n",
      "item: ['', 'NO Silymarin 120vc', 13.5, 1]\n",
      "item: ['', 'SN OptiZinc 120tab', 9.2, 1]\n",
      "item: ['', 'BK Bio-K+12pk Rice', 46.81, 1]\n",
      "item: ['', 'Now Ginger Root 90', 9.75, 1]\n",
      "item: ['', 'JR Red Glut 500mg', 32.76, 1]\n",
      "item: ['', 'OI Brahmi-GK 90vca', 18.0, 1]\n",
      "item: ['', 'JR Selenium Syn 60', 11.2, 1]\n",
      "item: ['', 'JR Red Glut 500mg', 32.76, 1]\n",
      "item: ['', 'Now Ginger Root 90', 9.75, 1]\n",
      "item: ['MP', '20% Vitamin TX', -183.91, 1]\n",
      "item: ['', 'LVS COCO YOG VAN', 23.49, 13]\n",
      "item: ['', 'COCOYO', 6.39, 13]\n",
      "item: ['', 'TAZA WICKED DARK', 3.99, 15]\n",
      "item: ['', 'EARTHS BEST PEAS', 0.89, 15]\n",
      "item: ['', 'EARTHS BEST PEAS', 0.89, 15]\n",
      "item: ['', 'EARTHS BEST PEAS', 0.89, 15]\n",
      "item: ['', 'EARTHS BEST PEAS', 0.89, 15]\n",
      "item: ['', 'EB GREEN BEANS RIC', 1.49, 15]\n",
      "item: ['', 'EARTHS BEST PEAS', 0.89, 15]\n",
      "item: ['', 'EB GREEN BEANS RIC', 1.49, 15]\n",
      "item: ['', 'EARTHS BEST PEAS', 0.89, 15]\n",
      "item: ['', 'EARTHS BEST PEAS', 0.89, 15]\n",
      "item: ['', 'GOLDEN KRAUT', 3.18, 16]\n",
      "item: ['MP', 'BAG CREDIT', -0.05, 23]\n",
      "item: ['', '5495 COCONUT OIL', 6.71, 16]\n",
      "item: ['MP', 'BAG CREDIT', -0.05, 23]\n",
      "item: ['', 'TURM GINGR WALNUTS', 8.99, 15]\n",
      "item: ['', 'SYNERGY TRILOGY', 3.09, 13]\n",
      "item: ['', 'SMALL COOLER CRV', 0.05, 13]\n",
      "++++++++++++++++++Topic #0, basket #7+++++++++++++++++++\n",
      "item: ['', 'NG Arthred 240gram', 45.45, 1]\n",
      "item: ['', 'NC Zyflamend 180vc', 80.76, 1]\n",
      "item: ['', 'VH Grn Vibrance709', 72.8, 1]\n",
      "item: ['', 'Flora Floradix 23', 50.39, 1]\n",
      "item: ['', 'NW ChildPrimadophi', 14.39, 1]\n",
      "item: ['', 'BK Bio-K+12pk Rice', 48.45, 2]\n",
      "item: ['', 'NA Boswellia 90vcp', 18.75, 1]\n",
      "item: ['', 'NA Bacopa 90vcap', 11.25, 1]\n",
      "item: ['', 'NO Super EPO 120ge', 19.99, 1]\n",
      "item: ['', 'MF BB 180 Tab', 47.99, 1]\n",
      "item: ['', 'NF GarlicRich 180c', 28.8, 1]\n",
      "item: ['', 'OI Brahmi-GK 90vca', 19.35, 1]\n",
      "item: ['MP', '20% Vitamin TX', -81.99, 1]\n",
      "item: ['MP', '20% Vitamin TX FS', -9.69, 2]\n",
      "item: ['MC', '811099999999', -3.0, 1]\n",
      "item: ['', 'OI Brahmi-GK 90vca', 19.35, 1]\n",
      "item: ['MP', '20% Vitamin TX', -81.99, 1]\n",
      "item: ['MP', '20% Vitamin TX', -85.86, 1]\n",
      "item: ['MC', '811099999999', -3.0, 1]\n",
      "item: ['', 'MF Zinc DailyFoods', 22.99, 1]\n",
      "item: ['', 'PN Vit-C 500m180vg', 20.63, 1]\n",
      "item: ['', 'CL CoEnzymeBplex12', 21.69, 1]\n",
      "item: ['', 'NO Silymarin 120vc', 13.5, 1]\n",
      "item: ['', 'JR Gamma E-300 120', 30.36, 1]\n",
      "item: ['', 'TW PABA 500mg 100c', 10.96, 1]\n",
      "item: ['', 'OI Ashwagandha 180', 38.7, 1]\n",
      "item: ['', 'NO Tyrosine 120cp', 12.78, 1]\n",
      "item: ['', 'ET TartCherryUltra', 19.99, 1]\n",
      "item: ['', 'ET TartCherryUltra', 19.99, 1]\n",
      "item: ['', 'NO Vit A 10M 100ge', 4.79, 1]\n",
      "item: ['', 'NO L-Carnosine 100', 43.18, 1]\n",
      "item: ['', 'TM Mega-Mag 4oz', 11.95, 1]\n",
      "item: ['', 'MR Chromium Pico10', 5.98, 1]\n",
      "item: ['', 'JR Selenium Syn 60', 11.2, 1]\n",
      "item: ['', 'Now Astragalus Ext', 12.75, 1]\n",
      "item: ['', 'GI Turmeric 120cap', 37.5, 1]\n",
      "item: ['', 'DM Zinc +Selenium', 10.59, 1]\n",
      "item: ['', 'VW Holy Basil 60vg', 20.4, 1]\n",
      "item: ['', 'VW Holy Basil 60vg', 20.4, 1]\n",
      "item: ['', 'Now Ginger Root 90', 9.75, 1]\n",
      "item: ['', 'MR Chromium Pico10', 5.98, 1]\n",
      "item: ['', 'NW Std Rhodiola 60', 15.49, 1]\n",
      "item: ['', 'NO Vit A 10M 100ge', 4.79, 1]\n",
      "item: ['', 'VW Kava 60gel', 20.4, 1]\n",
      "item: ['', 'VW Kava 60gel', 20.4, 1]\n",
      "item: ['', 'EC Dandelion 90veg', 19.8, 1]\n",
      "item: ['', 'Now Ginger Root 90', 9.75, 1]\n",
      "item: ['', 'LE NAD+ 250 30vc', 40.8, 1]\n",
      "item: ['', 'LE NAD+ 250 30vc', 40.8, 1]\n",
      "item: ['', 'LE Spr K w/K2', 24.0, 1]\n",
      "item: ['', 'LE NAD+ 250 30vc', 40.8, 1]\n",
      "item: ['', 'LE NAD+ 250 30vc', 40.8, 1]\n",
      "item: ['', 'LE Spr K w/K2', 24.0, 1]\n",
      "item: ['', 'LE Spr K w/K2', 24.0, 1]\n",
      "item: ['', 'LE Spr K w/K2', 24.0, 1]\n",
      "item: ['', 'LE Spr K w/K2', 24.0, 1]\n",
      "item: ['', 'BO Ruta Grav 30c', 6.45, 1]\n",
      "item: ['', 'BO Mag Phos 30c', 6.45, 1]\n",
      "item: ['MP', 'BAG CREDIT', -0.05, 23]\n",
      "item: ['', '5495 COCONUT OIL', 6.63, 16]\n",
      "item: ['MP', 'BAG CREDIT', -0.05, 23]\n",
      "item: ['MP', 'BAG CREDIT', -0.05, 23]\n",
      "item: ['', 'GOLDEN KRAUT', 2.41, 16]\n",
      "item: ['', 'RAW ORG CARR 4088', 2.11, 16]\n",
      "item: ['', 'DIVINE 85% DK CHOC', 2.79, 15]\n",
      "item: ['', 'CRV LRG SING NOTAX', 0.1, 15]\n",
      "item: ['', 'BANANAS', 0.62, 12]\n",
      "item: ['MP', 'BAG CREDIT', -0.1, 23]\n",
      "item: ['MP', '20% Vitamin TX', -85.86, 1]\n",
      "item: ['MP', '20% Vitamin TX', -244.45, 1]\n",
      "++++++++++++++++++Topic #0, basket #8+++++++++++++++++++\n",
      "item: ['', 'Unscented Lotion', 8.1, 4]\n",
      "item: ['', 'GoL SportProteinVn', 2.95, 2]\n",
      "item: ['', 'GoL SportProteinVn', 2.95, 2]\n",
      "item: ['', 'Nv Raw Maca 8oz', 14.3, 2]\n",
      "item: ['', 'Unscented Deodoran', 7.95, 4]\n",
      "item: ['', 'COCONUT LF YOGURT', 1.5899999999999999, 13]\n",
      "item: ['', 'NW Dandelion 180vc', 13.99, 1]\n",
      "item: ['', 'GI Saw Palmetto 60', 21.75, 1]\n",
      "item: ['', 'COCONUT LF YOGURT', 1.5899999999999999, 13]\n",
      "item: ['', 'COCONUT LF YOGURT', 1.5899999999999999, 13]\n",
      "item: ['', 'COCONUT LF YOGURT', 1.5899999999999999, 13]\n",
      "item: ['', 'NF Co Q10 100mg240', 55.0, 1]\n",
      "item: ['', 'SG Omega-3 240gel', 18.48, 1]\n",
      "item: ['', 'SU SupImmBl IF240', 86.04, 1]\n",
      "item: ['MP', 'BAG CREDIT', -0.1, 23]\n",
      "item: ['', 'Gaia Rhodiola 120c', 34.5, 1]\n",
      "item: ['', 'AH EsterC500mg+B24', 27.83, 1]\n",
      "item: ['', 'EC Milk Thistle 24', 21.1, 1]\n",
      "item: ['', 'EC Milk Thistle 24', 21.1, 1]\n",
      "item: ['', 'SG Phos Choline 10', 14.96, 1]\n",
      "item: ['', 'EC Hawthorn 90vcap', 19.8, 1]\n",
      "item: ['', 'GI Turmeric 120cap', 37.5, 1]\n",
      "item: ['', 'OI Ashwagandha 180', 38.7, 1]\n",
      "item: ['', 'EC Cordyceps 120vc', 40.05, 1]\n",
      "item: ['', 'PHIKIND CHERRY CUP', 7.19, 15]\n",
      "item: ['', 'CORA ALM BUTTER', 4.29, 15]\n",
      "item: ['', 'CORA ALM BUTTER', 4.29, 15]\n",
      "item: ['', 'CORA SALTED CARM', 4.29, 15]\n",
      "item: ['', 'CORA ALM BUTTER', 4.29, 15]\n",
      "item: ['', 'SW WB Van single', 2.05, 1]\n",
      "item: ['', 'SW WB Van single', 2.05, 1]\n",
      "item: ['MP', '20% Vitamin TX', -98.51, 1]\n",
      "item: ['MP', '20% Vitamin FS', -1.18, 2]\n",
      "item: ['MP', '20% Vitamin TX FS', -2.86, 2]\n",
      "++++++++++++++++++Topic #0, basket #9+++++++++++++++++++\n",
      "item: ['', 'Gol Meal Vanilla', 44.95, 2]\n",
      "item: ['', 'Gol Meal Vanilla', 44.95, 2]\n",
      "item: ['', 'Gaia Maca 16oz', 27.0, 1]\n",
      "item: ['', 'Gaia Maca 16oz', 27.0, 1]\n",
      "item: ['', 'NO Mag Citrate 100', 11.18, 1]\n",
      "item: ['', 'GoL Daily Probio', 22.99, 1]\n",
      "item: ['', 'GoL Daily Probio', 22.99, 1]\n",
      "item: ['', 'Gaia TS 60c', 22.5, 1]\n",
      "item: ['', 'NO Omega 3-6-9 250', 23.99, 1]\n",
      "item: ['', 'JRO QH-PQQ60', 59.95, 1]\n",
      "item: ['', 'GI Turmeric 120cap', 37.5, 1]\n",
      "item: ['', 'GI Turmeric 120cap', 37.5, 1]\n",
      "item: ['', 'JRO QH-PQQ60', 59.95, 1]\n",
      "item: ['MP', '20% Vitamin TX', -70.52, 1]\n",
      "item: ['MP', '20% Vitamin FS', -17.98, 2]\n",
      "item: ['', 'GI Hawthorn Sprm 6', 21.75, 1]\n",
      "item: ['', 'GI Hawthorn Sprm 6', 21.75, 1]\n",
      "item: ['', 'NO Omega3-6-9 100g', 11.19, 1]\n",
      "item: ['', 'SG CoQ-10 400mg 60', 72.4, 1]\n",
      "item: ['', 'SG E-400iu Mix 100', 14.16, 1]\n",
      "item: ['', 'PP Amla-C Plus 200', 15.94, 2]\n",
      "item: ['', 'PP Amla-C Plus 200', 15.94, 2]\n",
      "item: ['', 'SG CoQ-10 400mg 60', 72.4, 1]\n",
      "item: ['MP', '20% Vitamin TX', -70.52, 1]\n",
      "item: ['MP', '20% Vitamin TX', -113.25, 1]\n",
      "item: ['MP', '20% Vitamin TX FS', -6.38, 2]\n",
      "item: ['', 'BANANAS', 3.19, 12]\n",
      "item: ['', 'MUSHROOM CRIMINI', 4.25, 12]\n",
      "item: ['', 'LEMONS MEYER', 4.87, 12]\n",
      "item: ['', 'POTATOES YELLOW', 4.57, 12]\n",
      "item: ['', 'GHEE CLARIFIED BUT', 13.79, 15]\n",
      "item: ['', 'CARROTS BUNCH', 2.99, 12]\n",
      "item: ['MP', 'BAG CREDIT', -0.1, 23]\n",
      "++++++++++++++++++Topic #0, basket #10+++++++++++++++++++\n",
      "item: ['', 'CALIFIA TANG 48OZ', 4.69, 13]\n",
      "item: ['', 'APPLE JUICE 64OZ', 8.79, 15]\n",
      "item: ['', 'APPLE JUICE 64OZ', 8.79, 15]\n",
      "item: ['', 'FD-CANNELLINI BEAN', 1.79, 15]\n",
      "item: ['', 'FD-CANNELLINI BEAN', 1.79, 15]\n",
      "item: ['', 'SEMIFREDDIS LOAF', 3.59, 17]\n",
      "item: ['', 'SUGAR PLUM CLAM', 5.99, 12]\n",
      "item: ['', 'SUGAR PLUM CLAM', 5.99, 12]\n",
      "item: ['', 'YOGI CHAI BLACK', 4.49, 15]\n",
      "item: ['', 'PGTIPS BLK BLND-80', 9.79, 15]\n",
      "item: ['', 'HP Astragalus 4oz', 36.0, 1]\n",
      "item: ['', 'HP Ginkgo 4oz', 36.0, 1]\n",
      "item: ['', 'NO Mag Citrate 100', 11.18, 1]\n",
      "item: ['', 'Now Chewable 5HTP', 22.38, 1]\n",
      "item: ['', 'GI Turmeric 120cap', 37.5, 1]\n",
      "item: ['', 'HP Hawthorn Blend4', 36.0, 1]\n",
      "item: ['', 'FP Cordychi 1oz', 15.96, 1]\n",
      "item: ['', 'FP My Commun 120c', 47.99, 1]\n",
      "item: ['MP', '15% Vitamin TX', -36.46, 1]\n",
      "item: ['MP', 'BAG CREDIT', -0.1, 23]\n",
      "++++++++++++++++++Topic #1, basket #1+++++++++++++++++++\n",
      "item: ['MP', 'BAG CREDIT', -0.1, 23]\n",
      "item: ['', 'HAUNTED GHOST PEPP', 3.49, 15]\n",
      "item: ['', 'BRAGG-APPLciderVIN', 5.69, 15]\n",
      "item: ['', 'LEEKS', 1.05, 12]\n",
      "item: ['', 'MELONS GALIA', 8.11, 12]\n",
      "item: ['', 'COLLARDS', 3.38, 12]\n",
      "item: ['', 'BIG FAT SURPRISE', 17.0, 8]\n",
      "item: ['', 'SALSA FRESCA', 5.45, 13]\n",
      "item: ['', 'ZD ElderberryLozen', 2.62, 1]\n",
      "item: ['', 'ENSALADA BOWL', 10.99, 13]\n",
      "item: ['', 'SHOULDER DANCING', 7.89, 13]\n",
      "item: ['', 'GARLIC ALMONDS', 4.49, 15]\n",
      "item: ['', 'TROP BON RAINBOW', 11.55, 13]\n",
      "item: ['', 'TATAS CINN WALNUTS', 8.99, 15]\n",
      "item: ['', 'TURM GINGR WALNUTS', 8.99, 15]\n",
      "item: ['', 'MARCONA ALMONDS', 12.49, 15]\n",
      "item: ['', 'ZD HerbaLoz Menthl', 2.56, 1]\n",
      "item: ['', 'SHOULDER DANCING', 7.89, 13]\n",
      "item: ['', 'REBBL MANGO SPICE', 2.99, 13]\n",
      "item: ['', 'SMALL COOLER CRV', 0.05, 13]\n",
      "item: ['', 'REBBL BERRY CRM', 2.99, 13]\n",
      "item: ['', 'SMALL COOLER CRV', 0.05, 13]\n",
      "item: ['', 'ANCIENTORG GHEE 16', 14.29, 15]\n",
      "item: ['', 'XL Xlear Nasal Was', 12.75, 1]\n",
      "item: ['', 'LIMES', 0.8, 12]\n",
      "item: ['', '8 OZ BIO TUB t3', 0.30000000000000004, 36]\n",
      "item: ['', '2346 TUMHABKIMCHI', 3.26, 16]\n",
      "++++++++++++++++++Topic #1, basket #2+++++++++++++++++++\n",
      "item: ['', 'BLACK GOLD SOIL 8q', 5.75, 7]\n",
      "item: ['', 'TASTY-KASHMIR SPIN', 3.29, 15]\n",
      "item: ['', 'TASTY-KASHMIR SPIN', 3.29, 15]\n",
      "item: ['', 'TASTY-JODHPUR LNTL', 3.29, 15]\n",
      "item: ['', 'AMORE TOMATO PASTE', 2.89, 15]\n",
      "item: ['', 'TASTY-KASHMIR SPIN', 3.29, 15]\n",
      "item: ['', 'BEANS GREEN', 2.03, 12]\n",
      "item: ['', 'ORG W CORN TORT', 3.39, 17]\n",
      "item: ['', 'ORG W CORN TORT', 3.39, 17]\n",
      "item: ['', 'VOLCANO LEMON BURS', 1.8900000000000001, 15]\n",
      "item: ['', 'APPLES FUJI', 2.48, 12]\n",
      "item: ['', 'PEPPER CHILI', 0.12, 12]\n",
      "item: ['', 'POTATOES YELLOW', 1.56, 12]\n",
      "item: ['', 'LEMONS', 1.5, 12]\n",
      "item: ['', 'BULGARAN FETA', 4.4, 14]\n",
      "item: ['', 'ZD Org LemnHonyLoz', 2.62, 1]\n",
      "item: ['', 'ZD HerbaLoz Menthl', 2.56, 1]\n",
      "item: ['', 'ZD ElderberryLozen', 2.62, 1]\n",
      "item: ['', 'PARSLEY ITALIAN', 1.5899999999999999, 12]\n",
      "item: ['', 'CILANTRO', 1.5899999999999999, 12]\n",
      "item: ['', '4185 SPELT BERRIES', 1.46, 16]\n",
      "item: ['', 'GARLIC WHITE', 1.76, 12]\n",
      "item: ['MP', 'BAG CREDIT', -0.1, 23]\n",
      "++++++++++++++++++Topic #1, basket #3+++++++++++++++++++\n",
      "item: ['', 'CLEMENTINE TANGERI', 4.01, 12]\n",
      "item: ['', 'LETTUCE RED LEAF', 1.79, 12]\n",
      "item: ['', 'ASPARAGUS', 7.07, 12]\n",
      "item: ['', 'PEAS POD', 3.44, 12]\n",
      "item: ['VD', 'PEAS POD', -3.44, 12]\n",
      "item: ['', 'PEAS SNAP', 3.49, 12]\n",
      "item: ['', 'RAINBOW BLUE CHIPS', 2.99, 15]\n",
      "item: ['', 'ORANGE CARROT JUIC', 4.49, 15]\n",
      "item: ['', 'CRV LRG SING NOTAX', 0.1, 15]\n",
      "item: ['', 'AH SPARK LEMON 1L', 0.99, 15]\n",
      "item: ['', 'CRV LRG SING T', 0.1, 15]\n",
      "item: ['', 'ENDIVE BELGIAN RED', 2.25, 12]\n",
      "item: ['', 'CELERY', 2.27, 12]\n",
      "item: ['', 'raspberries', 5.99, 12]\n",
      "item: ['', 'WPOPPY-GRPFRT GNGR', 2.99, 15]\n",
      "item: ['', 'CRV SMALL SING T', 0.05, 15]\n",
      "item: ['', 'CRV SMALL SING T', 0.05, 15]\n",
      "item: ['', 'YOUSEFS 8oz HUMMUS', 3.55, 13]\n",
      "item: ['', '2491 PRETZEL TWIST', 0.7000000000000001, 16]\n",
      "item: ['', 'BD UNS ALM COCONUT', 2.69, 15]\n",
      "item: ['', 'RICE DREAM ORIGINA', 2.89, 15]\n",
      "item: ['', 'RICE DREAM ORIGINA', 2.89, 15]\n",
      "item: ['', 'BANANAS', 2.06, 12]\n",
      "item: ['', '2835 LICORICE', 5.16, 16]\n",
      "item: ['', 'GREEN ONIONS', 0.99, 12]\n",
      "item: ['', '2765 ORG CHOC CHPS', 2.44, 16]\n",
      "item: ['', '8161 ORG CUMIN PWD', 2.05, 11]\n",
      "item: ['', 'BROCCOLI LOOSE', 2.81, 12]\n",
      "item: ['', 'CARROTS LOOSE', 0.86, 12]\n",
      "item: ['', 'CUCUMBERS', 1.69, 12]\n",
      "item: ['', 'SQUASH SUNBURST', 1.29, 12]\n",
      "item: ['', 'TOMATOES ROMA', 1.03, 12]\n",
      "item: ['', 'LUND SESAME TAMARI', 3.79, 15]\n",
      "item: ['', 'Boutique LaLavande', 3.05, 4]\n",
      "item: ['', 'Boutique LaLavande', 3.05, 4]\n",
      "item: ['', 'Boutique LaLavande', 3.05, 4]\n",
      "item: ['', 'Savons Round', 2.96, 4]\n",
      "item: ['', 'AVOCADOS HASS', 1.75, 12]\n",
      "item: ['', 'PEPPERS GREEN BELL', 1.07, 12]\n",
      "item: ['', 'APPLES FUJI', 6.76, 12]\n",
      "item: ['', '3185 ORG MANGO', 1.8, 16]\n",
      "item: ['', '3596 FIELDS GRANOL', 4.23, 16]\n",
      "item: ['', '6920 BULK TOFU', 2.24, 16]\n",
      "item: ['', '5180 WHOLE CASHEWS', 5.07, 16]\n",
      "item: ['', '5120 ORG ALMONDS', 4.31, 16]\n",
      "item: ['', 'SOBON ROCKY ZIN', 14.99, 10]\n",
      "item: ['', 'POTATOES RUSSET', 2.24, 12]\n",
      "item: ['', 'MUSHROOMS SHIITAKE', 8.83, 12]\n",
      "item: ['', 'WILDWOOD AIOLI', 5.19, 13]\n",
      "item: ['', 'NV SINGLE ROLL TP', 1.09, 7]\n",
      "item: ['', 'NV SINGLE ROLL TP', 1.09, 7]\n",
      "item: ['', 'CHORHERRENKASE', 4.8, 14]\n",
      "item: ['', 'GOMACRO-CAROB ALMD', 2.79, 15]\n",
      "item: ['', 'DK CHOC PRETZL BAR', 1.49, 15]\n",
      "item: ['', 'MINT CHOCOLATE CHI', 1.49, 15]\n",
      "item: ['', 'Trellis Rug', 20.95, 4]\n",
      "item: ['', 'ZD HerbaLoz Menthl', 2.56, 1]\n",
      "item: ['', 'ZD HerbaLozenge Or', 2.48, 1]\n",
      "item: ['', 'ZD ElderberryLozen', 2.62, 1]\n",
      "item: ['', 'ZD Zumka Lozenges', 2.56, 1]\n",
      "item: ['', 'ZD Echinacea ZincL', 2.48, 1]\n",
      "item: ['', 'ZD Echinacea ZincL', 2.48, 1]\n",
      "item: ['', 'SNAPEA CRSP-WASABI', 1.5899999999999999, 15]\n",
      "item: ['', 'LEMON ZEST LUNA BA', 1.5899999999999999, 15]\n",
      "item: ['', 'NAVITAS - GOJI BAR', 2.19, 15]\n",
      "item: ['', 'CLIF-COCO ALMD BAR', 1.99, 15]\n",
      "item: ['', 'THINK-RSTD ALMDbar', 1.8900000000000001, 15]\n",
      "item: ['', 'GIMME-SESAME SNACK', 1.29, 15]\n",
      "item: ['', 'CADIA SEAWEED', 1.3900000000000001, 15]\n",
      "item: ['', 'GIMME-SEASALTsnack', 1.29, 15]\n",
      "item: ['', 'GIMME-SEASALTsnack', 1.29, 15]\n",
      "item: ['', 'BLACKBERRY PACKAGE', 4.99, 12]\n",
      "item: ['', 'MILK ALMOND ORGL U', 3.29, 15]\n",
      "item: ['', '5240 RSTED PEANUTS', 3.64, 16]\n",
      "item: ['', 'AROMA BROWN FILTER', 2.49, 15]\n",
      "item: ['', 'AVOCADO HONEY', 8.29, 15]\n",
      "item: ['MP', 'BAG CREDIT', -0.1, 23]\n",
      "++++++++++++++++++Topic #1, basket #4+++++++++++++++++++\n",
      "item: ['', 'SPINACH RICOTTA RA', 7.59, 19]\n",
      "item: ['', 'HAIGS ORG HUMMUS', 4.29, 13]\n",
      "item: ['', 'STRAUS YOGURT PINT', 3.49, 13]\n",
      "item: ['', 'WHOLE ORG MILK', 4.69, 13]\n",
      "item: ['DP', 'BOTTLE DEPOSIT', 2.0, 21]\n",
      "item: ['', 'EGGPLANT GLOBE', 4.94, 12]\n",
      "item: ['', 'PEPPER CHILI', 6.71, 12]\n",
      "item: ['', 'APPLES FUJI', 3.83, 12]\n",
      "item: ['', 'ONIONS RED', 1.35, 12]\n",
      "item: ['', 'ONIONS YELLOW', 0.71, 12]\n",
      "item: ['', 'CELERY', 2.83, 12]\n",
      "item: ['', 'BANANAS', 4.06, 12]\n",
      "item: ['', 'EGGS PASTURE RSD', 9.49, 13]\n",
      "item: ['', 'ACME WHEAT WALNUT', 5.69, 17]\n",
      "item: ['', 'KASHI 7GRAI PUFFED', 3.69, 15]\n",
      "item: ['', 'BTN-CRSPY WHT CRKR', 3.79, 15]\n",
      "item: ['', 'PACKAGED FOOD', 3.29, 15]\n",
      "item: ['', 'Ylang Ylang Soap', 3.99, 4]\n",
      "item: ['', 'Peroxide 16oz', 1.2, 4]\n",
      "item: ['', 'AL Emergen-C Tang3', 14.19, 1]\n",
      "item: ['', 'THEO-GINGERchocBAR', 3.29, 15]\n",
      "item: ['', 'NV GENTLE SCRUBBER', 2.3, 7]\n",
      "item: ['', 'NO TREE TISSUE', 1.9500000000000002, 7]\n",
      "item: ['', 'NW Alive 1x Women', 20.79, 1]\n",
      "item: ['', 'Lemon Verbena Soap', 2.2, 4]\n",
      "item: ['', 'COMPRESSED SPONGE', 1.35, 7]\n",
      "item: ['', 'COMPRESSED SPONGE', 1.35, 7]\n",
      "item: ['', 'SC Throat Mints', 3.85, 1]\n",
      "item: ['', 'ZD ElderberryLozen', 2.62, 1]\n",
      "item: ['', 'ZD HerbaLoz Menthl', 2.56, 1]\n",
      "item: ['', 'ZD Green Tea Lozen', 2.56, 1]\n",
      "item: ['', 'BAY AREA HONEY', 11.99, 15]\n",
      "item: ['', '5456 OG PNUT BUTR', 6.26, 16]\n",
      "item: ['', '4110org rolledOATS', 0.58, 16]\n",
      "item: ['', '5250 ORG PECAN HA', 12.3, 16]\n",
      "item: ['', '5290 WALNUTS', 8.46, 16]\n",
      "item: ['', '5132 R/NS ALMONDS', 15.29, 16]\n",
      "item: ['', '6645 SUNFLWR SEEDS', 0.98, 16]\n",
      "item: ['', 'NV TOILET PAPER 12', 9.99, 7]\n",
      "item: ['MP', 'BAG CREDIT', -0.1, 23]\n",
      "++++++++++++++++++Topic #1, basket #5+++++++++++++++++++\n",
      "item: ['', 'ZD HerbaLoz Menthl', 2.56, 1]\n",
      "item: ['', 'ZD ElderberryLozen', 2.62, 1]\n",
      "item: ['', 'JR B-Right 100cap', 18.95, 1]\n",
      "item: ['', 'WG KA Immune 4oz', 27.75, 1]\n",
      "item: ['', 'WG KA Immune 4oz', 27.75, 1]\n",
      "item: ['', 'BITCHIN PESTO', 5.79, 13]\n",
      "item: ['', 'ONIONS RED', 0.8, 12]\n",
      "item: ['', 'ONIONS YELLOW', 1.11, 12]\n",
      "item: ['', '6542 GOLD FLAXMEAL', 1.37, 16]\n",
      "item: ['MP', 'BAG CREDIT', -0.1, 23]\n",
      "++++++++++++++++++Topic #1, basket #6+++++++++++++++++++\n",
      "item: ['', 'Iris Day Cream', 13.9, 4]\n",
      "item: ['', 'Iris Day Cream', 13.9, 4]\n",
      "item: ['', 'RGC ORGANIC TOTE', 5.99, 6]\n",
      "item: ['', 'iH Culturelle 30cp', 28.64, 1]\n",
      "item: ['', 'iH Culturelle 30cp', 28.64, 1]\n",
      "item: ['', 'iH Culturelle 30cp', 28.64, 1]\n",
      "item: ['', 'Nc Biotin Bursts', 13.59, 1]\n",
      "item: ['', 'RL FiberSmart', 23.79, 1]\n",
      "item: ['', 'RL FiberSmart', 23.79, 1]\n",
      "item: ['', 'ZD ElderberryLozen', 2.62, 1]\n",
      "item: ['', 'ZD ElderberryLozen', 2.62, 1]\n",
      "item: ['', 'ZD HerbaLoz Menthl', 2.56, 1]\n",
      "item: ['', 'Now effer-c elderb', 11.99, 1]\n",
      "item: ['', '3205 DRD PAPAYA', 6.67, 16]\n",
      "item: ['', '3185 ORG MANGO', 10.43, 16]\n",
      "item: ['', '3157 DRIE CHERRIES', 11.7, 16]\n",
      "item: ['', 'CINNAMON BLISTER', 1.49, 15]\n",
      "item: ['', 'PURGUM PEPPERMINT', 6.76, 15]\n",
      "item: ['MP', 'BAG CREDIT', -0.1, 23]\n",
      "item: ['MP', '10% Vitamin TX', -17.88, 1]\n",
      "++++++++++++++++++Topic #1, basket #7+++++++++++++++++++\n",
      "item: ['', 'GI Echinacea 1oz A', 13.2, 1]\n",
      "item: ['', 'QN Zinc Echinacea', 2.13, 1]\n",
      "item: ['', 'QU Zinc Elderb 14l', 2.13, 1]\n",
      "item: ['', 'NW Umcka Berry 20t', 13.59, 1]\n",
      "item: ['', 'ZD ElderberryLozen', 2.62, 1]\n",
      "item: ['', 'RN Extra Go 50B 30', 33.99, 1]\n",
      "item: ['', 'AH EsterC500+B 90t', 10.31, 1]\n",
      "item: ['', 'GoLRawProbioColon', 29.99, 1]\n",
      "item: ['', 'HR Calm Drops 30ta', 5.9, 1]\n",
      "item: ['', 'HR Calm Drops 30ta', 5.9, 1]\n",
      "item: ['', 'AV Org Fennel 24t', 6.4, 1]\n",
      "item: ['', 'PH Olbas Inhaler', 5.4, 1]\n",
      "item: ['', 'SG B-Cplx 100mg 50', 10.48, 1]\n",
      "item: ['', 'SG Ester-C+ 100vgc', 13.2, 1]\n",
      "item: ['', 'SG Vit D-1000 100g', 6.08, 1]\n",
      "item: ['', 'GARLIC WHITE', 1.6800000000000002, 12]\n",
      "item: ['', 'GINGER', 1.9, 12]\n",
      "item: ['MR', 'SF Bag Charge', 0.1, 20]\n",
      "item: ['', 'AH EsterC Org 21pk', 10.39, 1]\n",
      "item: ['', 'RL Just Once 30tab', 14.4, 1]\n",
      "item: ['', 'RICE DREAM ENRICHE', 2.89, 15]\n",
      "item: ['', 'YOGI PEPPERMINT', 4.49, 15]\n",
      "item: ['', 'BOK CHOY', 2.04, 12]\n",
      "item: ['', 'CHARD RAINBOW', 2.29, 12]\n",
      "item: ['MP', '10% Vitamin TX', -18.61, 1]\n",
      "++++++++++++++++++Topic #1, basket #8+++++++++++++++++++\n",
      "item: ['', 'ORG GAL CLOVER', 6.99, 13]\n",
      "item: ['', 'FF LACTOSEFREE MIL', 6.49, 13]\n",
      "item: ['', 'FF LACTOSEFREE MIL', 6.49, 13]\n",
      "item: ['', 'FF LACTOSEFREE MIL', 6.49, 13]\n",
      "item: ['', '8N Light Blonde', 16.2, 4]\n",
      "item: ['', '7N Blonde', 16.2, 4]\n",
      "item: ['', 'GREEN BUTTER PACKA', 3.79, 12]\n",
      "item: ['', 'MIX CHERRY TOMATO', 6.39, 12]\n",
      "item: ['', 'BLUEBERRY PACKAGE', 4.99, 12]\n",
      "item: ['', 'BLUEBERRY PACKAGE', 4.99, 12]\n",
      "item: ['', 'Body Scrub', 8.1, 4]\n",
      "item: ['', 'Body Scrub', 8.1, 4]\n",
      "item: ['', 'Body Scrub', 8.1, 4]\n",
      "item: ['', 'Griffin Therapy', 8.29, 4]\n",
      "item: ['', 'Griffin Therapy', 8.29, 4]\n",
      "item: ['', 'ZD HerbaLoz Menthl', 2.56, 1]\n",
      "item: ['', 'ZD ElderberryLozen', 2.62, 1]\n",
      "item: ['', 'BO Arnica 30c 3-pa', 12.85, 1]\n",
      "item: ['', '2020 EASTER EGG', 18.02, 16]\n",
      "item: ['MP', 'BAG CREDIT', -0.1, 23]\n",
      "++++++++++++++++++Topic #1, basket #9+++++++++++++++++++\n",
      "item: ['', 'MUSHROOM CRIMINI', 2.5300000000000002, 12]\n",
      "item: ['', 'MY Yin Chiao 200ta', 14.55, 1]\n",
      "item: ['', 'SQUASH ZUCCHINI', 2.36, 12]\n",
      "item: ['', 'GREEN FOREST T P', 4.49, 7]\n",
      "item: ['', 'LUND-N/S RICE CAKE', 3.79, 15]\n",
      "item: ['', 'LUND-N/S RICE CAKE', 3.79, 15]\n",
      "item: ['', 'JENNIES -GOJI MOJI', 1.79, 15]\n",
      "item: ['', 'SIETE - LIME CHIPS', 5.19, 15]\n",
      "item: ['', 'HP Spr Echinacea 2', 18.75, 1]\n",
      "item: ['', 'JENNIES-CACAO POW', 1.79, 15]\n",
      "item: ['', 'JENNIES-CACAO POW', 1.79, 15]\n",
      "item: ['', 'MY Zhong Gan Ling', 12.45, 1]\n",
      "item: ['', 'SIETE - LIME CHIPS', 5.19, 15]\n",
      "item: ['', 'EC EldrBry 2oz', 20.4, 1]\n",
      "item: ['', 'Coconut Towlettes', 6.99, 4]\n",
      "item: ['', 'GARLIC WHITE', 1.28, 12]\n",
      "item: ['', 'LEMONS', 1.1, 12]\n",
      "item: ['', 'BO Oscillococcinum', 13.55, 1]\n",
      "item: ['', 'BANANAS', 3.89, 12]\n",
      "item: ['', 'ONIONS RED', 0.91, 12]\n",
      "item: ['', 'ZD HerbaLoz Menthl', 2.56, 1]\n",
      "item: ['', 'ZD HerbaLoz Menthl', 2.56, 1]\n",
      "item: ['', 'ZD ElderberryLozen', 2.62, 1]\n",
      "item: ['', 'ZD Echinacea ZincL', 2.48, 1]\n",
      "item: ['', 'JENNIES -GOJI MOJI', 1.79, 15]\n",
      "item: ['MP', 'BAG CREDIT', -0.1, 23]\n",
      "++++++++++++++++++Topic #1, basket #10+++++++++++++++++++\n",
      "item: ['', 'MUSHROOM CRIMINI', 2.5300000000000002, 12]\n",
      "item: ['', 'MY Yin Chiao 200ta', 14.55, 1]\n",
      "item: ['', 'SQUASH ZUCCHINI', 2.36, 12]\n",
      "item: ['', 'GREEN FOREST T P', 4.49, 7]\n",
      "item: ['', 'LUND-N/S RICE CAKE', 3.79, 15]\n",
      "item: ['', 'LUND-N/S RICE CAKE', 3.79, 15]\n",
      "item: ['', 'JENNIES -GOJI MOJI', 1.79, 15]\n",
      "item: ['', 'SIETE - LIME CHIPS', 5.19, 15]\n",
      "item: ['', 'HP Spr Echinacea 2', 18.75, 1]\n",
      "item: ['', 'JENNIES-CACAO POW', 1.79, 15]\n",
      "item: ['', 'JENNIES-CACAO POW', 1.79, 15]\n"
     ]
    },
    {
     "name": "stdout",
     "output_type": "stream",
     "text": [
      "item: ['', 'MY Zhong Gan Ling', 12.45, 1]\n",
      "item: ['', 'SIETE - LIME CHIPS', 5.19, 15]\n",
      "item: ['', 'EC EldrBry 2oz', 20.4, 1]\n",
      "item: ['', 'Coconut Towlettes', 6.99, 4]\n",
      "item: ['', 'GARLIC WHITE', 1.28, 12]\n",
      "item: ['', 'LEMONS', 1.1, 12]\n",
      "item: ['', 'BO Oscillococcinum', 13.55, 1]\n",
      "item: ['', 'BANANAS', 3.89, 12]\n",
      "item: ['', 'ONIONS RED', 0.91, 12]\n",
      "item: ['', 'ZD HerbaLoz Menthl', 2.56, 1]\n",
      "item: ['', 'ZD HerbaLoz Menthl', 2.56, 1]\n",
      "item: ['', 'ZD ElderberryLozen', 2.62, 1]\n",
      "item: ['', 'ZD Echinacea ZincL', 2.48, 1]\n",
      "item: ['', 'JENNIES -GOJI MOJI', 1.79, 15]\n",
      "item: ['MP', 'BAG CREDIT', -0.1, 23]\n",
      "++++++++++++++++++Topic #2, basket #1+++++++++++++++++++\n",
      "item: ['', 'GRAPES RED', 6.61, 12]\n",
      "item: ['', 'SIERRA ORG CC TUB', 4.49, 14]\n",
      "item: ['', '16oz COTTAGE CHEES', 3.85, 13]\n",
      "item: ['', 'BLACKBERRY PACK', 5.99, 12]\n",
      "item: ['', 'ZD Elderberry 15 L', 2.62, 1]\n",
      "item: ['', 'ZD Echinacea ZincL', 2.48, 1]\n",
      "item: ['', 'DB Vit D3 5000iu 1', 9.6, 1]\n",
      "item: ['', 'NF C500mg Berry 18', 18.0, 1]\n",
      "item: ['', 'RASPBERRIES', 6.99, 12]\n",
      "item: ['', 'BAGEL', 3.75, 17]\n",
      "item: ['', 'APPLES FUJI', 3.44, 12]\n",
      "item: ['', 'TILLAMOOK KOSHER', 4.19, 14]\n",
      "item: ['', 'QU Zinc Elderb 14l', 2.13, 1]\n",
      "item: ['', 'REFRIGERATED', 3.79, 13]\n",
      "item: ['MP', 'BAG CREDIT', -0.1, 23]\n",
      "++++++++++++++++++Topic #2, basket #2+++++++++++++++++++\n",
      "item: ['', '5150or BRAZIL NUTS', 16.97, 16]\n",
      "item: ['', 'LARGE STASHER BAG', 16.99, 6]\n",
      "item: ['', 'GRN FRST TP 12 PAC', 12.99, 7]\n",
      "item: ['', 'ORG TURMERI POWDER', 4.59, 15]\n",
      "item: ['', 'Sappo almond soap', 9.0, 4]\n",
      "item: ['', 'BO Rhus Tox 200c', 8.55, 1]\n",
      "item: ['', 'BO Rhus Tox 30c', 6.45, 1]\n",
      "item: ['', 'BO Rhus Tox 30c', 6.45, 1]\n",
      "item: ['', 'BO Gelsemium 30c', 6.45, 1]\n",
      "item: ['', 'BO Gelsemium 30c', 6.45, 1]\n",
      "item: ['', 'BO Gelsemium 200C', 8.55, 1]\n",
      "item: ['', 'BO Gelsemium 200C', 8.55, 1]\n",
      "item: ['', 'B APIS MELLIFICA30', 6.45, 1]\n",
      "item: ['', 'BO Gelsemium 200C', 8.55, 1]\n",
      "item: ['', 'BO Gelsemium 200C', 8.55, 1]\n",
      "item: ['', 'Fingernail Clipper', 0.9500000000000001, 4]\n",
      "item: ['', 'TWIST SPONGE 3pk', 2.99, 7]\n",
      "item: ['', 'BO Oscillo 30dose', 34.1, 1]\n",
      "item: ['', 'LOOFAH SPONGE 2 PA', 4.99, 7]\n",
      "item: ['', 'Ching Wan Hung', 12.85, 4]\n",
      "item: ['', 'Panty Liners Norma', 3.6, 4]\n",
      "item: ['', 'Exfo/Hydro Glove', 5.8, 4]\n",
      "item: ['', 'THE ORIGINAL BAG', 4.99, 6]\n",
      "item: ['', 'Skin Tag Control', 17.55, 4]\n",
      "item: ['', 'THE ORIGINAL BAG', 4.99, 6]\n",
      "item: ['', 'Itch Relief Lotion', 13.5, 4]\n",
      "item: ['', 'NO Vit D/K-2 120cp', 10.39, 1]\n",
      "item: ['', 'ZD HerbaLoz Ment15', 2.56, 1]\n",
      "item: ['VD', 'ZD HerbaLoz Ment15', -2.56, 1]\n",
      "item: ['', 'ZD HerbaLoz Ment15', 12.8, 1]\n",
      "item: ['', 'ZD Echinacea ZincL', 7.44, 1]\n",
      "item: ['', 'ZD Elderberry 15 L', 2.62, 1]\n",
      "item: ['', 'ZD Elderberry 15 L', 2.62, 1]\n",
      "item: ['', 'ZD Elderberry 15 L', 7.86, 1]\n",
      "item: ['', 'ZD Echinacea ZincL', 4.96, 1]\n",
      "item: ['', 'POMEGRANATES', 1.11, 12]\n",
      "item: ['', 'Earth Nail Brush', 2.9, 4]\n",
      "item: ['', 'LD Overwhelmed 1oz', 17.55, 1]\n",
      "item: ['', 'Fingernail Clipper', 0.9500000000000001, 4]\n",
      "item: ['', 'DISH LIQUID 25oz', 3.99, 7]\n",
      "item: ['', 'T-Relief Ointment', 11.3, 4]\n",
      "item: ['', 'BA RR Pastilles Lm', 8.63, 1]\n",
      "item: ['MP', '10% Vitamin TX', -18.45, 1]\n",
      "item: ['MP', '10% Bath/Body TX', -10.61, 4]\n",
      "item: ['MP', 'BAG CREDIT', -0.1, 23]\n",
      "++++++++++++++++++Topic #2, basket #3+++++++++++++++++++\n",
      "item: ['', 'CHOICEshiitakeMATE', 3.39, 35]\n",
      "item: ['', 'NUMI JASMINE GREEN', 5.59, 15]\n",
      "item: ['', 'REFRIGERATED', 5.0, 13]\n",
      "item: ['', 'PLAIN SHEEP MILK Y', 5.39, 13]\n",
      "item: ['', '8363 MACA PWD ORG', 21.85, 31]\n",
      "item: ['', 'HATCH JACK', 7.4, 14]\n",
      "item: ['', 'REFRIGERATED', 3.89, 13]\n",
      "item: ['VD', 'REFRIGERATED', -3.89, 13]\n",
      "item: ['', 'PACKAGED FOOD', 3.89, 15]\n",
      "item: ['', 'RAW POWER ORIGINAL', 29.79, 2]\n",
      "item: ['', 'ESSENTIALTULSI TEA', 5.99, 35]\n",
      "item: ['', 'GoLMCT32oz', 32.99, 1]\n",
      "item: ['', 'Hf VitaMinGreen500', 59.95, 2]\n",
      "item: ['', 'Hf VitaMinGreen500', 59.95, 2]\n",
      "item: ['', 'Nc Collagen 198gm', 16.63, 1]\n",
      "item: ['', 'FORAGER-GREENSchip', 3.0, 15]\n",
      "item: ['', 'ZD Echinacea ZincL', 2.48, 1]\n",
      "item: ['', 'ZD HerbaLoz Ment15', 2.56, 1]\n",
      "item: ['', 'ZD Elderberry 15 L', 2.62, 1]\n",
      "item: ['', 'TOFFEE ALMOND SEA', 2.99, 15]\n",
      "item: ['', 'RASPBERRY NIB', 2.99, 15]\n",
      "item: ['', 'CARAMEL MINIS', 3.99, 15]\n",
      "item: ['', 'FORAGER BBQ', 3.0, 15]\n",
      "item: ['', 'LIMES', 2.9, 12]\n",
      "item: ['', 'TEQUILA ANEJO', 63.99, 10]\n",
      "item: ['', 'BEER AND WINE', 39.99, 10]\n",
      "item: ['', 'TEMPT-unswtORIGINL', 3.99, 15]\n",
      "item: ['', 'BIOKULT GRUNER VEL', 13.49, 10]\n",
      "item: ['', 'SIMPLE-SSALT CRCKR', 4.99, 15]\n",
      "item: ['VD', 'SIMPLE-SSALT CRCKR', -4.99, 15]\n",
      "item: ['', 'PACKAGED FOOD', 4.79, 15]\n",
      "item: ['', 'TEMPT-unswtORIGINL', 3.99, 15]\n",
      "item: ['', 'LIMONATA SINGLE', 2.29, 35]\n",
      "item: ['', 'CRV SMALL SING T', 0.05, 15]\n",
      "item: ['VD', 'LIMONATA SINGLE', -2.29, 35]\n",
      "item: ['VD', 'CRV SMALL SING T', -0.05, 15]\n",
      "item: ['', 'LIMONATA SINGLE', 1.8900000000000001, 35]\n",
      "item: ['', 'CRV SMALL SING T', 0.05, 15]\n",
      "item: ['', 'REFRIGERATED', 1.8900000000000001, 13]\n",
      "item: ['', 'REFRIGERATED', 1.8900000000000001, 13]\n",
      "item: ['', 'ORG 1LB BUTTER', 7.99, 13]\n",
      "item: ['', 'ORG 1LB BUTTER', 7.99, 13]\n",
      "item: ['MP', 'BAG CREDIT', -0.25, 23]\n",
      "item: ['', '4273 OAT CSN GRANO', 13.26, 16]\n",
      "item: ['', '5103 CAJUN CASHEWS', 14.65, 16]\n",
      "item: ['', 'BULK OASIS DISH', 4.36, 7]\n",
      "item: ['', 'Rose Geranium Body', 6.6, 4]\n",
      "item: ['', 'Lavender Body Loti', 7.51, 4]\n",
      "item: ['MP', 'BAG CREDIT', -0.1, 23]\n",
      "item: ['MP', '15% Vitamin TX', -8.58, 1]\n",
      "item: ['MP', '15% Vitamin FS', -4.47, 2]\n",
      "++++++++++++++++++Topic #2, basket #4+++++++++++++++++++\n",
      "item: ['', 'HP Soothe Throat', 10.9, 1]\n",
      "item: ['', 'HP Oregano Spirits', 11.25, 1]\n",
      "item: ['', 'WG Get Over 2oz', 15.0, 1]\n",
      "item: ['', 'WG KickAss 2oz', 15.0, 1]\n",
      "item: ['', 'WG KA Immune 4oz', 27.75, 1]\n",
      "item: ['', 'ZD HerbaLoz Ment15', 2.56, 1]\n",
      "item: ['', 'ZD HerbaLoz Ment15', 2.56, 1]\n",
      "item: ['', 'ZD Echinacea ZincL', 2.48, 1]\n",
      "item: ['', 'ZD Echinacea ZincL', 2.48, 1]\n",
      "item: ['', 'ZD Elderberry 15 L', 2.62, 1]\n",
      "item: ['', 'ZD Elderberry 15 L', 2.62, 1]\n",
      "item: ['', '8339LICORICE CHINA', 1.23, 31]\n",
      "item: ['', '8532 SLIPPERY ELM', 1.02, 31]\n",
      "item: ['MP', 'BAG CREDIT', -0.1, 23]\n",
      "++++++++++++++++++Topic #2, basket #5+++++++++++++++++++\n",
      "item: ['', 'HP Soothe Throat', 10.9, 1]\n",
      "item: ['', 'HP Oregano Spirits', 11.25, 1]\n",
      "item: ['', 'WG Get Over 2oz', 15.0, 1]\n",
      "item: ['', 'WG KickAss 2oz', 15.0, 1]\n",
      "item: ['', 'WG KA Immune 4oz', 27.75, 1]\n",
      "item: ['', 'ZD HerbaLoz Ment15', 2.56, 1]\n",
      "item: ['', 'ZD HerbaLoz Ment15', 2.56, 1]\n",
      "item: ['', 'ZD Echinacea ZincL', 2.48, 1]\n",
      "item: ['', 'ZD Echinacea ZincL', 2.48, 1]\n",
      "item: ['', 'ZD Elderberry 15 L', 2.62, 1]\n",
      "item: ['', 'ZD Elderberry 15 L', 2.62, 1]\n",
      "item: ['', '8339LICORICE CHINA', 1.23, 31]\n",
      "item: ['', '8532 SLIPPERY ELM', 1.02, 31]\n",
      "item: ['MP', 'BAG CREDIT', -0.1, 23]\n",
      "++++++++++++++++++Topic #2, basket #6+++++++++++++++++++\n",
      "item: ['', '2996 SWISS MUESLI', 13.88, 16]\n",
      "item: ['', '6506 R/S SUNNIES', 14.23, 16]\n",
      "item: ['', '2180 ORG BLK BEANS', 5.92, 16]\n",
      "item: ['', '3715 GOJI GRANOLA', 16.55, 16]\n",
      "item: ['', 'NUMI RUBY CHAI', 6.19, 15]\n",
      "item: ['', 'CHOICE BAN-CHA TEA', 3.19, 15]\n",
      "item: ['', 'NUMI GOLDEN CHAI', 5.59, 15]\n",
      "item: ['', 'CHOICE BAN-CHA TEA', 3.19, 15]\n",
      "item: ['', 'CHOICE BAN-CHA TEA', 3.19, 15]\n",
      "item: ['', 'CHOICE BAN-CHA TEA', 3.19, 15]\n",
      "item: ['', '6840 org sucanat', 12.84, 16]\n",
      "item: ['', 'BERGAMINO D BUFALA', 7.54, 14]\n",
      "item: ['', 'CARLETTA', 8.51, 14]\n",
      "item: ['', '2220 ORG RED LNTL', 6.58, 16]\n",
      "item: ['', 'ANNAS DAUGHTERS RY', 6.99, 17]\n",
      "item: ['', 'ANNAS DAUGHTERS RY', 6.99, 17]\n",
      "item: ['', 'KOYO SEAWEED RAMEN', 0.99, 15]\n",
      "item: ['', 'KOYO SOBA RAMEN', 0.99, 15]\n",
      "item: ['', 'KOYO MUSHROOM RAMN', 0.99, 15]\n",
      "item: ['', 'KOYO MUSHROOM RAMN', 0.99, 15]\n",
      "item: ['', '3065 COCONUT FLAKE', 1.52, 16]\n",
      "item: ['', '8309 KUKICHA TEA O', 18.81, 11]\n",
      "item: ['', 'UME SHISO', 3.45, 15]\n",
      "item: ['', 'UME SHISO', 3.45, 15]\n",
      "item: ['', 'ZD Elderberry 15 L', 2.62, 1]\n",
      "item: ['', 'ZD Echinacea ZincL', 2.48, 1]\n",
      "item: ['', 'ZD HerbaLoz Ment15', 2.56, 1]\n",
      "item: ['', 'SUSHI NORI TOASTED', 23.39, 15]\n",
      "item: ['', 'BLK SESAME RICESNA', 3.59, 15]\n",
      "item: ['', 'TEECCINO MAYA 11oz', 9.49, 15]\n",
      "item: ['', 'SHICHIMI TOGARASHI', 2.99, 15]\n",
      "item: ['', 'Bulk Soap', 7.8, 4]\n",
      "item: ['', 'EE DK CHOCw/ ALMDS', 2.79, 15]\n",
      "item: ['', 'EcoDent Gentle Flo', 5.4, 4]\n",
      "item: ['', 'EcoDent Gentle Flo', 5.4, 4]\n",
      "item: ['', 'Tea Tree Chewing S', 4.3, 4]\n",
      "item: ['', 'Whipped Shea Lips', 7.95, 4]\n",
      "item: ['', 'EcoDent Gentle Flo', 5.4, 4]\n",
      "item: ['', 'GOODLITE T-LITES 1', 18.99, 7]\n",
      "item: ['', '6615 BROWN SESAME', 1.62, 16]\n",
      "item: ['', '5161 CASHEW PIECES', 7.93, 16]\n",
      "item: ['', '16OZ BIO TUB t4', 0.4, 36]\n",
      "item: ['', '2430 KALAMATA OLIV', 4.47, 16]\n",
      "item: ['', '8 OZ BIO TUB t3', 0.30000000000000004, 36]\n",
      "item: ['', '2553BLACK OIL CURE', 2.7199999999999998, 16]\n",
      "item: ['MP', 'BAG CREDIT', -0.1, 23]\n",
      "++++++++++++++++++Topic #2, basket #7+++++++++++++++++++\n",
      "item: ['', 'HOMESOLV AUTO DISH', 6.39, 7]\n",
      "item: ['', 'TEMPT-unswtORIGINL', 3.99, 15]\n",
      "item: ['', 'WAXED PAPER 75 SQ', 4.69, 7]\n",
      "item: ['', 'SUPERFOOD CREAMER', 9.49, 15]\n",
      "item: ['', 'SUPERFOOD CREAMER', 9.49, 15]\n",
      "item: ['', 'ESSENTIALTULSI TEA', 5.99, 35]\n",
      "item: ['', 'ZD Elderberry 15 L', 2.62, 1]\n",
      "item: ['', 'BO ColdCalm 60tab', 10.75, 1]\n",
      "item: ['', 'ZD Echinacea ZincL', 2.48, 1]\n",
      "item: ['', 'ZD Echinacea ZincL', 2.48, 1]\n",
      "item: ['', 'CHOICE-REISHIdetox', 3.39, 35]\n",
      "item: ['', 'Nc Collagen 198gm', 16.63, 1]\n",
      "item: ['MC', '811099999999', -2.0, 1]\n",
      "item: ['', 'ZD Elderberry 15 L', 2.62, 1]\n",
      "item: ['', 'ROOST STRINGLIGHTS', 4.99, 8]\n",
      "item: ['', 'ROOST STRINGLIGHTS', 4.99, 8]\n",
      "item: ['', 'ORG BUTTERMILK 2%', 3.69, 13]\n",
      "item: ['', 'EE-CARAMEL CRUNCH', 2.79, 15]\n",
      "item: ['', 'Weleda Birch Oil', 18.6, 4]\n",
      "item: ['', 'IF YOU CARE BAKING', 1.5899999999999999, 7]\n",
      "item: ['', 'NAT VAL WALNUT SPO', 1.25, 7]\n",
      "item: ['', 'ORG WHCRM 1/2P', 2.39, 13]\n",
      "item: ['', 'NAT VAL WALNUT SPO', 1.25, 7]\n",
      "item: ['', '6825 ORG BRN SUGAR', 3.76, 16]\n",
      "item: ['MP', 'BAG CREDIT', -0.05, 23]\n",
      "item: ['', '2858 CHOCO CASHEWS', 14.62, 16]\n",
      "item: ['MP', 'BAG CREDIT', -0.05, 23]\n",
      "item: ['MP', 'BAG CREDIT', -0.05, 23]\n",
      "item: ['', 'BULK OASIS DISH', 4.76, 7]\n",
      "item: ['', '2463 PEPPADEW PEPP', 4.35, 16]\n",
      "item: ['MP', 'BAG CREDIT', -0.05, 23]\n",
      "item: ['', '2395 ROASTED GARLI', 3.76, 16]\n",
      "item: ['MP', 'BAG CREDIT', -0.05, 23]\n",
      "item: ['MP', 'BAG CREDIT', -0.05, 23]\n",
      "++++++++++++++++++Topic #2, basket #8+++++++++++++++++++\n",
      "item: ['', 'SIMP7SSLT LNTL CHP', 2.99, 15]\n",
      "item: ['', 'SIMP7SSLT LNTL CHP', 2.99, 15]\n",
      "item: ['', 'PERSIMMONS FUYU', 2.19, 12]\n",
      "item: ['', 'NW Umcka Lemon 10p', 7.99, 1]\n",
      "item: ['', 'ZD Elderberry 15 L', 2.62, 1]\n",
      "item: ['', 'IMUNITY BOOST VIVE', 3.99, 13]\n",
      "item: ['', 'SMALL COOLER CRV', 0.05, 13]\n",
      "item: ['', 'IMUNITY BOOST VIVE', 3.99, 13]\n",
      "item: ['', 'SMALL COOLER CRV', 0.05, 13]\n",
      "item: ['', 'PEPMINTFROSTING', 6.99, 15]\n",
      "item: ['', 'COOKIE SUGAR', 6.29, 15]\n",
      "item: ['', 'ZD Echinacea ZincL', 2.48, 1]\n",
      "item: ['', 'NAT PATH RICE PUFF', 1.99, 15]\n",
      "item: ['', 'GTs COCOKEFIR PURE', 4.49, 13]\n",
      "item: ['', 'Divine-MLKchocCOIN', 1.79, 15]\n",
      "item: ['', 'BREAD SRSLYClassic', 9.99, 17]\n",
      "item: ['', 'GF VEGAN MUFFIN', 3.0, 17]\n",
      "item: ['', 'GTs COCOKEFIR PURE', 4.49, 13]\n",
      "item: ['', 'CABBAGE RED', 2.83, 12]\n",
      "item: ['', 'CHOC CHIP SPV', 3.0, 17]\n",
      "item: ['', 'DANDELION', 2.29, 12]\n",
      "++++++++++++++++++Topic #2, basket #9+++++++++++++++++++\n",
      "item: ['', 'DZ EGGS STJOHN MED', 6.9, 13]\n",
      "item: ['', 'BETTER BEAN CUBAN', 3.99, 13]\n",
      "item: ['', 'SPINACH RICE PIZZA', 10.59, 19]\n",
      "item: ['', 'CHIPOTLE SALSA', 6.99, 15]\n",
      "item: ['', 'EVOO', 6.99, 15]\n",
      "item: ['', 'TREELINE AGED CLAS', 9.29, 14]\n",
      "item: ['', 'GoL Vit Code Iron', 12.99, 1]\n",
      "item: ['', 'FAKIN BACON', 4.99, 13]\n",
      "item: ['', 'BASIL 4oz PACKAGE', 4.99, 12]\n",
      "item: ['', 'GOE PARTY SIZ BLUE', 5.19, 15]\n",
      "item: ['', 'ZD Echinacea ZincL', 2.48, 1]\n",
      "item: ['', 'ZD Elderberry 15 L', 2.62, 1]\n",
      "item: ['', 'NATE ITAL MTLESS B', 5.79, 19]\n",
      "item: ['', 'ORG Y CORN TORT', 1.79, 17]\n",
      "item: ['', '5290 WALNUTS', 4.51, 16]\n",
      "item: ['', 'LIMES', 2.02, 12]\n",
      "item: ['', 'SPRT MAPLE WALNUTS', 8.99, 15]\n",
      "item: ['', 'AVOCADOS HASS', 7.91, 12]\n",
      "++++++++++++++++++Topic #2, basket #10+++++++++++++++++++\n",
      "item: ['', 'CACAO CRISPS', 4.89, 15]\n",
      "item: ['', 'MR Cal-Mag-Zinc 16', 7.98, 1]\n",
      "item: ['', 'LUND-BRN RICE CAKE', 3.79, 15]\n",
      "item: ['', 'MANINIS GF LINGUIN', 4.99, 13]\n",
      "item: ['', 'PASTA SHOP GF FETT', 4.69, 13]\n",
      "item: ['', 'ZD Elderberry 15 L', 2.62, 1]\n",
      "item: ['', 'ZD Echinacea ZincL', 2.48, 1]\n",
      "item: ['', 'ZD Echinacea ZincL', 2.48, 1]\n",
      "item: ['', 'SANJ BLK SES CRKR', 3.29, 15]\n",
      "item: ['', 'Pacifica Roll - On', 10.65, 4]\n",
      "item: ['', 'ZD Elderberry 15 L', 2.62, 1]\n",
      "item: ['', 'APPLES FUJI', 1.47, 12]\n",
      "item: ['', 'DAIKON', 1.8399999999999999, 12]\n",
      "item: ['', 'CILANTRO', 1.5899999999999999, 12]\n",
      "item: ['', '8106 CHAMOMILE ORG', 0.25, 31]\n",
      "item: ['VD', '8106 CHAMOMILE ORG', -0.25, 31]\n",
      "item: ['', '8016 STAR ANIS ORG', 0.56, 11]\n",
      "item: ['', '8310 LIME LEAVES', 0.7000000000000001, 11]\n",
      "item: ['', '8143 CORIANDER ORG', 0.54, 11]\n",
      "item: ['', '8127VIETCINNSTKORG', 0.73, 11]\n",
      "item: ['', '8160 CUMIN SD ORG', 0.53, 11]\n",
      "item: ['MP', 'BAG CREDIT', -0.1, 23]\n",
      "item: ['MP', 'EBT 10% Pkg Food', -1.45, 15]\n",
      "item: ['MP', 'EBT 10% Vitamin TX', -1.82, 1]\n",
      "item: ['MP', 'EBT 10% Refrigera', -0.97, 13]\n",
      "item: ['MP', 'EBT 10% BB TX', -1.07, 4]\n",
      "item: ['MP', 'EBT 10% Produce', -0.62, 12]\n",
      "item: ['MP', 'EBT 10% Herbs', -0.30000000000000004, 11]\n",
      "++++++++++++++++++Topic #3, basket #1+++++++++++++++++++\n",
      "item: ['', 'PELLEGRINO -750 ML', 1.79, 15]\n",
      "item: ['', 'CRV LRG SING T', 0.1, 15]\n",
      "item: ['', 'PELLEGRINO -750 ML', 1.79, 15]\n",
      "item: ['', 'CRV LRG SING T', 0.1, 15]\n",
      "item: ['DP', 'BOTTLE DEPOSIT', 1.0, 21]\n",
      "item: ['', 'RL Food Calcium 18', 19.6, 1]\n",
      "item: ['', 'Advanced Lotion 16', 16.2, 4]\n",
      "item: ['', 'CAPELLINO PESTO', 6.19, 13]\n",
      "item: ['', 'GI Turmeric 120cap', 37.5, 1]\n",
      "item: ['', 'Clover crm top yog', 1.19, 13]\n",
      "item: ['VD', 'Clover crm top yog', -1.19, 13]\n",
      "item: ['', 'Clover crm top yog', 7.14, 13]\n",
      "item: ['', 'Lavender Body Wash', 14.89, 4]\n",
      "item: ['', 'WHEAT/CORN TORTILL', 2.49, 17]\n",
      "item: ['', 'ORG CORN TORTILLA', 1.99, 17]\n",
      "item: ['', 'ORG WW TORT', 3.39, 17]\n",
      "item: ['', 'NN Ult Omega-3 180', 55.96, 1]\n",
      "item: ['', 'POTATOES YELLOW', 5.79, 12]\n",
      "item: ['', 'Deodorant Stone 4o', 4.75, 4]\n",
      "item: ['', 'Blue Lavender Clea', 30.95, 4]\n",
      "item: ['', 'GS Jet Zone 30tab', 7.9, 1]\n",
      "item: ['', 'GS Jet Zone 30tab', 7.9, 1]\n",
      "item: ['', 'Spermint Flat Flos', 3.75, 4]\n",
      "item: ['', 'CUKE MEDIT/PERSIAN', 1.76, 12]\n",
      "item: ['MP', 'BAG CREDIT', -0.05, 23]\n",
      "item: ['', 'NAT VAL QUART BAGS', 2.89, 7]\n",
      "item: ['', 'AloeLife Lubricant', 10.95, 4]\n",
      "item: ['', 'EO lavender lotion', 8.1, 4]\n",
      "item: ['', 'Aubrey Cond 11oz', 10.49, 4]\n",
      "item: ['', '3160 BLACK FIGS', 3.64, 16]\n",
      "item: ['', '4oz plstc sqz t4', 0.5, 4]\n",
      "item: ['', '4oz plstc sqz t4', 0.5, 4]\n",
      "item: ['', '4oz plstc sqz t4', 0.5, 4]\n",
      "item: ['', 'PASTURE RAISED EGG', 7.89, 13]\n",
      "item: ['', 'PEPPERS GREEN BELL', 3.5, 12]\n",
      "item: ['MP', 'BAG CREDIT', -0.05, 23]\n",
      "item: ['', 'EDEN KIDNEY BEANS', 2.49, 15]\n",
      "item: ['', 'MUIR-DCD TOM/ONION', 1.3900000000000001, 15]\n",
      "item: ['', 'DECECCO LINGUINE', 2.69, 15]\n",
      "item: ['', 'DECECCO LINGUINE', 2.69, 15]\n",
      "item: ['', '5655 ORG OLIVE OIL', 11.8, 16]\n",
      "item: ['', 'EDEN KIDNEY BEANS', 2.49, 15]\n",
      "item: ['', 'UME PLUM VINEGAR', 3.99, 15]\n",
      "item: ['', 'PELLEGRINO -750 ML', 1.79, 15]\n",
      "item: ['', 'CRV LRG SING T', 0.1, 15]\n",
      "item: ['', 'PELLEGRINO -750 ML', 1.79, 15]\n",
      "item: ['', 'CRV LRG SING T', 0.1, 15]\n",
      "item: ['', 'EDEN HOT SESAME OI', 7.99, 15]\n",
      "item: ['', '5120 ORG ALMONDS', 19.66, 16]\n",
      "item: ['', 'BLUE des CAUSSES', 5.04, 14]\n",
      "item: ['', '2328 YELLOW I BEAN', 3.42, 16]\n",
      "item: ['', 'MONTEREY JACK CHEE', 4.14, 14]\n",
      "item: ['', 'EDUN CHEDDAR', 5.44, 14]\n",
      "item: ['', 'BTB VEGETABLE BASE', 5.99, 15]\n",
      "item: ['', 'ICEBERG LETTUCE', 3.49, 12]\n",
      "item: ['', 'LAUNDRY LIQUID LAV', 9.49, 7]\n",
      "item: ['', 'ORG MAPLE SYRUP 68', 4.75, 16]\n",
      "item: ['MP', 'BAG CREDIT', -0.05, 23]\n",
      "item: ['', 'GARLIC WHITE', 4.87, 12]\n",
      "item: ['', '2510 DRIED MAITAKE', 10.08, 16]\n",
      "item: ['MP', 'BAG CREDIT', -0.05, 23]\n",
      "item: ['', 'AROMABRWON FILTER', 2.99, 35]\n",
      "item: ['', '2101 MARCELLA BEAN', 6.75, 16]\n",
      "item: ['', 'CHOICE - CHAMOMILE', 3.29, 15]\n",
      "item: ['', '8153 CHIPOTLE WHL', 6.3, 11]\n",
      "item: ['', '2495DRY CHANT MUSH', 13.73, 16]\n",
      "item: ['MP', 'BAG CREDIT', -0.1, 23]\n",
      "item: ['', '3125 TURK APRICOT', 5.03, 16]\n",
      "item: ['', '2290 OG PINTO BEAN', 5.22, 16]\n",
      "item: ['', 'MINI SEEDLESS H20', 8.51, 12]\n",
      "item: ['', 'NV STORAGE BAGS 1G', 2.35, 7]\n",
      "item: ['', 'Bach Rescue Remedy', 19.2, 1]\n",
      "item: ['', 'AD QUINOASPAGHETTI', 4.39, 15]\n",
      "item: ['', 'AVOCADOS HASS', 7.42, 12]\n",
      "item: ['', 'UME PLUM VINEGAR', 3.99, 15]\n",
      "item: ['', 'SN Liq Vit D-3 2oz', 8.4, 1]\n",
      "item: ['', 'REDLAKE WLDRC 6318', 27.4, 16]\n",
      "item: ['', 'CITRA-SOLV 16 OZ', 15.49, 7]\n",
      "item: ['', 'CHOICE - CHAMOMILE', 3.29, 15]\n",
      "item: ['', 'CITRADISH LEMON VE', 4.99, 7]\n",
      "item: ['', 'NV TOILET PAPER 12', 9.99, 7]\n",
      "item: ['MP', '10% Vitamin TX', -15.65, 1]\n",
      "item: ['MP', '10% Bath/Body TX', -10.18, 4]\n",
      "++++++++++++++++++Topic #3, basket #2+++++++++++++++++++\n",
      "item: ['', '6540 ORG FLAX SEED', 2.56, 16]\n",
      "item: ['', '6545 ORG GOLD FLAX', 1.43, 16]\n",
      "item: ['', '2458 PITD GRN OLIV', 2.03, 16]\n",
      "item: ['', '8132 VIETCINNPWDOG', 1.12, 11]\n",
      "item: ['', '6265 OG W BASMATI', 6.33, 16]\n",
      "item: ['', '5250 ORG PECAN HA', 13.15, 16]\n",
      "item: ['', 'LEEKS', 4.4, 12]\n",
      "item: ['', 'TOMATO', 4.15, 12]\n",
      "item: ['', '4N Chestnut', 13.9, 4]\n",
      "item: ['', 'PM Fennel TP', 5.2, 4]\n",
      "item: ['', 'PM Fennel TP', 5.2, 4]\n",
      "item: ['', '2545 PRES LEMONS', 3.11, 16]\n",
      "item: ['', '16OZ BIO TUB t4', 0.4, 36]\n",
      "item: ['', '3942ORG RED QUINOA', 10.36, 16]\n",
      "item: ['', 'WHOLE ORG MILK', 4.49, 13]\n",
      "item: ['', 'STRAUS PLN YOG QT', 4.39, 13]\n",
      "item: ['', 'Naturtint 4G', 16.15, 4]\n",
      "item: ['', '8257HAPPY THROAT T', 3.13, 31]\n",
      "item: ['', 'SIERRA VAT CULTURE', 5.29, 13]\n",
      "item: ['', 'PrmlKtchnColPacket', 2.37, 2]\n",
      "item: ['', '8587 VANILLA MADAG', 4.85, 11]\n",
      "item: ['', 'NN Complete 180s', 38.36, 1]\n",
      "item: ['', 'GF Hydro Collagen', 14.44, 1]\n",
      "item: ['', 'NN Ult Omega-3 180', 55.96, 1]\n",
      "item: ['', 'NO C 1000mg 250cap', 22.39, 1]\n",
      "item: ['', 'NF Tranq Sleep 60t', 25.6, 1]\n",
      "item: ['', 'NO Mag Citrate 100', 11.18, 1]\n",
      "item: ['', 'NO Kelp Powder 8oz', 8.79, 1]\n",
      "item: ['', 'Nordic D 5000 120c', 19.16, 1]\n",
      "item: ['', 'Nordic D3 Gummies', 10.76, 1]\n",
      "item: ['', 'Nordic D 5000 120c', 19.16, 1]\n",
      "item: ['', 'EC Milk Thistle 24', 21.1, 1]\n",
      "item: ['', 'Now D3 2000 120', 7.18, 1]\n",
      "item: ['', 'NL VitE-400iu 250g', 51.91, 1]\n",
      "item: ['', 'Now Hair Skin Nail', 23.98, 1]\n",
      "item: ['', 'SN Optimistic 30tb', 10.38, 1]\n",
      "item: ['', 'HP St Johns Wort 4', 34.5, 1]\n",
      "item: ['', 'RUBBER GASKET', 0.99, 6]\n",
      "item: ['', 'FIDO GASKET', 0.99, 6]\n",
      "item: ['', '2553BLACK OIL CURE', 10.44, 16]\n",
      "item: ['MR', 'SF Bag Charge', 0.30000000000000004, 20]\n",
      "item: ['MP', '15% Vitamin TX', -56.24, 1]\n",
      "item: ['MP', '15% Vitamin FS', -0.36, 2]\n",
      "++++++++++++++++++Topic #3, basket #3+++++++++++++++++++\n",
      "item: ['', 'COWGIRL MT TAM', 12.18, 14]\n",
      "item: ['', 'COWGIRL MT TAM', 12.18, 14]\n",
      "item: ['', 'CAB BATH TISSUE 12', 13.49, 7]\n",
      "item: ['', 'Bach Rescue Remedy', 11.7, 4]\n",
      "item: ['', 'Bach Rescue Remedy', 19.2, 1]\n",
      "item: ['', 'Bach Rescue Remedy', 19.2, 1]\n",
      "item: ['', 'CHIMNEY ROCK', 11.52, 14]\n",
      "item: ['', 'GS Jet Zone 30tab', 9.0, 1]\n",
      "item: ['', 'BA Rescue Plus', 5.95, 1]\n",
      "item: ['', '3688 ULT BREAD FLO', 7.52, 16]\n",
      "item: ['', 'JR CHANNEL ribbon', 4.99, 8]\n",
      "item: ['', '2550 STUFFED OLIVE', 8.45, 16]\n",
      "item: ['', 'BULK', 0.4, 16]\n",
      "item: ['', 'Blue Lavender Clea', 30.95, 4]\n",
      "item: ['', 'SUNBEESWAX PINE CO', 16.29, 7]\n",
      "item: ['', 'EO Soap Lavender', 14.33, 4]\n",
      "item: ['', 'EO Soap Lavender', 13.0, 4]\n",
      "item: ['', 'KOSHER SALT 48oz', 2.99, 15]\n",
      "item: ['', 'JUNIPERO GIN', 38.99, 10]\n",
      "item: ['', 'WOOD PETITE PEAS', 2.39, 19]\n",
      "item: ['', 'WOOD PETITE PEAS', 2.39, 19]\n",
      "item: ['DP', 'BOTTLE DEPOSIT', 1.0, 21]\n",
      "item: ['DP', 'BOTTLE DEPOSIT', 1.0, 21]\n",
      "item: ['', 'GWC TISSUE MIX', 3.5, 8]\n",
      "item: ['', 'tissue paper plain', 2.75, 8]\n",
      "item: ['', 'tissue paper plain', 2.75, 8]\n",
      "item: ['', '15HOUR VOTIVES BOX', 18.75, 7]\n",
      "item: ['', 'CITRADISH LEMON VE', 3.99, 7]\n",
      "item: ['', 'RL Food Calcium 18', 19.6, 1]\n",
      "item: ['', 'Beeswork Chamomile', 6.95, 4]\n",
      "item: ['', 'OSCAR WILDE CHED', 4.2, 14]\n",
      "item: ['', 'OSCAR WILDE CHED', 4.9, 14]\n",
      "item: ['', 'OSCAR WILDE CHED', 4.5, 14]\n",
      "item: ['', 'FRENCH COEUR BASQU', 16.55, 14]\n",
      "item: ['', '6003 TURMRC NOODLE', 4.65, 16]\n",
      "item: ['', '5775 EDEN SOBA', 5.58, 16]\n",
      "item: ['', 'MAASDAMMER', 6.09, 14]\n",
      "item: ['', 'REFRIGERATED', 5.0, 13]\n",
      "item: ['', 'Dead Sea Salts', 11.96, 4]\n",
      "item: ['', 'NN Ult Omega-3 180', 55.96, 1]\n",
      "item: ['', 'PEPPER JACK CHEESE', 5.51, 14]\n",
      "item: ['', 'VIC WILD MUSH PIZZ', 8.99, 13]\n",
      "item: ['', '8421SMOKE PAPRIKA', 2.1, 11]\n",
      "item: ['', 'EDEN UDON NOODLES', 11.37, 15]\n",
      "item: ['', 'HERDEZ CHIPOTLES', 1.99, 15]\n",
      "item: ['', 'HERDEZ CHIPOTLES', 1.99, 15]\n",
      "item: ['', '5120 ORG ALMONDS', 18.46, 16]\n",
      "item: ['', '2130 DRY BAKNG YEA', 0.36, 16]\n",
      "item: ['', 'SPEC PEANUT OIL O', 8.59, 15]\n",
      "item: ['', 'EDEN HOT SESAME OI', 7.99, 15]\n",
      "item: ['', 'EDEN HOT SESAME OI', 7.99, 15]\n",
      "item: ['', '5132 R/NS ALMONDS', 20.48, 16]\n",
      "item: ['', '5875 BAIA PASTA', 6.27, 16]\n",
      "item: ['', '5531 PISTACH BUTTR', 13.97, 16]\n",
      "item: ['', '6833 BLACKBERY HON', 4.89, 16]\n",
      "item: ['', '8153 CHIPOTLE WHL', 4.2, 11]\n",
      "item: ['', '8301 JUNIPER BERRY', 0.18, 31]\n",
      "item: ['', '8425 PAPRIKA HOT', 1.16, 11]\n",
      "item: ['MP', 'BAG CREDIT', -0.1, 23]\n",
      "item: ['MP', '10% Vitamin TX', -12.9, 1]\n",
      "++++++++++++++++++Topic #3, basket #4+++++++++++++++++++\n",
      "item: ['', 'DISH LIQUID 25oz', 2.99, 7]\n",
      "item: ['', 'LI SPRTD ALMONDS', 17.69, 15]\n",
      "item: ['', '1DEGREE FLAX SEEDS', 4.39, 15]\n",
      "item: ['', 'Hydrosol', 10.6, 4]\n",
      "item: ['', 'Hydrosol', 11.6, 4]\n",
      "item: ['', 'Hydrosol', 13.77, 4]\n",
      "item: ['', 'Lavender Foam Soap', 6.5, 4]\n",
      "item: ['', 'Rosehip Treatment', 22.8, 4]\n",
      "item: ['', 'Pomegranate Repair', 32.76, 4]\n",
      "item: ['', 'DB Ginkgo 120mg 12', 11.25, 1]\n",
      "item: ['', 'CASSAVA FLOUR', 17.99, 15]\n",
      "item: ['', 'Brazilian Cond', 8.1, 4]\n",
      "item: ['', 'SeventhG Tampons', 7.15, 4]\n",
      "item: ['', 'GUAYAS RIVER 70%', 5.99, 15]\n",
      "item: ['', 'RAWMIO ORANGE BAR', 2.69, 15]\n",
      "item: ['', 'RAWMIO MINT BAR', 2.69, 15]\n",
      "item: ['', 'RAWMIO MINT BAR', 2.69, 15]\n",
      "item: ['', 'KIDNEY BEAN CARROT', 4.49, 15]\n",
      "item: ['', 'RED LENTIL BUTTERN', 4.49, 15]\n",
      "item: ['', 'APPLES FUJI', 5.65, 12]\n",
      "item: ['', 'mix bouquet flower', 14.99, 12]\n",
      "item: ['', 'GRN GARBANZOS CORN', 4.49, 15]\n",
      "item: ['', 'SPLIT PEAS SPINACH', 4.49, 15]\n",
      "item: ['', 'SS 6 CUP MUFFIN PA', 11.99, 6]\n",
      "item: ['', 'SONOMA CURTIDO', 3.49, 13]\n",
      "item: ['', '8148 CEYLON CINPWD', 5.58, 11]\n",
      "item: ['', 'WALLABY BLUEBERRY', 1.29, 13]\n",
      "item: ['', 'WALLABY VANILLA', 1.29, 13]\n",
      "item: ['', 'WALLABY BLUEBERRY', 1.29, 13]\n",
      "item: ['', 'WALLABY VANILLA', 1.29, 13]\n",
      "item: ['', 'SG MagnesCitrate12', 10.99, 1]\n",
      "item: ['', 'NO C 1000mg 250cap', 22.39, 1]\n",
      "item: ['', 'NO Maca 7oz', 22.5, 1]\n",
      "item: ['', 'NN Ult Omega-3 180', 55.96, 1]\n",
      "item: ['', 'GoLKdsGmmyFrut', 22.99, 1]\n",
      "item: ['', 'NF C500mg Berry 90', 10.5, 1]\n",
      "item: ['', 'GIMME-SSALTsnk6pk', 5.39, 15]\n",
      "item: ['MP', '10% Vitamin TX', -15.67, 1]\n",
      "item: ['MP', '10% Bath/Body TX', -12.15, 4]\n",
      "++++++++++++++++++Topic #3, basket #5+++++++++++++++++++\n",
      "item: ['', 'EGGS JUDY JUMBO DZ', 5.49, 13]\n",
      "item: ['', 'EGGS JUDY JUMBO DZ', 5.49, 13]\n",
      "item: ['', '32OZ BIO TUB t5', 0.45, 36]\n",
      "item: ['', '32OZ BIO TUB t5', 0.45, 36]\n",
      "item: ['', '16OZ BIO TUB t4', 0.4, 36]\n",
      "item: ['', 'STRAUS SOUR CREAM', 4.39, 13]\n",
      "item: ['', '5490 COCONUT BUTTE', 8.27, 16]\n",
      "item: ['', '5490 COCONUT BUTTE', 6.65, 16]\n",
      "item: ['', 'AH EsterC500mg+B24', 27.83, 1]\n",
      "item: ['', 'AH EsterC500mg+B24', 27.83, 1]\n",
      "item: ['VD', 'AH EsterC500mg+B24', -27.83, 1]\n",
      "item: ['', 'NO Vit D-3 1000iu1', 7.18, 1]\n",
      "item: ['', 'NO Vit D-3 1000iu1', 7.18, 1]\n",
      "item: ['', 'SG MagnesCitrate12', 14.08, 1]\n",
      "item: ['', 'SG Biotin1000mcg25', 21.12, 1]\n",
      "item: ['', '6895 DEMERAR SUGAR', 3.09, 16]\n",
      "item: ['', 'CUCUMBERS ENGLISH', 2.99, 12]\n",
      "item: ['', 'NN Ult Omega-3 180', 55.96, 1]\n",
      "item: ['MP', '10% Vitamin TX', -13.34, 1]\n",
      "item: ['MC', '811099999999', -3.0, 1]\n",
      "item: ['', 'JR Q-Sor Co-Q30mg1', 20.76, 1]\n",
      "item: ['', 'SN Vit B-2 100mg 1', 7.18, 1]\n",
      "item: ['', 'SN Vit B-2 100mg 1', 7.18, 1]\n",
      "item: ['', '5290 WALNUTS', 27.37, 16]\n",
      "item: ['', 'ASPARAGUS', 8.55, 12]\n",
      "item: ['', 'CUKE MEDIT/PERSIAN', 2.47, 12]\n",
      "item: ['', 'SQUASH SUNBURST', 2.3, 12]\n",
      "item: ['', 'SN Vit B-2 100mg 1', 7.18, 1]\n",
      "item: ['', 'SN Vit B-2 100mg 1', 7.18, 1]\n",
      "item: ['', 'SN Vit B-2 100mg 1', 7.18, 1]\n",
      "item: ['', 'BEETS RED LOOSE', 0.72, 12]\n",
      "item: ['', 'SN Vit B-2 100mg 1', 7.18, 1]\n",
      "item: ['', 'KALE RED BOR', 1.99, 12]\n",
      "item: ['', 'SAVORY BAKED TOFU', 4.19, 13]\n",
      "item: ['', 'AVOCADOS HASS', 13.36, 12]\n",
      "item: ['', '5161 CASHEW PIECES', 27.34, 16]\n",
      "item: ['', 'CALI ORI ITAL CRST', 44.07, 19]\n",
      "item: ['', 'TRADITIONAL TORTIL', 5.19, 17]\n",
      "item: ['', 'TRADITIONAL TORTIL', 5.19, 17]\n",
      "item: ['', '3290 THOMPSON RAIS', 3.44, 16]\n",
      "item: ['', 'APPLES FUJI', 13.28, 12]\n",
      "item: ['', 'SQUASH ZUCCHINI', 2.45, 12]\n",
      "item: ['', 'SHREDDED PARM CHEE', 2.99, 14]\n",
      "item: ['', 'SHREDDED PARM CHEE', 2.99, 14]\n",
      "item: ['', 'SHREDDED PARM CHEE', 2.99, 14]\n",
      "item: ['', '3065 COCONUT FLAKE', 12.95, 16]\n",
      "item: ['MP', '10% Vitamin TX', -13.34, 1]\n",
      "item: ['MP', '10% Vitamin TX', -19.74, 1]\n",
      "++++++++++++++++++Topic #3, basket #6+++++++++++++++++++\n",
      "item: ['', 'GT PASSIONBERRY', 3.09, 13]\n",
      "item: ['', 'SMALL COOLER CRV', 0.05, 13]\n",
      "item: ['', 'NN Ult Omega-3 180', 55.96, 1]\n",
      "item: ['', 'DISH LIQUID 25oz', 2.99, 7]\n",
      "item: ['', 'Swisspers Cotton B', 1.8, 4]\n",
      "item: ['', 'GT PASSIONBERRY', 3.09, 13]\n",
      "item: ['', 'SMALL COOLER CRV', 0.05, 13]\n",
      "item: ['', 'GI Turmeric Sup 60', 19.58, 1]\n",
      "item: ['', 'Bach Rescue Remedy', 19.2, 1]\n",
      "item: ['', 'Nc Sp Collagen 250', 26.23, 1]\n",
      "item: ['', 'SN Melatonin1mg 10', 6.8, 1]\n",
      "item: ['', 'APPLES FUJI', 2.81, 12]\n",
      "item: ['', 'JR Jarrodoph EPS 1', 29.95, 1]\n",
      "item: ['', 'PG SEAFOOD CAT 6OZ', 1.8900000000000001, 7]\n",
      "item: ['', 'ORGANIC CARROT 16', 2.99, 13]\n",
      "item: ['', 'SMALL COOLER CRV', 0.05, 13]\n",
      "item: ['MP', 'BAG CREDIT', -0.1, 23]\n",
      "item: ['', 'SN Pregnen 10mg 12', 11.6, 1]\n",
      "item: ['', 'GREEN CHARD', 1.99, 12]\n",
      "item: ['', 'GORAW SPIRLINA CHP', 4.59, 15]\n",
      "item: ['', 'Bach Rescue Remedy', 19.2, 1]\n",
      "item: ['', 'PG SEAFOOD CAT 6OZ', 1.8900000000000001, 7]\n",
      "item: ['', 'ORANGES VALENCIA', 1.43, 12]\n",
      "item: ['MP', '10% Vitamin TX', -18.86, 1]\n",
      "++++++++++++++++++Topic #3, basket #7+++++++++++++++++++\n",
      "item: ['', 'Nv Natl Calm 16oz', 34.81, 1]\n",
      "item: ['', 'ONIONS GREEN', 1.19, 12]\n",
      "item: ['', 'ONIONS GREEN', 1.19, 12]\n",
      "item: ['', 'BROCCOLI LOOSE', 3.0, 12]\n",
      "item: ['', 'APPLES FUJI', 7.95, 12]\n",
      "item: ['', 'CAULIFLOWER BULK', 1.8900000000000001, 12]\n",
      "item: ['', 'PLUOT/PLUM RED', 5.09, 12]\n",
      "item: ['', 'Nv Calm Cherry 16', 34.81, 1]\n",
      "item: ['', 'NN Ult Omega-3 180', 55.96, 1]\n",
      "item: ['', 'NN Ult Omega-3 180', 55.96, 1]\n",
      "item: ['', 'NN Ult Omega-3 180', 55.96, 1]\n",
      "item: ['', 'NN Ult Omega-3 180', 55.96, 1]\n",
      "item: ['', 'AH EsterC-1000 180', 33.19, 1]\n",
      "item: ['', 'SG B-Cplx 100mg 25', 43.28, 1]\n",
      "item: ['', 'RL Food Calcium 18', 19.6, 1]\n",
      "item: ['', 'TOMATO DRY FARM', 3.31, 12]\n",
      "item: ['', 'LETTUCE ROMAINE', 1.99, 12]\n",
      "item: ['', 'SG Biotin 5mg 100c', 15.92, 1]\n",
      "item: ['', 'DB Lut w/Lutemx180', 44.0, 1]\n",
      "item: ['', 'RL Gummy C 90gel', 11.2, 1]\n",
      "item: ['', 'GoLSprtProtVan', 47.99, 2]\n",
      "item: ['MP', '20% Vitamin TX', -118.14, 1]\n",
      "item: ['MP', '20% Vitamin FS', -4.83, 2]\n",
      "item: ['MP', '20% Vitamin TX FS', -9.6, 2]\n",
      "item: ['MC', '811099999999', -3.0, 2]\n",
      "++++++++++++++++++Topic #3, basket #8+++++++++++++++++++\n",
      "item: ['', 'JRO SAM400-60', 55.95, 1]\n",
      "item: ['', 'JRO SAM400-60', 55.95, 1]\n",
      "item: ['', 'NN Ult Omega-3 180', 55.96, 1]\n",
      "item: ['', 'NO C 1000mg 250cap', 22.39, 1]\n",
      "item: ['', 'H+ Spr ColonClean2', 18.69, 1]\n",
      "item: ['', 'H+ Spr ColonClean2', 18.69, 1]\n",
      "item: ['', 'DB Lut w/Lutemx180', 44.0, 1]\n",
      "item: ['', 'NO Vit D3 1000 360', 13.58, 1]\n",
      "item: ['', 'NN Ult Omega-3 180', 55.96, 1]\n",
      "item: ['MP', 'BAG CREDIT', -0.1, 23]\n",
      "item: ['MP', '20% Vitamin TX', -80.72, 1]\n",
      "++++++++++++++++++Topic #3, basket #9+++++++++++++++++++\n",
      "item: ['', 'HA ImmuProbio 60', 59.49, 1]\n",
      "item: ['', 'NN Ult Omega-3 180', 55.96, 1]\n",
      "item: ['MP', '10% Vitamin TX', -11.55, 1]\n",
      "item: ['MC', '811099999999', -3.0, 1]\n",
      "item: ['', 'BL Flax 16oz HiLig', 20.82, 1]\n",
      "item: ['', 'SG ChromiumPico120', 7.99, 1]\n",
      "item: ['', 'BAGEL', 1.25, 17]\n",
      "item: ['MP', 'BAG CREDIT', -0.1, 23]\n",
      "item: ['MP', '10% Vitamin', -2.08, 1]\n",
      "item: ['MP', '10% Vitamin TX', -11.55, 1]\n",
      "item: ['MP', '10% Vitamin TX', -12.35, 1]\n",
      "++++++++++++++++++Topic #3, basket #10+++++++++++++++++++\n",
      "item: ['', 'NN Ult Omega-3 180', 55.96, 1]\n",
      "item: ['MC', '811099999999', -3.0, 1]\n",
      "item: ['', 'SG VM-75 180tab', 34.99, 1]\n",
      "item: ['', 'SG Vit D-1000iu 25', 8.99, 1]\n",
      "item: ['', 'SG B-Cplx 100mg 25', 43.28, 1]\n",
      "item: ['', 'Lavender Deodorant', 4.3, 4]\n",
      "item: ['', 'Rose Witch Hazel', 9.9, 4]\n",
      "item: ['MP', '10% Vitamin TX', -14.33, 1]\n",
      "item: ['', 'Chamomile Roll On', 4.3, 4]\n",
      "item: ['', 'Pomegranate Deod', 4.3, 4]\n",
      "item: ['', 'COCOMELS -SEA SALT', 3.49, 15]\n",
      "item: ['', 'COCOMELS -ORIGINAL', 3.49, 15]\n",
      "item: ['', 'COCOMELS - VANILLA', 3.49, 15]\n",
      "item: ['', 'COCOMELS BITES', 3.49, 15]\n",
      "item: ['MR', 'SF Bag Charge', 0.1, 20]\n"
     ]
    },
    {
     "name": "stdout",
     "output_type": "stream",
     "text": [
      "++++++++++++++++++Topic #4, basket #1+++++++++++++++++++\n",
      "item: ['', 'CAB BATH TISSUE 12', 13.49, 7]\n",
      "item: ['', 'SEMIFREDDIS LOAF', 3.59, 17]\n",
      "item: ['', 'SPINACH LOOSE', 4.0, 12]\n",
      "item: ['', 'SHIITAKES BABY', 4.03, 12]\n",
      "item: ['', 'PAELLA RICE', 4.59, 15]\n",
      "item: ['', 'JR MilkThistle 100', 11.25, 1]\n",
      "item: ['', 'SMALL COOLER CRV', 0.05, 13]\n",
      "item: ['', 'SATSUMA MANDARIN', 4.63, 12]\n",
      "item: ['', 'RL Counter Attack', 12.75, 1]\n",
      "item: ['', 'SV Sov Silver10p 2', 12.75, 1]\n",
      "item: ['', 'BEETS RED LOOSE', 3.84, 12]\n",
      "item: ['', 'KL Charcoal 50cap', 6.39, 1]\n",
      "item: ['', 'HN SOL Ad Multi', 20.4, 1]\n",
      "item: ['', 'WO Chlorophyll 50c', 5.53, 1]\n",
      "item: ['', 'HHealth Vitamin EO', 5.95, 4]\n",
      "item: ['', 'MtV SPRKLING 1 LTR', 1.99, 15]\n",
      "item: ['', 'CRV LRG SING T', 0.1, 15]\n",
      "item: ['', 'MtV SPRKLING 1 LTR', 1.99, 15]\n",
      "item: ['', 'CRV LRG SING T', 0.1, 15]\n",
      "item: ['', 'MtV SPRKLING 1 LTR', 1.99, 15]\n",
      "item: ['', 'CRV LRG SING T', 0.1, 15]\n",
      "item: ['', 'MtV SPRKLING 1 LTR', 1.99, 15]\n",
      "item: ['', 'CRV LRG SING T', 0.1, 15]\n",
      "item: ['', 'Llano Seco', 4.29, 15]\n",
      "item: ['', 'QN Zinc Echinacea', 2.13, 1]\n",
      "item: ['', 'QN Zinc Echinacea', 2.13, 1]\n",
      "item: ['', 'QU Zinc Elderb 14l', 2.13, 1]\n",
      "item: ['', 'QU Zinc Elderb 14l', 2.13, 1]\n",
      "item: ['', 'HP Daily Immune1oz', 10.9, 1]\n",
      "item: ['', 'AL EmergenC ImmOrg', 0.63, 1]\n",
      "item: ['', 'AL EmergenC ImmOrg', 0.63, 1]\n",
      "item: ['', 'AL EmergenC Citrus', 0.63, 1]\n",
      "item: ['', 'AL EmergenC ImmOrg', 0.63, 1]\n",
      "item: ['', 'CARROTS LOOSE', 1.3, 12]\n",
      "item: ['', 'SATSUMA MANDARIN', 0.93, 12]\n",
      "item: ['', 'LAV NECTAR BAR', 5.99, 17]\n",
      "item: ['', 'SHALLOTS', 0.6000000000000001, 12]\n",
      "item: ['', 'BANANAS', 1.07, 12]\n",
      "item: ['', 'LEEKS', 0.9500000000000001, 12]\n",
      "item: ['', '6078 FRESH RAVIOLI', 1.99, 16]\n",
      "item: ['', 'GINGER', 1.7000000000000002, 12]\n",
      "item: ['', 'MUSHROOM CRIMINI', 2.94, 12]\n",
      "item: ['', '3010 GOLDENBERRIES', 4.63, 16]\n",
      "item: ['', 'SQUASH ZUCCHINI', 2.8, 12]\n",
      "item: ['', 'BEANS GREEN', 4.67, 12]\n",
      "item: ['', '8 OZ BIO TUB t3', 0.30000000000000004, 36]\n",
      "item: ['', '2347 apple kraut', 1.52, 16]\n",
      "item: ['', 'COOMBS AMBER 8oz', 7.49, 15]\n",
      "item: ['', 'NF C-500 Passion18', 15.66, 1]\n",
      "item: ['', 'ITAL SAN MARZANO', 4.39, 15]\n",
      "item: ['', 'BEETS RED LOOSE', 2.43, 12]\n",
      "item: ['', 'PAC UNSWT HEMPMILK', 3.89, 15]\n",
      "item: ['', 'MILKADAM-UNSWEET V', 4.99, 15]\n",
      "item: ['MR', 'SF Bag Charge', 0.4, 20]\n",
      "item: ['MP', '10% Vitamin TX', -10.66, 1]\n",
      "++++++++++++++++++Topic #4, basket #2+++++++++++++++++++\n",
      "item: ['', 'MEREDITH FETA', 9.99, 14]\n",
      "item: ['', 'ABSOLUT-EVERYTHING', 4.59, 15]\n",
      "item: ['', 'NO Gymnema 90 caps', 11.25, 1]\n",
      "item: ['', 'ELThyroid 60vcap', 29.71, 1]\n",
      "item: ['', 'Nf Shankhpushpi 60', 17.9, 1]\n",
      "item: ['', 'ELThyroid 60vcap', 29.71, 1]\n",
      "item: ['', 'ELThyroid 60vcap', 29.71, 1]\n",
      "item: ['', 'Nf Picrorrhiza 60v', 17.1, 1]\n",
      "item: ['', 'HI Arjuna 60tab', 14.49, 1]\n",
      "item: ['', 'JR Yum-Yum Dophilu', 12.8, 1]\n",
      "item: ['', 'RL Counter Attack', 12.75, 1]\n",
      "item: ['', '2238 HIMA PINK SAL', 3.61, 16]\n",
      "item: ['', '8173 DRAGONWELL OR', 3.09, 11]\n",
      "item: ['', '8198EVERYDAYGREEN', 7.45, 11]\n",
      "item: ['', 'NW OrgSambucLoz24', 3.95, 1]\n",
      "item: ['', 'ZD Echinacea ZincL', 2.48, 1]\n",
      "item: ['', 'APPLES GALA', 2.69, 12]\n",
      "item: ['', 'Curl Maker', 15.0, 4]\n",
      "item: ['', 'Natracare 20 Super', 6.25, 4]\n",
      "item: ['', 'Natracare 20 Super', 6.25, 4]\n",
      "item: ['', 'TARAZI TAHINI', 4.99, 15]\n",
      "item: ['', 'MIMOLETTE AGED', 5.8, 14]\n",
      "item: ['', 'QU Zinc Elderb 14l', 2.13, 1]\n",
      "item: ['', 'QU Zinc Elderb 14l', 2.13, 1]\n",
      "item: ['', 'ARISE BAGUETTE 2CT', 7.99, 17]\n",
      "item: ['', 'GINGER', 0.35000000000000003, 12]\n",
      "item: ['MP', 'BAG CREDIT', -0.1, 23]\n",
      "item: ['MP', '10% Vitamin TX', -18.62, 1]\n",
      "++++++++++++++++++Topic #4, basket #3+++++++++++++++++++\n",
      "item: ['', 'Replacement Head S', 5.4, 4]\n",
      "item: ['', 'RGC ORGANIC TOTE', 5.99, 6]\n",
      "item: ['', 'Cedarwood Deo Stic', 8.95, 4]\n",
      "item: ['', 'ARUGULA LOOSE', 1.8900000000000001, 12]\n",
      "item: ['', 'HP Ashwagandha 4oz', 34.5, 1]\n",
      "item: ['', '1 2 4 oz Dropper', 0.9500000000000001, 4]\n",
      "item: ['', 'SPINACH LOOSE', 4.05, 12]\n",
      "item: ['', 'HG Elderberry Extr', 10.8, 1]\n",
      "item: ['', 'CRV LRG SING T', 0.1, 15]\n",
      "item: ['', 'DB 5-HTP 100mg 60v', 14.4, 1]\n",
      "item: ['', 'Ver-Org Eglobulus', 5.69, 4]\n",
      "item: ['', 'HG Throat Spray 1o', 10.8, 1]\n",
      "item: ['', '8051 PUERH BLACK', 7.43, 11]\n",
      "item: ['', 'QU Zinc Elderb 14l', 2.13, 1]\n",
      "item: ['', 'HEALTHADE RSHICHOC', 2.99, 13]\n",
      "item: ['', 'SMALL COOLER CRV', 0.05, 13]\n",
      "item: ['', 'PEPPER CHILI', 0.9, 12]\n",
      "item: ['', 'LIL GEM LETTUCE', 5.27, 12]\n",
      "item: ['', 'HAVE A CHIP', 1.99, 15]\n",
      "item: ['', 'PHILZ JACOBS', 13.49, 15]\n",
      "item: ['', '2366 EQUATOR COFFE', 12.39, 16]\n",
      "item: ['', 'RL Counter Attack', 12.75, 1]\n",
      "item: ['', 'HP Kava 4oz', 42.6, 1]\n",
      "item: ['', 'HG Elderberry Extr', 10.8, 1]\n",
      "item: ['', 'HP MulleinGarlic 1', 10.15, 4]\n",
      "item: ['', 'HP Valerian 1oz', 10.9, 1]\n",
      "item: ['', 'SG B-Cplx 100mg 50', 10.48, 1]\n",
      "item: ['', 'NAV - CITRUS CHIA', 6.59, 15]\n",
      "item: ['', 'Green Garden', 7.79, 15]\n",
      "item: ['', 'HP Lemon Balm 4oz', 34.5, 1]\n",
      "item: ['', 'Earth Spirits Leg', 12.8, 4]\n",
      "item: ['', 'MEYER LEMON TART', 4.29, 17]\n",
      "item: ['', 'Cotton Rounds 80ct', 2.95, 4]\n",
      "item: ['', 'Cotton Rounds 80ct', 2.95, 4]\n",
      "item: ['', 'Himalaya Neem Wash', 8.9, 4]\n",
      "item: ['', 'acme sour batard', 3.49, 17]\n",
      "item: ['', 'FLAX BROWNIES', 5.99, 17]\n",
      "item: ['', 'Bubble Bear', 11.49, 4]\n",
      "item: ['', 'UNSWT VAN ALMND-64', 4.99, 15]\n",
      "item: ['', 'RX BAR-CHOC SSALT', 9.95, 15]\n",
      "item: ['', 'CUKE MEDIT/PERSIAN', 5.69, 12]\n",
      "item: ['', 'Now Cocoa Butter L', 7.5, 4]\n",
      "item: ['', 'Baby Brush BB1', 8.95, 4]\n",
      "item: ['', 'ORANGE JUICE', 8.09, 13]\n",
      "item: ['', 'Natracare Super Pl', 6.95, 4]\n",
      "item: ['', 'Natracare Super Pl', 6.95, 4]\n",
      "item: ['', 'EGGS DZ ROCK LG', 3.49, 13]\n",
      "item: ['', 'EGGS DZ ROCK LG', 3.49, 13]\n",
      "item: ['', 'Heritage Rosewater', 6.95, 4]\n",
      "item: ['', 'BANANAS', 3.4, 12]\n",
      "item: ['', 'BANANAS', 6.41, 12]\n",
      "item: ['', 'Baby Wipes 80ct', 3.5, 4]\n",
      "item: ['', 'HP Adrenal Spt 4oz', 34.5, 1]\n",
      "item: ['', 'VW Oregano Oil 60c', 16.3, 1]\n",
      "item: ['', 'Bergamot Lime Deod', 8.95, 4]\n",
      "item: ['', 'CASC MANGO/STRAW B', 13.79, 19]\n",
      "item: ['', 'CASC STRAWBERRIES', 13.79, 19]\n",
      "item: ['', 'MONTEREY JACK CHEE', 3.44, 14]\n",
      "item: ['', 'CASTELLO Cheddar', 5.52, 14]\n",
      "item: ['', 'RX BAR-CHOC SSALT', 1.99, 15]\n",
      "item: ['', 'SPRING BOMBILLA', 12.99, 6]\n",
      "item: ['', 'ORANGES VALENCIA', 6.02, 12]\n",
      "item: ['', 'Gum Treatment 2oz', 15.95, 4]\n",
      "item: ['', 'NO Primrose 90gels', 21.58, 1]\n",
      "item: ['', 'OI HolyBasil 180vc', 35.1, 1]\n",
      "item: ['', 'RUBIES ON YINE TOM', 5.39, 12]\n",
      "item: ['', '8 OZ BIO TUB t3', 0.30000000000000004, 16]\n",
      "item: ['', '5265 PINENUTS', 7.84, 16]\n",
      "item: ['', 'JOVIAL CRUSHED TOM', 3.19, 15]\n",
      "item: ['', 'Wallaby 32oz greek', 6.49, 13]\n",
      "item: ['', 'BRIANNA FRENCH VIN', 3.39, 15]\n",
      "item: ['', 'CAULIFLOWER BULK', 5.62, 12]\n",
      "item: ['', 'Wallaby 32oz greek', 6.49, 13]\n",
      "item: ['', 'QRT CAN JAR t101', 1.79, 6]\n",
      "item: ['', '5456 OG PNUT BUTR', 11.85, 16]\n",
      "item: ['', 'SMALL COOLER CRV', 0.05, 13]\n",
      "item: ['', 'CLEAR MIND', 2.39, 13]\n",
      "item: ['', 'SMALL COOLER CRV', 0.05, 13]\n",
      "item: ['', 'MUSHROOM CRIMINI', 2.91, 12]\n",
      "item: ['', 'Scar Rescue', 13.32, 4]\n",
      "item: ['', 'Calendula 2ml', 12.45, 4]\n",
      "item: ['', 'Ver-Basil Linalol', 10.0, 4]\n",
      "item: ['', 'ver Rose Geranium', 8.8, 4]\n",
      "item: ['', 'SAFFLOWER MAYO', 6.99, 15]\n",
      "item: ['', 'POMI STRAINED 26oz', 3.29, 15]\n",
      "item: ['', 'KALE DINO', 1.79, 12]\n",
      "item: ['', 'BRUSSEL SPROUTS', 4.29, 12]\n",
      "item: ['', '5290 WALNUTS', 8.02, 16]\n",
      "item: ['', '2863 BTR CHOC CHIP', 9.72, 16]\n",
      "item: ['', '6825 ORG BRN SUGAR', 4.34, 16]\n",
      "item: ['', 'ONIONS RED', 2.06, 12]\n",
      "item: ['', 'ONIONS YELLOW', 3.52, 12]\n",
      "item: ['', 'LA CROIX APRICO8PK', 3.99, 15]\n",
      "item: ['', 'CRV8PACK sml T', 0.4, 15]\n",
      "item: ['MP', 'BAG CREDIT', -0.1, 23]\n",
      "item: ['MP', 'Worker 35% Vitamin', -105.78, 1]\n",
      "item: ['MP', 'Worker 20% Housew', -4.16, 6]\n",
      "item: ['MP', 'Worker 20% Produce', -12.31, 12]\n",
      "item: ['MP', 'Worker 20% PkgFood', -1.0, 15]\n",
      "item: ['MP', 'Worker 20% Herbs', -1.49, 11]\n",
      "item: ['MP', 'Worker 20% Refrig', -8.02, 13]\n",
      "item: ['MP', 'Worker 20% PkgFood', -16.43, 15]\n",
      "item: ['MP', 'Worker 20% Bulk', -10.89, 16]\n",
      "item: ['MP', 'Worker 20% Bakery', -2.76, 17]\n",
      "item: ['MP', 'Worker 20% Frozen', -5.52, 19]\n",
      "item: ['MP', 'Worker 20% Cheese', -1.79, 14]\n",
      "++++++++++++++++++Topic #4, basket #4+++++++++++++++++++\n",
      "item: ['', 'TTWIN SLIM LEM ICR', 2.99, 19]\n",
      "item: ['', 'NP MULTIBRAN FLAKE', 4.69, 15]\n",
      "item: ['', 'NP-HNY CHIA FLAKES', 4.89, 15]\n",
      "item: ['', 'TTWIN SLIM LEM ICR', 2.99, 19]\n",
      "item: ['', 'MILKADAM-UNSWEET V', 4.79, 15]\n",
      "item: ['', 'ARTICHOKES', 3.99, 12]\n",
      "item: ['', 'ARTICHOKES', 3.99, 12]\n",
      "item: ['', 'THE FAWN', 6.84, 14]\n",
      "item: ['', 'Now Neem Oil 1oz', 7.95, 4]\n",
      "item: ['', 'JOSEY BAKER BREAD', 6.99, 17]\n",
      "item: ['', 'FP My Commun 60cp', 31.96, 1]\n",
      "item: ['', 'RL Counter Attack', 31.5, 1]\n",
      "item: ['', 'FIC ONION JAM', 3.99, 14]\n",
      "item: ['', 'peasant pie-lentil', 3.99, 13]\n",
      "item: ['', 'BAMBU PAN SCRAPER', 1.99, 6]\n",
      "item: ['', 'BREAKFAST SAUSAGE', 5.19, 13]\n",
      "item: ['', 'APPLE BRANDY CAKE', 3.0, 17]\n",
      "item: ['', 'Super Carrot', 6.29, 15]\n",
      "item: ['', 'SPRT COCOCURR CRAC', 6.59, 15]\n",
      "item: ['', 'TREPUSA KALE/P PUP', 6.29, 19]\n",
      "item: ['', 'SESAME YUBA STRIPS', 6.99, 13]\n",
      "item: ['', 'KITE HILL JAL CC', 5.49, 14]\n",
      "item: ['', '5100 MESQUIT PECAN', 6.23, 16]\n",
      "item: ['', 'QU Zinc Elderb 14l', 2.13, 1]\n",
      "item: ['', 'QU Zinc Elderb 14l', 2.13, 1]\n",
      "++++++++++++++++++Topic #4, basket #5+++++++++++++++++++\n",
      "item: ['', 'CRV SMALL NO TAX', 0.05, 15]\n",
      "item: ['', 'QU Zinc Elderb 14l', 2.13, 1]\n",
      "item: ['', 'RL Counter Attack', 12.75, 1]\n",
      "item: ['', 'HY Cold+Cough 4oz', 8.45, 1]\n",
      "item: ['', 'Argan Rose Oil', 9.95, 4]\n",
      "item: ['', 'Iris Day Cream', 18.5, 4]\n",
      "item: ['', 'PENTA - LITER', 2.59, 15]\n",
      "item: ['', 'CRV LRG SING NOTAX', 0.1, 15]\n",
      "item: ['', '8104CHAGASHROOMPWD', 1.79, 31]\n",
      "item: ['', '8152 CORDYCEPS PWD', 5.22, 31]\n",
      "item: ['', 'Nordic CGummies 20', 5.19, 1]\n",
      "++++++++++++++++++Topic #4, basket #6+++++++++++++++++++\n",
      "item: ['', 'LUND MOCHI RICE CK', 3.79, 15]\n",
      "item: ['', 'LUND KETTLE CORN', 3.79, 15]\n",
      "item: ['', 'World Map', 14.95, 4]\n",
      "item: ['', '6336 PAR RED RICE', 4.13, 16]\n",
      "item: ['', 'WG HEARTY 9 GRAIN', 4.79, 17]\n",
      "item: ['', 'RUDISSPELT TORTILL', 4.99, 17]\n",
      "item: ['', 'NW HL SambucLoz24', 4.39, 1]\n",
      "item: ['', '72% DARK CHOCOLATE', 5.99, 15]\n",
      "item: ['', 'AMANO-DOS RIOS BAR', 6.49, 15]\n",
      "item: ['', '72% DARK CHOCOLATE', 5.99, 15]\n",
      "item: ['', '72% DARK CHOCOLATE', 5.99, 15]\n",
      "item: ['', 'Natracare 20 Super', 6.25, 4]\n",
      "item: ['', 'Natracare 20 Super', 6.25, 4]\n",
      "item: ['', 'Natracare Super Pl', 6.95, 4]\n",
      "item: ['', 'Natracare Super Pl', 6.95, 4]\n",
      "item: ['', '5 MONTH COMTE', 6.4, 14]\n",
      "item: ['', 'RED BARN HERITAGE', 5.44, 14]\n",
      "item: ['', 'GOAT GOUDA CHEESE', 9.89, 14]\n",
      "item: ['', 'CocolimShampoo32oz', 10.99, 4]\n",
      "item: ['', 'MOWAT STARTHQUARTS', 20.99, 15]\n",
      "item: ['', 'AH EsterC Ras', 10.39, 1]\n",
      "item: ['', '16OZ BIO TUB t4', 0.4, 16]\n",
      "item: ['', '2345 SAUERKRAUT AV', 2.59, 16]\n",
      "item: ['', 'Nf Picrorrhiza 60v', 17.1, 1]\n",
      "item: ['', 'SPRING B MAPLE SYR', 8.99, 15]\n",
      "item: ['', 'RASPBERRY POMEGRAN', 4.19, 15]\n",
      "item: ['', 'RC SinusClear 60vc', 23.2, 1]\n",
      "item: ['', 'GoLKdsMltGmmy120ch', 29.99, 1]\n",
      "item: ['MC', 'VITAMINS', -3.0, 1]\n",
      "item: ['', 'ELThyroid 60vcap', 29.71, 1]\n",
      "item: ['', 'Nf Shankhpushpi 60', 17.9, 1]\n",
      "item: ['', 'Badger TintedSPF30', 13.6, 4]\n",
      "item: ['', 'OW Nettle Querceti', 16.36, 1]\n",
      "item: ['', 'RL Counter Attack', 10.99, 1]\n",
      "item: ['', 'Insect Repellent 2', 4.95, 4]\n",
      "item: ['', 'Lip Treatment Coco', 7.3, 4]\n",
      "item: ['', 'AY Amla Plex 300gm', 22.5, 1]\n",
      "item: ['', 'QU Zinc Elderb 14l', 2.13, 1]\n",
      "item: ['', '8198EVERYDAYGREEN', 13.04, 11]\n",
      "item: ['', 'QU Zinc Elderb 14l', 2.13, 1]\n",
      "item: ['', 'CALFIA OAT/ALMMILK', 4.29, 13]\n",
      "item: ['', 'LARGE COOLER CRV', 0.1, 13]\n",
      "item: ['', '8237 ORG GINGER PW', 1.76, 11]\n",
      "item: ['', '8173 DRAGONWELL OR', 4.94, 11]\n",
      "item: ['', '8188ECHINACEALFC/S', 1.67, 11]\n",
      "item: ['', '2180 BLACK BEANS', 6.12, 16]\n",
      "item: ['', 'SUNGOLD TOMAT SEED', 3.49, 7]\n",
      "item: ['', 'Lettuce seeds', 2.39, 7]\n",
      "item: ['', 'BASIL GENOV SEEDS', 1.8900000000000001, 7]\n",
      "item: ['', 'Scallion Seeds', 2.39, 7]\n",
      "item: ['', 'Yellow Crookneck', 2.19, 7]\n",
      "item: ['', 'Beefsteak Tomato', 2.19, 7]\n",
      "item: ['', 'B I BEET EARLY WON', 1.8900000000000001, 7]\n",
      "item: ['', 'Baby Greens seeds', 3.99, 7]\n",
      "item: ['', 'Sprouts seeds', 3.99, 7]\n",
      "item: ['MP', '10% Bath/Body TX', -10.05, 4]\n",
      "++++++++++++++++++Topic #4, basket #7+++++++++++++++++++\n",
      "item: ['', 'PF Yin Chiao 120ta', 30.15, 1]\n",
      "item: ['', 'Nu Straw Lemon 10t', 5.99, 1]\n",
      "item: ['', 'BF Pine Cough Drop', 6.3, 1]\n",
      "item: ['', 'GINGER', 0.55, 12]\n",
      "item: ['', 'AH Ester-C LL each', 0.55, 1]\n",
      "item: ['', 'NW OrgSambucLoz24', 4.39, 1]\n",
      "item: ['', 'OL Currant 24loz', 6.3, 1]\n",
      "item: ['', 'VW Yin Chiao 2oz', 18.6, 1]\n",
      "item: ['', 'NW Nettle Herb 100', 7.49, 1]\n",
      "item: ['', 'RL Counter Attack', 31.5, 1]\n",
      "item: ['', 'Nu Straw Lemon 10t', 5.99, 1]\n",
      "item: ['', 'NF GarlicRich 90gl', 16.0, 1]\n",
      "item: ['', 'NA Dry Mouth 100tb', 17.0, 1]\n",
      "item: ['', 'SUPER GREEN', 3.99, 13]\n",
      "item: ['', 'SMALL COOLER CRV', 0.05, 13]\n",
      "item: ['', '1lb STRAWBERRY', 6.99, 12]\n",
      "item: ['', 'KALONA CHOC MILK', 2.19, 13]\n",
      "item: ['', 'ORANGES VALENCIA', 3.59, 12]\n",
      "item: ['', 'SIGGIS BLUBRY 4%', 1.3900000000000001, 13]\n",
      "item: ['', 'LEMONS', 1.55, 12]\n",
      "item: ['', 'NECTARINE', 2.59, 12]\n",
      "item: ['', 'MANGO', 3.47, 12]\n",
      "item: ['', 'BRAGG CIDERw/GRAPE', 2.49, 15]\n",
      "item: ['', 'CRV SMALL NO TAX', 0.05, 15]\n",
      "item: ['', 'RASPBERRY PACK', 5.99, 12]\n",
      "item: ['', 'RASPBERRY PACK', 5.99, 12]\n",
      "item: ['MP', 'Worker 35% Vit tax', -52.61, 1]\n",
      "item: ['MP', 'Worker 20% Produce', -6.15, 12]\n",
      "item: ['MP', 'Worker 20% Refrig', -1.52, 13]\n",
      "item: ['MP', 'Worker 20% PkgFood', -0.5, 15]\n",
      "++++++++++++++++++Topic #4, basket #8+++++++++++++++++++\n",
      "item: ['', 'BO Oscillococcinum', 22.25, 1]\n",
      "item: ['', 'BO ColdCalm 60tab', 10.75, 1]\n",
      "item: ['', 'MRM D3/K2 60Vcaps', 11.98, 1]\n",
      "item: ['', 'FORAGER GREENS', 4.99, 13]\n",
      "item: ['', 'QN Zinc Echinacea', 2.13, 1]\n",
      "item: ['', 'WG Immune Preg 1oz', 10.2, 1]\n",
      "item: ['', 'RL Counter Attack', 32.0, 1]\n",
      "item: ['MP', 'BAG CREDIT', -0.1, 23]\n",
      "item: ['', 'URBAN REMEDY', 6.55, 13]\n",
      "item: ['MP', '10% Vitamin TX', -10.67, 1]\n",
      "++++++++++++++++++Topic #4, basket #9+++++++++++++++++++\n",
      "item: ['', 'FORAGER CHEEZY', 2.5, 15]\n",
      "item: ['', 'FORAGER BBQ', 2.5, 15]\n",
      "item: ['', 'AF Let It Grow Rin', 10.3, 4]\n",
      "item: ['', 'LEEKS', 2.33, 12]\n",
      "item: ['', 'CARA CARA NAVEL', 3.11, 12]\n",
      "item: ['', 'BASIL 4oz PACKAGE', 4.99, 12]\n",
      "item: ['', 'BASIL 4oz PACKAGE', 4.99, 12]\n",
      "item: ['', 'BASIL 4oz PACKAGE', 4.99, 12]\n",
      "item: ['', 'LIQUID AMINO SPRAY', 3.39, 15]\n",
      "item: ['', 'THAI COCONUT MILK', 1.99, 15]\n",
      "item: ['', 'CASA SANCHEZ ROAST', 4.95, 13]\n",
      "item: ['', 'VIDA JUICE', 3.99, 13]\n",
      "item: ['', 'SMALL COOLER CRV', 0.05, 13]\n",
      "item: ['', 'RL Counter Attack', 32.0, 1]\n",
      "item: ['', 'NW OrgSambucLoz24', 4.39, 1]\n",
      "item: ['', 'TOONA VEGAN', 3.99, 15]\n",
      "item: ['', 'VIOLIFE PARM', 5.69, 14]\n",
      "item: ['', 'VIOLIFE GOUDA PIZZ', 5.49, 1]\n",
      "item: ['', 'CARROTS LOOSE', 1.29, 12]\n",
      "item: ['MR', 'SF Bag Charge', 0.1, 20]\n",
      "item: ['MR', 'SF Bag Charge', 0.1, 20]\n",
      "item: ['MP', 'Worker 35% Vitamin', -14.66, 1]\n",
      "item: ['MP', 'Worker 20% PkgFood', -4.32, 15]\n",
      "item: ['MP', 'Worker 20% Produce', -4.35, 12]\n",
      "item: ['MP', 'Worker 20% Refrig', -1.79, 13]\n",
      "item: ['MP', 'Worker 20% Cheese', -1.1400000000000001, 14]\n",
      "++++++++++++++++++Topic #4, basket #10+++++++++++++++++++\n",
      "item: ['', 'GUAY SPK CRAN POM', 1.99, 15]\n",
      "item: ['', 'CRV SMALL SING T', 0.05, 15]\n",
      "item: ['', 'CRV LRG SING NOTAX', 0.1, 15]\n",
      "item: ['', 'RL Counter Attack', 12.8, 1]\n",
      "item: ['', 'REBBL CHOCO', 3.39, 13]\n",
      "item: ['', 'SMALL COOLER CRV', 0.05, 13]\n",
      "item: ['', 'NW OrgSambucLoz24', 4.39, 1]\n",
      "item: ['MP', 'Worker 35% Vitamin', -6.02, 1]\n",
      "item: ['MP', 'Worker 20% PkgFood', -1.2, 15]\n",
      "item: ['MP', 'Worker 20% PkgFood', -0.5, 15]\n",
      "item: ['MP', 'Worker 20% Refrig', -0.68, 13]\n"
     ]
    }
   ],
   "source": [
    "def print_top_baskets(model, W, n_top_words):\n",
    "    baskets = []\n",
    "    for topic_idx, w in enumerate(W.T):\n",
    "        basket_string=str([df['items'][i] for i in w.argsort()[:-n_top_words - 1:-1]])\n",
    "        count = 0\n",
    "        for i in w.argsort()[:-n_top_words - 1:-1]:\n",
    "            count+=1\n",
    "            print(\"++++++++++++++++++Topic #%d, basket #%d+++++++++++++++++++\"%(topic_idx,count))\n",
    "            print_basket_contents(i)\n",
    "        #print_basket_contents([i for i in w.argsort()[:-n_top_words - 1:-1]])\n",
    "        baskets.append(basket_string)\n",
    "        #print(basket_string)\n",
    "        #print()\n",
    "        '''wordcloud = WordCloud(max_font_size=500, max_words=1000, background_color=\"white\").generate(basket_string.replace(\" \", \"_\").replace(\"'\",\"\"))\n",
    "\n",
    "        # Display the generated image:\n",
    "        #plt.figure(1,figsize=(10,10))\n",
    "        plt.imshow(wordcloud, interpolation='bilinear')\n",
    "        plt.axis(\"off\")\n",
    "        plt.show()\n",
    "        #plt.savefig('topic%d.png'%topic_idx)\n",
    "        #plt.close()\n",
    "        wordcloud.to_file('topic%d.png'%topic_idx)'''\n",
    "print_top_baskets(model,W,10)"
   ]
  },
  {
   "cell_type": "code",
   "execution_count": 427,
   "metadata": {},
   "outputs": [
    {
     "data": {
      "text/plain": [
       "2"
      ]
     },
     "execution_count": 427,
     "metadata": {},
     "output_type": "execute_result"
    }
   ],
   "source": [
    "df['item_count'].max()"
   ]
  },
  {
   "cell_type": "code",
   "execution_count": null,
   "metadata": {},
   "outputs": [],
   "source": [
    "W[:,1]"
   ]
  },
  {
   "cell_type": "code",
   "execution_count": null,
   "metadata": {},
   "outputs": [],
   "source": [
    "n_top_words=10\n",
    "for i,w in enumerate(W.T):\n",
    "    print(i,w.argsort()[:-n_top_words - 1:-1])"
   ]
  },
  {
   "cell_type": "code",
   "execution_count": 76,
   "metadata": {},
   "outputs": [
    {
     "data": {
      "text/plain": [
       "6576"
      ]
     },
     "execution_count": 76,
     "metadata": {},
     "output_type": "execute_result"
    }
   ],
   "source": [
    "len(list(items_set))"
   ]
  },
  {
   "cell_type": "code",
   "execution_count": 75,
   "metadata": {},
   "outputs": [
    {
     "name": "stdout",
     "output_type": "stream",
     "text": [
      "[1752 6585 2198 2188 2189 2190 2191 2192 2193 2194]\n",
      "[1271 6539 4820   80 4966 1929 2604 6546 2660 4806]\n",
      "[6114 3455  640 2958  537   84 2189 4025 1017 4051]\n",
      "[3058 2646 2476 5751 5768 6309 4302 4243 3450 6388]\n",
      "[1484 4994 5017  125 4381  102 1207  435 1811 4079]\n"
     ]
    }
   ],
   "source": [
    "for topic in H:\n",
    "    print (topic.argsort()[:-10-1:-1])"
   ]
  },
  {
   "cell_type": "code",
   "execution_count": null,
   "metadata": {},
   "outputs": [],
   "source": [
    "feat\n",
    "str([feature_names[i]for i in topic.argsort()[:-n_top_words - 1:-1]])"
   ]
  },
  {
   "cell_type": "code",
   "execution_count": 72,
   "metadata": {},
   "outputs": [
    {
     "name": "stdout",
     "output_type": "stream",
     "text": [
      "4112 SINTO KIMCHI 13.54\n",
      "PEPPERS RED BELL 2.75\n",
      "CUCUMBERS 12.73\n",
      "ORGANIC 2LB TOFU 20.95\n",
      "5540 TAHINI 12.17\n",
      "GINGER 4.79\n",
      "GARLIC WHITE 3.01\n",
      "PRODUCE SCALE 1.79\n",
      "LIMES 2.0\n",
      "CILANTRO 1.99\n",
      "CILANTRO 1.99\n",
      "BROCCOLI LOOSE 6.24\n",
      "CELLO CAULIFLOWER 11.96\n",
      "LEEKS 9.12\n",
      "SUGAR PLUM CLAM 5.97\n",
      "BEETS RED LOOSE 6.01\n",
      "store 100% Bulks -34.5\n",
      "store 100% Produce -70.35\n",
      "store 100% Refrig -20.95\n"
     ]
    }
   ],
   "source": [
    "df.shape[0]\n",
    "for i in range(10,11):\n",
    "    row = df['items'][i:i+1]\n",
    "    for item in row:\n",
    "        for it in item:\n",
    "            print (it[1],it[2])"
   ]
  },
  {
   "cell_type": "code",
   "execution_count": null,
   "metadata": {},
   "outputs": [],
   "source": []
  },
  {
   "cell_type": "code",
   "execution_count": null,
   "metadata": {},
   "outputs": [],
   "source": []
  },
  {
   "cell_type": "code",
   "execution_count": 12,
   "metadata": {},
   "outputs": [
    {
     "name": "stderr",
     "output_type": "stream",
     "text": [
      "/anaconda3/lib/python3.6/site-packages/ipykernel_launcher.py:6: SettingWithCopyWarning: \n",
      "A value is trying to be set on a copy of a slice from a DataFrame\n",
      "\n",
      "See the caveats in the documentation: http://pandas.pydata.org/pandas-docs/stable/indexing.html#indexing-view-versus-copy\n",
      "  \n"
     ]
    }
   ],
   "source": [
    "df.shape[0]\n",
    "for i in range(10,11):\n",
    "    row = df['items'][i:i+1]\n",
    "    for item in row:\n",
    "        for it in item:\n",
    "            df[it[1]][i:i+1]=df[it[1]][i:i+1]+it[2]"
   ]
  },
  {
   "cell_type": "code",
   "execution_count": 15,
   "metadata": {},
   "outputs": [
    {
     "data": {
      "text/plain": [
       "10    3.98\n",
       "Name: CILANTRO, dtype: float64"
      ]
     },
     "execution_count": 15,
     "metadata": {},
     "output_type": "execute_result"
    }
   ],
   "source": [
    "df['CILANTRO'][10:11]"
   ]
  },
  {
   "cell_type": "code",
   "execution_count": 19,
   "metadata": {},
   "outputs": [
    {
     "name": "stderr",
     "output_type": "stream",
     "text": [
      "/anaconda3/lib/python3.6/site-packages/ipykernel_launcher.py:6: SettingWithCopyWarning: \n",
      "A value is trying to be set on a copy of a slice from a DataFrame\n",
      "\n",
      "See the caveats in the documentation: http://pandas.pydata.org/pandas-docs/stable/indexing.html#indexing-view-versus-copy\n",
      "  \n"
     ]
    }
   ],
   "source": [
    "df.shape[0]\n",
    "for i in range(1,df.shape[0]):\n",
    "    row = df['items'][i:i+1]\n",
    "    for item in row:\n",
    "        for it in item:\n",
    "            df[it[1]][i:i+1]=df[it[1]][i:i+1]+it[2]"
   ]
  },
  {
   "cell_type": "code",
   "execution_count": 20,
   "metadata": {},
   "outputs": [
    {
     "data": {
      "text/plain": [
       "(2535, 6586)"
      ]
     },
     "execution_count": 20,
     "metadata": {},
     "output_type": "execute_result"
    }
   ],
   "source": [
    "df.shape"
   ]
  },
  {
   "cell_type": "code",
   "execution_count": 22,
   "metadata": {},
   "outputs": [],
   "source": [
    "df.to_pickle('02012019.pkl')"
   ]
  },
  {
   "cell_type": "code",
   "execution_count": 213,
   "metadata": {},
   "outputs": [
    {
     "data": {
      "text/plain": [
       "6576"
      ]
     },
     "execution_count": 213,
     "metadata": {},
     "output_type": "execute_result"
    }
   ],
   "source": [
    "len(items_set)"
   ]
  },
  {
   "cell_type": "code",
   "execution_count": 114,
   "metadata": {},
   "outputs": [
    {
     "name": "stdout",
     "output_type": "stream",
     "text": [
      "[['', 'BLUEBERRIES', 5.99, 12], ['', 'ALXNDRE YOGURT', 4.99, 13], ['MP', 'Worker 20% Produce', -1.2, 12], ['MP', 'Worker 20% Refrig', -1.0, 13]]\n"
     ]
    }
   ],
   "source": [
    "trans = []\n",
    "for a in df[1:2]['items']:\n",
    "    #trans.append([r for v in a for r in v])\n",
    "    trans.append(a)\n",
    "print(a)"
   ]
  },
  {
   "cell_type": "code",
   "execution_count": 96,
   "metadata": {},
   "outputs": [
    {
     "name": "stdout",
     "output_type": "stream",
     "text": [
      "[['', 'BLUEBERRIES', 5.99, 12], ['', 'ALXNDRE YOGURT', 4.99, 13], ['MP', 'Worker 20% Produce', -1.2, 12], ['MP', 'Worker 20% Refrig', -1.0, 13]]\n",
      "[[['', 'BLUEBERRIES', 5.99, 12], ['', 'ALXNDRE YOGURT', 4.99, 13], ['MP', 'Worker 20% Produce', -1.2, 12], ['MP', 'Worker 20% Refrig', -1.0, 13]]]\n"
     ]
    }
   ],
   "source": [
    "trans =[]\n",
    "for l in [i for i in df[1:2]['items']]:\n",
    "    print (l)\n",
    "    trans.append(l)\n",
    "    print (trans)"
   ]
  },
  {
   "cell_type": "code",
   "execution_count": 4,
   "metadata": {},
   "outputs": [],
   "source": [
    "#pd.get_dummies([i for i in df[1:2]['items']]).values()"
   ]
  },
  {
   "cell_type": "code",
   "execution_count": 80,
   "metadata": {},
   "outputs": [
    {
     "name": "stdout",
     "output_type": "stream",
     "text": [
      "['', 'BLUEBERRIES', 5.99, 12]\n",
      "1 \n",
      "2 BLUEBERRIES\n",
      "3 5.99\n",
      "4 12\n",
      "['', 'ALXNDRE YOGURT', 4.99, 13]\n",
      "5 \n",
      "6 ALXNDRE YOGURT\n",
      "7 4.99\n",
      "8 13\n",
      "['MP', 'Worker 20% Produce', -1.2, 12]\n",
      "9 MP\n",
      "10 Worker 20% Produce\n",
      "11 -1.2\n",
      "12 12\n",
      "['MP', 'Worker 20% Refrig', -1.0, 13]\n",
      "13 MP\n",
      "14 Worker 20% Refrig\n",
      "15 -1.0\n",
      "16 13\n"
     ]
    }
   ],
   "source": [
    "\n",
    "type(df['items'].values)\n",
    "count=0\n",
    "for document in df['items'][1]:\n",
    "    print (document)\n",
    "    \n",
    "    for word in(document):\n",
    "        count+=1\n",
    "        print (count,word)\n",
    "        '''for letter in str(word):\n",
    "            print (letter)'''"
   ]
  },
  {
   "cell_type": "code",
   "execution_count": 51,
   "metadata": {},
   "outputs": [
    {
     "ename": "NameError",
     "evalue": "name 'plt' is not defined",
     "output_type": "error",
     "traceback": [
      "\u001b[0;31m---------------------------------------------------------------------------\u001b[0m",
      "\u001b[0;31mNameError\u001b[0m                                 Traceback (most recent call last)",
      "\u001b[0;32m<ipython-input-51-9afee98e21b4>\u001b[0m in \u001b[0;36m<module>\u001b[0;34m\u001b[0m\n\u001b[1;32m      1\u001b[0m \u001b[0mdf\u001b[0m\u001b[0;34m[\u001b[0m\u001b[0;34m[\u001b[0m\u001b[0;34m'gross+'\u001b[0m\u001b[0;34m,\u001b[0m\u001b[0;34m'time'\u001b[0m\u001b[0;34m]\u001b[0m\u001b[0;34m]\u001b[0m\u001b[0;34m.\u001b[0m\u001b[0mplot\u001b[0m\u001b[0;34m(\u001b[0m\u001b[0;34m)\u001b[0m\u001b[0;34m\u001b[0m\u001b[0;34m\u001b[0m\u001b[0m\n\u001b[0;32m----> 2\u001b[0;31m \u001b[0mplt\u001b[0m\u001b[0;34m.\u001b[0m\u001b[0mshow\u001b[0m\u001b[0;34m(\u001b[0m\u001b[0;34m)\u001b[0m\u001b[0;34m\u001b[0m\u001b[0;34m\u001b[0m\u001b[0m\n\u001b[0m",
      "\u001b[0;31mNameError\u001b[0m: name 'plt' is not defined"
     ]
    },
    {
     "data": {
      "image/png": "[encoded data removed]",
      "text/plain": [
       "<Figure size 432x288 with 1 Axes>"
      ]
     },
     "metadata": {
      "needs_background": "light"
     },
     "output_type": "display_data"
    }
   ],
   "source": [
    "df[['gross+','time']].plot()\n",
    "plt.show()"
   ]
  },
  {
   "cell_type": "code",
   "execution_count": 33,
   "metadata": {},
   "outputs": [
    {
     "name": "stdout",
     "output_type": "stream",
     "text": [
      "yep\n"
     ]
    }
   ],
   "source": [
    "ff= './tlogs/201902'\n",
    "if ff.startswith(\"./tlogs\"):\n",
    "    print (\"yep\")"
   ]
  },
  {
   "cell_type": "code",
   "execution_count": 18,
   "metadata": {},
   "outputs": [
    {
     "name": "stdout",
     "output_type": "stream",
     "text": [
      "f: ('./tlogs', ['201902'], ['.DS_Store']) sub: []\n",
      "f: ('./tlogs/201902', ['20190202', '20190203', '20190204', '20190205', '20190206', '20190207', '20190208', '20190209', '20190210', '20190211', '20190212', '20190213', '20190214', '20190215', '20190216', '20190217', '20190218', '20190219', '20190220', '20190221', '20190222', '20190223', '20190224', '20190225', '20190226', '20190227', '20190228', '20190301'], ['.DS_Store']) sub: []\n",
      "f: ('./tlogs/201902/20190202', [], ['checklisting.txt', 'department.txt', 'Department01Discounts.txt', 'Department04Discounts.txt', 'Department06Discounts.txt', 'Department07Discounts.txt', 'Department08Discounts.txt', 'Department09Discounts.txt', 'Department10Discounts.txt', 'Department11Discounts.txt', 'Department12Discounts.txt', 'Department13Discounts.txt', 'Department14Discounts.txt', 'Department15Discounts.txt', 'Department16Discounts.txt', 'Department17Discounts.txt', 'Department19Discounts.txt', 'Department26Discounts.txt', 'dept.txt', 'discountitems.txt', 'EPSTENDER.txt', 'hourlydept.txt', 'misctran.txt', 'misctranslong.txt', 'officecash.txt', 'operator.txt', 'operatorperformance.txt', 'overshort.txt', 'storefinances.txt', 'termprod.txt', 'tlogdir.txt', 'transactionlog.txt']) sub: []\n",
      "f: ('./tlogs/201902/20190203', [], ['checklisting.txt', 'department.txt', 'Department01Discounts.txt', 'Department04Discounts.txt', 'Department06Discounts.txt', 'Department07Discounts.txt', 'Department08Discounts.txt', 'Department09Discounts.txt', 'Department10Discounts.txt', 'Department11Discounts.txt', 'Department12Discounts.txt', 'Department13Discounts.txt', 'Department14Discounts.txt', 'Department15Discounts.txt', 'Department16Discounts.txt', 'Department17Discounts.txt', 'Department19Discounts.txt', 'Department26Discounts.txt', 'dept.txt', 'discountitems.txt', 'EPSTENDER.txt', 'hourlydept.txt', 'misctran.txt', 'misctranslong.txt', 'officecash.txt', 'operator.txt', 'operatorperformance.txt', 'overshort.txt', 'storefinances.txt', 'termprod.txt', 'tlogdir.txt', 'transactionlog.txt']) sub: []\n",
      "f: ('./tlogs/201902/20190204', [], ['checklisting.txt', 'department.txt', 'Department01Discounts.txt', 'Department04Discounts.txt', 'Department06Discounts.txt', 'Department07Discounts.txt', 'Department08Discounts.txt', 'Department09Discounts.txt', 'Department10Discounts.txt', 'Department11Discounts.txt', 'Department12Discounts.txt', 'Department13Discounts.txt', 'Department14Discounts.txt', 'Department15Discounts.txt', 'Department16Discounts.txt', 'Department17Discounts.txt', 'Department19Discounts.txt', 'Department26Discounts.txt', 'dept.txt', 'discountitems.txt', 'EPSTENDER.txt', 'hourlydept.txt', 'misctran.txt', 'misctranslong.txt', 'officecash.txt', 'operator.txt', 'operatorperformance.txt', 'overshort.txt', 'storefinances.txt', 'termprod.txt', 'tlogdir.txt', 'transactionlog.txt']) sub: []\n",
      "f: ('./tlogs/201902/20190205', [], ['checklisting.txt', 'department.txt', 'Department01Discounts.txt', 'Department04Discounts.txt', 'Department06Discounts.txt', 'Department07Discounts.txt', 'Department08Discounts.txt', 'Department09Discounts.txt', 'Department10Discounts.txt', 'Department11Discounts.txt', 'Department12Discounts.txt', 'Department13Discounts.txt', 'Department14Discounts.txt', 'Department15Discounts.txt', 'Department16Discounts.txt', 'Department17Discounts.txt', 'Department19Discounts.txt', 'Department26Discounts.txt', 'dept.txt', 'discountitems.txt', 'EPSTENDER.txt', 'hourlydept.txt', 'misctran.txt', 'misctranslong.txt', 'officecash.txt', 'operator.txt', 'operatorperformance.txt', 'overshort.txt', 'storefinances.txt', 'termprod.txt', 'tlogdir.txt', 'transactionlog.txt']) sub: []\n",
      "f: ('./tlogs/201902/20190206', [], ['checklisting.txt', 'department.txt', 'Department01Discounts.txt', 'Department04Discounts.txt', 'Department06Discounts.txt', 'Department07Discounts.txt', 'Department08Discounts.txt', 'Department09Discounts.txt', 'Department10Discounts.txt', 'Department11Discounts.txt', 'Department12Discounts.txt', 'Department13Discounts.txt', 'Department14Discounts.txt', 'Department15Discounts.txt', 'Department16Discounts.txt', 'Department17Discounts.txt', 'Department19Discounts.txt', 'Department26Discounts.txt', 'dept.txt', 'discountitems.txt', 'EPSTENDER.txt', 'hourlydept.txt', 'misctran.txt', 'misctranslong.txt', 'officecash.txt', 'operator.txt', 'operatorperformance.txt', 'overshort.txt', 'storefinances.txt', 'termprod.txt', 'tlogdir.txt', 'transactionlog.txt']) sub: []\n",
      "f: ('./tlogs/201902/20190207', [], ['checklisting.txt', 'department.txt', 'Department01Discounts.txt', 'Department04Discounts.txt', 'Department06Discounts.txt', 'Department07Discounts.txt', 'Department08Discounts.txt', 'Department09Discounts.txt', 'Department10Discounts.txt', 'Department11Discounts.txt', 'Department12Discounts.txt', 'Department13Discounts.txt', 'Department14Discounts.txt', 'Department15Discounts.txt', 'Department16Discounts.txt', 'Department17Discounts.txt', 'Department19Discounts.txt', 'Department26Discounts.txt', 'dept.txt', 'discountitems.txt', 'EPSTENDER.txt', 'hourlydept.txt', 'misctran.txt', 'misctranslong.txt', 'officecash.txt', 'operator.txt', 'operatorperformance.txt', 'overshort.txt', 'storefinances.txt', 'termprod.txt', 'tlogdir.txt', 'transactionlog.txt']) sub: []\n",
      "f: ('./tlogs/201902/20190208', [], ['checklisting.txt', 'department.txt', 'Department01Discounts.txt', 'Department04Discounts.txt', 'Department06Discounts.txt', 'Department07Discounts.txt', 'Department08Discounts.txt', 'Department09Discounts.txt', 'Department10Discounts.txt', 'Department11Discounts.txt', 'Department12Discounts.txt', 'Department13Discounts.txt', 'Department14Discounts.txt', 'Department15Discounts.txt', 'Department16Discounts.txt', 'Department17Discounts.txt', 'Department19Discounts.txt', 'Department26Discounts.txt', 'dept.txt', 'discountitems.txt', 'EPSTENDER.txt', 'hourlydept.txt', 'misctran.txt', 'misctranslong.txt', 'officecash.txt', 'operator.txt', 'operatorperformance.txt', 'overshort.txt', 'storefinances.txt', 'termprod.txt', 'tlogdir.txt', 'transactionlog.txt']) sub: []\n",
      "f: ('./tlogs/201902/20190209', [], ['checklisting.txt', 'department.txt', 'Department01Discounts.txt', 'Department04Discounts.txt', 'Department06Discounts.txt', 'Department07Discounts.txt', 'Department08Discounts.txt', 'Department09Discounts.txt', 'Department10Discounts.txt', 'Department11Discounts.txt', 'Department12Discounts.txt', 'Department13Discounts.txt', 'Department14Discounts.txt', 'Department15Discounts.txt', 'Department16Discounts.txt', 'Department17Discounts.txt', 'Department19Discounts.txt', 'Department26Discounts.txt', 'dept.txt', 'discountitems.txt', 'EPSTENDER.txt', 'hourlydept.txt', 'misctran.txt', 'misctranslong.txt', 'officecash.txt', 'operator.txt', 'operatorperformance.txt', 'overshort.txt', 'storefinances.txt', 'termprod.txt', 'tlogdir.txt', 'transactionlog.txt']) sub: []\n",
      "f: ('./tlogs/201902/20190210', [], ['checklisting.txt', 'department.txt', 'Department01Discounts.txt', 'Department04Discounts.txt', 'Department06Discounts.txt', 'Department07Discounts.txt', 'Department08Discounts.txt', 'Department09Discounts.txt', 'Department10Discounts.txt', 'Department11Discounts.txt', 'Department12Discounts.txt', 'Department13Discounts.txt', 'Department14Discounts.txt', 'Department15Discounts.txt', 'Department16Discounts.txt', 'Department17Discounts.txt', 'Department19Discounts.txt', 'Department26Discounts.txt', 'dept.txt', 'discountitems.txt', 'EPSTENDER.txt', 'hourlydept.txt', 'misctran.txt', 'misctranslong.txt', 'officecash.txt', 'operator.txt', 'operatorperformance.txt', 'overshort.txt', 'storefinances.txt', 'termprod.txt', 'tlogdir.txt', 'transactionlog.txt']) sub: []\n",
      "f: ('./tlogs/201902/20190211', [], ['checklisting.txt', 'department.txt', 'Department01Discounts.txt', 'Department04Discounts.txt', 'Department06Discounts.txt', 'Department07Discounts.txt', 'Department08Discounts.txt', 'Department09Discounts.txt', 'Department10Discounts.txt', 'Department11Discounts.txt', 'Department12Discounts.txt', 'Department13Discounts.txt', 'Department14Discounts.txt', 'Department15Discounts.txt', 'Department16Discounts.txt', 'Department17Discounts.txt', 'Department19Discounts.txt', 'Department26Discounts.txt', 'dept.txt', 'discountitems.txt', 'EPSTENDER.txt', 'hourlydept.txt', 'misctran.txt', 'misctranslong.txt', 'officecash.txt', 'operator.txt', 'operatorperformance.txt', 'overshort.txt', 'storefinances.txt', 'termprod.txt', 'tlogdir.txt', 'transactionlog.txt']) sub: []\n",
      "f: ('./tlogs/201902/20190212', [], ['checklisting.txt', 'department.txt', 'Department01Discounts.txt', 'Department04Discounts.txt', 'Department06Discounts.txt', 'Department07Discounts.txt', 'Department08Discounts.txt', 'Department09Discounts.txt', 'Department10Discounts.txt', 'Department11Discounts.txt', 'Department12Discounts.txt', 'Department13Discounts.txt', 'Department14Discounts.txt', 'Department15Discounts.txt', 'Department16Discounts.txt', 'Department17Discounts.txt', 'Department19Discounts.txt', 'Department26Discounts.txt', 'dept.txt', 'discountitems.txt', 'EPSTENDER.txt', 'hourlydept.txt', 'misctran.txt', 'misctranslong.txt', 'officecash.txt', 'operator.txt', 'operatorperformance.txt', 'overshort.txt', 'storefinances.txt', 'termprod.txt', 'tlogdir.txt', 'transactionlog.txt']) sub: []\n",
      "f: ('./tlogs/201902/20190213', [], ['checklisting.txt', 'department.txt', 'Department01Discounts.txt', 'Department04Discounts.txt', 'Department06Discounts.txt', 'Department07Discounts.txt', 'Department08Discounts.txt', 'Department09Discounts.txt', 'Department10Discounts.txt', 'Department11Discounts.txt', 'Department12Discounts.txt', 'Department13Discounts.txt', 'Department14Discounts.txt', 'Department15Discounts.txt', 'Department16Discounts.txt', 'Department17Discounts.txt', 'Department19Discounts.txt', 'Department26Discounts.txt', 'dept.txt', 'discountitems.txt', 'EPSTENDER.txt', 'hourlydept.txt', 'misctran.txt', 'misctranslong.txt', 'officecash.txt', 'operator.txt', 'operatorperformance.txt', 'overshort.txt', 'storefinances.txt', 'termprod.txt', 'tlogdir.txt', 'transactionlog.txt']) sub: []\n",
      "f: ('./tlogs/201902/20190214', [], ['checklisting.txt', 'department.txt', 'Department01Discounts.txt', 'Department04Discounts.txt', 'Department06Discounts.txt', 'Department07Discounts.txt', 'Department08Discounts.txt', 'Department09Discounts.txt', 'Department10Discounts.txt', 'Department11Discounts.txt', 'Department12Discounts.txt', 'Department13Discounts.txt', 'Department14Discounts.txt', 'Department15Discounts.txt', 'Department16Discounts.txt', 'Department17Discounts.txt', 'Department19Discounts.txt', 'Department26Discounts.txt', 'dept.txt', 'discountitems.txt', 'EPSTENDER.txt', 'hourlydept.txt', 'misctran.txt', 'misctranslong.txt', 'officecash.txt', 'operator.txt', 'operatorperformance.txt', 'overshort.txt', 'storefinances.txt', 'termprod.txt', 'tlogdir.txt', 'transactionlog.txt']) sub: []\n",
      "f: ('./tlogs/201902/20190215', [], ['checklisting.txt', 'department.txt', 'Department01Discounts.txt', 'Department04Discounts.txt', 'Department06Discounts.txt', 'Department07Discounts.txt', 'Department08Discounts.txt', 'Department09Discounts.txt', 'Department10Discounts.txt', 'Department11Discounts.txt', 'Department12Discounts.txt', 'Department13Discounts.txt', 'Department14Discounts.txt', 'Department15Discounts.txt', 'Department16Discounts.txt', 'Department17Discounts.txt', 'Department19Discounts.txt', 'Department26Discounts.txt', 'dept.txt', 'discountitems.txt', 'EPSTENDER.txt', 'hourlydept.txt', 'misctran.txt', 'misctranslong.txt', 'officecash.txt', 'operator.txt', 'operatorperformance.txt', 'overshort.txt', 'storefinances.txt', 'termprod.txt', 'tlogdir.txt', 'transactionlog.txt']) sub: []\n",
      "f: ('./tlogs/201902/20190216', [], ['checklisting.txt', 'department.txt', 'Department01Discounts.txt', 'Department04Discounts.txt', 'Department06Discounts.txt', 'Department07Discounts.txt', 'Department08Discounts.txt', 'Department09Discounts.txt', 'Department10Discounts.txt', 'Department11Discounts.txt', 'Department12Discounts.txt', 'Department13Discounts.txt', 'Department14Discounts.txt', 'Department15Discounts.txt', 'Department16Discounts.txt', 'Department17Discounts.txt', 'Department19Discounts.txt', 'Department26Discounts.txt', 'dept.txt', 'discountitems.txt', 'EPSTENDER.txt', 'hourlydept.txt', 'misctran.txt', 'misctranslong.txt', 'officecash.txt', 'operator.txt', 'operatorperformance.txt', 'overshort.txt', 'storefinances.txt', 'termprod.txt', 'tlogdir.txt', 'transactionlog.txt']) sub: []\n",
      "f: ('./tlogs/201902/20190217', [], ['checklisting.txt', 'department.txt', 'Department01Discounts.txt', 'Department04Discounts.txt', 'Department06Discounts.txt', 'Department07Discounts.txt', 'Department08Discounts.txt', 'Department09Discounts.txt', 'Department10Discounts.txt', 'Department11Discounts.txt', 'Department12Discounts.txt', 'Department13Discounts.txt', 'Department14Discounts.txt', 'Department15Discounts.txt', 'Department16Discounts.txt', 'Department17Discounts.txt', 'Department19Discounts.txt', 'Department26Discounts.txt', 'dept.txt', 'discountitems.txt', 'EPSTENDER.txt', 'hourlydept.txt', 'misctran.txt', 'misctranslong.txt', 'officecash.txt', 'operator.txt', 'operatorperformance.txt', 'overshort.txt', 'storefinances.txt', 'termprod.txt', 'tlogdir.txt', 'transactionlog.txt']) sub: []\n",
      "f: ('./tlogs/201902/20190218', [], ['checklisting.txt', 'department.txt', 'Department01Discounts.txt', 'Department04Discounts.txt', 'Department06Discounts.txt', 'Department07Discounts.txt', 'Department08Discounts.txt', 'Department09Discounts.txt', 'Department10Discounts.txt', 'Department11Discounts.txt', 'Department12Discounts.txt', 'Department13Discounts.txt', 'Department14Discounts.txt', 'Department15Discounts.txt', 'Department16Discounts.txt', 'Department17Discounts.txt', 'Department19Discounts.txt', 'Department26Discounts.txt', 'dept.txt', 'discountitems.txt', 'EPSTENDER.txt', 'hourlydept.txt', 'misctran.txt', 'misctranslong.txt', 'officecash.txt', 'operator.txt', 'operatorperformance.txt', 'overshort.txt', 'storefinances.txt', 'termprod.txt', 'tlogdir.txt', 'transactionlog.txt']) sub: []\n",
      "f: ('./tlogs/201902/20190219', [], ['checklisting.txt', 'department.txt', 'Department01Discounts.txt', 'Department04Discounts.txt', 'Department06Discounts.txt', 'Department07Discounts.txt', 'Department08Discounts.txt', 'Department09Discounts.txt', 'Department10Discounts.txt', 'Department11Discounts.txt', 'Department12Discounts.txt', 'Department13Discounts.txt', 'Department14Discounts.txt', 'Department15Discounts.txt', 'Department16Discounts.txt', 'Department17Discounts.txt', 'Department19Discounts.txt', 'Department26Discounts.txt', 'dept.txt', 'discountitems.txt', 'EPSTENDER.txt', 'hourlydept.txt', 'misctran.txt', 'misctranslong.txt', 'officecash.txt', 'operator.txt', 'operatorperformance.txt', 'overshort.txt', 'storefinances.txt', 'termprod.txt', 'tlogdir.txt', 'transactionlog.txt']) sub: []\n",
      "f: ('./tlogs/201902/20190220', [], ['checklisting.txt', 'department.txt', 'Department01Discounts.txt', 'Department04Discounts.txt', 'Department06Discounts.txt', 'Department07Discounts.txt', 'Department08Discounts.txt', 'Department09Discounts.txt', 'Department10Discounts.txt', 'Department11Discounts.txt', 'Department12Discounts.txt', 'Department13Discounts.txt', 'Department14Discounts.txt', 'Department15Discounts.txt', 'Department16Discounts.txt', 'Department17Discounts.txt', 'Department19Discounts.txt', 'Department26Discounts.txt', 'dept.txt', 'discountitems.txt', 'EPSTENDER.txt', 'hourlydept.txt', 'misctran.txt', 'misctranslong.txt', 'officecash.txt', 'operator.txt', 'operatorperformance.txt', 'overshort.txt', 'storefinances.txt', 'termprod.txt', 'tlogdir.txt', 'transactionlog.txt']) sub: []\n",
      "f: ('./tlogs/201902/20190221', [], ['checklisting.txt', 'department.txt', 'Department01Discounts.txt', 'Department04Discounts.txt', 'Department06Discounts.txt', 'Department07Discounts.txt', 'Department08Discounts.txt', 'Department09Discounts.txt', 'Department10Discounts.txt', 'Department11Discounts.txt', 'Department12Discounts.txt', 'Department13Discounts.txt', 'Department14Discounts.txt', 'Department15Discounts.txt', 'Department16Discounts.txt', 'Department17Discounts.txt', 'Department19Discounts.txt', 'Department26Discounts.txt', 'dept.txt', 'discountitems.txt', 'EPSTENDER.txt', 'hourlydept.txt', 'misctran.txt', 'misctranslong.txt', 'officecash.txt', 'operator.txt', 'operatorperformance.txt', 'overshort.txt', 'storefinances.txt', 'termprod.txt', 'tlogdir.txt', 'transactionlog.txt']) sub: []\n",
      "f: ('./tlogs/201902/20190222', [], ['checklisting.txt', 'department.txt', 'Department01Discounts.txt', 'Department04Discounts.txt', 'Department06Discounts.txt', 'Department07Discounts.txt', 'Department08Discounts.txt', 'Department09Discounts.txt', 'Department10Discounts.txt', 'Department11Discounts.txt', 'Department12Discounts.txt', 'Department13Discounts.txt', 'Department14Discounts.txt', 'Department15Discounts.txt', 'Department16Discounts.txt', 'Department17Discounts.txt', 'Department19Discounts.txt', 'Department26Discounts.txt', 'dept.txt', 'discountitems.txt', 'EPSTENDER.txt', 'hourlydept.txt', 'misctran.txt', 'misctranslong.txt', 'officecash.txt', 'operator.txt', 'operatorperformance.txt', 'overshort.txt', 'storefinances.txt', 'termprod.txt', 'tlogdir.txt', 'transactionlog.txt']) sub: []\n",
      "f: ('./tlogs/201902/20190223', [], ['checklisting.txt', 'department.txt', 'Department01Discounts.txt', 'Department04Discounts.txt', 'Department06Discounts.txt', 'Department07Discounts.txt', 'Department08Discounts.txt', 'Department09Discounts.txt', 'Department10Discounts.txt', 'Department11Discounts.txt', 'Department12Discounts.txt', 'Department13Discounts.txt', 'Department14Discounts.txt', 'Department15Discounts.txt', 'Department16Discounts.txt', 'Department17Discounts.txt', 'Department19Discounts.txt', 'Department26Discounts.txt', 'dept.txt', 'discountitems.txt', 'EPSTENDER.txt', 'hourlydept.txt', 'misctran.txt', 'misctranslong.txt', 'officecash.txt', 'operator.txt', 'operatorperformance.txt', 'overshort.txt', 'storefinances.txt', 'termprod.txt', 'tlogdir.txt', 'transactionlog.txt']) sub: []\n",
      "f: ('./tlogs/201902/20190224', [], ['checklisting.txt', 'department.txt', 'Department01Discounts.txt', 'Department04Discounts.txt', 'Department06Discounts.txt', 'Department07Discounts.txt', 'Department08Discounts.txt', 'Department09Discounts.txt', 'Department10Discounts.txt', 'Department11Discounts.txt', 'Department12Discounts.txt', 'Department13Discounts.txt', 'Department14Discounts.txt', 'Department15Discounts.txt', 'Department16Discounts.txt', 'Department17Discounts.txt', 'Department19Discounts.txt', 'Department26Discounts.txt', 'dept.txt', 'discountitems.txt', 'EPSTENDER.txt', 'hourlydept.txt', 'misctran.txt', 'misctranslong.txt', 'officecash.txt', 'operator.txt', 'operatorperformance.txt', 'overshort.txt', 'storefinances.txt', 'termprod.txt', 'tlogdir.txt', 'transactionlog.txt']) sub: []\n",
      "f: ('./tlogs/201902/20190225', [], ['checklisting.txt', 'department.txt', 'Department01Discounts.txt', 'Department04Discounts.txt', 'Department06Discounts.txt', 'Department07Discounts.txt', 'Department08Discounts.txt', 'Department09Discounts.txt', 'Department10Discounts.txt', 'Department11Discounts.txt', 'Department12Discounts.txt', 'Department13Discounts.txt', 'Department14Discounts.txt', 'Department15Discounts.txt', 'Department16Discounts.txt', 'Department17Discounts.txt', 'Department19Discounts.txt', 'Department26Discounts.txt', 'dept.txt', 'discountitems.txt', 'EPSTENDER.txt', 'hourlydept.txt', 'misctran.txt', 'misctranslong.txt', 'officecash.txt', 'operator.txt', 'operatorperformance.txt', 'overshort.txt', 'storefinances.txt', 'termprod.txt', 'tlogdir.txt', 'transactionlog.txt']) sub: []\n",
      "f: ('./tlogs/201902/20190226', [], ['checklisting.txt', 'department.txt', 'Department01Discounts.txt', 'Department04Discounts.txt', 'Department06Discounts.txt', 'Department07Discounts.txt', 'Department08Discounts.txt', 'Department09Discounts.txt', 'Department10Discounts.txt', 'Department11Discounts.txt', 'Department12Discounts.txt', 'Department13Discounts.txt', 'Department14Discounts.txt', 'Department15Discounts.txt', 'Department16Discounts.txt', 'Department17Discounts.txt', 'Department19Discounts.txt', 'Department26Discounts.txt', 'dept.txt', 'discountitems.txt', 'EPSTENDER.txt', 'hourlydept.txt', 'misctran.txt', 'misctranslong.txt', 'officecash.txt', 'operator.txt', 'operatorperformance.txt', 'overshort.txt', 'storefinances.txt', 'termprod.txt', 'tlogdir.txt', 'transactionlog.txt']) sub: []\n",
      "f: ('./tlogs/201902/20190227', [], ['checklisting.txt', 'department.txt', 'Department01Discounts.txt', 'Department04Discounts.txt', 'Department06Discounts.txt', 'Department07Discounts.txt', 'Department08Discounts.txt', 'Department09Discounts.txt', 'Department10Discounts.txt', 'Department11Discounts.txt', 'Department12Discounts.txt', 'Department13Discounts.txt', 'Department14Discounts.txt', 'Department15Discounts.txt', 'Department16Discounts.txt', 'Department17Discounts.txt', 'Department19Discounts.txt', 'Department26Discounts.txt', 'dept.txt', 'discountitems.txt', 'EPSTENDER.txt', 'hourlydept.txt', 'misctran.txt', 'misctranslong.txt', 'officecash.txt', 'operator.txt', 'operatorperformance.txt', 'overshort.txt', 'storefinances.txt', 'termprod.txt', 'tlogdir.txt', 'transactionlog.txt']) sub: []\n",
      "f: ('./tlogs/201902/20190228', [], ['checklisting.txt', 'department.txt', 'Department01Discounts.txt', 'Department04Discounts.txt', 'Department06Discounts.txt', 'Department07Discounts.txt', 'Department08Discounts.txt', 'Department09Discounts.txt', 'Department10Discounts.txt', 'Department11Discounts.txt', 'Department12Discounts.txt', 'Department13Discounts.txt', 'Department14Discounts.txt', 'Department15Discounts.txt', 'Department16Discounts.txt', 'Department17Discounts.txt', 'Department19Discounts.txt', 'Department26Discounts.txt', 'dept.txt', 'discountitems.txt', 'EPSTENDER.txt', 'hourlydept.txt', 'misctran.txt', 'misctranslong.txt', 'officecash.txt', 'operator.txt', 'operatorperformance.txt', 'overshort.txt', 'storefinances.txt', 'termprod.txt', 'tlogdir.txt', 'transactionlog.txt']) sub: []\n",
      "f: ('./tlogs/201902/20190301', [], ['checklisting.txt', 'department.txt', 'Department01Discounts.txt', 'Department04Discounts.txt', 'Department06Discounts.txt', 'Department07Discounts.txt', 'Department08Discounts.txt', 'Department09Discounts.txt', 'Department10Discounts.txt', 'Department11Discounts.txt', 'Department12Discounts.txt', 'Department13Discounts.txt', 'Department14Discounts.txt', 'Department15Discounts.txt', 'Department16Discounts.txt', 'Department17Discounts.txt', 'Department19Discounts.txt', 'Department26Discounts.txt', 'dept.txt', 'discountitems.txt', 'EPSTENDER.txt', 'hourlydept.txt', 'misctran.txt', 'misctranslong.txt', 'officecash.txt', 'operator.txt', 'operatorperformance.txt', 'overshort.txt', 'storefinances.txt', 'termprod.txt', 'tlogdir.txt', 'transactionlog.txt']) sub: []\n"
     ]
    }
   ],
   "source": [
    "for f in os.walk('./tlogs'): print (\"f:\",f,\"sub:\",sub)\n"
   ]
  },
  {
   "cell_type": "code",
   "execution_count": null,
   "metadata": {},
   "outputs": [],
   "source": [
    "import os\n",
    "\n",
    "for subdir, dirs, files in os.walk(rootdir):\n",
    "    for file in files:\n",
    "        #print os.path.join(subdir, file)\n",
    "        filepath = subdir + os.sep + file\n",
    "\n",
    "        if filepath.endswith(\".asm\"):\n",
    "            print (filepath)"
   ]
  },
  {
   "cell_type": "code",
   "execution_count": 8,
   "metadata": {},
   "outputs": [],
   "source": [
    "df=pd.read_pickle('02012019.pkl')"
   ]
  },
  {
   "cell_type": "code",
   "execution_count": null,
   "metadata": {},
   "outputs": [],
   "source": [
    "df[df['BANANAS']!=0]"
   ]
  },
  {
   "cell_type": "code",
   "execution_count": 200,
   "metadata": {},
   "outputs": [
    {
     "data": {
      "text/plain": [
       "Index(['date', 'gross+', 'gross-', 'items', 'net', 'oper', 'term', 'time',\n",
       "       'trans', 'type'],\n",
       "      dtype='object')"
      ]
     },
     "execution_count": 200,
     "metadata": {},
     "output_type": "execute_result"
    }
   ],
   "source": [
    "df.columns"
   ]
  },
  {
   "cell_type": "code",
   "execution_count": null,
   "metadata": {
    "scrolled": true
   },
   "outputs": [
    {
     "data": {
      "text/plain": [
       "<matplotlib.collections.PathCollection at 0x30472f780>"
      ]
     },
     "execution_count": 208,
     "metadata": {},
     "output_type": "execute_result"
    },
    {
     "name": "stderr",
     "output_type": "stream",
     "text": [
      "ERROR:root:Invalid alias: The name clear can't be aliased because it is another magic command.\n",
      "ERROR:root:Invalid alias: The name more can't be aliased because it is another magic command.\n",
      "ERROR:root:Invalid alias: The name less can't be aliased because it is another magic command.\n",
      "ERROR:root:Invalid alias: The name man can't be aliased because it is another magic command.\n"
     ]
    }
   ],
   "source": [
    "plt.scatter(x=df['time'],y=df['gross+'])"
   ]
  },
  {
   "cell_type": "code",
   "execution_count": 54,
   "metadata": {},
   "outputs": [],
   "source": [
    "df.type='Va'"
   ]
  },
  {
   "cell_type": "code",
   "execution_count": null,
   "metadata": {},
   "outputs": [],
   "source": [
    "def get_dataframe(filepath):\n",
    "\n",
    "    all_files = glob.glob(os.path.join(filepath, \"*.json\"))\n",
    "    df = pd.concat((pd.read_json(f,keep_default_dates=False,lines=True) for f in all_files)) \n",
    "    df=df[df['term']<10]\n",
    "    df['date']=pd.to_datetime(df['date'],yearfirst=True)\n",
    "    df['day_of_week']=df['date'].dt.day_name()\n",
    "    df['month']=df['date'].dt.month\n",
    "    return df"
   ]
  },
  {
   "cell_type": "code",
   "execution_count": 1,
   "metadata": {
    "scrolled": true
   },
   "outputs": [
    {
     "ename": "NameError",
     "evalue": "name 'get_dataframe' is not defined",
     "output_type": "error",
     "traceback": [
      "\u001b[0;31m---------------------------------------------------------------------------\u001b[0m",
      "\u001b[0;31mNameError\u001b[0m                                 Traceback (most recent call last)",
      "\u001b[0;32m<ipython-input-1-e10c31250677>\u001b[0m in \u001b[0;36m<module>\u001b[0;34m\u001b[0m\n\u001b[1;32m      1\u001b[0m \u001b[0mpath\u001b[0m \u001b[0;34m=\u001b[0m \u001b[0;34m'/Users/Sarah/galvanize/dsi-capstone/jsons/201802/'\u001b[0m\u001b[0;34m\u001b[0m\u001b[0;34m\u001b[0m\u001b[0m\n\u001b[0;32m----> 2\u001b[0;31m \u001b[0mdf\u001b[0m \u001b[0;34m=\u001b[0m \u001b[0mget_dataframe\u001b[0m\u001b[0;34m(\u001b[0m\u001b[0mpath\u001b[0m\u001b[0;34m)\u001b[0m\u001b[0;34m\u001b[0m\u001b[0;34m\u001b[0m\u001b[0m\n\u001b[0m",
      "\u001b[0;31mNameError\u001b[0m: name 'get_dataframe' is not defined"
     ]
    }
   ],
   "source": [
    "path = '/Users/Sarah/galvanize/dsi-capstone/jsons/201802/'\n",
    "df = get_dataframe(path)"
   ]
  },
  {
   "cell_type": "code",
   "execution_count": null,
   "metadata": {},
   "outputs": [],
   "source": [
    "all_files =[]\n",
    "for f in range(0,366):\n",
    "    all_files.append(path+\"%d.json\"%f)\n",
    "print (all_files)"
   ]
  },
  {
   "cell_type": "code",
   "execution_count": null,
   "metadata": {},
   "outputs": [],
   "source": [
    "import pandas as pd \n",
    "df = pd.concat((pd.read_json(f,keep_default_dates=False,lines=True) for f in all_files)) "
   ]
  },
  {
   "cell_type": "code",
   "execution_count": 110,
   "metadata": {},
   "outputs": [
    {
     "name": "stdout",
     "output_type": "stream",
     "text": [
      "<class 'pandas.core.frame.DataFrame'>\n",
      "RangeIndex: 185214 entries, 0 to 185213\n",
      "Data columns (total 14 columns):\n",
      "date              185214 non-null datetime64[ns]\n",
      "gross+            185214 non-null float64\n",
      "gross-            185214 non-null float64\n",
      "items             185214 non-null object\n",
      "net               185214 non-null float64\n",
      "oper              185214 non-null int64\n",
      "term              185214 non-null int64\n",
      "time              185214 non-null object\n",
      "trans             185214 non-null int64\n",
      "type              185214 non-null object\n",
      "day_of_week       185214 non-null object\n",
      "month             185214 non-null int64\n",
      "total_of_items    185214 non-null int64\n",
      "item_count        185214 non-null int64\n",
      "dtypes: datetime64[ns](1), float64(3), int64(6), object(4)\n",
      "memory usage: 19.8+ MB\n"
     ]
    }
   ],
   "source": [
    "df.info()"
   ]
  },
  {
   "cell_type": "code",
   "execution_count": 123,
   "metadata": {},
   "outputs": [
    {
     "data": {
      "text/plain": [
       "<matplotlib.collections.PathCollection at 0x1a7e9906d8>"
      ]
     },
     "execution_count": 123,
     "metadata": {},
     "output_type": "execute_result"
    },
    {
     "data": {
      "image/png": "[encoded data removed]",
      "text/plain": [
       "<Figure size 432x288 with 1 Axes>"
      ]
     },
     "metadata": {
      "needs_background": "light"
     },
     "output_type": "display_data"
    }
   ],
   "source": [
    "plt.scatter(dfq1['item_count'],dfq1['term'])"
   ]
  },
  {
   "cell_type": "code",
   "execution_count": null,
   "metadata": {},
   "outputs": [],
   "source": []
  }
 ],
 "metadata": {
  "kernelspec": {
   "display_name": "Python 3",
   "language": "python",
   "name": "python3"
  },
  "language_info": {
   "codemirror_mode": {
    "name": "ipython",
    "version": 3
   },
   "file_extension": ".py",
   "mimetype": "text/x-python",
   "name": "python",
   "nbconvert_exporter": "python",
   "pygments_lexer": "ipython3",
   "version": "3.6.8"
  }
 },
 "nbformat": 4,
 "nbformat_minor": 2
}
