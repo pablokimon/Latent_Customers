{
 "cells": [
  {
   "cell_type": "code",
   "execution_count": 1,
   "metadata": {},
   "outputs": [],
   "source": [
    "import pandas as pd\n",
    "import numpy as np\n",
    "from scipy import sparse\n",
    "from os import path\n",
    "from PIL import Image\n",
    "from wordcloud import WordCloud, STOPWORDS, ImageColorGenerator\n",
    "from collections import Counter, defaultdict\n",
    "import matplotlib.pyplot as plt\n",
    "%matplotlib inline\n",
    "from sklearn import decomposition, datasets, model_selection, preprocessing, metrics\n",
    "import src.rainbow\n",
    "import os\n",
    "import glob\n",
    "import pickle\n",
    "import time\n"
   ]
  },
  {
   "cell_type": "code",
   "execution_count": null,
   "metadata": {},
   "outputs": [],
   "source": [
    "%%javascript\n",
    "IPython.OutputArea.prototype._should_scroll = function(lines) {\n",
    "    return false;\n",
    "}"
   ]
  },
  {
   "cell_type": "markdown",
   "metadata": {},
   "source": [
    "## Import the jsonified transactions into a dataframe"
   ]
  },
  {
   "cell_type": "code",
   "execution_count": 2,
   "metadata": {},
   "outputs": [],
   "source": [
    "path = '/Users/Sarah/galvanize/dsi-capstone/data/jsons/2017'\n",
    "all_files = glob.glob(os.path.join(path, \"*.json\"))"
   ]
  },
  {
   "cell_type": "code",
   "execution_count": null,
   "metadata": {},
   "outputs": [],
   "source": [
    "path = '/Users/Sarah/galvanize/dsi-capstone/data/jsons/2018noaccount/'\n",
    "all_files.append(glob.glob(os.path.join(path, \"*.json\")))"
   ]
  },
  {
   "cell_type": "code",
   "execution_count": null,
   "metadata": {},
   "outputs": [],
   "source": [
    "all_files"
   ]
  },
  {
   "cell_type": "code",
   "execution_count": 3,
   "metadata": {},
   "outputs": [],
   "source": [
    "df = pd.concat((pd.read_json(f,keep_default_dates=False,lines=True) for f in all_files)) "
   ]
  },
  {
   "cell_type": "code",
   "execution_count": null,
   "metadata": {
    "scrolled": true
   },
   "outputs": [],
   "source": [
    "for types in df.type.unique():\n",
    "    print(types)    "
   ]
  },
  {
   "cell_type": "code",
   "execution_count": 4,
   "metadata": {},
   "outputs": [],
   "source": [
    "df=df[df['type']=='Checkout']"
   ]
  },
  {
   "cell_type": "code",
   "execution_count": 5,
   "metadata": {},
   "outputs": [],
   "source": [
    "df.drop(columns='type',inplace=True)"
   ]
  },
  {
   "cell_type": "code",
   "execution_count": 6,
   "metadata": {},
   "outputs": [
    {
     "name": "stdout",
     "output_type": "stream",
     "text": [
      "terminals (registers): [11  2  4  3  6 10  8  5  7  1  9]\n"
     ]
    }
   ],
   "source": [
    "print(\"terminals (registers):\",df.term.unique())"
   ]
  },
  {
   "cell_type": "markdown",
   "metadata": {},
   "source": [
    "Drop transactions from register other than 1-9. Register 10 is the customer service desk returns register. Register 11 is the worker self checkout register."
   ]
  },
  {
   "cell_type": "code",
   "execution_count": 7,
   "metadata": {},
   "outputs": [],
   "source": [
    "df=df[df['term']<10]"
   ]
  },
  {
   "cell_type": "code",
   "execution_count": null,
   "metadata": {},
   "outputs": [],
   "source": [
    "df.info()"
   ]
  },
  {
   "cell_type": "code",
   "execution_count": null,
   "metadata": {},
   "outputs": [],
   "source": [
    "df.isna().sum()"
   ]
  },
  {
   "cell_type": "code",
   "execution_count": null,
   "metadata": {
    "scrolled": true
   },
   "outputs": [],
   "source": [
    "df['account'].fillna([],inplace=True)"
   ]
  },
  {
   "cell_type": "code",
   "execution_count": null,
   "metadata": {},
   "outputs": [],
   "source": [
    "df.info()"
   ]
  },
  {
   "cell_type": "code",
   "execution_count": null,
   "metadata": {
    "scrolled": false
   },
   "outputs": [],
   "source": [
    "df = pd.concat([df,df2], axis=0, ignore_index=True)"
   ]
  },
  {
   "cell_type": "code",
   "execution_count": 8,
   "metadata": {},
   "outputs": [],
   "source": [
    "df['date']=pd.to_datetime(df['date'],yearfirst=True)"
   ]
  },
  {
   "cell_type": "code",
   "execution_count": 9,
   "metadata": {},
   "outputs": [],
   "source": [
    "df['day_of_week']=df['date'].dt.day_name()\n",
    "df['month']=df['date'].dt.month"
   ]
  },
  {
   "cell_type": "code",
   "execution_count": 10,
   "metadata": {},
   "outputs": [],
   "source": [
    "pickle.dump(df,open('./data/pickles/df2017.p','wb'))"
   ]
  },
  {
   "cell_type": "code",
   "execution_count": null,
   "metadata": {},
   "outputs": [],
   "source": [
    "import pandas as pd\n",
    "import numpy as np\n",
    "from scipy import sparse\n",
    "from os import path\n",
    "from PIL import Image\n",
    "from wordcloud import WordCloud, STOPWORDS, ImageColorGenerator\n",
    "from collections import Counter, defaultdict\n",
    "import matplotlib.pyplot as plt\n",
    "%matplotlib inline\n",
    "from sklearn import decomposition, datasets, model_selection, preprocessing, metrics\n",
    "import src.rainbow\n",
    "import os\n",
    "import glob\n",
    "import pickle\n",
    "import time\n"
   ]
  },
  {
   "cell_type": "code",
   "execution_count": null,
   "metadata": {},
   "outputs": [],
   "source": [
    "df = pickle.load(open('./data/pickles/df2017.p','rb'))"
   ]
  },
  {
   "cell_type": "code",
   "execution_count": null,
   "metadata": {},
   "outputs": [],
   "source": [
    "df.info()"
   ]
  },
  {
   "cell_type": "code",
   "execution_count": null,
   "metadata": {},
   "outputs": [],
   "source": [
    "df.drop(columns='type',inplace=True)"
   ]
  },
  {
   "cell_type": "code",
   "execution_count": 41,
   "metadata": {
    "scrolled": true
   },
   "outputs": [
    {
     "name": "stdout",
     "output_type": "stream",
     "text": [
      "<class 'list'>\n"
     ]
    }
   ],
   "source": [
    "def get_items(df,most_common=10,least_common=5):\n",
    "    df['total_of_items'] = 0\n",
    "    stoppers = ['BAG CREDIT','SF Bag Charge','Gift Card Reload','8 OZ BIO TUB t3', '16OZ BIO TUB t4',\n",
    "                 '32OZ BIO TUB t5','8 OZ PLSTC TUB t3','16 OZ PLSTC TUB t4','BOTTLE DEPOSIT','6PACK BEER SMALL C','PAID IN','Gift Card Sale',\n",
    "                'PACKAGED FOOD', ]  \n",
    "    '''build a dictionary where the keys are the words\n",
    "    in the dataframe items column'''\n",
    "    stopwords =[]\n",
    "    items=[]\n",
    "    item_dict = defaultdict(int)\n",
    "    basket_counts=[]\n",
    "    topics_list=[]\n",
    "    \n",
    "    for basket in df['items']:\n",
    "        basket_counts.append(len(basket))\n",
    "        for item in basket:\n",
    "            \n",
    "            items.append(item[1])\n",
    "            item_dict[item[1]] += 1\n",
    "    \n",
    "    items_set=set(items)\n",
    "\n",
    "    '''add the most common words to the stopwords list'''\n",
    "    stopwords=list([i[0] for i in Counter(item_dict).most_common(most_common)])\n",
    "    \n",
    "    '''if topics_list exist, add these to stopwords to reveal next layer down'''\n",
    "    if topics_list:\n",
    "        for topics in topics_list:\n",
    "            for i in topics:\n",
    "                stopwords.append(i)\n",
    "            \n",
    "    '''add predetermined stoppers to stopwords list'''\n",
    "    for s in stoppers:\n",
    "        stopwords.append(s)\n",
    "        \n",
    "    '''add items containing \"CRV\" to the stopwords list'''\n",
    "    for item in items_set:\n",
    "        if \"crv\" in item.lower():\n",
    "            stopwords.append(item)\n",
    "    \n",
    "    '''add the least common words to the stopwords list'''\n",
    "    for key,value in item_dict.items():\n",
    "        if value < least_common:\n",
    "            stopwords.append(key)\n",
    "    print(type(stopwords))\n",
    "    #print(stopwords)\n",
    "    stopwords_set = set(stopwords)\n",
    "    \n",
    "    '''iterate through the baskets and add items to items_set\n",
    "    if not in stopwords (too common or too uncommon)'''\n",
    "    for stops in stopwords_set:\n",
    "        if stops in items_set:\n",
    "            items_set.remove(stops)\n",
    "  \n",
    "\n",
    "    return items_set,stopwords_set, item_dict, basket_counts\n",
    "\n",
    "items_set,stopwords,item_dict, basket_counts = get_items(df,most_common=5,least_common=15)"
   ]
  },
  {
   "cell_type": "code",
   "execution_count": 42,
   "metadata": {},
   "outputs": [
    {
     "data": {
      "text/plain": [
       "[('BAG CREDIT', 653976),\n",
       " ('SF Bag Charge', 202236),\n",
       " ('SMALL COOLER CRV', 199538),\n",
       " ('BANANAS', 128843),\n",
       " ('8 OZ BIO TUB t3', 62035),\n",
       " ('CRV LRG SING NOTAX', 61862),\n",
       " ('CRV SMALL NO TAX', 58056),\n",
       " ('CRV SMALL SING T', 52896),\n",
       " ('LEMONS', 43898),\n",
       " ('BOTTLE DEPOSIT', 42166),\n",
       " ('LARGE COOLER CRV', 40686),\n",
       " ('16OZ BIO TUB t4', 40682),\n",
       " ('AVOCADOS HASS', 39442),\n",
       " ('ONIONS YELLOW', 37568),\n",
       " ('CRV LRG SING T', 37409),\n",
       " ('CELERY', 37374),\n",
       " ('REFRIGERATED', 35442),\n",
       " ('BAGEL', 34216),\n",
       " ('CILANTRO', 33442),\n",
       " ('1lb STRAWBERRY', 33160),\n",
       " ('GINGER', 31682),\n",
       " ('APPLES FUJI', 28682),\n",
       " ('LIMES', 28666),\n",
       " ('BEER SMALL CRV', 28333),\n",
       " ('CUCUMBERS', 27661),\n",
       " ('GARLIC WHITE', 26969),\n",
       " ('Worker 20% PkgFood', 22556),\n",
       " ('5290 WALNUTS', 22393),\n",
       " ('CRV SML TAX NOEBT', 22197),\n",
       " ('TOMATO DRY FARM', 21247),\n",
       " ('PEACH', 21185),\n",
       " ('PEPPERS RED BELL', 19282),\n",
       " ('CARROTS LOOSE', 19047),\n",
       " ('6PACK BEER SMALL C', 18959),\n",
       " ('KALE DINO', 18907),\n",
       " ('ONIONS RED', 18822),\n",
       " ('SQUASH ZUCCHINI', 18245),\n",
       " ('GRAPEFRUIT', 17527),\n",
       " ('CUKE MEDIT/PERSIAN', 17001),\n",
       " ('Worker 20% Refrig', 16171),\n",
       " ('CRV8PACK sml T', 15806),\n",
       " ('Worker 20% Produce', 15497),\n",
       " ('BROCCOLI LOOSE', 15422),\n",
       " ('5120 ORG ALMONDS', 15388),\n",
       " ('CORN', 15163),\n",
       " ('NECTARINE', 15072),\n",
       " ('SHALLOTS', 15040),\n",
       " ('CARROTS BUNCH', 14913),\n",
       " ('ONIONS GREEN', 14068),\n",
       " ('4110 ORG ROLLED OA', 13444)]"
      ]
     },
     "execution_count": 42,
     "metadata": {},
     "output_type": "execute_result"
    }
   ],
   "source": [
    "Counter(item_dict).most_common(50)"
   ]
  },
  {
   "cell_type": "code",
   "execution_count": 43,
   "metadata": {},
   "outputs": [
    {
     "data": {
      "text/plain": [
       "25112"
      ]
     },
     "execution_count": 43,
     "metadata": {},
     "output_type": "execute_result"
    }
   ],
   "source": [
    "len(items_set)"
   ]
  },
  {
   "cell_type": "code",
   "execution_count": null,
   "metadata": {},
   "outputs": [],
   "source": [
    "df['items'].sample(10)"
   ]
  },
  {
   "cell_type": "code",
   "execution_count": null,
   "metadata": {},
   "outputs": [],
   "source": [
    "df['item_count']=basket_counts"
   ]
  },
  {
   "cell_type": "code",
   "execution_count": null,
   "metadata": {},
   "outputs": [],
   "source": [
    "percentile = np.percentile(basket_counts, [25, 50, 75])\n",
    "q1=percentile[0]\n",
    "q2=percentile[1]\n",
    "q3=percentile[2]"
   ]
  },
  {
   "cell_type": "code",
   "execution_count": null,
   "metadata": {},
   "outputs": [],
   "source": [
    "q1,q2,q3"
   ]
  },
  {
   "cell_type": "code",
   "execution_count": null,
   "metadata": {},
   "outputs": [],
   "source": [
    "dfq1=df[(df['item_count']<=q1)]\n",
    "dfq2=df[(df['item_count']>q1 )& (df['item_count']<=q2)]\n",
    "dfq3=df[(df['item_count']>q2 )& (df['item_count']<=q3)]\n",
    "dfq4=df[df['item_count']>q3]\n",
    "df_avg=df[(df['item_count']>=10 )& (df['item_count']<=12)]"
   ]
  },
  {
   "cell_type": "code",
   "execution_count": null,
   "metadata": {},
   "outputs": [],
   "source": [
    "df = df[df['item_count']>q2]"
   ]
  },
  {
   "cell_type": "code",
   "execution_count": null,
   "metadata": {},
   "outputs": [],
   "source": [
    "df['item_count'].max()"
   ]
  },
  {
   "cell_type": "code",
   "execution_count": null,
   "metadata": {},
   "outputs": [],
   "source": [
    "plt.scatter(dfq1['time'],dfq1['item_count'])"
   ]
  },
  {
   "cell_type": "code",
   "execution_count": 44,
   "metadata": {},
   "outputs": [],
   "source": [
    "item_matrix = np.zeros((df.shape[0],len(items_set)))"
   ]
  },
  {
   "cell_type": "code",
   "execution_count": 45,
   "metadata": {},
   "outputs": [],
   "source": [
    "df_items= pd.DataFrame(item_matrix,columns=items_set)"
   ]
  },
  {
   "cell_type": "code",
   "execution_count": 46,
   "metadata": {},
   "outputs": [
    {
     "data": {
      "text/plain": [
       "RangeIndex(start=0, stop=852986, step=1)"
      ]
     },
     "execution_count": 46,
     "metadata": {},
     "output_type": "execute_result"
    }
   ],
   "source": [
    "df.index"
   ]
  },
  {
   "cell_type": "code",
   "execution_count": 47,
   "metadata": {},
   "outputs": [],
   "source": [
    "df=df.reset_index()"
   ]
  },
  {
   "cell_type": "code",
   "execution_count": 48,
   "metadata": {},
   "outputs": [
    {
     "data": {
      "text/plain": [
       "RangeIndex(start=0, stop=852986, step=1)"
      ]
     },
     "execution_count": 48,
     "metadata": {},
     "output_type": "execute_result"
    }
   ],
   "source": [
    "df.index"
   ]
  },
  {
   "cell_type": "code",
   "execution_count": 49,
   "metadata": {},
   "outputs": [
    {
     "data": {
      "text/html": [
       "<div>\n",
       "<style scoped>\n",
       "    .dataframe tbody tr th:only-of-type {\n",
       "        vertical-align: middle;\n",
       "    }\n",
       "\n",
       "    .dataframe tbody tr th {\n",
       "        vertical-align: top;\n",
       "    }\n",
       "\n",
       "    .dataframe thead th {\n",
       "        text-align: right;\n",
       "    }\n",
       "</style>\n",
       "<table border=\"1\" class=\"dataframe\">\n",
       "  <thead>\n",
       "    <tr style=\"text-align: right;\">\n",
       "      <th></th>\n",
       "      <th>index</th>\n",
       "      <th>gross+</th>\n",
       "      <th>gross-</th>\n",
       "      <th>net</th>\n",
       "      <th>oper</th>\n",
       "      <th>term</th>\n",
       "      <th>trans</th>\n",
       "      <th>month</th>\n",
       "      <th>total_of_items</th>\n",
       "    </tr>\n",
       "  </thead>\n",
       "  <tbody>\n",
       "    <tr>\n",
       "      <th>count</th>\n",
       "      <td>852986.000000</td>\n",
       "      <td>852986.000000</td>\n",
       "      <td>852986.000000</td>\n",
       "      <td>852986.000000</td>\n",
       "      <td>852986.000000</td>\n",
       "      <td>852986.000000</td>\n",
       "      <td>852986.000000</td>\n",
       "      <td>852986.000000</td>\n",
       "      <td>852986.0</td>\n",
       "    </tr>\n",
       "    <tr>\n",
       "      <th>mean</th>\n",
       "      <td>426492.500000</td>\n",
       "      <td>64.918037</td>\n",
       "      <td>2.599467</td>\n",
       "      <td>62.321551</td>\n",
       "      <td>54.065636</td>\n",
       "      <td>4.290019</td>\n",
       "      <td>165.663796</td>\n",
       "      <td>6.485523</td>\n",
       "      <td>0.0</td>\n",
       "    </tr>\n",
       "    <tr>\n",
       "      <th>std</th>\n",
       "      <td>246235.992696</td>\n",
       "      <td>242.084655</td>\n",
       "      <td>230.494187</td>\n",
       "      <td>71.696879</td>\n",
       "      <td>28.495384</td>\n",
       "      <td>2.550239</td>\n",
       "      <td>118.451066</td>\n",
       "      <td>3.439721</td>\n",
       "      <td>0.0</td>\n",
       "    </tr>\n",
       "    <tr>\n",
       "      <th>min</th>\n",
       "      <td>0.000000</td>\n",
       "      <td>0.000000</td>\n",
       "      <td>0.000000</td>\n",
       "      <td>-500.000000</td>\n",
       "      <td>1.000000</td>\n",
       "      <td>1.000000</td>\n",
       "      <td>1.000000</td>\n",
       "      <td>1.000000</td>\n",
       "      <td>0.0</td>\n",
       "    </tr>\n",
       "    <tr>\n",
       "      <th>25%</th>\n",
       "      <td>213246.250000</td>\n",
       "      <td>17.080000</td>\n",
       "      <td>0.000000</td>\n",
       "      <td>16.770000</td>\n",
       "      <td>27.000000</td>\n",
       "      <td>2.000000</td>\n",
       "      <td>72.000000</td>\n",
       "      <td>4.000000</td>\n",
       "      <td>0.0</td>\n",
       "    </tr>\n",
       "    <tr>\n",
       "      <th>50%</th>\n",
       "      <td>426492.500000</td>\n",
       "      <td>40.690000</td>\n",
       "      <td>0.000000</td>\n",
       "      <td>40.070000</td>\n",
       "      <td>55.000000</td>\n",
       "      <td>4.000000</td>\n",
       "      <td>147.000000</td>\n",
       "      <td>7.000000</td>\n",
       "      <td>0.0</td>\n",
       "    </tr>\n",
       "    <tr>\n",
       "      <th>75%</th>\n",
       "      <td>639738.750000</td>\n",
       "      <td>83.520000</td>\n",
       "      <td>0.000000</td>\n",
       "      <td>82.070000</td>\n",
       "      <td>79.000000</td>\n",
       "      <td>6.000000</td>\n",
       "      <td>235.000000</td>\n",
       "      <td>9.000000</td>\n",
       "      <td>0.0</td>\n",
       "    </tr>\n",
       "    <tr>\n",
       "      <th>max</th>\n",
       "      <td>852985.000000</td>\n",
       "      <td>85628.780000</td>\n",
       "      <td>85577.490000</td>\n",
       "      <td>3692.860000</td>\n",
       "      <td>1745.000000</td>\n",
       "      <td>9.000000</td>\n",
       "      <td>728.000000</td>\n",
       "      <td>12.000000</td>\n",
       "      <td>0.0</td>\n",
       "    </tr>\n",
       "  </tbody>\n",
       "</table>\n",
       "</div>"
      ],
      "text/plain": [
       "               index         gross+         gross-            net  \\\n",
       "count  852986.000000  852986.000000  852986.000000  852986.000000   \n",
       "mean   426492.500000      64.918037       2.599467      62.321551   \n",
       "std    246235.992696     242.084655     230.494187      71.696879   \n",
       "min         0.000000       0.000000       0.000000    -500.000000   \n",
       "25%    213246.250000      17.080000       0.000000      16.770000   \n",
       "50%    426492.500000      40.690000       0.000000      40.070000   \n",
       "75%    639738.750000      83.520000       0.000000      82.070000   \n",
       "max    852985.000000   85628.780000   85577.490000    3692.860000   \n",
       "\n",
       "                oper           term          trans          month  \\\n",
       "count  852986.000000  852986.000000  852986.000000  852986.000000   \n",
       "mean       54.065636       4.290019     165.663796       6.485523   \n",
       "std        28.495384       2.550239     118.451066       3.439721   \n",
       "min         1.000000       1.000000       1.000000       1.000000   \n",
       "25%        27.000000       2.000000      72.000000       4.000000   \n",
       "50%        55.000000       4.000000     147.000000       7.000000   \n",
       "75%        79.000000       6.000000     235.000000       9.000000   \n",
       "max      1745.000000       9.000000     728.000000      12.000000   \n",
       "\n",
       "       total_of_items  \n",
       "count        852986.0  \n",
       "mean              0.0  \n",
       "std               0.0  \n",
       "min               0.0  \n",
       "25%               0.0  \n",
       "50%               0.0  \n",
       "75%               0.0  \n",
       "max               0.0  "
      ]
     },
     "execution_count": 49,
     "metadata": {},
     "output_type": "execute_result"
    }
   ],
   "source": [
    "df.describe()"
   ]
  },
  {
   "cell_type": "code",
   "execution_count": 50,
   "metadata": {},
   "outputs": [
    {
     "name": "stdout",
     "output_type": "stream",
     "text": [
      "\n"
     ]
    }
   ],
   "source": [
    "df.pop('index')\n",
    "print ()"
   ]
  },
  {
   "cell_type": "code",
   "execution_count": 51,
   "metadata": {},
   "outputs": [
    {
     "name": "stdout",
     "output_type": "stream",
     "text": [
      "<class 'pandas.core.frame.DataFrame'>\n",
      "RangeIndex: 852986 entries, 0 to 852985\n",
      "Data columns (total 13 columns):\n",
      "account           852986 non-null object\n",
      "date              852986 non-null datetime64[ns]\n",
      "gross+            852986 non-null float64\n",
      "gross-            852986 non-null float64\n",
      "items             852986 non-null object\n",
      "net               852986 non-null float64\n",
      "oper              852986 non-null int64\n",
      "term              852986 non-null int64\n",
      "time              852986 non-null object\n",
      "trans             852986 non-null int64\n",
      "day_of_week       852986 non-null object\n",
      "month             852986 non-null int64\n",
      "total_of_items    852986 non-null int64\n",
      "dtypes: datetime64[ns](1), float64(3), int64(5), object(4)\n",
      "memory usage: 84.6+ MB\n"
     ]
    }
   ],
   "source": [
    "df.info()"
   ]
  },
  {
   "cell_type": "code",
   "execution_count": 52,
   "metadata": {},
   "outputs": [
    {
     "data": {
      "text/plain": [
       "RangeIndex(start=0, stop=852986, step=1)"
      ]
     },
     "execution_count": 52,
     "metadata": {},
     "output_type": "execute_result"
    }
   ],
   "source": [
    "df.iloc[:,0].index\n"
   ]
  },
  {
   "cell_type": "code",
   "execution_count": 53,
   "metadata": {},
   "outputs": [
    {
     "data": {
      "text/plain": [
       "RangeIndex(start=0, stop=852986, step=1)"
      ]
     },
     "execution_count": 53,
     "metadata": {},
     "output_type": "execute_result"
    }
   ],
   "source": [
    "df_items.iloc[:,0].index"
   ]
  },
  {
   "cell_type": "code",
   "execution_count": 54,
   "metadata": {},
   "outputs": [],
   "source": [
    "col_index_dict = dict(zip(items_set, range(len(items_set))))"
   ]
  },
  {
   "cell_type": "code",
   "execution_count": 55,
   "metadata": {},
   "outputs": [
    {
     "ename": "KeyError",
     "evalue": "'BANANAS'",
     "output_type": "error",
     "traceback": [
      "\u001b[0;31m---------------------------------------------------------------------------\u001b[0m",
      "\u001b[0;31mKeyError\u001b[0m                                  Traceback (most recent call last)",
      "\u001b[0;32m<ipython-input-55-64064f608cc7>\u001b[0m in \u001b[0;36m<module>\u001b[0;34m\u001b[0m\n\u001b[0;32m----> 1\u001b[0;31m \u001b[0mcol_index_dict\u001b[0m\u001b[0;34m[\u001b[0m\u001b[0;34m'BANANAS'\u001b[0m\u001b[0;34m]\u001b[0m\u001b[0;34m\u001b[0m\u001b[0;34m\u001b[0m\u001b[0m\n\u001b[0m",
      "\u001b[0;31mKeyError\u001b[0m: 'BANANAS'"
     ]
    }
   ],
   "source": [
    "col_index_dict['BANANAS']"
   ]
  },
  {
   "cell_type": "code",
   "execution_count": 56,
   "metadata": {},
   "outputs": [
    {
     "data": {
      "text/plain": [
       "852986"
      ]
     },
     "execution_count": 56,
     "metadata": {},
     "output_type": "execute_result"
    }
   ],
   "source": [
    "df.shape[0]"
   ]
  },
  {
   "cell_type": "code",
   "execution_count": 57,
   "metadata": {},
   "outputs": [],
   "source": [
    "matrix_dict = defaultdict(int)\n",
    "for i in range(df.shape[0]):\n",
    "    for item in df['items'][i]:\n",
    "        #set matrix to boolean for item precence in basket:\n",
    "        #if item[1] not in stopwords and item[3] != 12:\n",
    "        #if item[1] not in stopwords and item[3] not in (12,16):\n",
    "        if item[1] not in stopwords:\n",
    "            if item[2] > 0:\n",
    "                value = 1\n",
    "            elif item[2] == 0:\n",
    "                value = 0\n",
    "            else:\n",
    "                value = -1\n",
    "            matrix_dict[i,col_index_dict[item[1]]] += value"
   ]
  },
  {
   "cell_type": "code",
   "execution_count": 58,
   "metadata": {},
   "outputs": [
    {
     "name": "stdout",
     "output_type": "stream",
     "text": [
      "ONIONS YELLOW\n",
      "ONION CIPOLLINI\n",
      "ONIONS WHITE\n",
      "ONIONS SWEET\n",
      "ONIONS GREEN\n",
      "ONION SACK\n",
      "ONION GRUY CHZ RAV\n",
      "ONION POWDER\n",
      "ONION GRANULATES\n",
      "ONIONS SPRING\n",
      "ONIONS RED\n",
      "ONION BIALYS\n"
     ]
    }
   ],
   "source": [
    "for item in items_set:\n",
    "    if item.startswith('ONION'):\n",
    "        print (item)"
   ]
  },
  {
   "cell_type": "code",
   "execution_count": 59,
   "metadata": {},
   "outputs": [
    {
     "data": {
      "text/plain": [
       "7109447"
      ]
     },
     "execution_count": 59,
     "metadata": {},
     "output_type": "execute_result"
    }
   ],
   "source": [
    "len(matrix_dict)"
   ]
  },
  {
   "cell_type": "code",
   "execution_count": 60,
   "metadata": {},
   "outputs": [
    {
     "name": "stdout",
     "output_type": "stream",
     "text": [
      "0\n",
      "15798\n",
      "1\n"
     ]
    }
   ],
   "source": [
    "for key,value in matrix_dict.items():\n",
    "    print (key[0])\n",
    "    print (key[1])\n",
    "    print (value)\n",
    "    break"
   ]
  },
  {
   "cell_type": "code",
   "execution_count": 61,
   "metadata": {},
   "outputs": [],
   "source": [
    "rows, cols, vals = [], [], []\n",
    "for key, value in matrix_dict.items():\n",
    "    rows.append(key[0])\n",
    "    cols.append(key[1])\n",
    "    vals.append(matrix_dict[key])\n",
    "sparse_matrix = sparse.csr_matrix((vals, (rows, cols)))"
   ]
  },
  {
   "cell_type": "code",
   "execution_count": null,
   "metadata": {},
   "outputs": [],
   "source": [
    "len(rows)"
   ]
  },
  {
   "cell_type": "code",
   "execution_count": null,
   "metadata": {},
   "outputs": [],
   "source": [
    "import pickle"
   ]
  },
  {
   "cell_type": "code",
   "execution_count": null,
   "metadata": {},
   "outputs": [],
   "source": [
    "sparse_matrix[4]"
   ]
  },
  {
   "cell_type": "code",
   "execution_count": null,
   "metadata": {},
   "outputs": [],
   "source": [
    "pickle.dump(sparse_matrix,open('./data/pickles/sparse_matrix2015.p','wb'))"
   ]
  },
  {
   "cell_type": "code",
   "execution_count": null,
   "metadata": {},
   "outputs": [],
   "source": [
    "pickle.dump(items_set,open('./data/pickles/items_set2015.p','wb'))"
   ]
  },
  {
   "cell_type": "code",
   "execution_count": null,
   "metadata": {},
   "outputs": [],
   "source": [
    "import pandas as pd\n",
    "import numpy as np\n",
    "from scipy import sparse\n",
    "from os import path\n",
    "from PIL import Image\n",
    "from wordcloud import WordCloud, STOPWORDS, ImageColorGenerator\n",
    "from collections import Counter, defaultdict\n",
    "import matplotlib.pyplot as plt\n",
    "%matplotlib inline\n",
    "from sklearn import decomposition, datasets, model_selection, preprocessing, metrics\n",
    "import src.rainbow\n",
    "import os\n",
    "import glob\n",
    "import pickle\n",
    "import time\n"
   ]
  },
  {
   "cell_type": "code",
   "execution_count": null,
   "metadata": {},
   "outputs": [],
   "source": [
    "file = open(\"./data/pickles/sparse_matrix2015.p\",'rb')\n",
    "sparse_matrix = pickle.load(file)\n",
    "file.close()"
   ]
  },
  {
   "cell_type": "code",
   "execution_count": null,
   "metadata": {},
   "outputs": [],
   "source": [
    "file = open(\"./data/pickles/items_set2015.p\",'rb')\n",
    "items_set = pickle.load(file)\n",
    "file.close()"
   ]
  },
  {
   "cell_type": "code",
   "execution_count": 62,
   "metadata": {},
   "outputs": [],
   "source": [
    "sparse_matrix = (sparse_matrix > 0).astype(int)"
   ]
  },
  {
   "cell_type": "code",
   "execution_count": 63,
   "metadata": {},
   "outputs": [
    {
     "name": "stdout",
     "output_type": "stream",
     "text": [
      "[[0.0353898]] % of zero weight baskets\n"
     ]
    }
   ],
   "source": [
    "sum_of_zeros=sum(np.sum(sparse_matrix,axis=1)==0)\n",
    "print(sum_of_zeros / sparse_matrix.shape[0],\"% of zero weight baskets\")"
   ]
  },
  {
   "cell_type": "code",
   "execution_count": 136,
   "metadata": {},
   "outputs": [],
   "source": [
    "number_of_components=6"
   ]
  },
  {
   "cell_type": "code",
   "execution_count": 137,
   "metadata": {},
   "outputs": [],
   "source": [
    "def fit_NMF(sparse_matrix_,n_components_,max_iter=250):\n",
    "    from sklearn.decomposition import NMF\n",
    "    model = NMF(n_components=n_components_,max_iter=max_iter)\n",
    "    W = model.fit_transform(sparse_matrix_)\n",
    "    H=model.components_\n",
    "    model_iter = model.n_iter_\n",
    "    return model,W,H,model_iter\n",
    "model,W,H,model_iter = fit_NMF(sparse_matrix,n_components_=number_of_components,max_iter=250)"
   ]
  },
  {
   "cell_type": "code",
   "execution_count": 138,
   "metadata": {},
   "outputs": [
    {
     "name": "stdout",
     "output_type": "stream",
     "text": [
      "iterations: 51 W shape: (852986, 6) H shape: (6, 25112)\n"
     ]
    }
   ],
   "source": [
    "print('iterations:',model_iter,'W shape:',W.shape,'H shape:',H.shape)"
   ]
  },
  {
   "cell_type": "code",
   "execution_count": 139,
   "metadata": {},
   "outputs": [
    {
     "name": "stdout",
     "output_type": "stream",
     "text": [
      "topic 0 srength: 0.140000 \n",
      "topic 1 srength: 0.050000 \n",
      "topic 2 srength: 0.540000 \n",
      "topic 3 srength: 0.050000 \n",
      "topic 4 srength: 0.170000 \n",
      "topic 5 srength: 0.040000 \n"
     ]
    }
   ],
   "source": [
    "w = np.zeros_like(W)\n",
    "w[np.arange(len(W)), W.argmax(1)] = 1\n",
    "topic_strength = np.sum(w,axis=0)\n",
    "topic_strength = np.round(topic_strength/topic_strength.sum(),2)\n",
    "for i,t in enumerate(topic_strength):\n",
    "    print('topic %d srength: %f '%(i,t))"
   ]
  },
  {
   "cell_type": "code",
   "execution_count": 140,
   "metadata": {},
   "outputs": [
    {
     "data": {
      "text/plain": [
       "'from sklearn.decomposition import LatentDirichletAllocation as LDA\\nmodel = LDA(n_components=2,max_iter=10)\\nW = model.fit_transform(sparse_matrix)\\nH = model.components_\\nmodel.n_iter_'"
      ]
     },
     "execution_count": 140,
     "metadata": {},
     "output_type": "execute_result"
    }
   ],
   "source": [
    "'''from sklearn.decomposition import LatentDirichletAllocation as LDA\n",
    "model = LDA(n_components=2,max_iter=10)\n",
    "W = model.fit_transform(sparse_matrix)\n",
    "H = model.components_\n",
    "model.n_iter_'''"
   ]
  },
  {
   "cell_type": "code",
   "execution_count": 141,
   "metadata": {},
   "outputs": [
    {
     "name": "stdout",
     "output_type": "stream",
     "text": [
      "[ 5700  5326 21401  3134  9343  2952 20245 15318  6003 20766]\n",
      "['ONIONS YELLOW', 'GARLIC WHITE', 'APPLES FUJI', 'PEPPERS RED BELL', 'CARROTS LOOSE', 'SQUASH ZUCCHINI', 'ONIONS RED', 'TOMATO DRY FARM', 'BROCCOLI LOOSE', 'MUSHROOM CRIMINI']\n",
      "\n",
      "[21705  9881 16928 21745 23171  1470 21852 11505 16715 13355]\n",
      "['LEMONS', 'LIMES', 'SHALLOTS', 'GRAPEFRUIT', 'CUCUMBERS', 'CUKE MEDIT/PERSIAN', '5290 WALNUTS', 'FENNEL', 'BRUSSEL SPROUTS', 'PARSLEY ITALIAN']\n",
      "\n",
      "[15232 10190  9513 10586  1019 21852 23171 19614  2185  1470]\n",
      "['1lb STRAWBERRY', 'REFRIGERATED', 'PEACH', 'BAGEL', 'NECTARINE', '5290 WALNUTS', 'CUCUMBERS', 'blueberries pint', 'CORN', 'CUKE MEDIT/PERSIAN']\n",
      "\n",
      "[10867 23171  9343 12376 21852 21745 11505  4490 15355 16715]\n",
      "['CELERY', 'CUCUMBERS', 'CARROTS LOOSE', 'LEEKS', '5290 WALNUTS', 'GRAPEFRUIT', 'FENNEL', '5120 ORG ALMONDS', 'COLLARDS', 'BRUSSEL SPROUTS']\n",
      "\n",
      "[14845 24680  9881 16928 24827 23171  4079 21852 21745 13066]\n",
      "['CILANTRO', 'GINGER', 'LIMES', 'SHALLOTS', 'PEPPER CHILI', 'CUCUMBERS', 'ROOT TURMERIC', '5290 WALNUTS', 'GRAPEFRUIT', 'ONIONS GREEN']\n",
      "\n",
      "[ 8085 12938 21401 15318 21774  3134 24455 14612 15816  6003]\n",
      "['AVOCADOS HASS', 'TOMATO MIX HEIRLOO', 'APPLES FUJI', 'TOMATO DRY FARM', 'SPINACH LOOSE', 'PEPPERS RED BELL', 'KALE DINO', 'ARUGULA LOOSE', 'RASPBERRY', 'BROCCOLI LOOSE']\n",
      "\n"
     ]
    }
   ],
   "source": [
    "feature_names=list(items_set).copy()\n",
    "n_top_words=10\n",
    "for topic in H:\n",
    "    print(topic.argsort()[:-n_top_words -1:-1])\n",
    "    print ([feature_names[i]for i in topic.argsort()[:-n_top_words -1:-1]])\n",
    "    print()"
   ]
  },
  {
   "cell_type": "code",
   "execution_count": 142,
   "metadata": {},
   "outputs": [],
   "source": [
    "pickle.dump(sparse_matrix,open('./data/pickles/topics_list2017.p','wb'))"
   ]
  },
  {
   "cell_type": "code",
   "execution_count": 143,
   "metadata": {
    "scrolled": true
   },
   "outputs": [
    {
     "name": "stdout",
     "output_type": "stream",
     "text": [
      "0.14 Topic #0 of 6:\n",
      "['ONIONS YELLOW', 'GARLIC WHITE', 'APPLES FUJI', 'PEPPERS RED BELL', 'CARROTS LOOSE', 'SQUASH ZUCCHINI', 'ONIONS RED', 'TOMATO DRY FARM', 'BROCCOLI LOOSE', 'MUSHROOM CRIMINI']\n"
     ]
    },
    {
     "data": {
      "image/png": "[encoded data removed]",
      "text/plain": [
       "<Figure size 432x288 with 1 Axes>"
      ]
     },
     "metadata": {
      "needs_background": "light"
     },
     "output_type": "display_data"
    },
    {
     "name": "stdout",
     "output_type": "stream",
     "text": [
      "<img src=\"./img/2018/1554496508.topic0.png\">\n",
      "0.05 Topic #1 of 6:\n",
      "['LEMONS', 'LIMES', 'SHALLOTS', 'GRAPEFRUIT', 'CUCUMBERS', 'CUKE MEDIT/PERSIAN', '5290 WALNUTS', 'FENNEL', 'BRUSSEL SPROUTS', 'PARSLEY ITALIAN']\n"
     ]
    },
    {
     "data": {
      "image/png": "[encoded data removed]",
      "text/plain": [
       "<Figure size 432x288 with 1 Axes>"
      ]
     },
     "metadata": {
      "needs_background": "light"
     },
     "output_type": "display_data"
    },
    {
     "name": "stdout",
     "output_type": "stream",
     "text": [
      "<img src=\"./img/2018/1554496509.topic1.png\">\n",
      "0.54 Topic #2 of 6:\n",
      "['1lb STRAWBERRY', 'REFRIGERATED', 'PEACH', 'BAGEL', 'NECTARINE', '5290 WALNUTS', 'CUCUMBERS', 'blueberries pint', 'CORN', 'CUKE MEDIT/PERSIAN']\n"
     ]
    },
    {
     "data": {
      "image/png": "[encoded data removed]",
      "text/plain": [
       "<Figure size 432x288 with 1 Axes>"
      ]
     },
     "metadata": {
      "needs_background": "light"
     },
     "output_type": "display_data"
    },
    {
     "name": "stdout",
     "output_type": "stream",
     "text": [
      "<img src=\"./img/2018/1554496509.topic2.png\">\n",
      "0.05 Topic #3 of 6:\n",
      "['CELERY', 'CUCUMBERS', 'CARROTS LOOSE', 'LEEKS', '5290 WALNUTS', 'GRAPEFRUIT', 'FENNEL', '5120 ORG ALMONDS', 'COLLARDS', 'BRUSSEL SPROUTS']\n"
     ]
    },
    {
     "data": {
      "image/png": "[encoded data removed]",
      "text/plain": [
       "<Figure size 432x288 with 1 Axes>"
      ]
     },
     "metadata": {
      "needs_background": "light"
     },
     "output_type": "display_data"
    },
    {
     "name": "stdout",
     "output_type": "stream",
     "text": [
      "<img src=\"./img/2018/1554496510.topic3.png\">\n",
      "0.17 Topic #4 of 6:\n",
      "['CILANTRO', 'GINGER', 'LIMES', 'SHALLOTS', 'PEPPER CHILI', 'CUCUMBERS', 'ROOT TURMERIC', '5290 WALNUTS', 'GRAPEFRUIT', 'ONIONS GREEN']\n"
     ]
    },
    {
     "data": {
      "image/png": "[encoded data removed]",
      "text/plain": [
       "<Figure size 432x288 with 1 Axes>"
      ]
     },
     "metadata": {
      "needs_background": "light"
     },
     "output_type": "display_data"
    },
    {
     "name": "stdout",
     "output_type": "stream",
     "text": [
      "<img src=\"./img/2018/1554496510.topic4.png\">\n",
      "0.04 Topic #5 of 6:\n",
      "['AVOCADOS HASS', 'TOMATO MIX HEIRLOO', 'APPLES FUJI', 'TOMATO DRY FARM', 'SPINACH LOOSE', 'PEPPERS RED BELL', 'KALE DINO', 'ARUGULA LOOSE', 'RASPBERRY', 'BROCCOLI LOOSE']\n"
     ]
    },
    {
     "data": {
      "image/png": "[encoded data removed]",
      "text/plain": [
       "<Figure size 432x288 with 1 Axes>"
      ]
     },
     "metadata": {
      "needs_background": "light"
     },
     "output_type": "display_data"
    },
    {
     "name": "stdout",
     "output_type": "stream",
     "text": [
      "<img src=\"./img/2018/1554496511.topic5.png\">\n",
      "[['ONIONS YELLOW', 'GARLIC WHITE', 'APPLES FUJI', 'PEPPERS RED BELL', 'CARROTS LOOSE', 'SQUASH ZUCCHINI', 'ONIONS RED', 'TOMATO DRY FARM', 'BROCCOLI LOOSE', 'MUSHROOM CRIMINI'], ['LEMONS', 'LIMES', 'SHALLOTS', 'GRAPEFRUIT', 'CUCUMBERS', 'CUKE MEDIT/PERSIAN', '5290 WALNUTS', 'FENNEL', 'BRUSSEL SPROUTS', 'PARSLEY ITALIAN'], ['1lb STRAWBERRY', 'REFRIGERATED', 'PEACH', 'BAGEL', 'NECTARINE', '5290 WALNUTS', 'CUCUMBERS', 'blueberries pint', 'CORN', 'CUKE MEDIT/PERSIAN'], ['CELERY', 'CUCUMBERS', 'CARROTS LOOSE', 'LEEKS', '5290 WALNUTS', 'GRAPEFRUIT', 'FENNEL', '5120 ORG ALMONDS', 'COLLARDS', 'BRUSSEL SPROUTS'], ['CILANTRO', 'GINGER', 'LIMES', 'SHALLOTS', 'PEPPER CHILI', 'CUCUMBERS', 'ROOT TURMERIC', '5290 WALNUTS', 'GRAPEFRUIT', 'ONIONS GREEN'], ['AVOCADOS HASS', 'TOMATO MIX HEIRLOO', 'APPLES FUJI', 'TOMATO DRY FARM', 'SPINACH LOOSE', 'PEPPERS RED BELL', 'KALE DINO', 'ARUGULA LOOSE', 'RASPBERRY', 'BROCCOLI LOOSE']]\n"
     ]
    }
   ],
   "source": [
    "def print_top_items(model, feature_names, n_top_words):\n",
    "    topic_dict = defaultdict()\n",
    "    topics_list =[]\n",
    "    for topic_idx, topic in enumerate(model.components_):\n",
    "        print(topic_strength[topic_idx],\"Topic #%d of %d:\" %( topic_idx,number_of_components))\n",
    "        #topic_string=(\" \".join([feature_names[i]for i in topic.argsort()[:-n_top_words - 1:-1]]))\n",
    "        topic_string=[feature_names[i]for i in topic.argsort()[:-n_top_words - 1:-1]]\n",
    "        topic_dict[topic_idx]=topic_string\n",
    "        topics_list.append(topic_string)\n",
    "        print(topic_string)\n",
    "        #print()\n",
    "        #wordcloud = WordCloud(max_font_size=500, max_words=1000, background_color=\"white\").generate(str(topic_string).replace(\" \", \"_\").replace(\"'\",\"\"))\n",
    "        wordcloud = WordCloud(max_font_size=500, max_words=1000, background_color=\"white\").generate(str(topic_string).replace(\"'\",\"\").replace(\",\",\"\"))\n",
    "\n",
    "        # Display the generated image:\n",
    "        #plt.figure(1,figsize=(10,10))\n",
    "        plt.imshow(wordcloud, interpolation='bilinear')\n",
    "        plt.axis(\"off\")\n",
    "        plt.show()\n",
    "        #plt.savefig('topic%d.png'%topic_idx)\n",
    "        #plt.close()\n",
    "        img_time=str(time.time()).split('.')[0]\n",
    "        wordcloud.to_file('./img/2018/%s.topic%d.png'%(img_time,topic_idx))\n",
    "        print('<img src=\"./img/2018/%s.topic%d.png\">'%(img_time,topic_idx))\n",
    "    return topic_dict,topics_list\n",
    "\n",
    "topic_dict,topics_list = print_top_items(model,list(items_set),n_top_words)\n",
    "print(topics_list)"
   ]
  },
  {
   "cell_type": "code",
   "execution_count": 144,
   "metadata": {},
   "outputs": [],
   "source": [
    "topics3=topic_dict.copy()"
   ]
  },
  {
   "cell_type": "code",
   "execution_count": 145,
   "metadata": {},
   "outputs": [
    {
     "name": "stdout",
     "output_type": "stream",
     "text": [
      "[0.14 0.05 0.54 0.05 0.17 0.04]\n",
      "[[10.  0.  0.  1.  0.  4.]\n",
      " [ 0. 10.  3.  5.  5.  0.]\n",
      " [ 0.  3. 10.  2.  2.  0.]\n",
      " [ 1.  5.  2. 10.  3.  0.]\n",
      " [ 0.  5.  2.  3. 10.  0.]\n",
      " [ 4.  0.  0.  0.  0. 10.]]\n"
     ]
    }
   ],
   "source": [
    "topic_compare = np.zeros([len(topic_dict),len(topic_dict)])\n",
    "\n",
    "for topic in topic_dict:\n",
    "    for item in topic_dict[topic]:\n",
    "        for topic2 in topic_dict:\n",
    "            if item in topic_dict[topic2]:\n",
    "                topic_compare[topic,topic2]+=1\n",
    "print (topic_strength)            \n",
    "print(topic_compare)\n"
   ]
  },
  {
   "cell_type": "code",
   "execution_count": 146,
   "metadata": {
    "scrolled": true
   },
   "outputs": [],
   "source": [
    "list_of_topics=[]\n",
    "for topic in topic_dict:\n",
    "     list_of_topics.append(topic_dict[topic])"
   ]
  },
  {
   "cell_type": "code",
   "execution_count": 147,
   "metadata": {},
   "outputs": [
    {
     "data": {
      "text/plain": [
       "(10, 6)"
      ]
     },
     "execution_count": 147,
     "metadata": {},
     "output_type": "execute_result"
    }
   ],
   "source": [
    "topic_matrix=np.array(topics_list).T\n",
    "topic_matrix.shape"
   ]
  },
  {
   "cell_type": "code",
   "execution_count": 151,
   "metadata": {},
   "outputs": [],
   "source": [
    "pd.DataFrame(topic_matrix,columns=topic_strength).to_pickle('./data/pickles/2017topics%d.pkl'%number_of_components)"
   ]
  },
  {
   "cell_type": "code",
   "execution_count": 152,
   "metadata": {
    "scrolled": true
   },
   "outputs": [],
   "source": [
    "topic_df = pd.DataFrame(topic_matrix,columns=topic_strength)"
   ]
  },
  {
   "cell_type": "code",
   "execution_count": 153,
   "metadata": {},
   "outputs": [],
   "source": [
    "import tabulate \n"
   ]
  },
  {
   "cell_type": "code",
   "execution_count": 154,
   "metadata": {},
   "outputs": [
    {
     "name": "stdout",
     "output_type": "stream",
     "text": [
      "| 0.14             | 0.05               | 0.54               | 0.05             | 0.17          | 0.04               |\n",
      "|:-----------------|:-------------------|:-------------------|:-----------------|:--------------|:-------------------|\n",
      "| ONIONS YELLOW    | LEMONS             | 1lb STRAWBERRY     | CELERY           | CILANTRO      | AVOCADOS HASS      |\n",
      "| GARLIC WHITE     | LIMES              | REFRIGERATED       | CUCUMBERS        | GINGER        | TOMATO MIX HEIRLOO |\n",
      "| APPLES FUJI      | SHALLOTS           | PEACH              | CARROTS LOOSE    | LIMES         | APPLES FUJI        |\n",
      "| PEPPERS RED BELL | GRAPEFRUIT         | BAGEL              | LEEKS            | SHALLOTS      | TOMATO DRY FARM    |\n",
      "| CARROTS LOOSE    | CUCUMBERS          | NECTARINE          | 5290 WALNUTS     | PEPPER CHILI  | SPINACH LOOSE      |\n",
      "| SQUASH ZUCCHINI  | CUKE MEDIT/PERSIAN | 5290 WALNUTS       | GRAPEFRUIT       | CUCUMBERS     | PEPPERS RED BELL   |\n",
      "| ONIONS RED       | 5290 WALNUTS       | CUCUMBERS          | FENNEL           | ROOT TURMERIC | KALE DINO          |\n",
      "| TOMATO DRY FARM  | FENNEL             | blueberries pint   | 5120 ORG ALMONDS | 5290 WALNUTS  | ARUGULA LOOSE      |\n",
      "| BROCCOLI LOOSE   | BRUSSEL SPROUTS    | CORN               | COLLARDS         | GRAPEFRUIT    | RASPBERRY          |\n",
      "| MUSHROOM CRIMINI | PARSLEY ITALIAN    | CUKE MEDIT/PERSIAN | BRUSSEL SPROUTS  | ONIONS GREEN  | BROCCOLI LOOSE     |\n"
     ]
    }
   ],
   "source": [
    "print(tabulate.tabulate(topic_df.values,topic_df.columns, tablefmt=\"pipe\")) "
   ]
  },
  {
   "cell_type": "code",
   "execution_count": null,
   "metadata": {},
   "outputs": [],
   "source": [
    "ingredients =np.array((len(topics),len(topics[0])))\n",
    "for row in topics:\n",
    "    print('row',row)\n",
    "    for i,item in enumerate(topics[row]):\n",
    "        if item not in topics[row]:\n",
    "            print ('i',i,item)\n",
    "            \n",
    "        if item not in topics[0]:\n",
    "            print ('iI',i,item)\n",
    "        #ingredients[row:i]=item\n",
    "ingredients"
   ]
  },
  {
   "cell_type": "code",
   "execution_count": null,
   "metadata": {},
   "outputs": [],
   "source": [
    "len(ing_set)"
   ]
  },
  {
   "cell_type": "code",
   "execution_count": null,
   "metadata": {},
   "outputs": [],
   "source": [
    "ing_index_dict = dict(zip(ing_set, range(len(ing_set))))"
   ]
  },
  {
   "cell_type": "code",
   "execution_count": null,
   "metadata": {},
   "outputs": [],
   "source": [
    "ingredients=np.array(ingredients)\n",
    "ingredients=ingredients.reshape(5,55)"
   ]
  },
  {
   "cell_type": "code",
   "execution_count": null,
   "metadata": {},
   "outputs": [],
   "source": [
    "ingredients.shape"
   ]
  },
  {
   "cell_type": "code",
   "execution_count": null,
   "metadata": {},
   "outputs": [],
   "source": [
    "ing_matrix=np.zeros(ingredients.shape)"
   ]
  },
  {
   "cell_type": "code",
   "execution_count": null,
   "metadata": {},
   "outputs": [],
   "source": [
    "for row,col in enumerate(ingredients):\n",
    "    for i,c in enumerate(col):\n",
    "        #print(row,i,c)\n",
    "        ing_matrix[row,i]=ing_index_dict[c]\n",
    "ing_matrix"
   ]
  },
  {
   "cell_type": "code",
   "execution_count": null,
   "metadata": {},
   "outputs": [],
   "source": [
    "ing_array=ing_index_dict.values()\n",
    "\n",
    "ing_array"
   ]
  },
  {
   "cell_type": "code",
   "execution_count": null,
   "metadata": {},
   "outputs": [],
   "source": []
  },
  {
   "cell_type": "code",
   "execution_count": null,
   "metadata": {},
   "outputs": [],
   "source": [
    "for i in ing_matrix:\n",
    "    print(ing_array==i)"
   ]
  },
  {
   "cell_type": "code",
   "execution_count": null,
   "metadata": {
    "scrolled": false
   },
   "outputs": [],
   "source": [
    "for ing_index_dict"
   ]
  },
  {
   "cell_type": "code",
   "execution_count": null,
   "metadata": {},
   "outputs": [],
   "source": []
  },
  {
   "cell_type": "code",
   "execution_count": null,
   "metadata": {},
   "outputs": [],
   "source": [
    "def print_basket_contents(basket_id):\n",
    "    basket=[]\n",
    "    #print('+++++++++++++++++++++++next basket+++++++++++++++++')\n",
    "    for items in df['items'][basket_id]:\n",
    "        #for item in items:\n",
    "        print(\"item:\",items)\n",
    "    #return basket\n",
    "#print_basket_contents(1116)"
   ]
  },
  {
   "cell_type": "code",
   "execution_count": null,
   "metadata": {},
   "outputs": [],
   "source": [
    "def print_top_baskets(model, W, n_top_words):\n",
    "    baskets = []\n",
    "    for topic_idx, w in enumerate(W.T):\n",
    "        basket_string=str([df['items'][i] for i in w.argsort()[:-n_top_words - 1:-1]])\n",
    "        count = 0\n",
    "        for i in w.argsort()[:-n_top_words - 1:-1]:\n",
    "            count+=1\n",
    "            print(\"++++++++++++++++++Topic #%d, basket #%d+++++++++++++++++++\"%(topic_idx,count))\n",
    "            print_basket_contents(i)\n",
    "        #print_basket_contents([i for i in w.argsort()[:-n_top_words - 1:-1]])\n",
    "        baskets.append(basket_string)\n",
    "        #print(basket_string)\n",
    "        #print()\n",
    "        '''wordcloud = WordCloud(max_font_size=500, max_words=1000, background_color=\"white\").generate(basket_string.replace(\" \", \"_\").replace(\"'\",\"\"))\n",
    "\n",
    "        # Display the generated image:\n",
    "        #plt.figure(1,figsize=(10,10))\n",
    "        plt.imshow(wordcloud, interpolation='bilinear')\n",
    "        plt.axis(\"off\")\n",
    "        plt.show()\n",
    "        #plt.savefig('topic%d.png'%topic_idx)\n",
    "        #plt.close()\n",
    "        wordcloud.to_file('topic%d.png'%topic_idx)'''\n",
    "print_top_baskets(model,W,10)"
   ]
  },
  {
   "cell_type": "code",
   "execution_count": null,
   "metadata": {},
   "outputs": [],
   "source": [
    "df['item_count'].max()"
   ]
  },
  {
   "cell_type": "code",
   "execution_count": null,
   "metadata": {},
   "outputs": [],
   "source": [
    "W[:,1]"
   ]
  },
  {
   "cell_type": "code",
   "execution_count": null,
   "metadata": {},
   "outputs": [],
   "source": [
    "n_top_words=10\n",
    "for i,w in enumerate(W.T):\n",
    "    print(i,w.argsort()[:-n_top_words - 1:-1])"
   ]
  },
  {
   "cell_type": "code",
   "execution_count": null,
   "metadata": {},
   "outputs": [],
   "source": [
    "len(list(items_set))"
   ]
  },
  {
   "cell_type": "code",
   "execution_count": null,
   "metadata": {},
   "outputs": [],
   "source": [
    "for topic in H:\n",
    "    print (topic.argsort()[:-10-1:-1])"
   ]
  },
  {
   "cell_type": "code",
   "execution_count": null,
   "metadata": {},
   "outputs": [],
   "source": [
    "feat\n",
    "str([feature_names[i]for i in topic.argsort()[:-n_top_words - 1:-1]])"
   ]
  },
  {
   "cell_type": "code",
   "execution_count": null,
   "metadata": {},
   "outputs": [],
   "source": [
    "df.shape[0]\n",
    "for i in range(10,11):\n",
    "    row = df['items'][i:i+1]\n",
    "    for item in row:\n",
    "        for it in item:\n",
    "            print (it[1],it[2])"
   ]
  },
  {
   "cell_type": "code",
   "execution_count": null,
   "metadata": {},
   "outputs": [],
   "source": []
  },
  {
   "cell_type": "code",
   "execution_count": null,
   "metadata": {},
   "outputs": [],
   "source": []
  },
  {
   "cell_type": "code",
   "execution_count": null,
   "metadata": {},
   "outputs": [],
   "source": [
    "df.shape[0]\n",
    "for i in range(10,11):\n",
    "    row = df['items'][i:i+1]\n",
    "    for item in row:\n",
    "        for it in item:\n",
    "            df[it[1]][i:i+1]=df[it[1]][i:i+1]+it[2]"
   ]
  },
  {
   "cell_type": "code",
   "execution_count": null,
   "metadata": {},
   "outputs": [],
   "source": [
    "df['CILANTRO'][10:11]"
   ]
  },
  {
   "cell_type": "code",
   "execution_count": null,
   "metadata": {},
   "outputs": [],
   "source": [
    "df.shape[0]\n",
    "for i in range(1,df.shape[0]):\n",
    "    row = df['items'][i:i+1]\n",
    "    for item in row:\n",
    "        for it in item:\n",
    "            df[it[1]][i:i+1]=df[it[1]][i:i+1]+it[2]"
   ]
  },
  {
   "cell_type": "code",
   "execution_count": null,
   "metadata": {},
   "outputs": [],
   "source": [
    "df.shape"
   ]
  },
  {
   "cell_type": "code",
   "execution_count": null,
   "metadata": {},
   "outputs": [],
   "source": [
    "df.to_pickle('02012019.pkl')"
   ]
  },
  {
   "cell_type": "code",
   "execution_count": null,
   "metadata": {},
   "outputs": [],
   "source": [
    "len(items_set)"
   ]
  },
  {
   "cell_type": "code",
   "execution_count": null,
   "metadata": {},
   "outputs": [],
   "source": [
    "trans = []\n",
    "for a in df[1:2]['items']:\n",
    "    #trans.append([r for v in a for r in v])\n",
    "    trans.append(a)\n",
    "print(a)"
   ]
  },
  {
   "cell_type": "code",
   "execution_count": null,
   "metadata": {},
   "outputs": [],
   "source": [
    "trans =[]\n",
    "for l in [i for i in df[1:2]['items']]:\n",
    "    print (l)\n",
    "    trans.append(l)\n",
    "    print (trans)"
   ]
  },
  {
   "cell_type": "code",
   "execution_count": null,
   "metadata": {},
   "outputs": [],
   "source": [
    "#pd.get_dummies([i for i in df[1:2]['items']]).values()"
   ]
  },
  {
   "cell_type": "code",
   "execution_count": null,
   "metadata": {},
   "outputs": [],
   "source": [
    "\n",
    "type(df['items'].values)\n",
    "count=0\n",
    "for document in df['items'][1]:\n",
    "    print (document)\n",
    "    \n",
    "    for word in(document):\n",
    "        count+=1\n",
    "        print (count,word)\n",
    "        '''for letter in str(word):\n",
    "            print (letter)'''"
   ]
  },
  {
   "cell_type": "code",
   "execution_count": null,
   "metadata": {},
   "outputs": [],
   "source": [
    "df[['gross+','time']].plot()\n",
    "plt.show()"
   ]
  },
  {
   "cell_type": "code",
   "execution_count": null,
   "metadata": {},
   "outputs": [],
   "source": [
    "ff= './tlogs/201902'\n",
    "if ff.startswith(\"./tlogs\"):\n",
    "    print (\"yep\")"
   ]
  },
  {
   "cell_type": "code",
   "execution_count": null,
   "metadata": {},
   "outputs": [],
   "source": [
    "for f in os.walk('./tlogs'): print (\"f:\",f,\"sub:\",sub)\n"
   ]
  },
  {
   "cell_type": "code",
   "execution_count": null,
   "metadata": {},
   "outputs": [],
   "source": [
    "import os\n",
    "\n",
    "for subdir, dirs, files in os.walk(rootdir):\n",
    "    for file in files:\n",
    "        #print os.path.join(subdir, file)\n",
    "        filepath = subdir + os.sep + file\n",
    "\n",
    "        if filepath.endswith(\".asm\"):\n",
    "            print (filepath)"
   ]
  },
  {
   "cell_type": "code",
   "execution_count": null,
   "metadata": {},
   "outputs": [],
   "source": [
    "df=pd.read_pickle('02012019.pkl')"
   ]
  },
  {
   "cell_type": "code",
   "execution_count": null,
   "metadata": {},
   "outputs": [],
   "source": [
    "df[df['BANANAS']!=0]"
   ]
  },
  {
   "cell_type": "code",
   "execution_count": null,
   "metadata": {},
   "outputs": [],
   "source": [
    "df.columns"
   ]
  },
  {
   "cell_type": "code",
   "execution_count": null,
   "metadata": {
    "scrolled": true
   },
   "outputs": [],
   "source": [
    "plt.scatter(x=df['time'],y=df['gross+'])"
   ]
  },
  {
   "cell_type": "code",
   "execution_count": null,
   "metadata": {},
   "outputs": [],
   "source": [
    "df.type='Va'"
   ]
  },
  {
   "cell_type": "code",
   "execution_count": null,
   "metadata": {},
   "outputs": [],
   "source": [
    "def get_dataframe(filepath):\n",
    "\n",
    "    all_files = glob.glob(os.path.join(filepath, \"*.json\"))\n",
    "    df = pd.concat((pd.read_json(f,keep_default_dates=False,lines=True) for f in all_files)) \n",
    "    df=df[df['term']<10]\n",
    "    df['date']=pd.to_datetime(df['date'],yearfirst=True)\n",
    "    df['day_of_week']=df['date'].dt.day_name()\n",
    "    df['month']=df['date'].dt.month\n",
    "    return df"
   ]
  },
  {
   "cell_type": "code",
   "execution_count": null,
   "metadata": {
    "scrolled": true
   },
   "outputs": [],
   "source": [
    "path = '/Users/Sarah/galvanize/dsi-capstone/jsons/201802/'\n",
    "df = get_dataframe(path)"
   ]
  },
  {
   "cell_type": "code",
   "execution_count": null,
   "metadata": {},
   "outputs": [],
   "source": [
    "all_files =[]\n",
    "for f in range(0,366):\n",
    "    all_files.append(path+\"%d.json\"%f)\n",
    "print (all_files)"
   ]
  },
  {
   "cell_type": "code",
   "execution_count": null,
   "metadata": {},
   "outputs": [],
   "source": [
    "import pandas as pd \n",
    "df = pd.concat((pd.read_json(f,keep_default_dates=False,lines=True) for f in all_files)) "
   ]
  },
  {
   "cell_type": "code",
   "execution_count": null,
   "metadata": {},
   "outputs": [],
   "source": [
    "df.info()"
   ]
  },
  {
   "cell_type": "code",
   "execution_count": null,
   "metadata": {},
   "outputs": [],
   "source": [
    "plt.scatter(dfq1['item_count'],dfq1['term'])"
   ]
  },
  {
   "cell_type": "code",
   "execution_count": null,
   "metadata": {},
   "outputs": [],
   "source": []
  }
 ],
 "metadata": {
  "kernelspec": {
   "display_name": "Python 3",
   "language": "python",
   "name": "python3"
  },
  "language_info": {
   "codemirror_mode": {
    "name": "ipython",
    "version": 3
   },
   "file_extension": ".py",
   "mimetype": "text/x-python",
   "name": "python",
   "nbconvert_exporter": "python",
   "pygments_lexer": "ipython3",
   "version": "3.6.8"
  }
 },
 "nbformat": 4,
 "nbformat_minor": 2
}
