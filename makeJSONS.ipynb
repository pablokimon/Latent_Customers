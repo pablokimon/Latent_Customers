{
 "cells": [
  {
   "cell_type": "code",
   "execution_count": 1,
   "metadata": {},
   "outputs": [],
   "source": [
    "import re\n",
    "import json\n",
    "\n",
    "def pos_float(s):\n",
    "    #print (s)\n",
    "    if s[-1]==\"-\":\n",
    "        return -float(s[:-1])\n",
    "    elif s[-1]=='+':\n",
    "        return float(s[:-1])\n",
    "    else:\n",
    "        return float(s)\n",
    "\n",
    "def parse_entry(entry):\n",
    "    header_re = r\"\\s+DATE\\s+TIME\\s+TERM\\s+TRANS\\s+OPER\\s+GROSS\\+\\s+GROSS-\\s+NET\\s+TRAN TYPE\\s+(\\S+)\\s+(\\S+)\\s+(\\S+)\\s+(\\S+)\\s+(\\S+)\\s+(\\S+)\\s+(\\S+)\\s+(\\S+)\\s+(\\S+)\\s+\"\n",
    "    match = re.search(header_re, entry)\n",
    "    if match is None:\n",
    "        return None\n",
    "    transinfo = match.groups()\n",
    "    if transinfo[8]!='Checkout':\n",
    "        return None\n",
    "    item_re = r\"^ (\\w+)?\\s+([\\w \\-,\\+.'\\\"\\\\\\/%&]+?)\\s+(\\d+\\.\\d+-?)\\s+\\w?\\s+Dept\\s+(\\d+)\"\n",
    "    items = re.findall( item_re, entry, flags=re.MULTILINE )\n",
    "    \n",
    "    account_re = r\"\\s[Account]+\\s+\\d+$\"\n",
    "    account = re.findall(account_re,entry,flags=re.MULTILINE )\n",
    "    \n",
    "    ret = {'date':transinfo[0],\n",
    "           'time':transinfo[1],\n",
    "           'term':int(transinfo[2]),\n",
    "           'trans':int(transinfo[3]),\n",
    "           'oper':int(transinfo[4]),\n",
    "           'gross+':pos_float(transinfo[5]),\n",
    "           'gross-':pos_float(transinfo[6]),\n",
    "           'net':pos_float(transinfo[7]),\n",
    "           'type':transinfo[8],\n",
    "          'account':account}\n",
    "    #[[d[-4:] for d in account]]\n",
    "    items = [(x[0].strip(), x[1].strip(), pos_float(x[2]), int(x[3])) for x in items]\n",
    "    \n",
    "    ret['items'] = items\n",
    "    \n",
    "    return ret\n",
    "\n",
    "def parse_transaction_file(fn):\n",
    "    raw = open(fn, encoding=\"latin1\").read()\n",
    "    \n",
    "    \n",
    "    # remove page headers\n",
    "    headerre = re.compile( r\" +Auto Report: (\\b.*)\\s+Entry: (\\b.*)\\s+TRANSACTION SUMMARY LOG REPORT  - STORE\\s+(.+)\\s+PREVIOUS PERIOD - (\\S+)\\s+Reported at:\\s+(\\S+ \\S+)\\s+\",\n",
    "                     flags=re.MULTILINE)\n",
    "    headerless, ct = re.subn(headerre, \"\", raw)\n",
    "    \n",
    "    # remove page footers\n",
    "    pageless, ct = re.subn(r'\\n +Page \\d+.*\\n', \"\\n\", headerless)\n",
    "    \n",
    "    # split at ======\n",
    "    entries = re.split(r\"\\n=+\\n\", pageless)\n",
    "    \n",
    "    trans = []\n",
    "    for i, entry in enumerate( entries ):\n",
    "        x = parse_entry(entry)\n",
    "        if x is not None: trans.append(x)\n",
    "            \n",
    "    return trans\n",
    "\n",
    "def pos_to_json(fn_in, fn_out):\n",
    "    trns = parse_transaction_file(fn_in)\n",
    "    \n",
    "    fpout = open(fn_out,\"w\")\n",
    "    for trn in trns:\n",
    "        fpout.write( json.dumps(trn) )\n",
    "        fpout.write(\"\\n\")\n",
    "    fpout.close()"
   ]
  },
  {
   "cell_type": "code",
   "execution_count": 2,
   "metadata": {},
   "outputs": [],
   "source": [
    "import os\n",
    "\n",
    "for subdir, dirs, files in os.walk('./data/tlogs'):\n",
    "    for file in files:\n",
    "        #print (os.path.join(subdir, file))\n",
    "        filepath = subdir + os.sep + file\n",
    "\n",
    "        if filepath.endswith(\"*log.txt\"):\n",
    "            pass\n",
    "            #print (filepath)"
   ]
  },
  {
   "cell_type": "code",
   "execution_count": 4,
   "metadata": {},
   "outputs": [
    {
     "name": "stdout",
     "output_type": "stream",
     "text": [
      "Directory  ./data/jsons/2018  already exists\n"
     ]
    },
    {
     "ename": "KeyboardInterrupt",
     "evalue": "",
     "output_type": "error",
     "traceback": [
      "\u001b[0;31m---------------------------------------------------------------------------\u001b[0m",
      "\u001b[0;31mKeyboardInterrupt\u001b[0m                         Traceback (most recent call last)",
      "\u001b[0;32m<ipython-input-4-a748168ffb6e>\u001b[0m in \u001b[0;36m<module>\u001b[0;34m\u001b[0m\n\u001b[1;32m     24\u001b[0m                 \u001b[0;31m#print(path+'/'+fff)\u001b[0m\u001b[0;34m\u001b[0m\u001b[0;34m\u001b[0m\u001b[0;34m\u001b[0m\u001b[0m\n\u001b[1;32m     25\u001b[0m                 \u001b[0;31m#print (json_path+'/'+'%d.json'%i)\u001b[0m\u001b[0;34m\u001b[0m\u001b[0;34m\u001b[0m\u001b[0;34m\u001b[0m\u001b[0m\n\u001b[0;32m---> 26\u001b[0;31m                 \u001b[0mpos_to_json\u001b[0m\u001b[0;34m(\u001b[0m\u001b[0mpath\u001b[0m\u001b[0;34m+\u001b[0m\u001b[0;34m'/'\u001b[0m\u001b[0;34m+\u001b[0m\u001b[0mfff\u001b[0m\u001b[0;34m,\u001b[0m\u001b[0mjson_path\u001b[0m\u001b[0;34m+\u001b[0m\u001b[0;34m'/'\u001b[0m\u001b[0;34m+\u001b[0m\u001b[0;34m'%d.json'\u001b[0m\u001b[0;34m%\u001b[0m\u001b[0mi\u001b[0m\u001b[0;34m)\u001b[0m\u001b[0;34m\u001b[0m\u001b[0;34m\u001b[0m\u001b[0m\n\u001b[0m",
      "\u001b[0;32m<ipython-input-1-b72c71e7320c>\u001b[0m in \u001b[0;36mpos_to_json\u001b[0;34m(fn_in, fn_out)\u001b[0m\n\u001b[1;32m     65\u001b[0m \u001b[0;34m\u001b[0m\u001b[0m\n\u001b[1;32m     66\u001b[0m \u001b[0;32mdef\u001b[0m \u001b[0mpos_to_json\u001b[0m\u001b[0;34m(\u001b[0m\u001b[0mfn_in\u001b[0m\u001b[0;34m,\u001b[0m \u001b[0mfn_out\u001b[0m\u001b[0;34m)\u001b[0m\u001b[0;34m:\u001b[0m\u001b[0;34m\u001b[0m\u001b[0;34m\u001b[0m\u001b[0m\n\u001b[0;32m---> 67\u001b[0;31m     \u001b[0mtrns\u001b[0m \u001b[0;34m=\u001b[0m \u001b[0mparse_transaction_file\u001b[0m\u001b[0;34m(\u001b[0m\u001b[0mfn_in\u001b[0m\u001b[0;34m)\u001b[0m\u001b[0;34m\u001b[0m\u001b[0;34m\u001b[0m\u001b[0m\n\u001b[0m\u001b[1;32m     68\u001b[0m \u001b[0;34m\u001b[0m\u001b[0m\n\u001b[1;32m     69\u001b[0m     \u001b[0mfpout\u001b[0m \u001b[0;34m=\u001b[0m \u001b[0mopen\u001b[0m\u001b[0;34m(\u001b[0m\u001b[0mfn_out\u001b[0m\u001b[0;34m,\u001b[0m\u001b[0;34m\"w\"\u001b[0m\u001b[0;34m)\u001b[0m\u001b[0;34m\u001b[0m\u001b[0;34m\u001b[0m\u001b[0m\n",
      "\u001b[0;32m<ipython-input-1-b72c71e7320c>\u001b[0m in \u001b[0;36mparse_transaction_file\u001b[0;34m(fn)\u001b[0m\n\u001b[1;32m     59\u001b[0m     \u001b[0mtrans\u001b[0m \u001b[0;34m=\u001b[0m \u001b[0;34m[\u001b[0m\u001b[0;34m]\u001b[0m\u001b[0;34m\u001b[0m\u001b[0;34m\u001b[0m\u001b[0m\n\u001b[1;32m     60\u001b[0m     \u001b[0;32mfor\u001b[0m \u001b[0mi\u001b[0m\u001b[0;34m,\u001b[0m \u001b[0mentry\u001b[0m \u001b[0;32min\u001b[0m \u001b[0menumerate\u001b[0m\u001b[0;34m(\u001b[0m \u001b[0mentries\u001b[0m \u001b[0;34m)\u001b[0m\u001b[0;34m:\u001b[0m\u001b[0;34m\u001b[0m\u001b[0;34m\u001b[0m\u001b[0m\n\u001b[0;32m---> 61\u001b[0;31m         \u001b[0mx\u001b[0m \u001b[0;34m=\u001b[0m \u001b[0mparse_entry\u001b[0m\u001b[0;34m(\u001b[0m\u001b[0mentry\u001b[0m\u001b[0;34m)\u001b[0m\u001b[0;34m\u001b[0m\u001b[0;34m\u001b[0m\u001b[0m\n\u001b[0m\u001b[1;32m     62\u001b[0m         \u001b[0;32mif\u001b[0m \u001b[0mx\u001b[0m \u001b[0;32mis\u001b[0m \u001b[0;32mnot\u001b[0m \u001b[0;32mNone\u001b[0m\u001b[0;34m:\u001b[0m \u001b[0mtrans\u001b[0m\u001b[0;34m.\u001b[0m\u001b[0mappend\u001b[0m\u001b[0;34m(\u001b[0m\u001b[0mx\u001b[0m\u001b[0;34m)\u001b[0m\u001b[0;34m\u001b[0m\u001b[0;34m\u001b[0m\u001b[0m\n\u001b[1;32m     63\u001b[0m \u001b[0;34m\u001b[0m\u001b[0m\n",
      "\u001b[0;32m<ipython-input-1-b72c71e7320c>\u001b[0m in \u001b[0;36mparse_entry\u001b[0;34m(entry)\u001b[0m\n\u001b[1;32m     20\u001b[0m         \u001b[0;32mreturn\u001b[0m \u001b[0;32mNone\u001b[0m\u001b[0;34m\u001b[0m\u001b[0;34m\u001b[0m\u001b[0m\n\u001b[1;32m     21\u001b[0m     \u001b[0mitem_re\u001b[0m \u001b[0;34m=\u001b[0m \u001b[0;34mr\"^ (\\w+)?\\s+([\\w \\-,\\+.'\\\"\\\\\\/%&]+?)\\s+(\\d+\\.\\d+-?)\\s+\\w?\\s+Dept\\s+(\\d+)\"\u001b[0m\u001b[0;34m\u001b[0m\u001b[0;34m\u001b[0m\u001b[0m\n\u001b[0;32m---> 22\u001b[0;31m     \u001b[0mitems\u001b[0m \u001b[0;34m=\u001b[0m \u001b[0mre\u001b[0m\u001b[0;34m.\u001b[0m\u001b[0mfindall\u001b[0m\u001b[0;34m(\u001b[0m \u001b[0mitem_re\u001b[0m\u001b[0;34m,\u001b[0m \u001b[0mentry\u001b[0m\u001b[0;34m,\u001b[0m \u001b[0mflags\u001b[0m\u001b[0;34m=\u001b[0m\u001b[0mre\u001b[0m\u001b[0;34m.\u001b[0m\u001b[0mMULTILINE\u001b[0m \u001b[0;34m)\u001b[0m\u001b[0;34m\u001b[0m\u001b[0;34m\u001b[0m\u001b[0m\n\u001b[0m\u001b[1;32m     23\u001b[0m \u001b[0;34m\u001b[0m\u001b[0m\n\u001b[1;32m     24\u001b[0m     \u001b[0maccount_re\u001b[0m \u001b[0;34m=\u001b[0m \u001b[0;34mr\"\\s[Account]+\\s+\\d+$\"\u001b[0m\u001b[0;34m\u001b[0m\u001b[0;34m\u001b[0m\u001b[0m\n",
      "\u001b[0;32m/anaconda3/lib/python3.6/re.py\u001b[0m in \u001b[0;36mfindall\u001b[0;34m(pattern, string, flags)\u001b[0m\n\u001b[1;32m    220\u001b[0m \u001b[0;34m\u001b[0m\u001b[0m\n\u001b[1;32m    221\u001b[0m     Empty matches are included in the result.\"\"\"\n\u001b[0;32m--> 222\u001b[0;31m     \u001b[0;32mreturn\u001b[0m \u001b[0m_compile\u001b[0m\u001b[0;34m(\u001b[0m\u001b[0mpattern\u001b[0m\u001b[0;34m,\u001b[0m \u001b[0mflags\u001b[0m\u001b[0;34m)\u001b[0m\u001b[0;34m.\u001b[0m\u001b[0mfindall\u001b[0m\u001b[0;34m(\u001b[0m\u001b[0mstring\u001b[0m\u001b[0;34m)\u001b[0m\u001b[0;34m\u001b[0m\u001b[0;34m\u001b[0m\u001b[0m\n\u001b[0m\u001b[1;32m    223\u001b[0m \u001b[0;34m\u001b[0m\u001b[0m\n\u001b[1;32m    224\u001b[0m \u001b[0;32mdef\u001b[0m \u001b[0mfinditer\u001b[0m\u001b[0;34m(\u001b[0m\u001b[0mpattern\u001b[0m\u001b[0;34m,\u001b[0m \u001b[0mstring\u001b[0m\u001b[0;34m,\u001b[0m \u001b[0mflags\u001b[0m\u001b[0;34m=\u001b[0m\u001b[0;36m0\u001b[0m\u001b[0;34m)\u001b[0m\u001b[0;34m:\u001b[0m\u001b[0;34m\u001b[0m\u001b[0;34m\u001b[0m\u001b[0m\n",
      "\u001b[0;31mKeyboardInterrupt\u001b[0m: "
     ]
    }
   ],
   "source": [
    "json_path ='./data/jsons/2018'\n",
    "tlog_path='./data/tlogs/2018'\n",
    "\n",
    "if not os.path.exists(tlog_path):\n",
    "    print(\"Directory \" , tlog_path ,  \"Does not exist\")\n",
    "if not os.path.exists(json_path):\n",
    "    os.makedirs(json_path)\n",
    "    print(\"Directory \" , json_path ,  \" Created \")\n",
    "else:    \n",
    "    print(\"Directory \" , json_path ,  \" already exists\")    \n",
    "\n",
    "\n",
    "for i,f in enumerate(os.walk(tlog_path)):\n",
    "    #print (i,f)\n",
    "    for ff in f:\n",
    "        \n",
    "        #print(\"ff:\",ff)\n",
    "        if type(ff)!='list':\n",
    "            if str(ff).startswith(tlog_path):\n",
    "                path = ff\n",
    "        for fff in ff:\n",
    "            #print(\"fff:\",fff)\n",
    "            if fff==\"transactionlog.txt\":\n",
    "                #print(path+'/'+fff)\n",
    "                #print (json_path+'/'+'%d.json'%i)\n",
    "                pos_to_json(path+'/'+fff,json_path+'/'+'%d.json'%i)"
   ]
  },
  {
   "cell_type": "code",
   "execution_count": null,
   "metadata": {},
   "outputs": [],
   "source": []
  },
  {
   "cell_type": "code",
   "execution_count": null,
   "metadata": {},
   "outputs": [],
   "source": []
  }
 ],
 "metadata": {
  "kernelspec": {
   "display_name": "Python 3",
   "language": "python",
   "name": "python3"
  },
  "language_info": {
   "codemirror_mode": {
    "name": "ipython",
    "version": 3
   },
   "file_extension": ".py",
   "mimetype": "text/x-python",
   "name": "python",
   "nbconvert_exporter": "python",
   "pygments_lexer": "ipython3",
   "version": "3.6.8"
  }
 },
 "nbformat": 4,
 "nbformat_minor": 2
}
